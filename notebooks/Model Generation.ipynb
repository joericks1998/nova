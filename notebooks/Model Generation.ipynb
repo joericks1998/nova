{
 "cells": [
  {
   "cell_type": "code",
   "execution_count": 1,
   "id": "c3447791-2d40-41c5-85c4-8225e0f21810",
   "metadata": {},
   "outputs": [
    {
     "name": "stderr",
     "output_type": "stream",
     "text": [
      "2025-01-24 21:54:16.038907: I tensorflow/core/platform/cpu_feature_guard.cc:210] This TensorFlow binary is optimized to use available CPU instructions in performance-critical operations.\n",
      "To enable the following instructions: AVX2 FMA, in other operations, rebuild TensorFlow with the appropriate compiler flags.\n"
     ]
    }
   ],
   "source": [
    "from nova_py import nova\n",
    "import tensorflow as tf"
   ]
  },
  {
   "cell_type": "code",
   "execution_count": 2,
   "id": "c07b1399-5646-4344-b7ff-3ecdbd7482e2",
   "metadata": {},
   "outputs": [],
   "source": [
    "model = nova.Model()"
   ]
  },
  {
   "cell_type": "code",
   "execution_count": 19,
   "id": "9bd7f478-6270-48d9-9c8d-59195281f628",
   "metadata": {},
   "outputs": [
    {
     "data": {
      "text/plain": [
       "<tf.Tensor: shape=(1, 5, 2), dtype=string, numpy=\n",
       "array([[[b'hello', b'BAD SEQUENCE ERROR'],\n",
       "        [b'=', b'~relation~'],\n",
       "        [b'\"', b'~container~'],\n",
       "        [b'world!', b'~connector~'],\n",
       "        [b'\"', b'~container~']]], dtype=object)>"
      ]
     },
     "execution_count": 19,
     "metadata": {},
     "output_type": "execute_result"
    }
   ],
   "source": [
    "model.generate([\"hello = \\\"world!\\\"\"])"
   ]
  }
 ],
 "metadata": {
  "kernelspec": {
   "display_name": "Python 3 (ipykernel)",
   "language": "python",
   "name": "python3"
  },
  "language_info": {
   "codemirror_mode": {
    "name": "ipython",
    "version": 3
   },
   "file_extension": ".py",
   "mimetype": "text/x-python",
   "name": "python",
   "nbconvert_exporter": "python",
   "pygments_lexer": "ipython3",
   "version": "3.11.11"
  }
 },
 "nbformat": 4,
 "nbformat_minor": 5
}
