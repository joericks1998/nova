{
 "cells": [
  {
   "cell_type": "code",
   "execution_count": 1,
   "id": "c3447791-2d40-41c5-85c4-8225e0f21810",
   "metadata": {},
   "outputs": [
    {
     "name": "stderr",
     "output_type": "stream",
     "text": [
      "2025-01-29 20:34:44.865585: I tensorflow/core/platform/cpu_feature_guard.cc:210] This TensorFlow binary is optimized to use available CPU instructions in performance-critical operations.\n",
      "To enable the following instructions: AVX2 FMA, in other operations, rebuild TensorFlow with the appropriate compiler flags.\n"
     ]
    }
   ],
   "source": [
    "from nova_py import nova\n",
    "import tensorflow as tf\n",
    "import numpy as np"
   ]
  },
  {
   "cell_type": "code",
   "execution_count": 2,
   "id": "c07b1399-5646-4344-b7ff-3ecdbd7482e2",
   "metadata": {},
   "outputs": [],
   "source": [
    "model = nova.Model()"
   ]
  },
  {
   "cell_type": "code",
   "execution_count": 4,
   "id": "9bd7f478-6270-48d9-9c8d-59195281f628",
   "metadata": {},
   "outputs": [
    {
     "name": "stdout",
     "output_type": "stream",
     "text": [
      "_Noreturndefault_Static_assert&_Static_assert%++voidextern&++<?:sizeof>>auto%vardoubledefault%stringreturn&elsereturn<<%%stringstruct%var-<&%voidvoidreturn><if%floatextern#endif++%functypedef_Alignas>><=while>doubleextern-break_Imaginary->_Static_assertstatic.returnvoid?:registerstruct{}unionautoelse}int;register--int->>!&elsewhile%func--int#includetypedefunionregister-/else&%floatcase%return#include-|/typedefenum_Alignofint<pad>break&|#endifswitchdotypedeftypedef<<,short{autobreak%var_Imaginarybreakdefault._Complex<stop>?:%stringfloat~>_Static_assertexternautounion_Imaginary|enum,-const%int%string<_Boolsizeofinlineautointchar++--unionvoiduniondoenum%functypedefchargoto&&sizeofexternshort+%func_Alignasintswitchreturnenumtypedefint&^autounion&&++%float-%<=_Static_assert%var%varelse_Imaginarytypedef-~defaultreturn!else>_Static_assert#endif%class<<_Atomicunsigned++{{}#endifvoid++whilebreak%string%stringint+++{}#include!-return.autodovoid_Atomic+_Complexgotogotodefaultswitchelse{sizeofbreak&&%string.%<<&if%string!extern_Complex"
     ]
    }
   ],
   "source": [
    "response = model.generate_regres([\"hello = \\\"world!\\\"\"], pretty_print=True)"
   ]
  },
  {
   "cell_type": "code",
   "execution_count": 5,
   "id": "3b509e45-ec65-4436-acc6-a30219449d1d",
   "metadata": {},
   "outputs": [
    {
     "data": {
      "text/plain": [
       "''"
      ]
     },
     "execution_count": 5,
     "metadata": {},
     "output_type": "execute_result"
    }
   ],
   "source": [
    "response"
   ]
  }
 ],
 "metadata": {
  "kernelspec": {
   "display_name": "Python 3 (ipykernel)",
   "language": "python",
   "name": "python3"
  },
  "language_info": {
   "codemirror_mode": {
    "name": "ipython",
    "version": 3
   },
   "file_extension": ".py",
   "mimetype": "text/x-python",
   "name": "python",
   "nbconvert_exporter": "python",
   "pygments_lexer": "ipython3",
   "version": "3.11.11"
  }
 },
 "nbformat": 4,
 "nbformat_minor": 5
}
