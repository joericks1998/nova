{
 "cells": [
  {
   "cell_type": "code",
   "execution_count": 1,
   "id": "c3447791-2d40-41c5-85c4-8225e0f21810",
   "metadata": {},
   "outputs": [
    {
     "name": "stderr",
     "output_type": "stream",
     "text": [
      "2025-03-11 22:04:51.613033: I tensorflow/core/platform/cpu_feature_guard.cc:210] This TensorFlow binary is optimized to use available CPU instructions in performance-critical operations.\n",
      "To enable the following instructions: AVX2 FMA, in other operations, rebuild TensorFlow with the appropriate compiler flags.\n"
     ]
    }
   ],
   "source": [
    "from nova_py import nova, TACO\n",
    "import tensorflow as tf\n",
    "import numpy as np\n",
    "import ast"
   ]
  },
  {
   "cell_type": "code",
   "execution_count": 2,
   "id": "c07b1399-5646-4344-b7ff-3ecdbd7482e2",
   "metadata": {},
   "outputs": [],
   "source": [
    "model = nova.Model()\n",
    "\n",
    "test_case = [\"hello =\\\"world!\\\"\"]"
   ]
  },
  {
   "cell_type": "code",
   "execution_count": 5,
   "id": "ad321d46-3de1-4529-a1fe-6b6a9110ab61",
   "metadata": {},
   "outputs": [
    {
     "ename": "AttributeError",
     "evalue": "You must build the layer before accessing `kernel`.",
     "output_type": "error",
     "traceback": [
      "\u001b[0;31m---------------------------------------------------------------------------\u001b[0m",
      "\u001b[0;31mAttributeError\u001b[0m                            Traceback (most recent call last)",
      "Cell \u001b[0;32mIn[5], line 1\u001b[0m\n\u001b[0;32m----> 1\u001b[0m \u001b[43mmodel\u001b[49m\u001b[38;5;241;43m.\u001b[39;49m\u001b[43mParameters\u001b[49m\n",
      "File \u001b[0;32m~/Desktop/nova/nova-py/src/nova_py/nova.py:106\u001b[0m, in \u001b[0;36mModel.Parameters\u001b[0;34m(self)\u001b[0m\n\u001b[1;32m    104\u001b[0m parameters \u001b[38;5;241m=\u001b[39m \u001b[38;5;28mself\u001b[39m\u001b[38;5;241m.\u001b[39membedder\u001b[38;5;241m.\u001b[39mParameters\n\u001b[1;32m    105\u001b[0m \u001b[38;5;28;01mfor\u001b[39;00m tfmr \u001b[38;5;129;01min\u001b[39;00m \u001b[38;5;28mself\u001b[39m\u001b[38;5;241m.\u001b[39mtfmrs\u001b[38;5;241m.\u001b[39mvalues():\n\u001b[0;32m--> 106\u001b[0m     parameters \u001b[38;5;241m+\u001b[39m\u001b[38;5;241m=\u001b[39m \u001b[43mtfmr\u001b[49m\u001b[38;5;241;43m.\u001b[39;49m\u001b[43mParameters\u001b[49m\n\u001b[1;32m    107\u001b[0m parameters \u001b[38;5;241m+\u001b[39m\u001b[38;5;241m=\u001b[39m \u001b[38;5;28mself\u001b[39m\u001b[38;5;241m.\u001b[39mfinal\u001b[38;5;241m.\u001b[39mParameters\n\u001b[1;32m    108\u001b[0m \u001b[38;5;28;01mreturn\u001b[39;00m parameters\n",
      "File \u001b[0;32m~/Desktop/nova/nova-py/src/nova_py/architecture/transformer.py:49\u001b[0m, in \u001b[0;36mLayer.Parameters\u001b[0;34m(self)\u001b[0m\n\u001b[1;32m     46\u001b[0m \u001b[38;5;129m@property\u001b[39m\n\u001b[1;32m     47\u001b[0m \u001b[38;5;28;01mdef\u001b[39;00m\u001b[38;5;250m \u001b[39m\u001b[38;5;21mParameters\u001b[39m(\u001b[38;5;28mself\u001b[39m):\n\u001b[1;32m     48\u001b[0m     tfmr_trainables \u001b[38;5;241m=\u001b[39m \u001b[38;5;28mself\u001b[39m\u001b[38;5;241m.\u001b[39mlayernorm\u001b[38;5;241m.\u001b[39mtrainable_variables\n\u001b[0;32m---> 49\u001b[0m     \u001b[38;5;28;01mreturn\u001b[39;00m \u001b[38;5;28mself\u001b[39m\u001b[38;5;241m.\u001b[39mattention\u001b[38;5;241m.\u001b[39mParameters \u001b[38;5;241m+\u001b[39m \u001b[38;5;28;43mself\u001b[39;49m\u001b[38;5;241;43m.\u001b[39;49m\u001b[43mffnn\u001b[49m\u001b[38;5;241;43m.\u001b[39;49m\u001b[43mParameters\u001b[49m \u001b[38;5;241m+\u001b[39m tfmr_trainables\n",
      "File \u001b[0;32m~/Desktop/nova/nova-py/src/nova_py/architecture/ffnn.py:38\u001b[0m, in \u001b[0;36mLayer.Parameters\u001b[0;34m(self)\u001b[0m\n\u001b[1;32m     34\u001b[0m \u001b[38;5;129m@property\u001b[39m\n\u001b[1;32m     35\u001b[0m \u001b[38;5;28;01mdef\u001b[39;00m\u001b[38;5;250m \u001b[39m\u001b[38;5;21mParameters\u001b[39m(\u001b[38;5;28mself\u001b[39m):\n\u001b[1;32m     36\u001b[0m     \u001b[38;5;66;03m# Return the kernel (weights) and bias for both dense layers in a list.\u001b[39;00m\n\u001b[1;32m     37\u001b[0m     \u001b[38;5;28;01mreturn\u001b[39;00m [\n\u001b[0;32m---> 38\u001b[0m         \u001b[38;5;28;43mself\u001b[39;49m\u001b[38;5;241;43m.\u001b[39;49m\u001b[43mdense1\u001b[49m\u001b[38;5;241;43m.\u001b[39;49m\u001b[43mkernel\u001b[49m,  \u001b[38;5;66;03m# Weights of the first dense layer.\u001b[39;00m\n\u001b[1;32m     39\u001b[0m         \u001b[38;5;28mself\u001b[39m\u001b[38;5;241m.\u001b[39mdense1\u001b[38;5;241m.\u001b[39mbias,    \u001b[38;5;66;03m# Biases of the first dense layer.\u001b[39;00m\n\u001b[1;32m     40\u001b[0m         \u001b[38;5;28mself\u001b[39m\u001b[38;5;241m.\u001b[39mdense2\u001b[38;5;241m.\u001b[39mkernel,  \u001b[38;5;66;03m# Weights of the second dense layer.\u001b[39;00m\n\u001b[1;32m     41\u001b[0m         \u001b[38;5;28mself\u001b[39m\u001b[38;5;241m.\u001b[39mdense2\u001b[38;5;241m.\u001b[39mbias     \u001b[38;5;66;03m# Biases of the second dense layer.\u001b[39;00m\n\u001b[1;32m     42\u001b[0m     ]\n",
      "File \u001b[0;32m/usr/local/lib/python3.11/site-packages/keras/src/layers/core/dense.py:134\u001b[0m, in \u001b[0;36mDense.kernel\u001b[0;34m(self)\u001b[0m\n\u001b[1;32m    131\u001b[0m \u001b[38;5;129m@property\u001b[39m\n\u001b[1;32m    132\u001b[0m \u001b[38;5;28;01mdef\u001b[39;00m\u001b[38;5;250m \u001b[39m\u001b[38;5;21mkernel\u001b[39m(\u001b[38;5;28mself\u001b[39m):\n\u001b[1;32m    133\u001b[0m     \u001b[38;5;28;01mif\u001b[39;00m \u001b[38;5;129;01mnot\u001b[39;00m \u001b[38;5;28mself\u001b[39m\u001b[38;5;241m.\u001b[39mbuilt:\n\u001b[0;32m--> 134\u001b[0m         \u001b[38;5;28;01mraise\u001b[39;00m \u001b[38;5;167;01mAttributeError\u001b[39;00m(\n\u001b[1;32m    135\u001b[0m             \u001b[38;5;124m\"\u001b[39m\u001b[38;5;124mYou must build the layer before accessing `kernel`.\u001b[39m\u001b[38;5;124m\"\u001b[39m\n\u001b[1;32m    136\u001b[0m         )\n\u001b[1;32m    137\u001b[0m     \u001b[38;5;28;01mif\u001b[39;00m \u001b[38;5;28mself\u001b[39m\u001b[38;5;241m.\u001b[39mlora_enabled:\n\u001b[1;32m    138\u001b[0m         \u001b[38;5;28;01mreturn\u001b[39;00m \u001b[38;5;28mself\u001b[39m\u001b[38;5;241m.\u001b[39m_kernel \u001b[38;5;241m+\u001b[39m ops\u001b[38;5;241m.\u001b[39mmatmul(\n\u001b[1;32m    139\u001b[0m             \u001b[38;5;28mself\u001b[39m\u001b[38;5;241m.\u001b[39mlora_kernel_a, \u001b[38;5;28mself\u001b[39m\u001b[38;5;241m.\u001b[39mlora_kernel_b\n\u001b[1;32m    140\u001b[0m         )\n",
      "\u001b[0;31mAttributeError\u001b[0m: You must build the layer before accessing `kernel`."
     ]
    }
   ],
   "source": [
    "model.Parameters"
   ]
  },
  {
   "cell_type": "code",
   "execution_count": 4,
   "id": "9bd7f478-6270-48d9-9c8d-59195281f628",
   "metadata": {},
   "outputs": [
    {
     "name": "stdout",
     "output_type": "stream",
     "text": [
      "Oris_async'LShiftnameListCompnamesAndLtEDictFunctionDefdefaultsIfExporelseImportFrom#VARIABLEorelse"
     ]
    }
   ],
   "source": [
    "response = model.generate(test_case, pretty_print=True)"
   ]
  },
  {
   "cell_type": "code",
   "execution_count": 4,
   "id": "3b509e45-ec65-4436-acc6-a30219449d1d",
   "metadata": {},
   "outputs": [
    {
     "data": {
      "text/plain": [
       "[\"Module(body=[Assign(targets=[Name(id='hello', ctx=Store())], value=Constant(value='world!'))], type_ignores=[])\"]"
      ]
     },
     "execution_count": 4,
     "metadata": {},
     "output_type": "execute_result"
    }
   ],
   "source": [
    "ground_truths = list([ast.dump(tree) for tree in map(ast.parse, test_case)])\n",
    "ground_truths"
   ]
  },
  {
   "cell_type": "code",
   "execution_count": 5,
   "id": "c457e801-2da6-42ea-a3d4-9a19bd2e2de7",
   "metadata": {},
   "outputs": [
    {
     "data": {
      "text/plain": [
       "<tf.Tensor: shape=(1, 5), dtype=string, numpy=array([[b'hello', b'=', b'\"', b'world!', b'\"']], dtype=object)>"
      ]
     },
     "execution_count": 5,
     "metadata": {},
     "output_type": "execute_result"
    }
   ],
   "source": [
    "TACO.inBatch(test_case)"
   ]
  },
  {
   "cell_type": "code",
   "execution_count": 6,
   "id": "25bd6c6d-567c-41ac-9257-a5632ca5ead6",
   "metadata": {},
   "outputs": [
    {
     "name": "stderr",
     "output_type": "stream",
     "text": [
      "/usr/local/lib/python3.11/site-packages/keras/src/optimizers/base_optimizer.py:774: UserWarning: Gradients do not exist for variables ['layer_normalization_1/gamma', 'layer_normalization_1/beta', 'layer_normalization_3/gamma', 'layer_normalization_3/beta', 'layer_normalization_5/gamma', 'layer_normalization_5/beta', 'layer_normalization_7/gamma', 'layer_normalization_7/beta', 'layer_normalization_9/gamma', 'layer_normalization_9/beta', 'layer_normalization_11/gamma', 'layer_normalization_11/beta', 'layer_normalization_13/gamma', 'layer_normalization_13/beta', 'layer_normalization_15/gamma', 'layer_normalization_15/beta'] when minimizing the loss. If using `model.compile()`, did you forget to provide a `loss` argument?\n",
      "  warnings.warn(\n"
     ]
    }
   ],
   "source": [
    "test1 = model.train(test_case, ground_truths)"
   ]
  },
  {
   "cell_type": "code",
   "execution_count": 7,
   "id": "343f87dc-affe-4820-b38d-5bf96651ca7b",
   "metadata": {},
   "outputs": [
    {
     "name": "stdout",
     "output_type": "stream",
     "text": [
      "msgdecorator_listnamefuncname#VARIABLE[=itemsoptional_varsAddposonlyargsListCompAssertSlicetargetsBinOpdefaultsModBinOpcontext_expris_asyncslicebOrConstanthandlersSlicecomprehensiontargetkeyAssertWhileis_asyncaliassliceDelsliceupperoperandSubscriptEqBitOrcomprehensionoptional_varsannotationfinalbodyExprModb#VALUEStoreLambdaNamecontext_exprOriterDivupperOrlowerUSubListAsyncFunctionDefDictCompfinalbodybodykeysvalueUSubSetCompconversionModuleifsopsClassDef[FloorDivConstantIsis_asyncGlobalcomprehensionAsyncFunctionDefrightNotWhileIntarget+DictDeleteTrueUnaryOp)ExprDict[YieldFromGtIskeywordsGtEfuncExceptHandlerDelbodyifsGeneratorExpargsvalueConstant#VALUEOrlevelvaluesDeletevarargDel)funcYieldFromexcJoinedStrDiveltcontext_exprDeletelevelName#VARIABLEListComp[finalbody,BoolOpBreaknameannotationAddClassDefLShiftTupleNameOr+be'"
     ]
    }
   ],
   "source": [
    "new_response = model.generate(test_case, pretty_print=True)"
   ]
  },
  {
   "cell_type": "code",
   "execution_count": 8,
   "id": "50b09895-9dae-46c7-bec2-ab4f8c10e8eb",
   "metadata": {},
   "outputs": [
    {
     "ename": "NameError",
     "evalue": "name 'model_io' is not defined",
     "output_type": "error",
     "traceback": [
      "\u001b[0;31m---------------------------------------------------------------------------\u001b[0m",
      "\u001b[0;31mNameError\u001b[0m                                 Traceback (most recent call last)",
      "Cell \u001b[0;32mIn[8], line 1\u001b[0m\n\u001b[0;32m----> 1\u001b[0m \u001b[43mmodel\u001b[49m\u001b[38;5;241;43m.\u001b[39;49m\u001b[43msave\u001b[49m\u001b[43m(\u001b[49m\u001b[38;5;124;43m'\u001b[39;49m\u001b[38;5;124;43m/Users/joericks/Desktop/nova/nova-py/src/nova_py/model/nova.keras\u001b[39;49m\u001b[38;5;124;43m'\u001b[39;49m\u001b[43m)\u001b[49m\n",
      "File \u001b[0;32m/usr/local/lib/python3.11/site-packages/keras/src/utils/traceback_utils.py:122\u001b[0m, in \u001b[0;36mfilter_traceback.<locals>.error_handler\u001b[0;34m(*args, **kwargs)\u001b[0m\n\u001b[1;32m    119\u001b[0m     filtered_tb \u001b[38;5;241m=\u001b[39m _process_traceback_frames(e\u001b[38;5;241m.\u001b[39m__traceback__)\n\u001b[1;32m    120\u001b[0m     \u001b[38;5;66;03m# To get the full stack trace, call:\u001b[39;00m\n\u001b[1;32m    121\u001b[0m     \u001b[38;5;66;03m# `keras.config.disable_traceback_filtering()`\u001b[39;00m\n\u001b[0;32m--> 122\u001b[0m     \u001b[38;5;28;01mraise\u001b[39;00m e\u001b[38;5;241m.\u001b[39mwith_traceback(filtered_tb) \u001b[38;5;28;01mfrom\u001b[39;00m\u001b[38;5;250m \u001b[39m\u001b[38;5;28;01mNone\u001b[39;00m\n\u001b[1;32m    123\u001b[0m \u001b[38;5;28;01mfinally\u001b[39;00m:\n\u001b[1;32m    124\u001b[0m     \u001b[38;5;28;01mdel\u001b[39;00m filtered_tb\n",
      "File \u001b[0;32m~/Desktop/nova/nova-py/src/nova_py/nova.py:94\u001b[0m, in \u001b[0;36mModel.get_config\u001b[0;34m(self)\u001b[0m\n\u001b[1;32m     93\u001b[0m \u001b[38;5;28;01mdef\u001b[39;00m\u001b[38;5;250m \u001b[39m\u001b[38;5;21mget_config\u001b[39m(\u001b[38;5;28mself\u001b[39m):\n\u001b[0;32m---> 94\u001b[0m     \u001b[38;5;28;01mreturn\u001b[39;00m \u001b[43mmodel_io\u001b[49m\u001b[38;5;241m.\u001b[39mmaster_config(Model\u001b[38;5;241m.\u001b[39m\u001b[38;5;21m__init__\u001b[39m)\n",
      "\u001b[0;31mNameError\u001b[0m: name 'model_io' is not defined"
     ]
    }
   ],
   "source": [
    "model.save('/Users/joericks/Desktop/nova/nova-py/src/nova_py/model/nova.keras')"
   ]
  }
 ],
 "metadata": {
  "kernelspec": {
   "display_name": "Python 3 (ipykernel)",
   "language": "python",
   "name": "python3"
  },
  "language_info": {
   "codemirror_mode": {
    "name": "ipython",
    "version": 3
   },
   "file_extension": ".py",
   "mimetype": "text/x-python",
   "name": "python",
   "nbconvert_exporter": "python",
   "pygments_lexer": "ipython3",
   "version": "3.11.11"
  }
 },
 "nbformat": 4,
 "nbformat_minor": 5
}
