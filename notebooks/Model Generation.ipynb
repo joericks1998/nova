{
 "cells": [
  {
   "cell_type": "code",
   "execution_count": 1,
   "id": "c3447791-2d40-41c5-85c4-8225e0f21810",
   "metadata": {},
   "outputs": [
    {
     "name": "stderr",
     "output_type": "stream",
     "text": [
      "2025-03-13 22:46:16.277704: I tensorflow/core/platform/cpu_feature_guard.cc:210] This TensorFlow binary is optimized to use available CPU instructions in performance-critical operations.\n",
      "To enable the following instructions: AVX2 FMA, in other operations, rebuild TensorFlow with the appropriate compiler flags.\n"
     ]
    }
   ],
   "source": [
    "from nova_py import nova, TACO\n",
    "import tensorflow as tf\n",
    "import numpy as np\n",
    "import ast"
   ]
  },
  {
   "cell_type": "code",
   "execution_count": 2,
   "id": "c07b1399-5646-4344-b7ff-3ecdbd7482e2",
   "metadata": {},
   "outputs": [
    {
     "name": "stderr",
     "output_type": "stream",
     "text": [
      "/usr/local/lib/python3.11/site-packages/keras/src/layers/core/dense.py:87: UserWarning: Do not pass an `input_shape`/`input_dim` argument to a layer. When using Sequential models, prefer using an `Input(shape)` object as the first layer in the model instead.\n",
      "  super().__init__(activity_regularizer=activity_regularizer, **kwargs)\n"
     ]
    }
   ],
   "source": [
    "model = nova.Model()\n",
    "\n",
    "test_case = [\"hello =\\\"world!\\\"\"]"
   ]
  },
  {
   "cell_type": "code",
   "execution_count": 3,
   "id": "a4b400d5-7c8a-4f04-b166-808d5c5720f9",
   "metadata": {},
   "outputs": [
    {
     "data": {
      "text/plain": [
       "4624187350"
      ]
     },
     "execution_count": 3,
     "metadata": {},
     "output_type": "execute_result"
    }
   ],
   "source": [
    "num_training_tokens_required = model.Size*50\n",
    "\n",
    "num_training_tokens_required"
   ]
  },
  {
   "cell_type": "code",
   "execution_count": 6,
   "id": "9bd7f478-6270-48d9-9c8d-59195281f628",
   "metadata": {},
   "outputs": [
    {
     "name": "stdout",
     "output_type": "stream",
     "text": [
      "BinOpExceptHandlerIfRShiftNamebasesTryDeletestepFunctionDefLambdaexcLtElevelsliceSub#VALUEUSubFortest+argumentsdefaultskeywordFloorDivExceptHandlerLtAttributeconversionbodyDelifs#VARIABLEtype_ignoresAugAssignListCompargumentsvalueupperdecorator_listWhileDivoperandeltstarget,comprehensionNotInIfBinOpYieldFromifsLShiftreturnsannotationctxAnd\"Namegenerators."
     ]
    }
   ],
   "source": [
    "response = model.generate(test_case, pretty_print=True)"
   ]
  },
  {
   "cell_type": "code",
   "execution_count": 7,
   "id": "3b509e45-ec65-4436-acc6-a30219449d1d",
   "metadata": {},
   "outputs": [
    {
     "data": {
      "text/plain": [
       "[\"Module(body=[Assign(targets=[Name(id='hello', ctx=Store())], value=Constant(value='world!'))], type_ignores=[])\"]"
      ]
     },
     "execution_count": 7,
     "metadata": {},
     "output_type": "execute_result"
    }
   ],
   "source": [
    "ground_truths = list([ast.dump(tree) for tree in map(ast.parse, test_case)])\n",
    "ground_truths"
   ]
  },
  {
   "cell_type": "code",
   "execution_count": 8,
   "id": "c457e801-2da6-42ea-a3d4-9a19bd2e2de7",
   "metadata": {},
   "outputs": [
    {
     "data": {
      "text/plain": [
       "<tf.Tensor: shape=(1, 5), dtype=string, numpy=array([[b'hello', b'=', b'\"', b'world!', b'\"']], dtype=object)>"
      ]
     },
     "execution_count": 8,
     "metadata": {},
     "output_type": "execute_result"
    }
   ],
   "source": [
    "TACO.inBatch(test_case)"
   ]
  },
  {
   "cell_type": "code",
   "execution_count": 10,
   "id": "25bd6c6d-567c-41ac-9257-a5632ca5ead6",
   "metadata": {},
   "outputs": [
    {
     "data": {
      "text/plain": [
       "<tf.Tensor: shape=(), dtype=float32, numpy=3.2269497>"
      ]
     },
     "execution_count": 10,
     "metadata": {},
     "output_type": "execute_result"
    }
   ],
   "source": [
    "model.train(test_case, ground_truths)    "
   ]
  },
  {
   "cell_type": "code",
   "execution_count": 11,
   "id": "343f87dc-affe-4820-b38d-5bf96651ca7b",
   "metadata": {},
   "outputs": [
    {
     "name": "stdout",
     "output_type": "stream",
     "text": [
      "-SetList(IfannotationbodyGtEwithitemTupleIsNotkeyswithitembodyPowmsgelt#VALUEFunctionDef(+keywordslowerGtAssertExceptHandlerRShiftvalueIsNotWithexcImportFromTrymsgLtWhileSetCompImportFromStoreupperGlobalEqvarargattrRaisetargetseMod]SetCompDeleteBinOpSetwithitemReturnasnamebody#VALUEconversionImportFromiterWithMultIfeModDeleteTupleStoreAsyncFunctionDeftestifsStoreLShiftGtEkwargtargetSliceBreakIfExpExprRShiftrightkindsliceformat_specImportFromImportkeysformat_specContinue#VALUEPowbodyExceptHandlerbasesRaisereturnsNone]iterPow)AsyncFunctionDefSetdefaultsdefaults#VARIABLEAugAssignbodykindIfWhileModuleSetGlobalUSub[JoinedStrDeleteStarred#VARIABLEitemsForiter#VALUE,+conversionSetNonebodytestreturnsorelseLoadLambdacauseInModAssertLtModuleFalseSubUSub"
     ]
    }
   ],
   "source": [
    "new_response = model.generate(test_case, pretty_print=True)"
   ]
  },
  {
   "cell_type": "code",
   "execution_count": 6,
   "id": "50b09895-9dae-46c7-bec2-ab4f8c10e8eb",
   "metadata": {},
   "outputs": [],
   "source": [
    "model.save('/Users/joericks/Desktop/nova/nova-py/src/nova_py/model/nova.keras')"
   ]
  }
 ],
 "metadata": {
  "kernelspec": {
   "display_name": "Python 3 (ipykernel)",
   "language": "python",
   "name": "python3"
  },
  "language_info": {
   "codemirror_mode": {
    "name": "ipython",
    "version": 3
   },
   "file_extension": ".py",
   "mimetype": "text/x-python",
   "name": "python",
   "nbconvert_exporter": "python",
   "pygments_lexer": "ipython3",
   "version": "3.11.11"
  }
 },
 "nbformat": 4,
 "nbformat_minor": 5
}
