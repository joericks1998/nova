{
 "cells": [
  {
   "cell_type": "code",
   "execution_count": 1,
   "id": "c3447791-2d40-41c5-85c4-8225e0f21810",
   "metadata": {},
   "outputs": [
    {
     "name": "stderr",
     "output_type": "stream",
     "text": [
      "2025-03-09 16:44:26.148198: I tensorflow/core/platform/cpu_feature_guard.cc:210] This TensorFlow binary is optimized to use available CPU instructions in performance-critical operations.\n",
      "To enable the following instructions: AVX2 FMA, in other operations, rebuild TensorFlow with the appropriate compiler flags.\n"
     ]
    }
   ],
   "source": [
    "from nova_py import nova, TACO\n",
    "import tensorflow as tf\n",
    "import numpy as np\n",
    "import ast"
   ]
  },
  {
   "cell_type": "code",
   "execution_count": 2,
   "id": "c07b1399-5646-4344-b7ff-3ecdbd7482e2",
   "metadata": {},
   "outputs": [],
   "source": [
    "model = nova.Model()\n",
    "\n",
    "test_case = [\"hello =\\\"world!\\\"\"]"
   ]
  },
  {
   "cell_type": "code",
   "execution_count": 4,
   "id": "9bd7f478-6270-48d9-9c8d-59195281f628",
   "metadata": {},
   "outputs": [
    {
     "name": "stdout",
     "output_type": "stream",
     "text": [
      "NotEqasnameContinuetargetifsUSubis_asyncoptional_varsDictCompBinOpTrueSliceNameupperbasesBoolOpFormattedValueEqContinueCompareForStarredIfExpIfExpAwaitYieldFromeltsmoduleDeleteStoregeneratorsReturnWithrightlowerLtEasnamekeywordSetCompekwonlyargsClassDefoperand+kindBoolOpForSetCompAwaitopsFunctionDef]easnameClassDefifsWithbAttributeBreakSetComprightCalleltNonectxAttributeBreakkeywordsargumentsis_asyncContinue,returnsIfargumentsattrsliceFloorDivIfExpkindReturnoperandAddgeneratorshandlersTupleConstantIfExpexcwithitemReturnExceptHandlerWithImportFrom]WhilevarargImportLttype_ignoresBreakgeneratorsLShiftkw_defaults+posonlyargscomprehensionOrkeywordsoperandSub]keywordGtEaliasAsyncFunctionDefFormattedValuerightis_asyncLtEIncomprehensioncausedefaultsAssertConstant#VARIABLEAwait=NameUSubGtESub)InaliasIfExpopasnameContinueFormattedValueFormattedValueUSubFalseTrueDelStorereturnsLt-namesStore[funcoptional_vars)attropdecorator_listIsSubscripteltIfExpkw_defaultsposonlyargsposonlyargsBreakfinalbodyDelgeneratorscauseAssertYieldNotIfExpModnameFormattedValueis_asynceltskwargRaisekwonlyargsFalseContinueNotInkind(OrvarargbleftBreakYieldModuleeNameClassDefListCompAssign#VALUEoperandDelTrySetComp(efinalbodyGeneratorExpDicteGtEexcBreakAssertLoadDel-valueFormattedValueIsNotasnameListNonedefaults(ExprBitOrFormattedValueImportFromfunc#VALUETrymsgright,ModwithitemeltsAddBitOrLambdaposonlyargsConstantWithargs"
     ]
    }
   ],
   "source": [
    "response = model.generate(test_case, pretty_print=True)"
   ]
  },
  {
   "cell_type": "code",
   "execution_count": 5,
   "id": "3b509e45-ec65-4436-acc6-a30219449d1d",
   "metadata": {},
   "outputs": [
    {
     "data": {
      "text/plain": [
       "[\"Module(\\n   body=[\\n      Assign(\\n         targets=[\\n            Name(id='hello', ctx=Store())],\\n         value=Constant(value='world!'))],\\n   type_ignores=[])\"]"
      ]
     },
     "execution_count": 5,
     "metadata": {},
     "output_type": "execute_result"
    }
   ],
   "source": [
    "ground_truths = list([ast.dump(tree, indent = 3) for tree in map(ast.parse, test_case)])\n",
    "ground_truths"
   ]
  },
  {
   "cell_type": "code",
   "execution_count": 6,
   "id": "c457e801-2da6-42ea-a3d4-9a19bd2e2de7",
   "metadata": {},
   "outputs": [
    {
     "data": {
      "text/plain": [
       "<tf.Tensor: shape=(1, 5), dtype=string, numpy=array([[b'hello', b'=', b'\"', b'world!', b'\"']], dtype=object)>"
      ]
     },
     "execution_count": 6,
     "metadata": {},
     "output_type": "execute_result"
    }
   ],
   "source": [
    "TACO.inBatch(test_case)"
   ]
  },
  {
   "cell_type": "code",
   "execution_count": 7,
   "id": "25bd6c6d-567c-41ac-9257-a5632ca5ead6",
   "metadata": {},
   "outputs": [
    {
     "name": "stdout",
     "output_type": "stream",
     "text": [
      "(1, 160)\n",
      "(2, 160)\n",
      "(3, 160)\n",
      "(4, 160)\n",
      "(5, 160)\n",
      "(6, 160)\n",
      "(7, 160)\n",
      "(8, 160)\n",
      "(9, 160)\n",
      "(10, 160)\n",
      "(11, 160)\n",
      "(12, 160)\n",
      "(13, 160)\n",
      "(14, 160)\n",
      "(15, 160)\n",
      "(16, 160)\n",
      "(17, 160)\n",
      "(18, 160)\n",
      "(19, 160)\n",
      "(20, 160)\n",
      "(21, 160)\n",
      "(22, 160)\n",
      "(23, 160)\n",
      "(24, 160)\n",
      "(25, 160)\n",
      "(26, 160)\n",
      "(27, 160)\n",
      "(28, 160)\n",
      "(29, 160)\n",
      "(30, 160)\n",
      "(31, 160)\n",
      "(32, 160)\n",
      "(33, 160)\n",
      "(34, 160)\n",
      "(35, 160)\n",
      "(36, 160)\n",
      "(37, 160)\n",
      "(38, 160)\n",
      "(39, 160)\n",
      "(40, 160)\n",
      "(41, 160)\n",
      "(42, 160)\n",
      "(43, 160)\n",
      "(44, 160)\n"
     ]
    }
   ],
   "source": [
    "test1 = model.train(test_case, ground_truths)"
   ]
  },
  {
   "cell_type": "code",
   "execution_count": 8,
   "id": "4ef6d04a-ceed-4318-b8ce-84d59cd99bcc",
   "metadata": {},
   "outputs": [
    {
     "data": {
      "text/plain": [
       "<tf.Tensor: shape=(45, 160), dtype=float32, numpy=\n",
       "array([[0.00208615, 0.00499338, 0.00407013, ..., 0.00556333, 0.00147481,\n",
       "        0.0015916 ],\n",
       "       [0.00503054, 0.00443653, 0.00153479, ..., 0.01366237, 0.00706134,\n",
       "        0.00715778],\n",
       "       [0.00496345, 0.00315347, 0.00600285, ..., 0.00395365, 0.0022843 ,\n",
       "        0.00799787],\n",
       "       ...,\n",
       "       [0.02976536, 0.00213027, 0.01984709, ..., 0.00659936, 0.00613126,\n",
       "        0.0102134 ],\n",
       "       [0.02001444, 0.00300171, 0.01301008, ..., 0.00583098, 0.00643752,\n",
       "        0.00501724],\n",
       "       [0.00280647, 0.00252861, 0.00294635, ..., 0.00352967, 0.00045182,\n",
       "        0.00156282]], dtype=float32)>"
      ]
     },
     "execution_count": 8,
     "metadata": {},
     "output_type": "execute_result"
    }
   ],
   "source": [
    "test1"
   ]
  },
  {
   "cell_type": "code",
   "execution_count": null,
   "id": "87919fe8-55e8-464a-9b22-dab6c463075b",
   "metadata": {},
   "outputs": [],
   "source": []
  }
 ],
 "metadata": {
  "kernelspec": {
   "display_name": "Python 3 (ipykernel)",
   "language": "python",
   "name": "python3"
  },
  "language_info": {
   "codemirror_mode": {
    "name": "ipython",
    "version": 3
   },
   "file_extension": ".py",
   "mimetype": "text/x-python",
   "name": "python",
   "nbconvert_exporter": "python",
   "pygments_lexer": "ipython3",
   "version": "3.11.11"
  }
 },
 "nbformat": 4,
 "nbformat_minor": 5
}
