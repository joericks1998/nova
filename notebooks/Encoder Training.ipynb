{
 "cells": [
  {
   "cell_type": "markdown",
   "id": "7d735908-a399-4b9b-85f9-0999217a127e",
   "metadata": {},
   "source": [
    "# text datasets"
   ]
  },
  {
   "cell_type": "markdown",
   "id": "a3a837d0-902d-4aed-b70a-a99c6f995a9b",
   "metadata": {},
   "source": [
    "first we are going to build in a real life text datasource from hugging face"
   ]
  },
  {
   "cell_type": "code",
   "execution_count": 1,
   "id": "80162543-f28a-43d6-a318-420b88d13a77",
   "metadata": {},
   "outputs": [
    {
     "name": "stderr",
     "output_type": "stream",
     "text": [
      "2025-01-22 18:43:11.290013: I tensorflow/core/platform/cpu_feature_guard.cc:210] This TensorFlow binary is optimized to use available CPU instructions in performance-critical operations.\n",
      "To enable the following instructions: AVX2 FMA, in other operations, rebuild TensorFlow with the appropriate compiler flags.\n"
     ]
    }
   ],
   "source": [
    "from nova_py.transcribe import MINT\n",
    "from nova_py import TACO\n",
    "# from datasets import load_dataset\n",
    "import itertools\n",
    "import tensorflow as tf"
   ]
  },
  {
   "cell_type": "code",
   "execution_count": 2,
   "id": "495409f2-4ab6-44f1-b533-5f4fc0b49d44",
   "metadata": {},
   "outputs": [
    {
     "data": {
      "text/plain": [
       "50"
      ]
     },
     "execution_count": 2,
     "metadata": {},
     "output_type": "execute_result"
    }
   ],
   "source": [
    "encoder = MINT()\n",
    "encoder.cooling_factor"
   ]
  },
  {
   "cell_type": "code",
   "execution_count": 3,
   "id": "733ea306-4676-45f8-adf7-f25e38969ba2",
   "metadata": {},
   "outputs": [],
   "source": [
    "tags = encoder.tags"
   ]
  },
  {
   "cell_type": "code",
   "execution_count": 4,
   "id": "c6ccd006-e92c-491f-9d73-2783f092b1e1",
   "metadata": {},
   "outputs": [],
   "source": [
    "all_combos = []\n",
    "\n",
    "for j in range(1,4):\n",
    "    for i in itertools.product(tags.keys(), repeat = j):\n",
    "        all_combos.append(\" -> \".join(i))"
   ]
  },
  {
   "cell_type": "code",
   "execution_count": 5,
   "id": "413df9bb-5547-4655-898e-1774bec1f082",
   "metadata": {},
   "outputs": [],
   "source": [
    "encoder.addTransitions(all_combos)"
   ]
  },
  {
   "cell_type": "code",
   "execution_count": 6,
   "id": "7316712f-1d54-4b35-b3f1-0dac4f5f9730",
   "metadata": {},
   "outputs": [
    {
     "data": {
      "text/plain": [
       "<tf.Tensor: shape=(3, 5), dtype=string, numpy=\n",
       "array([[b'hello', b'world', b'<pad>', b'<pad>', b'<pad>'],\n",
       "       [b'sky', b'=', b'\"', b'blue', b'\"'],\n",
       "       [b'up', b'is', b'\"', b'down', b'\"']], dtype=object)>"
      ]
     },
     "execution_count": 6,
     "metadata": {},
     "output_type": "execute_result"
    }
   ],
   "source": [
    "sequences = [\"hello world\", \"sky = \\\"blue\\\"\", \"up is \\\"down \\\"\"]\n",
    "\n",
    "batch = TACO.inBatch(sequences)\n",
    "\n",
    "batch"
   ]
  },
  {
   "cell_type": "code",
   "execution_count": 7,
   "id": "43232dc5-5260-4f4f-a62d-3bdfd5c392d7",
   "metadata": {},
   "outputs": [
    {
     "data": {
      "text/plain": [
       "<tf.Tensor: shape=(3, 5), dtype=string, numpy=\n",
       "array([[b'~container~', b'~definition~', b'~pad~', b'~pad~', b'~pad~'],\n",
       "       [b'~container~', b'~relation~', b'~container~', b'~definition~',\n",
       "        b'~container~'],\n",
       "       [b'~pad~', b'~relation~', b'~container~', b'~pad~',\n",
       "        b'~container~']], dtype=object)>"
      ]
     },
     "execution_count": 7,
     "metadata": {},
     "output_type": "execute_result"
    }
   ],
   "source": [
    "tensor = encoder(batch)\n",
    "\n",
    "tensor[:,:,1]"
   ]
  },
  {
   "cell_type": "code",
   "execution_count": 11,
   "id": "18c753e2-3255-401a-b5f7-95ac01d5e4c5",
   "metadata": {},
   "outputs": [
    {
     "name": "stdout",
     "output_type": "stream",
     "text": [
      "tf.Tensor(1.0, shape=(), dtype=float64)\n",
      "tf.Tensor(1.0, shape=(), dtype=float64)\n",
      "tf.Tensor(1.0, shape=(), dtype=float64)\n",
      "tf.Tensor(0.9999999999999999, shape=(), dtype=float64)\n",
      "tf.Tensor(1.0, shape=(), dtype=float64)\n",
      "tf.Tensor(1.0, shape=(), dtype=float64)\n",
      "tf.Tensor(0.9999999999999998, shape=(), dtype=float64)\n",
      "tf.Tensor(1.0, shape=(), dtype=float64)\n",
      "tf.Tensor(1.0, shape=(), dtype=float64)\n",
      "tf.Tensor(1.0, shape=(), dtype=float64)\n",
      "tf.Tensor(0.9999999999999999, shape=(), dtype=float64)\n",
      "tf.Tensor(1.0, shape=(), dtype=float64)\n",
      "tf.Tensor(0.9999999999999998, shape=(), dtype=float64)\n",
      "tf.Tensor(0.9999999999999999, shape=(), dtype=float64)\n",
      "tf.Tensor(1.0000000000000002, shape=(), dtype=float64)\n",
      "tf.Tensor(0.9999999999999999, shape=(), dtype=float64)\n",
      "tf.Tensor(0.9999999999999998, shape=(), dtype=float64)\n",
      "tf.Tensor(1.0, shape=(), dtype=float64)\n",
      "tf.Tensor(1.0, shape=(), dtype=float64)\n",
      "tf.Tensor(1.0, shape=(), dtype=float64)\n",
      "tf.Tensor(0.9999999999999998, shape=(), dtype=float64)\n",
      "tf.Tensor(1.0, shape=(), dtype=float64)\n",
      "tf.Tensor(1.0, shape=(), dtype=float64)\n",
      "tf.Tensor(0.9999999999999998, shape=(), dtype=float64)\n",
      "tf.Tensor(0.9999999999999998, shape=(), dtype=float64)\n",
      "tf.Tensor(1.0000000000000002, shape=(), dtype=float64)\n",
      "tf.Tensor(0.9999999999999999, shape=(), dtype=float64)\n",
      "tf.Tensor(1.0000000000000002, shape=(), dtype=float64)\n",
      "tf.Tensor(0.9999999999999998, shape=(), dtype=float64)\n",
      "tf.Tensor(1.0000000000000002, shape=(), dtype=float64)\n",
      "tf.Tensor(0.9999999999999998, shape=(), dtype=float64)\n",
      "tf.Tensor(1.0, shape=(), dtype=float64)\n",
      "tf.Tensor(1.0, shape=(), dtype=float64)\n",
      "tf.Tensor(0.9999999999999998, shape=(), dtype=float64)\n",
      "tf.Tensor(0.9999999999999998, shape=(), dtype=float64)\n",
      "tf.Tensor(1.0000000000000002, shape=(), dtype=float64)\n",
      "tf.Tensor(0.9999999999999999, shape=(), dtype=float64)\n",
      "tf.Tensor(1.0000000000000002, shape=(), dtype=float64)\n",
      "tf.Tensor(0.9999999999999998, shape=(), dtype=float64)\n",
      "tf.Tensor(1.0000000000000002, shape=(), dtype=float64)\n",
      "tf.Tensor(0.9999999999999998, shape=(), dtype=float64)\n",
      "tf.Tensor(1.0, shape=(), dtype=float64)\n",
      "tf.Tensor(1.0, shape=(), dtype=float64)\n",
      "tf.Tensor(0.9999999999999998, shape=(), dtype=float64)\n",
      "tf.Tensor(0.9999999999999998, shape=(), dtype=float64)\n",
      "tf.Tensor(1.0000000000000002, shape=(), dtype=float64)\n",
      "tf.Tensor(0.9999999999999999, shape=(), dtype=float64)\n",
      "tf.Tensor(1.0000000000000002, shape=(), dtype=float64)\n",
      "tf.Tensor(0.9999999999999998, shape=(), dtype=float64)\n",
      "tf.Tensor(1.0000000000000002, shape=(), dtype=float64)\n",
      "tf.Tensor(0.9999999999999998, shape=(), dtype=float64)\n",
      "tf.Tensor(0.9999999999999999, shape=(), dtype=float64)\n",
      "tf.Tensor(0.9999999999999999, shape=(), dtype=float64)\n",
      "tf.Tensor(1.0, shape=(), dtype=float64)\n",
      "tf.Tensor(1.0, shape=(), dtype=float64)\n",
      "tf.Tensor(1.0, shape=(), dtype=float64)\n",
      "tf.Tensor(1.0, shape=(), dtype=float64)\n",
      "tf.Tensor(1.0, shape=(), dtype=float64)\n",
      "tf.Tensor(0.9999999999999999, shape=(), dtype=float64)\n",
      "tf.Tensor(1.0000000000000002, shape=(), dtype=float64)\n",
      "tf.Tensor(1.0000000000000002, shape=(), dtype=float64)\n",
      "tf.Tensor(1.0, shape=(), dtype=float64)\n",
      "tf.Tensor(1.0, shape=(), dtype=float64)\n",
      "tf.Tensor(1.0, shape=(), dtype=float64)\n",
      "tf.Tensor(1.0000000000000002, shape=(), dtype=float64)\n",
      "tf.Tensor(1.0, shape=(), dtype=float64)\n",
      "tf.Tensor(1.0, shape=(), dtype=float64)\n",
      "tf.Tensor(0.9999999999999999, shape=(), dtype=float64)\n",
      "tf.Tensor(0.9999999999999997, shape=(), dtype=float64)\n",
      "tf.Tensor(0.9999999999999997, shape=(), dtype=float64)\n",
      "tf.Tensor(0.9999999999999998, shape=(), dtype=float64)\n",
      "tf.Tensor(1.0, shape=(), dtype=float64)\n",
      "tf.Tensor(0.9999999999999999, shape=(), dtype=float64)\n",
      "tf.Tensor(0.9999999999999999, shape=(), dtype=float64)\n",
      "tf.Tensor(0.9999999999999998, shape=(), dtype=float64)\n",
      "tf.Tensor(1.0000000000000002, shape=(), dtype=float64)\n",
      "tf.Tensor(0.9999999999999999, shape=(), dtype=float64)\n",
      "tf.Tensor(1.0, shape=(), dtype=float64)\n",
      "tf.Tensor(0.9999999999999998, shape=(), dtype=float64)\n",
      "tf.Tensor(1.0000000000000002, shape=(), dtype=float64)\n",
      "tf.Tensor(0.9999999999999997, shape=(), dtype=float64)\n",
      "tf.Tensor(1.0, shape=(), dtype=float64)\n",
      "tf.Tensor(0.9999999999999999, shape=(), dtype=float64)\n",
      "tf.Tensor(1.0, shape=(), dtype=float64)\n",
      "tf.Tensor(0.9999999999999999, shape=(), dtype=float64)\n",
      "tf.Tensor(1.0000000000000002, shape=(), dtype=float64)\n",
      "tf.Tensor(1.0, shape=(), dtype=float64)\n",
      "tf.Tensor(1.0, shape=(), dtype=float64)\n",
      "tf.Tensor(1.0, shape=(), dtype=float64)\n",
      "tf.Tensor(1.0000000000000002, shape=(), dtype=float64)\n",
      "tf.Tensor(0.9999999999999998, shape=(), dtype=float64)\n",
      "tf.Tensor(1.0, shape=(), dtype=float64)\n",
      "tf.Tensor(0.9999999999999999, shape=(), dtype=float64)\n",
      "tf.Tensor(0.9999999999999999, shape=(), dtype=float64)\n",
      "tf.Tensor(0.9999999999999998, shape=(), dtype=float64)\n",
      "tf.Tensor(1.0000000000000002, shape=(), dtype=float64)\n",
      "tf.Tensor(0.9999999999999999, shape=(), dtype=float64)\n",
      "tf.Tensor(1.0, shape=(), dtype=float64)\n",
      "tf.Tensor(0.9999999999999998, shape=(), dtype=float64)\n",
      "tf.Tensor(1.0000000000000002, shape=(), dtype=float64)\n",
      "tf.Tensor(1.0, shape=(), dtype=float64)\n",
      "tf.Tensor(1.0000000000000002, shape=(), dtype=float64)\n",
      "tf.Tensor(1.0, shape=(), dtype=float64)\n",
      "tf.Tensor(0.9999999999999998, shape=(), dtype=float64)\n",
      "tf.Tensor(0.9999999999999998, shape=(), dtype=float64)\n",
      "tf.Tensor(1.0000000000000002, shape=(), dtype=float64)\n",
      "tf.Tensor(1.0, shape=(), dtype=float64)\n",
      "tf.Tensor(1.0000000000000002, shape=(), dtype=float64)\n",
      "tf.Tensor(1.0000000000000002, shape=(), dtype=float64)\n",
      "tf.Tensor(1.0, shape=(), dtype=float64)\n",
      "tf.Tensor(0.9999999999999998, shape=(), dtype=float64)\n",
      "tf.Tensor(1.0, shape=(), dtype=float64)\n",
      "tf.Tensor(1.0, shape=(), dtype=float64)\n",
      "tf.Tensor(0.9999999999999998, shape=(), dtype=float64)\n",
      "tf.Tensor(0.9999999999999998, shape=(), dtype=float64)\n",
      "tf.Tensor(1.0000000000000002, shape=(), dtype=float64)\n",
      "tf.Tensor(0.9999999999999999, shape=(), dtype=float64)\n",
      "tf.Tensor(1.0000000000000002, shape=(), dtype=float64)\n",
      "tf.Tensor(0.9999999999999998, shape=(), dtype=float64)\n",
      "tf.Tensor(1.0000000000000002, shape=(), dtype=float64)\n",
      "tf.Tensor(0.9999999999999998, shape=(), dtype=float64)\n",
      "tf.Tensor(1.0, shape=(), dtype=float64)\n",
      "tf.Tensor(0.9999999999999999, shape=(), dtype=float64)\n",
      "tf.Tensor(0.9999999999999999, shape=(), dtype=float64)\n",
      "tf.Tensor(0.9999999999999998, shape=(), dtype=float64)\n",
      "tf.Tensor(1.0000000000000002, shape=(), dtype=float64)\n",
      "tf.Tensor(0.9999999999999999, shape=(), dtype=float64)\n",
      "tf.Tensor(1.0, shape=(), dtype=float64)\n",
      "tf.Tensor(0.9999999999999998, shape=(), dtype=float64)\n",
      "tf.Tensor(1.0000000000000002, shape=(), dtype=float64)\n",
      "tf.Tensor(0.9999999999999998, shape=(), dtype=float64)\n",
      "tf.Tensor(1.0, shape=(), dtype=float64)\n",
      "tf.Tensor(1.0, shape=(), dtype=float64)\n",
      "tf.Tensor(0.9999999999999998, shape=(), dtype=float64)\n",
      "tf.Tensor(0.9999999999999998, shape=(), dtype=float64)\n",
      "tf.Tensor(1.0000000000000002, shape=(), dtype=float64)\n",
      "tf.Tensor(0.9999999999999999, shape=(), dtype=float64)\n",
      "tf.Tensor(1.0000000000000002, shape=(), dtype=float64)\n",
      "tf.Tensor(0.9999999999999998, shape=(), dtype=float64)\n",
      "tf.Tensor(1.0000000000000002, shape=(), dtype=float64)\n"
     ]
    }
   ],
   "source": [
    "encoder.train(tensor, num_epochs = 10)"
   ]
  },
  {
   "cell_type": "code",
   "execution_count": 12,
   "id": "f3959d54-d7fa-420a-8c6f-7ba408dceac4",
   "metadata": {},
   "outputs": [
    {
     "data": {
      "text/plain": [
       "<tf.Tensor: shape=(11,), dtype=float64, numpy=\n",
       "array([0.04729352, 0.23777014, 0.04729352, 0.04729352, 0.04729352,\n",
       "       0.04729352, 0.33658817, 0.04729352, 0.04729352, 0.04729352,\n",
       "       0.04729352])>"
      ]
     },
     "execution_count": 12,
     "metadata": {},
     "output_type": "execute_result"
    }
   ],
   "source": [
    "encoder.TransitionMatrix[0,:]"
   ]
  },
  {
   "cell_type": "code",
   "execution_count": 9,
   "id": "cf1d0afb-775a-4418-9e30-aa6aab77cd45",
   "metadata": {},
   "outputs": [
    {
     "data": {
      "text/plain": [
       "[]"
      ]
     },
     "execution_count": 9,
     "metadata": {},
     "output_type": "execute_result"
    }
   ],
   "source": [
    "train_tensor"
   ]
  },
  {
   "cell_type": "code",
   "execution_count": 10,
   "id": "00766cd1-c9bc-4c6f-b32f-7d0d882bd9c6",
   "metadata": {},
   "outputs": [
    {
     "data": {
      "text/plain": [
       "<tf.Tensor: shape=(3, 5, 2), dtype=string, numpy=\n",
       "array([[[b'hello', b'~definition~'],\n",
       "        [b'world', b'~container~'],\n",
       "        [b'<pad>', b'~pad~'],\n",
       "        [b'<pad>', b'~pad~'],\n",
       "        [b'<pad>', b'~pad~']],\n",
       "\n",
       "       [[b'sky', b'~pad~'],\n",
       "        [b'=', b'~relation~'],\n",
       "        [b'\"', b'~container~'],\n",
       "        [b'blue', b'~relation~'],\n",
       "        [b'\"', b'~container~']],\n",
       "\n",
       "       [[b'up', b'~container~'],\n",
       "        [b'is', b'~relation~'],\n",
       "        [b'\"', b'~container~'],\n",
       "        [b'down', b'~connector~'],\n",
       "        [b'\"', b'~container~']]], dtype=object)>"
      ]
     },
     "execution_count": 10,
     "metadata": {},
     "output_type": "execute_result"
    }
   ],
   "source": [
    "tensor"
   ]
  }
 ],
 "metadata": {
  "kernelspec": {
   "display_name": "Python 3 (ipykernel)",
   "language": "python",
   "name": "python3"
  },
  "language_info": {
   "codemirror_mode": {
    "name": "ipython",
    "version": 3
   },
   "file_extension": ".py",
   "mimetype": "text/x-python",
   "name": "python",
   "nbconvert_exporter": "python",
   "pygments_lexer": "ipython3",
   "version": "3.11.11"
  }
 },
 "nbformat": 4,
 "nbformat_minor": 5
}
