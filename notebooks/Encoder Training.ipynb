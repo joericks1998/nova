{
 "cells": [
  {
   "cell_type": "markdown",
   "id": "7d735908-a399-4b9b-85f9-0999217a127e",
   "metadata": {},
   "source": [
    "# text datasets"
   ]
  },
  {
   "cell_type": "markdown",
   "id": "a3a837d0-902d-4aed-b70a-a99c6f995a9b",
   "metadata": {},
   "source": [
    "first we are going to build in a real life text datasource from hugging face"
   ]
  },
  {
   "cell_type": "code",
   "execution_count": 1,
   "id": "80162543-f28a-43d6-a318-420b88d13a77",
   "metadata": {},
   "outputs": [
    {
     "name": "stderr",
     "output_type": "stream",
     "text": [
      "2025-01-22 16:56:20.011462: I tensorflow/core/platform/cpu_feature_guard.cc:210] This TensorFlow binary is optimized to use available CPU instructions in performance-critical operations.\n",
      "To enable the following instructions: AVX2 FMA, in other operations, rebuild TensorFlow with the appropriate compiler flags.\n"
     ]
    }
   ],
   "source": [
    "from nova_py import parser, tokenizer\n",
    "# from datasets import load_dataset\n",
    "import itertools\n",
    "import tensorflow as tf"
   ]
  },
  {
   "cell_type": "code",
   "execution_count": 2,
   "id": "495409f2-4ab6-44f1-b533-5f4fc0b49d44",
   "metadata": {},
   "outputs": [],
   "source": [
    "encoder = parser.Encoder()"
   ]
  },
  {
   "cell_type": "code",
   "execution_count": 3,
   "id": "733ea306-4676-45f8-adf7-f25e38969ba2",
   "metadata": {},
   "outputs": [],
   "source": [
    "tags = encoder.tags"
   ]
  },
  {
   "cell_type": "code",
   "execution_count": 4,
   "id": "c6ccd006-e92c-491f-9d73-2783f092b1e1",
   "metadata": {},
   "outputs": [],
   "source": [
    "all_combos = []\n",
    "\n",
    "for j in range(1,4):\n",
    "    for i in itertools.product(tags.keys(), repeat = j):\n",
    "        all_combos.append(\" -> \".join(i))"
   ]
  },
  {
   "cell_type": "code",
   "execution_count": 5,
   "id": "413df9bb-5547-4655-898e-1774bec1f082",
   "metadata": {},
   "outputs": [],
   "source": [
    "encoder.addTransitions(all_combos)"
   ]
  },
  {
   "cell_type": "code",
   "execution_count": 6,
   "id": "7316712f-1d54-4b35-b3f1-0dac4f5f9730",
   "metadata": {},
   "outputs": [
    {
     "data": {
      "text/plain": [
       "<tf.Tensor: shape=(2, 5), dtype=string, numpy=\n",
       "array([[b'hello', b'world', b'<pad>', b'<pad>', b'<pad>'],\n",
       "       [b'sky', b'=', b'\"', b'blue', b'\"']], dtype=object)>"
      ]
     },
     "execution_count": 6,
     "metadata": {},
     "output_type": "execute_result"
    }
   ],
   "source": [
    "sequences = [\"hello world\", \"sky = \\\"blue\\\"\"]\n",
    "\n",
    "batch = tokenizer.inBatch(sequences)\n",
    "\n",
    "batch"
   ]
  },
  {
   "cell_type": "code",
   "execution_count": 23,
   "id": "43232dc5-5260-4f4f-a62d-3bdfd5c392d7",
   "metadata": {},
   "outputs": [
    {
     "data": {
      "text/plain": [
       "<tf.Tensor: shape=(2, 5, 2), dtype=string, numpy=\n",
       "array([[[b'hello', b'BAD SEQUENCE ERROR'],\n",
       "        [b'world', b'~value~'],\n",
       "        [b'<pad>', b'~pad~'],\n",
       "        [b'<pad>', b'~pad~'],\n",
       "        [b'<pad>', b'~pad~']],\n",
       "\n",
       "       [[b'sky', b'~value~'],\n",
       "        [b'=', b'~relation~'],\n",
       "        [b'\"', b'~container~'],\n",
       "        [b'blue', b'~var~'],\n",
       "        [b'\"', b'~container~']]], dtype=object)>"
      ]
     },
     "execution_count": 23,
     "metadata": {},
     "output_type": "execute_result"
    }
   ],
   "source": [
    "tensor = encoder(batch)\n",
    "\n",
    "tensor"
   ]
  },
  {
   "cell_type": "code",
   "execution_count": 8,
   "id": "94186795-d066-465d-bdba-bd3c3787d61b",
   "metadata": {},
   "outputs": [
    {
     "name": "stderr",
     "output_type": "stream",
     "text": [
      "2025-01-22 16:48:12.495294: W tensorflow/core/framework/op_kernel.cc:1839] OP_REQUIRES failed at strided_slice_op.cc:117 : INVALID_ARGUMENT: Index out of range using input dim 2; input has only 2 dims\n",
      "2025-01-22 16:48:12.495324: W tensorflow/core/framework/local_rendezvous.cc:404] Local rendezvous is aborting with status: INVALID_ARGUMENT: Index out of range using input dim 2; input has only 2 dims\n"
     ]
    },
    {
     "ename": "InvalidArgumentError",
     "evalue": "{{function_node __wrapped__StridedSlice_device_/job:localhost/replica:0/task:0/device:CPU:0}} Index out of range using input dim 2; input has only 2 dims [Op:StridedSlice] name: strided_slice/",
     "output_type": "error",
     "traceback": [
      "\u001b[0;31m---------------------------------------------------------------------------\u001b[0m",
      "\u001b[0;31mInvalidArgumentError\u001b[0m                      Traceback (most recent call last)",
      "Cell \u001b[0;32mIn[8], line 1\u001b[0m\n\u001b[0;32m----> 1\u001b[0m \u001b[43mtensor\u001b[49m\u001b[43m[\u001b[49m\u001b[43m:\u001b[49m\u001b[43m,\u001b[49m\u001b[43m:\u001b[49m\u001b[43m,\u001b[49m\u001b[38;5;241;43m1\u001b[39;49m\u001b[43m]\u001b[49m\n",
      "File \u001b[0;32m/usr/local/lib/python3.11/site-packages/tensorflow/python/util/traceback_utils.py:153\u001b[0m, in \u001b[0;36mfilter_traceback.<locals>.error_handler\u001b[0;34m(*args, **kwargs)\u001b[0m\n\u001b[1;32m    151\u001b[0m \u001b[38;5;28;01mexcept\u001b[39;00m \u001b[38;5;167;01mException\u001b[39;00m \u001b[38;5;28;01mas\u001b[39;00m e:\n\u001b[1;32m    152\u001b[0m   filtered_tb \u001b[38;5;241m=\u001b[39m _process_traceback_frames(e\u001b[38;5;241m.\u001b[39m__traceback__)\n\u001b[0;32m--> 153\u001b[0m   \u001b[38;5;28;01mraise\u001b[39;00m e\u001b[38;5;241m.\u001b[39mwith_traceback(filtered_tb) \u001b[38;5;28;01mfrom\u001b[39;00m\u001b[38;5;250m \u001b[39m\u001b[38;5;28;01mNone\u001b[39;00m\n\u001b[1;32m    154\u001b[0m \u001b[38;5;28;01mfinally\u001b[39;00m:\n\u001b[1;32m    155\u001b[0m   \u001b[38;5;28;01mdel\u001b[39;00m filtered_tb\n",
      "File \u001b[0;32m/usr/local/lib/python3.11/site-packages/tensorflow/python/framework/ops.py:5983\u001b[0m, in \u001b[0;36mraise_from_not_ok_status\u001b[0;34m(e, name)\u001b[0m\n\u001b[1;32m   5981\u001b[0m \u001b[38;5;28;01mdef\u001b[39;00m\u001b[38;5;250m \u001b[39m\u001b[38;5;21mraise_from_not_ok_status\u001b[39m(e, name) \u001b[38;5;241m-\u001b[39m\u001b[38;5;241m>\u001b[39m NoReturn:\n\u001b[1;32m   5982\u001b[0m   e\u001b[38;5;241m.\u001b[39mmessage \u001b[38;5;241m+\u001b[39m\u001b[38;5;241m=\u001b[39m (\u001b[38;5;124m\"\u001b[39m\u001b[38;5;124m name: \u001b[39m\u001b[38;5;124m\"\u001b[39m \u001b[38;5;241m+\u001b[39m \u001b[38;5;28mstr\u001b[39m(name \u001b[38;5;28;01mif\u001b[39;00m name \u001b[38;5;129;01mis\u001b[39;00m \u001b[38;5;129;01mnot\u001b[39;00m \u001b[38;5;28;01mNone\u001b[39;00m \u001b[38;5;28;01melse\u001b[39;00m \u001b[38;5;124m\"\u001b[39m\u001b[38;5;124m\"\u001b[39m))\n\u001b[0;32m-> 5983\u001b[0m   \u001b[38;5;28;01mraise\u001b[39;00m core\u001b[38;5;241m.\u001b[39m_status_to_exception(e) \u001b[38;5;28;01mfrom\u001b[39;00m\u001b[38;5;250m \u001b[39m\u001b[38;5;28;01mNone\u001b[39;00m\n",
      "\u001b[0;31mInvalidArgumentError\u001b[0m: {{function_node __wrapped__StridedSlice_device_/job:localhost/replica:0/task:0/device:CPU:0}} Index out of range using input dim 2; input has only 2 dims [Op:StridedSlice] name: strided_slice/"
     ]
    }
   ],
   "source": []
  },
  {
   "cell_type": "code",
   "execution_count": 14,
   "id": "a17974bb-fc27-463c-87ce-78d408bdf526",
   "metadata": {},
   "outputs": [
    {
     "data": {
      "text/plain": [
       "[<tf.Tensor: shape=(2, 5), dtype=string, numpy=\n",
       " array([[b'hello', b'world', b'<pad>', b'<pad>', b'<pad>'],\n",
       "        [b'sky', b'=', b'\"', b'blue', b'\"']], dtype=object)>,\n",
       " <tf.Tensor: shape=(2, 5), dtype=string, numpy=\n",
       " array([[b'', b'', b'~pad~', b'~pad~', b'~pad~'],\n",
       "        [b'', b'~relation~', b'~container~', b'', b'~container~']],\n",
       "       dtype=object)>]"
      ]
     },
     "execution_count": 14,
     "metadata": {},
     "output_type": "execute_result"
    }
   ],
   "source": [
    "tf.unstack(tensor, axis=2)"
   ]
  }
 ],
 "metadata": {
  "kernelspec": {
   "display_name": "Python 3 (ipykernel)",
   "language": "python",
   "name": "python3"
  },
  "language_info": {
   "codemirror_mode": {
    "name": "ipython",
    "version": 3
   },
   "file_extension": ".py",
   "mimetype": "text/x-python",
   "name": "python",
   "nbconvert_exporter": "python",
   "pygments_lexer": "ipython3",
   "version": "3.11.11"
  }
 },
 "nbformat": 4,
 "nbformat_minor": 5
}
