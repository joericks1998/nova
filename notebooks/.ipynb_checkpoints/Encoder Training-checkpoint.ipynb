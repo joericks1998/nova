{
 "cells": [
  {
   "cell_type": "markdown",
   "id": "7d735908-a399-4b9b-85f9-0999217a127e",
   "metadata": {},
   "source": [
    "# text datasets"
   ]
  },
  {
   "cell_type": "markdown",
   "id": "a3a837d0-902d-4aed-b70a-a99c6f995a9b",
   "metadata": {},
   "source": [
    "first we are going to build in a real life text datasource from hugging face"
   ]
  },
  {
   "cell_type": "code",
   "execution_count": 25,
   "id": "80162543-f28a-43d6-a318-420b88d13a77",
   "metadata": {},
   "outputs": [],
   "source": [
    "from nova_py.transcribe import MINT\n",
    "from nova_py import TACO\n",
    "# from datasets import load_dataset\n",
    "import itertools\n",
    "import tensorflow as tf"
   ]
  },
  {
   "cell_type": "code",
   "execution_count": 26,
   "id": "495409f2-4ab6-44f1-b533-5f4fc0b49d44",
   "metadata": {},
   "outputs": [],
   "source": [
    "encoder = MINT()"
   ]
  },
  {
   "cell_type": "code",
   "execution_count": 27,
   "id": "733ea306-4676-45f8-adf7-f25e38969ba2",
   "metadata": {},
   "outputs": [],
   "source": [
    "tags = encoder.tags"
   ]
  },
  {
   "cell_type": "code",
   "execution_count": 28,
   "id": "c6ccd006-e92c-491f-9d73-2783f092b1e1",
   "metadata": {},
   "outputs": [],
   "source": [
    "all_combos = []\n",
    "\n",
    "for j in range(1,4):\n",
    "    for i in itertools.product(tags.keys(), repeat = j):\n",
    "        all_combos.append(\" -> \".join(i))"
   ]
  },
  {
   "cell_type": "code",
   "execution_count": 29,
   "id": "413df9bb-5547-4655-898e-1774bec1f082",
   "metadata": {},
   "outputs": [],
   "source": [
    "encoder.addTransitions(all_combos)"
   ]
  },
  {
   "cell_type": "code",
   "execution_count": 30,
   "id": "7316712f-1d54-4b35-b3f1-0dac4f5f9730",
   "metadata": {},
   "outputs": [
    {
     "data": {
      "text/plain": [
       "<tf.Tensor: shape=(2, 5), dtype=string, numpy=\n",
       "array([[b'hello', b'world', b'<pad>', b'<pad>', b'<pad>'],\n",
       "       [b'sky', b'=', b'\"', b'blue', b'\"']], dtype=object)>"
      ]
     },
     "execution_count": 30,
     "metadata": {},
     "output_type": "execute_result"
    }
   ],
   "source": [
    "sequences = [\"hello world\", \"sky = \\\"blue\\\"\", \"up is \\\"down\\\"\"]\n",
    "\n",
    "batch = TACO.inBatch(sequences)\n",
    "\n",
    "batch"
   ]
  },
  {
   "cell_type": "code",
   "execution_count": 42,
   "id": "43232dc5-5260-4f4f-a62d-3bdfd5c392d7",
   "metadata": {},
   "outputs": [
    {
     "data": {
      "text/plain": [
       "<tf.Tensor: shape=(2, 5, 2), dtype=string, numpy=\n",
       "array([[[b'hello', b'~definition~'],\n",
       "        [b'world', b'~relation~'],\n",
       "        [b'<pad>', b'~pad~'],\n",
       "        [b'<pad>', b'~pad~'],\n",
       "        [b'<pad>', b'~pad~']],\n",
       "\n",
       "       [[b'sky', b'~value~'],\n",
       "        [b'=', b'~relation~'],\n",
       "        [b'\"', b'~container~'],\n",
       "        [b'blue', b'~relation~'],\n",
       "        [b'\"', b'~container~']]], dtype=object)>"
      ]
     },
     "execution_count": 42,
     "metadata": {},
     "output_type": "execute_result"
    }
   ],
   "source": [
    "tensor = encoder(batch)\n",
    "\n",
    "tensor"
   ]
  }
 ],
 "metadata": {
  "kernelspec": {
   "display_name": "Python 3 (ipykernel)",
   "language": "python",
   "name": "python3"
  },
  "language_info": {
   "codemirror_mode": {
    "name": "ipython",
    "version": 3
   },
   "file_extension": ".py",
   "mimetype": "text/x-python",
   "name": "python",
   "nbconvert_exporter": "python",
   "pygments_lexer": "ipython3",
   "version": "3.11.11"
  }
 },
 "nbformat": 4,
 "nbformat_minor": 5
}
