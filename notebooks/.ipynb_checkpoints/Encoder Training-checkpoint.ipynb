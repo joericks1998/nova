{
 "cells": [
  {
   "cell_type": "markdown",
   "id": "7d735908-a399-4b9b-85f9-0999217a127e",
   "metadata": {},
   "source": [
    "# text datasets"
   ]
  },
  {
   "cell_type": "markdown",
   "id": "a3a837d0-902d-4aed-b70a-a99c6f995a9b",
   "metadata": {},
   "source": [
    "first we are going to build in a real life text datasource from hugging face"
   ]
  },
  {
   "cell_type": "code",
   "execution_count": 1,
   "id": "80162543-f28a-43d6-a318-420b88d13a77",
   "metadata": {},
   "outputs": [
    {
     "name": "stderr",
     "output_type": "stream",
     "text": [
      "2025-01-16 21:40:01.042234: I tensorflow/core/platform/cpu_feature_guard.cc:210] This TensorFlow binary is optimized to use available CPU instructions in performance-critical operations.\n",
      "To enable the following instructions: AVX2 FMA, in other operations, rebuild TensorFlow with the appropriate compiler flags.\n"
     ]
    }
   ],
   "source": [
    "from nova_py import parser, tokenizer\n",
    "from datasets import load_dataset\n",
    "import itertools\n",
    "import tensorflow as tf"
   ]
  },
  {
   "cell_type": "code",
   "execution_count": 2,
   "id": "495409f2-4ab6-44f1-b533-5f4fc0b49d44",
   "metadata": {},
   "outputs": [],
   "source": [
    "encoder = parser.Encoder()"
   ]
  },
  {
   "cell_type": "code",
   "execution_count": 3,
   "id": "733ea306-4676-45f8-adf7-f25e38969ba2",
   "metadata": {},
   "outputs": [],
   "source": [
    "tags = encoder.tags"
   ]
  },
  {
   "cell_type": "code",
   "execution_count": 4,
   "id": "c6ccd006-e92c-491f-9d73-2783f092b1e1",
   "metadata": {},
   "outputs": [],
   "source": [
    "all_combos = []\n",
    "\n",
    "for j in range(1,4):\n",
    "    for i in itertools.product(tags.keys(), repeat = j):\n",
    "        all_combos.append(\" -> \".join(i))"
   ]
  },
  {
   "cell_type": "code",
   "execution_count": 5,
   "id": "413df9bb-5547-4655-898e-1774bec1f082",
   "metadata": {},
   "outputs": [],
   "source": [
    "encoder.addTransitions(all_combos)"
   ]
  },
  {
   "cell_type": "code",
   "execution_count": null,
   "id": "7316712f-1d54-4b35-b3f1-0dac4f5f9730",
   "metadata": {},
   "outputs": [],
   "source": [
    "sequences = [\"hello world\", \"sky = \\\"blue\\\"\"]"
   ]
  },
  {
   "cell_type": "code",
   "execution_count": 6,
   "id": "43232dc5-5260-4f4f-a62d-3bdfd5c392d7",
   "metadata": {},
   "outputs": [
    {
     "data": {
      "text/plain": [
       "<tf.Tensor: shape=(1464, 11), dtype=float64, numpy=\n",
       "array([[0.09090909, 0.09090909, 0.09090909, ..., 0.09090909, 0.09090909,\n",
       "        0.09090909],\n",
       "       [0.09090909, 0.09090909, 0.09090909, ..., 0.09090909, 0.09090909,\n",
       "        0.09090909],\n",
       "       [0.09090909, 0.09090909, 0.09090909, ..., 0.09090909, 0.09090909,\n",
       "        0.09090909],\n",
       "       ...,\n",
       "       [0.09090909, 0.09090909, 0.09090909, ..., 0.09090909, 0.09090909,\n",
       "        0.09090909],\n",
       "       [0.09090909, 0.09090909, 0.09090909, ..., 0.09090909, 0.09090909,\n",
       "        0.09090909],\n",
       "       [0.09090909, 0.09090909, 0.09090909, ..., 0.09090909, 0.09090909,\n",
       "        0.09090909]])>"
      ]
     },
     "execution_count": 6,
     "metadata": {},
     "output_type": "execute_result"
    }
   ],
   "source": [
    "encoder"
   ]
  }
 ],
 "metadata": {
  "kernelspec": {
   "display_name": "Python 3 (ipykernel)",
   "language": "python",
   "name": "python3"
  },
  "language_info": {
   "codemirror_mode": {
    "name": "ipython",
    "version": 3
   },
   "file_extension": ".py",
   "mimetype": "text/x-python",
   "name": "python",
   "nbconvert_exporter": "python",
   "pygments_lexer": "ipython3",
   "version": "3.9.13"
  }
 },
 "nbformat": 4,
 "nbformat_minor": 5
}
