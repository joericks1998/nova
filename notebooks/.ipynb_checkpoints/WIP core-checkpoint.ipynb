{
 "cells": [
  {
   "cell_type": "code",
   "execution_count": 1,
   "id": "37128b42-419d-42b2-ae6d-f4b7747d59c1",
   "metadata": {},
   "outputs": [
    {
     "name": "stderr",
     "output_type": "stream",
     "text": [
      "2025-04-27 12:47:15.300137: I tensorflow/core/platform/cpu_feature_guard.cc:210] This TensorFlow binary is optimized to use available CPU instructions in performance-critical operations.\n",
      "To enable the following instructions: AVX2 FMA, in other operations, rebuild TensorFlow with the appropriate compiler flags.\n"
     ]
    }
   ],
   "source": [
    "from nova_py import nova\n",
    "import tensorflow as tf"
   ]
  },
  {
   "cell_type": "code",
   "execution_count": 2,
   "id": "98b08ca9-8864-4d02-a842-c1c588c27a2d",
   "metadata": {},
   "outputs": [
    {
     "name": "stderr",
     "output_type": "stream",
     "text": [
      "/usr/local/lib/python3.11/site-packages/keras/src/layers/core/dense.py:87: UserWarning: Do not pass an `input_shape`/`input_dim` argument to a layer. When using Sequential models, prefer using an `Input(shape)` object as the first layer in the model instead.\n",
      "  super().__init__(activity_regularizer=activity_regularizer, **kwargs)\n"
     ]
    }
   ],
   "source": [
    "feature_struct = [10000]\n",
    "\n",
    "model = nova.Model(feature_struct = feature_struct)"
   ]
  },
  {
   "cell_type": "code",
   "execution_count": 3,
   "id": "7841889a-11c2-4393-ac60-f6633430e280",
   "metadata": {},
   "outputs": [
    {
     "data": {
      "text/plain": [
       "<PerformerLayer name=performer_layer, built=True>"
      ]
     },
     "execution_count": 3,
     "metadata": {},
     "output_type": "execute_result"
    }
   ],
   "source": [
    "model.nerf.transformers[0].attention"
   ]
  },
  {
   "cell_type": "code",
   "execution_count": 4,
   "id": "f65bcce0-490a-4fec-b22a-518ddd911d19",
   "metadata": {},
   "outputs": [],
   "source": [
    "test = ['the world is an oyster', 'check']"
   ]
  },
  {
   "cell_type": "code",
   "execution_count": 5,
   "id": "5559b35f-270f-4085-8879-3e0648278f19",
   "metadata": {},
   "outputs": [
    {
     "name": "stdout",
     "output_type": "stream",
     "text": [
      "tokenizing...\n",
      "tagging...\n"
     ]
    },
    {
     "name": "stderr",
     "output_type": "stream",
     "text": [
      "/usr/local/lib/python3.11/site-packages/keras/src/layers/layer.py:393: UserWarning: `build()` was called on layer 'NERf', however the layer does not have a `build()` method implemented and it looks like it has unbuilt state. This will cause the layer to be marked as built, despite not being actually built, which may cause failures down the line. Make sure to implement a proper `build()` method.\n",
      "  warnings.warn(\n"
     ]
    },
    {
     "name": "stdout",
     "output_type": "stream",
     "text": [
      "generating...\n"
     ]
    },
    {
     "ename": "UnboundLocalError",
     "evalue": "Exception encountered when calling Model.call().\n\n\u001b[1mcannot access local variable 'mask' where it is not associated with a value\u001b[0m\n\nArguments received by Model.call():\n  • batch=tf.Tensor(shape=(2, 5), dtype=int32)\n  • mask=tf.Tensor(shape=(2, 10), dtype=float16)\n  • token_limit=12",
     "output_type": "error",
     "traceback": [
      "\u001b[0;31m---------------------------------------------------------------------------\u001b[0m",
      "\u001b[0;31mUnboundLocalError\u001b[0m                         Traceback (most recent call last)",
      "Cell \u001b[0;32mIn[5], line 1\u001b[0m\n\u001b[0;32m----> 1\u001b[0m \u001b[43mmodel\u001b[49m\u001b[38;5;241;43m.\u001b[39;49m\u001b[43mcall\u001b[49m\u001b[43m(\u001b[49m\u001b[43mtest\u001b[49m\u001b[43m,\u001b[49m\u001b[43m \u001b[49m\u001b[43mtoken_limit\u001b[49m\u001b[38;5;241;43m=\u001b[39;49m\u001b[38;5;241;43m12\u001b[39;49m\u001b[43m)\u001b[49m\n",
      "File \u001b[0;32m~/Desktop/nova/nova-py/src/nova_py/nova.py:50\u001b[0m, in \u001b[0;36mModel.call\u001b[0;34m(self, in_batch, token_limit)\u001b[0m\n\u001b[1;32m     48\u001b[0m nerf_pass \u001b[38;5;241m=\u001b[39m \u001b[38;5;28mself\u001b[39m\u001b[38;5;241m.\u001b[39mnerf(tokens, mask\u001b[38;5;241m=\u001b[39mmask)\n\u001b[1;32m     49\u001b[0m \u001b[38;5;28mprint\u001b[39m(\u001b[38;5;124m\"\u001b[39m\u001b[38;5;124mgenerating...\u001b[39m\u001b[38;5;124m\"\u001b[39m)\n\u001b[0;32m---> 50\u001b[0m parm_pass \u001b[38;5;241m=\u001b[39m \u001b[38;5;28;43mself\u001b[39;49m\u001b[38;5;241;43m.\u001b[39;49m\u001b[43mparm\u001b[49m\u001b[43m(\u001b[49m\u001b[43mnerf_pass\u001b[49m\u001b[43m,\u001b[49m\u001b[43m \u001b[49m\u001b[43mtoken_limit\u001b[49m\u001b[38;5;241;43m=\u001b[39;49m\u001b[43mtoken_limit\u001b[49m\u001b[43m,\u001b[49m\u001b[43m \u001b[49m\u001b[43mmask\u001b[49m\u001b[38;5;241;43m=\u001b[39;49m\u001b[43mmask\u001b[49m\u001b[43m)\u001b[49m\n\u001b[1;32m     51\u001b[0m \u001b[38;5;28;01mreturn\u001b[39;00m parm_pass\n",
      "File \u001b[0;32m/usr/local/lib/python3.11/site-packages/keras/src/utils/traceback_utils.py:122\u001b[0m, in \u001b[0;36mfilter_traceback.<locals>.error_handler\u001b[0;34m(*args, **kwargs)\u001b[0m\n\u001b[1;32m    119\u001b[0m     filtered_tb \u001b[38;5;241m=\u001b[39m _process_traceback_frames(e\u001b[38;5;241m.\u001b[39m__traceback__)\n\u001b[1;32m    120\u001b[0m     \u001b[38;5;66;03m# To get the full stack trace, call:\u001b[39;00m\n\u001b[1;32m    121\u001b[0m     \u001b[38;5;66;03m# `keras.config.disable_traceback_filtering()`\u001b[39;00m\n\u001b[0;32m--> 122\u001b[0m     \u001b[38;5;28;01mraise\u001b[39;00m e\u001b[38;5;241m.\u001b[39mwith_traceback(filtered_tb) \u001b[38;5;28;01mfrom\u001b[39;00m\u001b[38;5;250m \u001b[39m\u001b[38;5;28;01mNone\u001b[39;00m\n\u001b[1;32m    123\u001b[0m \u001b[38;5;28;01mfinally\u001b[39;00m:\n\u001b[1;32m    124\u001b[0m     \u001b[38;5;28;01mdel\u001b[39;00m filtered_tb\n",
      "File \u001b[0;32m~/Desktop/nova/nova-py/src/nova_py/PArMesan.py:130\u001b[0m, in \u001b[0;36mModel.call\u001b[0;34m(self, batch, mask, token_limit)\u001b[0m\n\u001b[1;32m    129\u001b[0m \u001b[38;5;28;01mdef\u001b[39;00m\u001b[38;5;250m \u001b[39m\u001b[38;5;21mcall\u001b[39m(\u001b[38;5;28mself\u001b[39m, batch, mask\u001b[38;5;241m=\u001b[39m\u001b[38;5;28;01mNone\u001b[39;00m, token_limit\u001b[38;5;241m=\u001b[39m\u001b[38;5;241m250\u001b[39m):\n\u001b[0;32m--> 130\u001b[0m     \u001b[38;5;28;01mreturn\u001b[39;00m \u001b[38;5;28;43mself\u001b[39;49m\u001b[38;5;241;43m.\u001b[39;49m\u001b[43mgenerate\u001b[49m\u001b[43m(\u001b[49m\u001b[43mbatch\u001b[49m\u001b[43m,\u001b[49m\u001b[43m \u001b[49m\u001b[43mmask\u001b[49m\u001b[38;5;241;43m=\u001b[39;49m\u001b[43mmask\u001b[49m\u001b[43m,\u001b[49m\u001b[43m \u001b[49m\u001b[43mtoken_limit\u001b[49m\u001b[38;5;241;43m=\u001b[39;49m\u001b[43mtoken_limit\u001b[49m\u001b[43m)\u001b[49m\n",
      "File \u001b[0;32m~/Desktop/nova/nova-py/src/nova_py/PArMesan.py:119\u001b[0m, in \u001b[0;36mModel.generate\u001b[0;34m(self, batch, mask, token_limit)\u001b[0m\n\u001b[1;32m    113\u001b[0m shape_invariants \u001b[38;5;241m=\u001b[39m [\n\u001b[1;32m    114\u001b[0m     tf\u001b[38;5;241m.\u001b[39mTensorShape([]),                    \u001b[38;5;66;03m# step: scalar\u001b[39;00m\n\u001b[1;32m    115\u001b[0m     tf\u001b[38;5;241m.\u001b[39mTensorShape([\u001b[38;5;28;01mNone\u001b[39;00m, \u001b[38;5;28;01mNone\u001b[39;00m]),          \u001b[38;5;66;03m# batch: shape (batch_size, seq_len) grows in axis=1\u001b[39;00m\n\u001b[1;32m    116\u001b[0m     tf\u001b[38;5;241m.\u001b[39mTensorShape(\u001b[38;5;28;01mNone\u001b[39;00m)                   \u001b[38;5;66;03m# output_array: TensorArray is always flexible\u001b[39;00m\n\u001b[1;32m    117\u001b[0m ]\n\u001b[1;32m    118\u001b[0m \u001b[38;5;66;03m# fancy loop\u001b[39;00m\n\u001b[0;32m--> 119\u001b[0m step, out_tokens, output_array \u001b[38;5;241m=\u001b[39m \u001b[43mtf\u001b[49m\u001b[38;5;241;43m.\u001b[39;49m\u001b[43mwhile_loop\u001b[49m\u001b[43m(\u001b[49m\n\u001b[1;32m    120\u001b[0m \u001b[43m    \u001b[49m\u001b[43mcond\u001b[49m\u001b[43m,\u001b[49m\n\u001b[1;32m    121\u001b[0m \u001b[43m    \u001b[49m\u001b[43mbody\u001b[49m\u001b[43m,\u001b[49m\n\u001b[1;32m    122\u001b[0m \u001b[43m    \u001b[49m\u001b[43mloop_vars\u001b[49m\u001b[43m \u001b[49m\u001b[38;5;241;43m=\u001b[39;49m\u001b[43m \u001b[49m\u001b[43m[\u001b[49m\u001b[43mstep\u001b[49m\u001b[43m,\u001b[49m\u001b[43m \u001b[49m\u001b[43mbatch\u001b[49m\u001b[43m,\u001b[49m\u001b[43m \u001b[49m\u001b[43moutput_array\u001b[49m\u001b[43m]\u001b[49m\u001b[43m,\u001b[49m\n\u001b[1;32m    123\u001b[0m \u001b[43m    \u001b[49m\u001b[43mshape_invariants\u001b[49m\u001b[43m \u001b[49m\u001b[38;5;241;43m=\u001b[39;49m\u001b[43m \u001b[49m\u001b[43mshape_invariants\u001b[49m\n\u001b[1;32m    124\u001b[0m \u001b[43m\u001b[49m\u001b[43m)\u001b[49m\n\u001b[1;32m    125\u001b[0m \u001b[38;5;66;03m# consume output\u001b[39;00m\n\u001b[1;32m    126\u001b[0m final_output \u001b[38;5;241m=\u001b[39m tf\u001b[38;5;241m.\u001b[39mtranspose(output_array\u001b[38;5;241m.\u001b[39mstack(), perm\u001b[38;5;241m=\u001b[39m[\u001b[38;5;241m1\u001b[39m,\u001b[38;5;241m0\u001b[39m])\n",
      "File \u001b[0;32m~/Desktop/nova/nova-py/src/nova_py/PArMesan.py:107\u001b[0m, in \u001b[0;36mModel.generate.<locals>.body\u001b[0;34m(step, tokens, output)\u001b[0m\n\u001b[1;32m    106\u001b[0m \u001b[38;5;28;01mdef\u001b[39;00m\u001b[38;5;250m \u001b[39m\u001b[38;5;21mbody\u001b[39m(step, tokens, output):\n\u001b[0;32m--> 107\u001b[0m     next_token \u001b[38;5;241m=\u001b[39m \u001b[38;5;28mself\u001b[39m\u001b[38;5;241m.\u001b[39m_forwardPass(tokens, mask\u001b[38;5;241m=\u001b[39m\u001b[43mmask\u001b[49m)\n\u001b[1;32m    108\u001b[0m     mask \u001b[38;5;241m=\u001b[39m tf\u001b[38;5;241m.\u001b[39mconcat([mask, tf\u001b[38;5;241m.\u001b[39mones((tf\u001b[38;5;241m.\u001b[39mshape(mask)[\u001b[38;5;241m0\u001b[39m], \u001b[38;5;241m1\u001b[39m), dtype\u001b[38;5;241m=\u001b[39mmask\u001b[38;5;241m.\u001b[39mdtype)], axis\u001b[38;5;241m=\u001b[39m\u001b[38;5;241m1\u001b[39m)\n\u001b[1;32m    109\u001b[0m     output \u001b[38;5;241m=\u001b[39m output\u001b[38;5;241m.\u001b[39mwrite(step, next_token)\n",
      "\u001b[0;31mUnboundLocalError\u001b[0m: Exception encountered when calling Model.call().\n\n\u001b[1mcannot access local variable 'mask' where it is not associated with a value\u001b[0m\n\nArguments received by Model.call():\n  • batch=tf.Tensor(shape=(2, 5), dtype=int32)\n  • mask=tf.Tensor(shape=(2, 10), dtype=float16)\n  • token_limit=12"
     ]
    }
   ],
   "source": [
    "model.call(test, token_limit=12)"
   ]
  },
  {
   "cell_type": "code",
   "execution_count": 8,
   "id": "3e9c2bfa-52a6-43b3-ba12-d4d93ca170b8",
   "metadata": {
    "scrolled": true
   },
   "outputs": [
    {
     "data": {
      "text/plain": [
       "{1: 'Module',\n",
       " 2: '(',\n",
       " 3: 'body',\n",
       " 4: '=',\n",
       " 5: '[',\n",
       " 6: 'ImportFrom',\n",
       " 7: 'module',\n",
       " 8: ',',\n",
       " 9: ' ',\n",
       " 10: 'names',\n",
       " 11: 'alias',\n",
       " 12: 'name',\n",
       " 13: ')',\n",
       " 14: ']',\n",
       " 15: 'level',\n",
       " 16: 'Import',\n",
       " 17: 'ClassDef',\n",
       " 18: 'bases',\n",
       " 19: 'Name',\n",
       " 20: 'id',\n",
       " 21: 'ctx',\n",
       " 22: 'Load',\n",
       " 23: 'keywords',\n",
       " 24: 'FunctionDef',\n",
       " 25: 'args',\n",
       " 26: 'arguments',\n",
       " 27: 'posonlyargs',\n",
       " 28: 'arg',\n",
       " 29: 'kwonlyargs',\n",
       " 30: 'kw_defaults',\n",
       " 31: 'defaults',\n",
       " 32: 'Expr',\n",
       " 33: 'value',\n",
       " 34: 'Call',\n",
       " 35: 'func',\n",
       " 36: 'Attribute',\n",
       " 37: 'Constant',\n",
       " 38: 'attr',\n",
       " 39: 'decorator_list',\n",
       " 40: 'While',\n",
       " 41: 'test',\n",
       " 42: 'True',\n",
       " 43: 'kind',\n",
       " 44: 'b',\n",
       " 45: 'keyword',\n",
       " 46: 'YieldFrom',\n",
       " 47: 'orelse',\n",
       " 48: 'If',\n",
       " 49: 'Compare',\n",
       " 50: 'left',\n",
       " 51: 'ops',\n",
       " 52: 'Eq',\n",
       " 53: 'comparators',\n",
       " 54: 'Assign',\n",
       " 55: 'targets',\n",
       " 56: 'Store',\n",
       " 57: 'False',\n",
       " 58: 'type_ignores',\n",
       " 59: 'vararg',\n",
       " 60: 'kwarg',\n",
       " 61: 'None',\n",
       " 62: 'IfExp',\n",
       " 63: 'Subscript',\n",
       " 64: 'slice',\n",
       " 65: 'Return',\n",
       " 66: 'AugAssign',\n",
       " 67: 'target',\n",
       " 68: 'op',\n",
       " 69: 'Add',\n",
       " 70: 'Tuple',\n",
       " 71: 'elts',\n",
       " 72: 'List',\n",
       " 73: 'IsNot',\n",
       " 74: 'ListComp',\n",
       " 75: 'elt',\n",
       " 76: 'generators',\n",
       " 77: 'comprehension',\n",
       " 78: 'iter',\n",
       " 79: 'ifs',\n",
       " 80: 'UnaryOp',\n",
       " 81: 'Not',\n",
       " 82: 'operand',\n",
       " 83: 'is_async',\n",
       " 84: 'NotIn',\n",
       " 85: 'For',\n",
       " 86: 'Assert',\n",
       " 87: 'msg',\n",
       " 88: 'BinOp',\n",
       " 89: 'Mod',\n",
       " 90: 'right',\n",
       " 91: 'In',\n",
       " 92: 'GeneratorExp',\n",
       " 93: 'asname',\n",
       " 94: 'Starred',\n",
       " 95: 'Raise',\n",
       " 96: 'exc',\n",
       " 97: 'Is',\n",
       " 98: 'Gt',\n",
       " 99: 'Slice',\n",
       " 100: 'upper',\n",
       " 101: 'Pow',\n",
       " 102: 'FloorDiv',\n",
       " 103: 'Lt',\n",
       " 104: 'Yield',\n",
       " 105: 'Pass',\n",
       " 106: 'Dict',\n",
       " 107: 'keys',\n",
       " 108: 'values',\n",
       " 109: 'BoolOp',\n",
       " 110: 'And',\n",
       " 111: 'Continue',\n",
       " 112: 'Try',\n",
       " 113: 'handlers',\n",
       " 114: 'ExceptHandler',\n",
       " 115: 'type',\n",
       " 116: 'finalbody',\n",
       " 117: 'Or',\n",
       " 118: 'Sub',\n",
       " 119: 'LtE',\n",
       " 120: 'lower',\n",
       " 121: 'GtE',\n",
       " 122: 'With',\n",
       " 123: 'items',\n",
       " 124: 'withitem',\n",
       " 125: 'context_expr',\n",
       " 126: 'Break',\n",
       " 127: 'NotEq',\n",
       " 128: 'optional_vars',\n",
       " 129: 'USub',\n",
       " 130: 'LShift',\n",
       " 131: 'Mult',\n",
       " 132: '.',\n",
       " 133: 'Div',\n",
       " 134: 'Lambda',\n",
       " 135: 'Delete',\n",
       " 136: 'Del',\n",
       " 137: 'DictComp',\n",
       " 138: 'key',\n",
       " 139: 'step',\n",
       " 140: 'JoinedStr',\n",
       " 141: 'FormattedValue',\n",
       " 142: 'conversion',\n",
       " 143: '-',\n",
       " 144: 'AsyncFunctionDef',\n",
       " 145: 'format_spec',\n",
       " 146: 'Global',\n",
       " 147: 'e',\n",
       " 148: 'Set',\n",
       " 149: 'Await',\n",
       " 150: 'annotation',\n",
       " 151: 'returns',\n",
       " 152: 'RShift',\n",
       " 153: 'BitOr',\n",
       " 154: 'cause',\n",
       " 155: 'BitAnd',\n",
       " 156: '+',\n",
       " 157: 'SetComp',\n",
       " 158: '#MEM',\n",
       " 159: \"'\",\n",
       " 160: '\"',\n",
       " 161: '#PAD'}"
      ]
     },
     "execution_count": 8,
     "metadata": {},
     "output_type": "execute_result"
    }
   ],
   "source": [
    "model.vocabulary.performer[\"out_tokens\"]"
   ]
  }
 ],
 "metadata": {
  "kernelspec": {
   "display_name": "Python 3 (ipykernel)",
   "language": "python",
   "name": "python3"
  },
  "language_info": {
   "codemirror_mode": {
    "name": "ipython",
    "version": 3
   },
   "file_extension": ".py",
   "mimetype": "text/x-python",
   "name": "python",
   "nbconvert_exporter": "python",
   "pygments_lexer": "ipython3",
   "version": "3.11.11"
  }
 },
 "nbformat": 4,
 "nbformat_minor": 5
}
