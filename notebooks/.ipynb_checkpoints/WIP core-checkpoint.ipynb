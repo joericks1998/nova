{
 "cells": [
  {
   "cell_type": "code",
   "execution_count": 1,
   "id": "37128b42-419d-42b2-ae6d-f4b7747d59c1",
   "metadata": {},
   "outputs": [
    {
     "name": "stderr",
     "output_type": "stream",
     "text": [
      "2025-04-19 15:42:06.123111: I tensorflow/core/platform/cpu_feature_guard.cc:210] This TensorFlow binary is optimized to use available CPU instructions in performance-critical operations.\n",
      "To enable the following instructions: AVX2 FMA, in other operations, rebuild TensorFlow with the appropriate compiler flags.\n"
     ]
    }
   ],
   "source": [
    "from nova_py import nova"
   ]
  },
  {
   "cell_type": "code",
   "execution_count": 2,
   "id": "98b08ca9-8864-4d02-a842-c1c588c27a2d",
   "metadata": {},
   "outputs": [
    {
     "name": "stderr",
     "output_type": "stream",
     "text": [
      "/usr/local/lib/python3.11/site-packages/keras/src/layers/core/dense.py:87: UserWarning: Do not pass an `input_shape`/`input_dim` argument to a layer. When using Sequential models, prefer using an `Input(shape)` object as the first layer in the model instead.\n",
      "  super().__init__(activity_regularizer=activity_regularizer, **kwargs)\n"
     ]
    }
   ],
   "source": [
    "model = nova.Model(feature_struct = [1000])"
   ]
  },
  {
   "cell_type": "code",
   "execution_count": 3,
   "id": "f65bcce0-490a-4fec-b22a-518ddd911d19",
   "metadata": {},
   "outputs": [],
   "source": [
    "test = 'the world is an oyster'"
   ]
  },
  {
   "cell_type": "code",
   "execution_count": null,
   "id": "5559b35f-270f-4085-8879-3e0648278f19",
   "metadata": {},
   "outputs": [],
   "source": [
    "model.call(test)"
   ]
  }
 ],
 "metadata": {
  "kernelspec": {
   "display_name": "Python 3 (ipykernel)",
   "language": "python",
   "name": "python3"
  },
  "language_info": {
   "codemirror_mode": {
    "name": "ipython",
    "version": 3
   },
   "file_extension": ".py",
   "mimetype": "text/x-python",
   "name": "python",
   "nbconvert_exporter": "python",
   "pygments_lexer": "ipython3",
   "version": "3.11.11"
  }
 },
 "nbformat": 4,
 "nbformat_minor": 5
}
