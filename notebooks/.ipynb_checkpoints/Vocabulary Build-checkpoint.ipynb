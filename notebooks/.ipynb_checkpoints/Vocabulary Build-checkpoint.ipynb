{
 "cells": [
  {
   "cell_type": "code",
   "execution_count": 4,
   "id": "6343a1e4-d3c3-41ff-ab91-7fca2eb975df",
   "metadata": {},
   "outputs": [],
   "source": [
    "import datasets\n",
    "import ast\n",
    "from nova_py import TACO\n",
    "import tensorflow as tf\n",
    "import re"
   ]
  },
  {
   "cell_type": "markdown",
   "id": "0f8b9385-eaac-4000-88ff-a46ecd6d3274",
   "metadata": {
    "jp-MarkdownHeadingCollapsed": true
   },
   "source": [
    "# Main"
   ]
  },
  {
   "cell_type": "code",
   "execution_count": 2,
   "id": "a0ee37c4-a38b-4187-8f60-0e4daa4b0e15",
   "metadata": {},
   "outputs": [
    {
     "data": {
      "application/vnd.jupyter.widget-view+json": {
       "model_id": "78c92e8ebdd64978a5c94faf100e9a32",
       "version_major": 2,
       "version_minor": 0
      },
      "text/plain": [
       "Resolving data files:   0%|          | 0/54 [00:00<?, ?it/s]"
      ]
     },
     "metadata": {},
     "output_type": "display_data"
    }
   ],
   "source": [
    "dataset_name = \"codeparrot/codeparrot-clean\"\n",
    "\n",
    "vocab_set = datasets.load_dataset(dataset_name, 'default', split='train', streaming=True)"
   ]
  },
  {
   "cell_type": "code",
   "execution_count": 3,
   "id": "0df1bbf6-1f91-44b0-804c-0e40ada8fdb6",
   "metadata": {},
   "outputs": [],
   "source": [
    "vocab_text = [i['content'] for i in vocab_set.take(5)]"
   ]
  },
  {
   "cell_type": "code",
   "execution_count": 4,
   "id": "db16b77c-2790-4202-8cb7-9bf5d3584030",
   "metadata": {},
   "outputs": [],
   "source": [
    "trees = [ast.dump(tree) for tree in map(ast.parse, vocab_text)]"
   ]
  },
  {
   "cell_type": "code",
   "execution_count": 5,
   "id": "0b51e65f-e8d3-4990-bc4f-ee27ed72e2bd",
   "metadata": {},
   "outputs": [],
   "source": [
    "tokens = TACO.inBatch(trees)"
   ]
  },
  {
   "cell_type": "code",
   "execution_count": 6,
   "id": "c9fd8b0e-d868-4038-894c-6990c7271846",
   "metadata": {},
   "outputs": [],
   "source": [
    "flat_tokens, _ = tf.unique(tf.reshape(tokens, [-1]))"
   ]
  },
  {
   "cell_type": "code",
   "execution_count": 7,
   "id": "68953911-9666-42d8-9734-2ff14313f823",
   "metadata": {},
   "outputs": [
    {
     "data": {
      "text/plain": [
       "<tf.Tensor: shape=(645,), dtype=string, numpy=\n",
       "array([b'Module', b'(', b'body', b'=', b'[', b'ImportFrom', b'module',\n",
       "       b\"'\", b'autobahn', b'.', b'asyncio', b'websocket', b',', b'names',\n",
       "       b'alias', b'name', b'WebSocketClientProtocol', b')',\n",
       "       b'WebSocketClientFactory', b']', b'level', b'0', b'Import',\n",
       "       b'ClassDef', b'MyClientProtocol', b'bases', b'Name', b'id', b'ctx',\n",
       "       b'Load', b'keywords', b'FunctionDef', b'onConnect', b'args',\n",
       "       b'arguments', b'posonlyargs', b'arg', b'self', b'response',\n",
       "       b'kwonlyargs', b'kw_defaults', b'defaults', b'Expr', b'value',\n",
       "       b'Call', b'func', b'print', b'Attribute', b'Constant',\n",
       "       b'Serverconnected', b':', b'{', b'}', b'attr', b'format', b'peer',\n",
       "       b'decorator_list', b'onOpen', b'WebSocketconnectionopen', b'While',\n",
       "       b'test', b'True', b'sendMessage', b'Hello', b'world', b'!',\n",
       "       b'kind', b'u', b'encode', b'utf8', b'b', b'\\\\', b'x00', b'x01',\n",
       "       b'x03', b'x04', b'keyword', b'isBinary', b'YieldFrom', b'sleep',\n",
       "       b'1', b'orelse', b'coroutine', b'onMessage', b'payload', b'If',\n",
       "       b'Binarymessagereceived', b'bytes', b'len', b'Textmessagereceived',\n",
       "       b'decode', b'onClose', b'wasClean', b'code', b'reason',\n",
       "       b'WebSocketconnectionclosed', b'Compare', b'left', b'__name__',\n",
       "       b'ops', b'Eq', b'comparators', b'__main__', b'Assign', b'targets',\n",
       "       b'factory', b'Store', b'ws', b'/', b'localhost', b'9000', b'debug',\n",
       "       b'False', b'protocol', b'loop', b'get_event_loop', b'coro',\n",
       "       b'create_connection', b'127', b'run_until_complete',\n",
       "       b'run_forever', b'close', b'type_ignores', b'<pad>', b'itertools',\n",
       "       b'chain', b'django', b'utils', b'itercompat', b'is_iterable',\n",
       "       b'Tags', b'Built', b'-', b'intagsforinternalchecks', b'admin',\n",
       "       b'caches', b'compatibility', b'database', b'models', b'security',\n",
       "       b'signals', b'templates', b'urls', b'CheckRegistry', b'__init__',\n",
       "       b'registered_checks', b'set', b'deployment_checks', b'register',\n",
       "       b'check', b'vararg', b'tags', b'kwarg', b'kwargs', b'None', b'\"',\n",
       "       b'Canbeusedasafunctionoradecorator', b'Registergivenfunction',\n",
       "       b'`', b'f', b'labeledwithgiven', b'Thefunctionshouldreceive', b'*',\n",
       "       b'kwargsandreturnlistofErrorsandWarnings', b'Example', b'registry',\n",
       "       b'@', b'mytag', b'anothertag', b'defmy_check', b'apps', b'#',\n",
       "       b'performchecksandcollect', b'errors', b'returnerrors',\n",
       "       b'orregistry', b'my_check', b'setdefault', b'deploy', b'inner',\n",
       "       b'checks', b'IfExp', b'Subscript', b'slice', b'add', b'Return',\n",
       "       b'callable', b'AugAssign', b'target', b'op', b'Add', b'Tuple',\n",
       "       b'elts', b'run_checks', b'app_configs',\n",
       "       b'include_deployment_checks',\n",
       "       b'RunallregisteredchecksandreturnlistofErrorsandWarnings', b'List',\n",
       "       b'get_checks', b'IsNot', b'ListComp', b'elt', b'generators',\n",
       "       b'comprehension', b'iter', b'ifs', b'UnaryOp', b'Not', b'operand',\n",
       "       b'isdisjoint', b'is_async', b'NotIn', b'For', b'new_errors',\n",
       "       b'Assert', b'msg', b'BinOp', b'Thefunction', b'%',\n",
       "       b'rdidnotreturnalist',\n",
       "       b'Allfunctionsregisteredwiththechecksregistrymustreturnalist',\n",
       "       b'Mod', b'right', b'extend', b'tag_exists', b'tag', b'In',\n",
       "       b'tags_available', b'from_iterable', b'GeneratorExp', b'list',\n",
       "       b'The', b'mod', b'sklearn', b'moduleincludesvariousutilites',\n",
       "       b'collections', b'Sequence', b'numpy', b'asname', b'np', b'scipy',\n",
       "       b'sparse', b'issparse', b'warnings', b'murmurhash',\n",
       "       b'murmurhash3_32', b'validation', b'as_float_array',\n",
       "       b'check_arrays', b'safe_asarray', b'assert_all_finite', b'array2d',\n",
       "       b'atleast2d_or_csc', b'atleast2d_or_csr', b'warn_if_not_float',\n",
       "       b'check_random_state', b'class_weight', b'compute_class_weight',\n",
       "       b'__all__', b'simplefilter', b'always', b'DeprecationWarning',\n",
       "       b'deprecated', b'object',\n",
       "       b'Decoratortomarkafunctionorclassasdeprecated',\n",
       "       b'Issueawarningwhenthefunctioniscalled',\n",
       "       b'theclassisinstantiatedandaddsawarningtothedocstring',\n",
       "       b'Theoptionalextraargumentwillbeappendedtothedeprecationmessageandthedocstring',\n",
       "       b'Note', b'tousethiswiththedefaultvalueforextra',\n",
       "       b'putinanemptyofparentheses', b'>', b'fromsklearn',\n",
       "       b'utilsimportdeprecated', b'doctest', b'+', b'ELLIPSIS', b'<',\n",
       "       b'deprecatedobjectat', b'defsome_function', b'pass', b'extra',\n",
       "       b'Parameters', b'stringtobeaddedtothedeprecationmessages',\n",
       "       b'__call__', b'obj', b'isinstance', b'type', b'_decorate_class',\n",
       "       b'_decorate_fun', b'cls', b'Class', b'sisdeprecated', b';', b's',\n",
       "       b'init', b'wrapped', b'warn', b'category', b'Starred', b'__doc__',\n",
       "       b'_update_doc', b'deprecated_original', b'fun',\n",
       "       b'Decoratefunctionfun', b'Function', b'__dict__', b'olddoc',\n",
       "       b'newdoc', b'DEPRECATED', b'safe_mask', b'X', b'mask',\n",
       "       b'ReturnamaskwhichissafetouseonX', b'array', b'like',\n",
       "       b'sparsematrix', b'Dataonwhichtoapplymask',\n",
       "       b'arrayMasktobeusedonX', b'Returns', b'asanyarray', b'issubdtype',\n",
       "       b'dtype', b'int', b'hasattr', b'toarray', b'ind', b'arange',\n",
       "       b'shape', b'resample', b'arrays', b'options',\n",
       "       b'ResamplearraysorsparsematricesinaconsistentwayThedefaultstrategyimplementsonestepofthebootstrappingprocedure',\n",
       "       b'sequenceofarraysorscipy', b'sparsematriceswithsameshape',\n",
       "       b'replace', b'boolean',\n",
       "       b'TruebydefaultImplementsresamplingwithreplacement', b'IfFalse',\n",
       "       b'thiswillimplement', b'sliced', b'randompermutations',\n",
       "       b'n_samples', b'NonebydefaultNumberofsamplestogenerate',\n",
       "       b'IflefttoNonethisisautomaticallysettothefirstdimensionofthearrays',\n",
       "       b'random_state',\n",
       "       b'intorRandomStateinstanceControltheshufflingforreproduciblebehavior',\n",
       "       b'Sequenceofresampledviewsofthecollections',\n",
       "       b'Theoriginalarraysarenotimpacted', b'Examples',\n",
       "       b'Itispossibletomixsparseanddensearraysinthesamerun', b'2', b'y',\n",
       "       b'fromscipy', b'sparseimportcoo_matrix', b'X_sparse',\n",
       "       b'coo_matrix', b'utilsimportresample', b'Xarray',\n",
       "       b'NORMALIZE_WHITESPACE', b'3x2sparsematrixoftype', b'float64',\n",
       "       b'with4storedelementsinCompressedSparseRowformat', b'yarray',\n",
       "       b'Seealso', b'class', b'cross_validation', b'Bootstrap',\n",
       "       b'shuffle', b'pop', b'max_n_samples', b'Raise', b'exc',\n",
       "       b'ValueError', b'Unexpectedkwarguments', b'r', b'keys', b'first',\n",
       "       b'Is', b'Gt', b'Cannotsample', b'doutofarrayswithdim', b'd',\n",
       "       b'sparse_format', b'csr', b'indices', b'randint', b'size',\n",
       "       b'Slice', b'upper', b'resampled_arrays', b'append',\n",
       "       b'ShufflearraysorsparsematricesinaconsistentwayThisisaconveniencealiasto',\n",
       "       b'todorandompermutationsofthecollections',\n",
       "       b'Sequenceofshuffledviewsofthecollections', b'utilsimportshuffle',\n",
       "       b'with3storedelementsinCompressedSparseRowformat', b'safe_sqr',\n",
       "       b'copy', b'Elementwisesquaringofarray', b'likesandsparsematrices',\n",
       "       b'arraylike', b'matrix', b'sparsematrixReturns',\n",
       "       b'elementwisesquare', b'data', b'Pow', b'gen_even_slices', b'n',\n",
       "       b'n_packs', b'Generatortocreaten_packsslicesgoingupton',\n",
       "       b'utilsimportgen_even_slices', b'10', b'9', b'5', b'4', b'8', b'3',\n",
       "       b'7', b'start', b'pack_num', b'range', b'this_n', b'FloorDiv',\n",
       "       b'Lt', b'end', b'Yield', b'tosequence', b'x',\n",
       "       b'CastiterablextoaSequence', b'avoidingacopyifpossible',\n",
       "       b'ndarray', b'asarray', b'ConvergenceWarning', b'Warning',\n",
       "       b'Customwarningtocaptureconvergenceproblems',\n",
       "       b'PythonCharacterMappingCodeccp1250generatedfrom', b'MAPPINGS',\n",
       "       b'VENDORS', b'MICSFT', b'WINDOWS', b'CP1250', b'TXT',\n",
       "       b'withgencodec', b'py', b'codecs', b'Codec', b'input', b'strict',\n",
       "       b'charmap_encode', b'encoding_table', b'charmap_decode',\n",
       "       b'decoding_table', b'IncrementalEncoder', b'final',\n",
       "       b'IncrementalDecoder', b'StreamWriter', b'Pass', b'StreamReader',\n",
       "       b'getregentry', b'CodecInfo', b'cp1250', b'incrementalencoder',\n",
       "       b'incrementaldecoder', b'streamreader', b'streamwriter', b'x02',\n",
       "       b'x05', b'x06', b'x07', b'x08', b't', b'x0b', b'x0c', b'x0e',\n",
       "       b'x0f', b'x10', b'x11', b'x12', b'x13', b'x14', b'x15', b'x16',\n",
       "       b'x17', b'x18', b'x19', b'x1a', b'x1b', b'x1c', b'x1d', b'x1e',\n",
       "       b'x1f', b'$', b'&', b'0123456789', b'?',\n",
       "       b'ABCDEFGHIJKLMNOPQRSTUVWXYZ', b'^', b'_',\n",
       "       b'abcdefghijklmnopqrstuvwxyz', b'|', b'~', b'x7f', b'\\xe2\\x82\\xac',\n",
       "       b'ufffe', b'\\xe2\\x80\\x9a', b'\\xe2\\x80\\x9e', b'\\xe2\\x80\\xa6',\n",
       "       b'\\xe2\\x80\\xa0', b'\\xe2\\x80\\xa1', b'\\xe2\\x80\\xb0', b'\\xc5\\xa0',\n",
       "       b'\\xe2\\x80\\xb9', b'\\xc5\\x9a\\xc5\\xa4\\xc5\\xbd\\xc5\\xb9',\n",
       "       b'\\xe2\\x80\\x98', b'\\xe2\\x80\\x99', b'\\xe2\\x80\\x9c', b'\\xe2\\x80\\x9d',\n",
       "       b'\\xe2\\x80\\xa2', b'\\xe2\\x80\\x93', b'\\xe2\\x80\\x94', b'\\xe2\\x84\\xa2',\n",
       "       b'\\xc5\\xa1', b'\\xe2\\x80\\xba', b'\\xc5\\x9b\\xc5\\xa5\\xc5\\xbe\\xc5\\xba',\n",
       "       b'xa0\\xcb\\x87', b'\\xcb\\x98', b'\\xc5\\x81', b'\\xc2\\xa4', b'\\xc4\\x84',\n",
       "       b'\\xc2\\xa6', b'\\xc2\\xa7', b'\\xc2\\xa8', b'\\xc2\\xa9', b'\\xc5\\x9e',\n",
       "       b'\\xc2\\xab', b'\\xc2\\xac', b'xad', b'\\xc2\\xae', b'\\xc5\\xbb',\n",
       "       b'\\xc2\\xb0', b'\\xc2\\xb1', b'\\xcb\\x9b', b'\\xc5\\x82', b'\\xc2\\xb4',\n",
       "       b'\\xc2\\xb5', b'\\xc2\\xb6', b'\\xc2\\xb7', b'\\xc2\\xb8',\n",
       "       b'\\xc4\\x85\\xc5\\x9f', b'\\xc2\\xbb', b'\\xc4\\xbd', b'\\xcb\\x9d',\n",
       "       b'\\xc4\\xbe\\xc5\\xbc\\xc5\\x94\\xc3\\x81\\xc3\\x82\\xc4\\x82\\xc3\\x84\\xc4\\xb9\\xc4\\x86\\xc3\\x87\\xc4\\x8c\\xc3\\x89\\xc4\\x98\\xc3\\x8b\\xc4\\x9a\\xc3\\x8d\\xc3\\x8e\\xc4\\x8e\\xc4\\x90\\xc5\\x83\\xc5\\x87\\xc3\\x93\\xc3\\x94\\xc5\\x90\\xc3\\x96',\n",
       "       b'\\xc3\\x97',\n",
       "       b'\\xc5\\x98\\xc5\\xae\\xc3\\x9a\\xc5\\xb0\\xc3\\x9c\\xc3\\x9d\\xc5\\xa2\\xc3\\x9f\\xc5\\x95\\xc3\\xa1\\xc3\\xa2\\xc4\\x83\\xc3\\xa4\\xc4\\xba\\xc4\\x87\\xc3\\xa7\\xc4\\x8d\\xc3\\xa9\\xc4\\x99\\xc3\\xab\\xc4\\x9b\\xc3\\xad\\xc3\\xae\\xc4\\x8f\\xc4\\x91\\xc5\\x84\\xc5\\x88\\xc3\\xb3\\xc3\\xb4\\xc5\\x91\\xc3\\xb6',\n",
       "       b'\\xc3\\xb7',\n",
       "       b'\\xc5\\x99\\xc5\\xaf\\xc3\\xba\\xc5\\xb1\\xc3\\xbc\\xc3\\xbd\\xc5\\xa3',\n",
       "       b'\\xcb\\x99', b'charmap_build', b'__future__', b'absolute_import',\n",
       "       b'division', b'print_function', b'__metaclass__',\n",
       "       b'ANSIBLE_METADATA', b'Dict', b'metadata_version', b'status',\n",
       "       b'supported_by', b'values', b'preview', b'community',\n",
       "       b'DOCUMENTATION', b'kernel_blacklistauthor',\n",
       "       b'MatthiasVogelgesang', b'matze', b'version_added',\n",
       "       b'short_description', b'Blacklistkernelmodulesdescription',\n",
       "       b'Addorremovekernelmodulesfromblacklist', b'description',\n",
       "       b'Nameofkernelmoduletoblack', b'orwhitelist', b'required',\n",
       "       b'truestate',\n",
       "       b'Whetherthemoduleshouldbepresentintheblacklistorabsent',\n",
       "       b'choices', b'absent', b'present', b'default',\n",
       "       b'presentblacklist_file', b'Ifspecified',\n",
       "       b'usethisblacklistfileinsteadofC', b'etc', b'modprobe',\n",
       "       b'blacklist', b'ansible', b'conf', b'EXAMPLES',\n",
       "       b'Blacklistthenouveaudrivermodulekernel_blacklist',\n",
       "       b'nouveaustate', b'os', b're', b'module_utils', b'basic',\n",
       "       b'AnsibleModule', b'Blacklist', b'filename', b'checkmode',\n",
       "       b'create_file', b'BoolOp', b'And', b'path', b'exists', b'open',\n",
       "       b'a', b'devnull', b'get_pattern', b'readlines', b'lines',\n",
       "       b'module_listed', b'pattern', b'line', b'stripped', b'strip',\n",
       "       b'startswith', b'Continue', b'match', b'remove_module', b'w',\n",
       "       b'write', b'add_module', b'main', b'argument_spec', b'dict',\n",
       "       b'str', b'state', b'blacklist_file', b'supports_check_mode',\n",
       "       b'changed', b'failed', b'params', b'check_mode', b'exit_json'],\n",
       "      dtype=object)>"
      ]
     },
     "execution_count": 7,
     "metadata": {},
     "output_type": "execute_result"
    }
   ],
   "source": [
    "flat_tokens"
   ]
  },
  {
   "cell_type": "markdown",
   "id": "b520ebd1-d2db-4523-81ff-6952f0221be0",
   "metadata": {},
   "source": [
    "# Regex Testing"
   ]
  },
  {
   "cell_type": "code",
   "execution_count": 179,
   "id": "f2ae14b6-3967-4ba9-a827-b474b5cb6c01",
   "metadata": {},
   "outputs": [],
   "source": [
    "def word_split(string):\n",
    "    if string == \"\":\n",
    "        return\n",
    "    spce_reduced_string = re.sub(r'\\s+|\\\\n','', string)\n",
    "    quote_match = r'\"[^\"]*\"|[^\"\\s]+'\n",
    "    splits = re.findall(quote_match, spce_reduced_string)\n",
    "    custom_match = r'\\w+|[^\\w\\s]'\n",
    "    quote_split = ''\n",
    "    tokens = []\n",
    "    for i in splits:\n",
    "        if \"\\\"\" in i:\n",
    "            tokens.append(re.split(quote_split, i))\n",
    "        else:\n",
    "            arr = re.findall(custom_match, i)\n",
    "            tokens += arr\n",
    "    return tokens"
   ]
  },
  {
   "cell_type": "code",
   "execution_count": 180,
   "id": "0009d138-4b17-4f3f-8f4a-82d46fd907fb",
   "metadata": {},
   "outputs": [],
   "source": [
    "test = \"hello =\\\"world!\\\"\""
   ]
  },
  {
   "cell_type": "code",
   "execution_count": 181,
   "id": "f8c3fcd9-5806-4bba-9490-a4ec05c6baa6",
   "metadata": {},
   "outputs": [
    {
     "data": {
      "text/plain": [
       "['hello', '=', '\"world!\"']"
      ]
     },
     "execution_count": 181,
     "metadata": {},
     "output_type": "execute_result"
    }
   ],
   "source": [
    "word_split(test)"
   ]
  },
  {
   "cell_type": "code",
   "execution_count": null,
   "id": "04325a7e-cd93-4d11-93b2-8e73b593736c",
   "metadata": {},
   "outputs": [],
   "source": []
  }
 ],
 "metadata": {
  "kernelspec": {
   "display_name": "Python 3 (ipykernel)",
   "language": "python",
   "name": "python3"
  },
  "language_info": {
   "codemirror_mode": {
    "name": "ipython",
    "version": 3
   },
   "file_extension": ".py",
   "mimetype": "text/x-python",
   "name": "python",
   "nbconvert_exporter": "python",
   "pygments_lexer": "ipython3",
   "version": "3.11.11"
  }
 },
 "nbformat": 4,
 "nbformat_minor": 5
}
