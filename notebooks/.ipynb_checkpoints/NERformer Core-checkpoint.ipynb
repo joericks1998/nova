{
 "cells": [
  {
   "cell_type": "code",
   "execution_count": 1,
   "id": "d9f335ee-33b3-491c-8c02-19c4eec3fbcf",
   "metadata": {},
   "outputs": [
    {
     "name": "stderr",
     "output_type": "stream",
     "text": [
      "2025-03-29 15:45:57.739849: I tensorflow/core/platform/cpu_feature_guard.cc:210] This TensorFlow binary is optimized to use available CPU instructions in performance-critical operations.\n",
      "To enable the following instructions: AVX2 FMA, in other operations, rebuild TensorFlow with the appropriate compiler flags.\n"
     ]
    }
   ],
   "source": [
    "from nova_py import TACO, NERformer"
   ]
  },
  {
   "cell_type": "code",
   "execution_count": 2,
   "id": "54c665bc-9d39-4c72-b2b3-480cf5bf4b0a",
   "metadata": {},
   "outputs": [],
   "source": [
    "code_str = ''' \n",
    "class AST:\n",
    "    def __init__(self):\n",
    "        pass\n",
    "\n",
    "def hello_world(test):\n",
    "    return test\n",
    "'''"
   ]
  },
  {
   "cell_type": "code",
   "execution_count": 3,
   "id": "c904e03b-0846-4200-aa1e-ff2b3b5652ea",
   "metadata": {},
   "outputs": [],
   "source": [
    "tokens = TACO.batch([code_str])"
   ]
  },
  {
   "cell_type": "code",
   "execution_count": 4,
   "id": "5d121908-63fa-4fae-a7fa-0f89841804b1",
   "metadata": {},
   "outputs": [],
   "source": [
    "parameters = {\n",
    "    \"d_model\": 512,\n",
    "    \"num_transformers\": 16,\n",
    "    \"num_features\": 64,\n",
    "    \"num_groups\": 2,\n",
    "    \"vocabulary_size\": 10100,\n",
    "    \"layerdrop\": 0.2,\n",
    "    \"num_heads\": 8,\n",
    "    \"dF\": 4,\n",
    "    \"dropout_rate\": 0.2,\n",
    "    \"temperature\": 1\n",
    "}"
   ]
  },
  {
   "cell_type": "code",
   "execution_count": 5,
   "id": "aebbfb04-1efd-4694-9132-8aaaff50b9a5",
   "metadata": {},
   "outputs": [],
   "source": [
    "nerf = NERformer.Model(**parameters)"
   ]
  },
  {
   "cell_type": "code",
   "execution_count": 17,
   "id": "d1c6cc28-9b5f-40b5-8c8f-3d3c81f4b12c",
   "metadata": {},
   "outputs": [
    {
     "name": "stdout",
     "output_type": "stream",
     "text": [
      "[array([40,  2], dtype=int32), array([45,  2], dtype=int32), array([21,  2], dtype=int32), array([20,  1], dtype=int32), array([11,  1], dtype=int32), array([59,  2], dtype=int32), array([16,  2], dtype=int32), array([44,  2], dtype=int32), array([8, 1], dtype=int32), array([17,  1], dtype=int32), array([9, 2], dtype=int32), array([59,  1], dtype=int32), array([43,  1], dtype=int32), array([39,  2], dtype=int32), array([5, 1], dtype=int32), array([29,  2], dtype=int32), array([22,  1], dtype=int32), array([23,  2], dtype=int32)]\n"
     ]
    },
    {
     "data": {
      "text/plain": [
       "(<tf.Tensor: shape=(18, 2), dtype=int32, numpy=\n",
       " array([[40,  2],\n",
       "        [45,  2],\n",
       "        [21,  2],\n",
       "        [20,  1],\n",
       "        [11,  1],\n",
       "        [59,  2],\n",
       "        [16,  2],\n",
       "        [44,  2],\n",
       "        [ 8,  1],\n",
       "        [17,  1],\n",
       "        [ 9,  2],\n",
       "        [59,  1],\n",
       "        [43,  1],\n",
       "        [39,  2],\n",
       "        [ 5,  1],\n",
       "        [29,  2],\n",
       "        [22,  1],\n",
       "        [23,  2]], dtype=int32)>,\n",
       " [[[1321, 1128, 28],\n",
       "   [3754, 55],\n",
       "   [77],\n",
       "   [1414, 15],\n",
       "   [8988, 1923, 1929, 8988],\n",
       "   [69],\n",
       "   [2914, 2215],\n",
       "   [70],\n",
       "   [77],\n",
       "   [2610, 2928],\n",
       "   [1414, 15],\n",
       "   [1814, 2221, 2588, 3324, 2821, 13],\n",
       "   [69],\n",
       "   [3014, 2929],\n",
       "   [70],\n",
       "   [77],\n",
       "   [2814, 3030, 2823],\n",
       "   [3014, 2929]]])"
      ]
     },
     "execution_count": 17,
     "metadata": {},
     "output_type": "execute_result"
    }
   ],
   "source": [
    "outputs = nerf.tag(tokens)"
   ]
  },
  {
   "cell_type": "code",
   "execution_count": 7,
   "id": "b7c5330b-aa57-4288-8cc8-c40fcd53096b",
   "metadata": {},
   "outputs": [
    {
     "data": {
      "text/plain": [
       "<tf.Tensor: shape=(1, 18), dtype=int32, numpy=\n",
       "array([[3, 2, 1, 2, 4, 1, 2, 1, 1, 2, 2, 6, 1, 2, 1, 1, 3, 2]],\n",
       "      dtype=int32)>"
      ]
     },
     "execution_count": 7,
     "metadata": {},
     "output_type": "execute_result"
    }
   ],
   "source": [
    "tokens[1]"
   ]
  },
  {
   "cell_type": "code",
   "execution_count": 8,
   "id": "81dc9651-b61e-4606-8c79-3ba0f21d4bc6",
   "metadata": {},
   "outputs": [
    {
     "name": "stdout",
     "output_type": "stream",
     "text": [
      "(1, 37)\n"
     ]
    }
   ],
   "source": [
    "print(tokens[0].shape)"
   ]
  }
 ],
 "metadata": {
  "kernelspec": {
   "display_name": "Python 3 (ipykernel)",
   "language": "python",
   "name": "python3"
  },
  "language_info": {
   "codemirror_mode": {
    "name": "ipython",
    "version": 3
   },
   "file_extension": ".py",
   "mimetype": "text/x-python",
   "name": "python",
   "nbconvert_exporter": "python",
   "pygments_lexer": "ipython3",
   "version": "3.11.11"
  }
 },
 "nbformat": 4,
 "nbformat_minor": 5
}
