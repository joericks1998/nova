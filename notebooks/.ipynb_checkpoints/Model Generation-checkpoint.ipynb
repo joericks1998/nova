{
 "cells": [
  {
   "cell_type": "code",
   "execution_count": 1,
   "id": "c3447791-2d40-41c5-85c4-8225e0f21810",
   "metadata": {},
   "outputs": [
    {
     "ename": "SyntaxError",
     "evalue": "non-default argument follows default argument (nova.py, line 59)",
     "output_type": "error",
     "traceback": [
      "Traceback \u001b[0;36m(most recent call last)\u001b[0m:\n",
      "\u001b[0m  File \u001b[1;32m/usr/local/lib/python3.11/site-packages/IPython/core/interactiveshell.py:3577\u001b[0m in \u001b[1;35mrun_code\u001b[0m\n    exec(code_obj, self.user_global_ns, self.user_ns)\u001b[0m\n",
      "\u001b[0;36m  Cell \u001b[0;32mIn[1], line 1\u001b[0;36m\n\u001b[0;31m    from nova_py import nova\u001b[0;36m\n",
      "\u001b[0;36m  File \u001b[0;32m~/Desktop/nova/nova-py/src/nova_py/nova.py:59\u001b[0;36m\u001b[0m\n\u001b[0;31m    def generate_regres(self, batch, token_limit = 250, clean=True, prettyprint):\u001b[0m\n\u001b[0m                                                                    ^\u001b[0m\n\u001b[0;31mSyntaxError\u001b[0m\u001b[0;31m:\u001b[0m non-default argument follows default argument\n"
     ]
    }
   ],
   "source": [
    "from nova_py import nova\n",
    "import tensorflow as tf\n",
    "import numpy as np"
   ]
  },
  {
   "cell_type": "code",
   "execution_count": null,
   "id": "2ea78ae4-5271-4380-9e99-1625cb55c877",
   "metadata": {},
   "outputs": [],
   "source": [
    "np.random.random()"
   ]
  },
  {
   "cell_type": "code",
   "execution_count": 3,
   "id": "c07b1399-5646-4344-b7ff-3ecdbd7482e2",
   "metadata": {},
   "outputs": [],
   "source": [
    "model = nova.Model()"
   ]
  },
  {
   "cell_type": "code",
   "execution_count": 4,
   "id": "9bd7f478-6270-48d9-9c8d-59195281f628",
   "metadata": {},
   "outputs": [
    {
     "name": "stdout",
     "output_type": "stream",
     "text": [
      "[[b'/']][[b'%float']][[b'&']][[b'--']][[b'while']][[b'->']][[b'_Static_assert']][[b'volatile']][[b'struct']][[b'}']][[b'while']][[b'&&']][[b'_Bool']][[b'_Generic']][[b'static']][[b'|']][[b'/']][[b'<']][[b'%']][[b'register']][[b'>']][[b'']][[b'*']][[b'-']][[b'&&']][[b'#else']][[b'enum']][[b'break']][[b'while']][[b'--']][[b'>']][[b'void']][[b'sizeof']][[b'auto']][[b'!=']][[b'switch']][[b'register']][[b'void']][[b'_Generic']][[b'_Bool']][[b'short']][[b'%class']][[b'<']][[b'|']][[b'break']][[b'|']][[b'%string']][[b'typedef']][[b'&&']][[b'signed']][[b'unsigned']][[b',']][[b'->']][[b'--']][[b'%class']][[b'<=']][[b'?:']][[b'>']][[b'do']][[b'~']][[b'%class']][[b'restrict']][[b'#include']][[b'#else']][[b'#endif']][[b'volatile']][[b'*']][[b'static']][[b'for']][[b'short']][[b'unsigned']][[b',']][[b'_Atomic']][[b'++']][[b'+']][[b'{']][[b'!']][[b'auto']][[b'void']][[b'%class']][[b'register']][[b'++']][[b'%int']][[b'']][[b'%int']][[b'case']][[b'double']][[b'%']][[b'_Generic']][[b'%float']][[b'default']][[b'%class']][[b'static']][[b'for']][[b'goto']][[b'while']][[b'/']][[b'']][[b'typedef']][[b'_Thread_local']][[b'unsigned']][[b'do']][[b'>']][[b'--']][[b'double']][[b'<']][[b'unsigned']][[b'for']][[b'for']][[b'volatile']][[b'static']][[b'while']][[b'?:']][[b'/']][[b'return']][[b'%class']][[b'%func']][[b'{}']][[b'inline']][[b'enum']][[b'|']][[b'?:']][[b'--']][[b'while']][[b'while']][[b'void']][[b',']][[b',']][[b'while']][[b',']][[b'if']][[b'signed']][[b'enum']][[b'<pad>']][[b'.']][[b'_Generic']][[b'%int']][[b'break']][[b'_Alignof']][[b'#if']][[b'float']][[b'case']][[b'while']][[b'while']][[b'<']][[b'while']][[b'typedef']][[b'_Alignas']][[b'>']][[b'||']][[b'union']][[b'union']][[b'++']][[b'-']][[b'>']][[b'+']][[b'return']][[b'while']][[b'default']][[b'.']][[b'sizeof']][[b'_Static_assert']][[b'}']][[b'float']][[b'static']][[b'case']][[b'#else']][[b'#endif']][[b'signed']][[b'while']][[b'<stop>']][[b'--']][[b'sizeof']][[b'%string']][[b'-']][[b'.']][[b'typedef']][[b'~']][[b'int']][[b'*']][[b'--']][[b'%float']][[b'_Alignas']][[b'~']][[b'double']][[b'continue']][[b'<<']][[b'>']][[b'<pad>']][[b'_Complex']][[b'float']][[b'break']][[b'||']][[b'while']][[b'--']][[b'#endif']][[b'for']][[b'#endif']][[b'auto']][[b'<']][[b'-']][[b'goto']][[b'else']][[b'<stop>']][[b'static']][[b'/']][[b'_Generic']][[b'_Alignas']][[b'for']][[b'for']][[b'<']][[b'|']][[b'unsigned']][[b'&&']][[b'~']][[b'||']][[b'char']][[b'auto']][[b'inline']][[b'int']][[b'default']][[b'sizeof']][[b'volatile']][[b'_Alignas']][[b'volatile']][[b'%string']][[b'>>']][[b'{']][[b'register']][[b'enum']][[b'*']][[b'default']][[b'.']][[b'-']][[b'%float']][[b'&']][[b'!=']][[b'break']][[b'inline']][[b'_Thread_local']][[b'']][[b'||']][[b'#endif']][[b'-']][[b'const']][[b'switch']][[b'-']][[b'goto']][[b'#else']][[b'_Alignof']][[b'~var~' b'=' b'\"' b'~value~' b'\"' b'/' b'%float' b'&' b'--' b'while'\n",
      "  b'->' b'_Static_assert' b'volatile' b'struct' b'}' b'while' b'&&'\n",
      "  b'_Bool' b'_Generic' b'static' b'|' b'/' b'<' b'%' b'register' b'>' b''\n",
      "  b'*' b'-' b'&&' b'#else' b'enum' b'break' b'while' b'--' b'>' b'void'\n",
      "  b'sizeof' b'auto' b'!=' b'switch' b'register' b'void' b'_Generic'\n",
      "  b'_Bool' b'short' b'%class' b'<' b'|' b'break' b'|' b'%string'\n",
      "  b'typedef' b'&&' b'signed' b'unsigned' b',' b'->' b'--' b'%class' b'<='\n",
      "  b'?:' b'>' b'do' b'~' b'%class' b'restrict' b'#include' b'#else'\n",
      "  b'#endif' b'volatile' b'*' b'static' b'for' b'short' b'unsigned' b','\n",
      "  b'_Atomic' b'++' b'+' b'{' b'!' b'auto' b'void' b'%class' b'register'\n",
      "  b'++' b'%int' b'' b'%int' b'case' b'double' b'%' b'_Generic' b'%float'\n",
      "  b'default' b'%class' b'static' b'for' b'goto' b'while' b'/' b''\n",
      "  b'typedef' b'_Thread_local' b'unsigned' b'do' b'>' b'--' b'double' b'<'\n",
      "  b'unsigned' b'for' b'for' b'volatile' b'static' b'while' b'?:' b'/'\n",
      "  b'return' b'%class' b'%func' b'{}' b'inline' b'enum' b'|' b'?:' b'--'\n",
      "  b'while' b'while' b'void' b',' b',' b'while' b',' b'if' b'signed'\n",
      "  b'enum' b'<pad>' b'.' b'_Generic' b'%int' b'break' b'_Alignof' b'#if'\n",
      "  b'float' b'case' b'while' b'while' b'<' b'while' b'typedef' b'_Alignas'\n",
      "  b'>' b'||' b'union' b'union' b'++' b'-' b'>' b'+' b'return' b'while'\n",
      "  b'default' b'.' b'sizeof' b'_Static_assert' b'}' b'float' b'static'\n",
      "  b'case' b'#else' b'#endif' b'signed' b'while' b'<stop>' b'--' b'sizeof'\n",
      "  b'%string' b'-' b'.' b'typedef' b'~' b'int' b'*' b'--' b'%float'\n",
      "  b'_Alignas' b'~' b'double' b'continue' b'<<' b'>' b'<pad>' b'_Complex'\n",
      "  b'float' b'break' b'||' b'while' b'--' b'#endif' b'for' b'#endif'\n",
      "  b'auto' b'<' b'-' b'goto' b'else' b'<stop>' b'static' b'/' b'_Generic'\n",
      "  b'_Alignas' b'for' b'for' b'<' b'|' b'unsigned' b'&&' b'~' b'||'\n",
      "  b'char' b'auto' b'inline' b'int' b'default' b'sizeof' b'volatile'\n",
      "  b'_Alignas' b'volatile' b'%string' b'>>' b'{' b'register' b'enum' b'*'\n",
      "  b'default' b'.' b'-' b'%float' b'&' b'!=' b'break' b'inline'\n",
      "  b'_Thread_local' b'' b'||' b'#endif' b'-' b'const' b'switch' b'-'\n",
      "  b'goto' b'#else' b'_Alignof']]\n"
     ]
    },
    {
     "data": {
      "text/plain": [
       "''"
      ]
     },
     "execution_count": 4,
     "metadata": {},
     "output_type": "execute_result"
    }
   ],
   "source": [
    "model.generate_regres([\"hello = \\\"world!\\\"\"], pretty_print=True)"
   ]
  }
 ],
 "metadata": {
  "kernelspec": {
   "display_name": "Python 3 (ipykernel)",
   "language": "python",
   "name": "python3"
  },
  "language_info": {
   "codemirror_mode": {
    "name": "ipython",
    "version": 3
   },
   "file_extension": ".py",
   "mimetype": "text/x-python",
   "name": "python",
   "nbconvert_exporter": "python",
   "pygments_lexer": "ipython3",
   "version": "3.11.11"
  }
 },
 "nbformat": 4,
 "nbformat_minor": 5
}
