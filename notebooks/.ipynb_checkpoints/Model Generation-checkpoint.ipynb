{
 "cells": [
  {
   "cell_type": "code",
   "execution_count": 1,
   "id": "c3447791-2d40-41c5-85c4-8225e0f21810",
   "metadata": {},
   "outputs": [
    {
     "name": "stderr",
     "output_type": "stream",
     "text": [
      "2025-03-09 21:30:01.234066: I tensorflow/core/platform/cpu_feature_guard.cc:210] This TensorFlow binary is optimized to use available CPU instructions in performance-critical operations.\n",
      "To enable the following instructions: AVX2 FMA, in other operations, rebuild TensorFlow with the appropriate compiler flags.\n"
     ]
    }
   ],
   "source": [
    "from nova_py import nova, TACO\n",
    "import tensorflow as tf\n",
    "import numpy as np\n",
    "import ast"
   ]
  },
  {
   "cell_type": "code",
   "execution_count": 2,
   "id": "c07b1399-5646-4344-b7ff-3ecdbd7482e2",
   "metadata": {},
   "outputs": [],
   "source": [
    "model = nova.Model()\n",
    "\n",
    "test_case = [\"hello =\\\"world!\\\"\"]"
   ]
  },
  {
   "cell_type": "code",
   "execution_count": 3,
   "id": "9bd7f478-6270-48d9-9c8d-59195281f628",
   "metadata": {},
   "outputs": [
    {
     "name": "stdout",
     "output_type": "stream",
     "text": [
      "True"
     ]
    }
   ],
   "source": [
    "response = model.generate(test_case, pretty_print=True)"
   ]
  },
  {
   "cell_type": "code",
   "execution_count": 4,
   "id": "3b509e45-ec65-4436-acc6-a30219449d1d",
   "metadata": {},
   "outputs": [
    {
     "data": {
      "text/plain": [
       "[\"Module(body=[Assign(targets=[Name(id='hello', ctx=Store())], value=Constant(value='world!'))], type_ignores=[])\"]"
      ]
     },
     "execution_count": 4,
     "metadata": {},
     "output_type": "execute_result"
    }
   ],
   "source": [
    "ground_truths = list([ast.dump(tree) for tree in map(ast.parse, test_case)])\n",
    "ground_truths"
   ]
  },
  {
   "cell_type": "code",
   "execution_count": 5,
   "id": "c457e801-2da6-42ea-a3d4-9a19bd2e2de7",
   "metadata": {},
   "outputs": [
    {
     "data": {
      "text/plain": [
       "<tf.Tensor: shape=(1, 5), dtype=string, numpy=array([[b'hello', b'=', b'\"', b'world!', b'\"']], dtype=object)>"
      ]
     },
     "execution_count": 5,
     "metadata": {},
     "output_type": "execute_result"
    }
   ],
   "source": [
    "TACO.inBatch(test_case)"
   ]
  },
  {
   "cell_type": "code",
   "execution_count": 9,
   "id": "25bd6c6d-567c-41ac-9257-a5632ca5ead6",
   "metadata": {
    "scrolled": true
   },
   "outputs": [
    {
     "name": "stdout",
     "output_type": "stream",
     "text": [
      "(1, 45)\n"
     ]
    }
   ],
   "source": [
    "test1 = model.train(test_case, ground_truths)"
   ]
  },
  {
   "cell_type": "code",
   "execution_count": 7,
   "id": "aa06ceac-028f-4616-ad8a-1245fc9a354f",
   "metadata": {},
   "outputs": [
    {
     "data": {
      "text/plain": [
       "<tf.Tensor: shape=(), dtype=float32, numpy=5.1741285>"
      ]
     },
     "execution_count": 7,
     "metadata": {},
     "output_type": "execute_result"
    }
   ],
   "source": [
    "ground_truths"
   ]
  },
  {
   "cell_type": "code",
   "execution_count": 10,
   "id": "343f87dc-affe-4820-b38d-5bf96651ca7b",
   "metadata": {},
   "outputs": [
    {
     "name": "stdout",
     "output_type": "stream",
     "text": [
      "NoneeltsCallvarargTrykw_defaultsLtDeleteIfaliasNoneattrIsDelBitAndCall#VARIABLECompareRShiftLtFunctionDefBinOpeMultContinuekeywordbasesasnameexcIfExpBinOpGlobalClassDefbases"
     ]
    },
    {
     "data": {
      "text/plain": [
       "<tf.Tensor: shape=(1, 1, 255), dtype=string, numpy=\n",
       "array([[[b'~var~', b'=', b'\"', b'~value~', b'\"', b'None', b'elts',\n",
       "         b'Call', b'vararg', b'Try', b'kw_defaults', b'Lt', b'Delete',\n",
       "         b'If', b'alias', b'None', b'attr', b'Is', b'Del', b'BitAnd',\n",
       "         b'Call', b'#VARIABLE', b'Compare', b'RShift', b'Lt',\n",
       "         b'FunctionDef', b'BinOp', b'e', b'Mult', b'Continue',\n",
       "         b'keyword', b'bases', b'asname', b'exc', b'IfExp', b'BinOp',\n",
       "         b'Global', b'ClassDef', b'bases', b'#END', b'#PAD', b'#PAD',\n",
       "         b'#PAD', b'#PAD', b'#PAD', b'#PAD', b'#PAD', b'#PAD', b'#PAD',\n",
       "         b'#PAD', b'#PAD', b'#PAD', b'#PAD', b'#PAD', b'#PAD', b'#PAD',\n",
       "         b'#PAD', b'#PAD', b'#PAD', b'#PAD', b'#PAD', b'#PAD', b'#PAD',\n",
       "         b'#PAD', b'#PAD', b'#PAD', b'#PAD', b'#PAD', b'#PAD', b'#PAD',\n",
       "         b'#PAD', b'#PAD', b'#PAD', b'#PAD', b'#PAD', b'#PAD', b'#PAD',\n",
       "         b'#PAD', b'#PAD', b'#PAD', b'#PAD', b'#PAD', b'#PAD', b'#PAD',\n",
       "         b'#PAD', b'#PAD', b'#PAD', b'#PAD', b'#PAD', b'#PAD', b'#PAD',\n",
       "         b'#PAD', b'#PAD', b'#PAD', b'#PAD', b'#PAD', b'#PAD', b'#PAD',\n",
       "         b'#PAD', b'#PAD', b'#PAD', b'#PAD', b'#PAD', b'#PAD', b'#PAD',\n",
       "         b'#PAD', b'#PAD', b'#PAD', b'#PAD', b'#PAD', b'#PAD', b'#PAD',\n",
       "         b'#PAD', b'#PAD', b'#PAD', b'#PAD', b'#PAD', b'#PAD', b'#PAD',\n",
       "         b'#PAD', b'#PAD', b'#PAD', b'#PAD', b'#PAD', b'#PAD', b'#PAD',\n",
       "         b'#PAD', b'#PAD', b'#PAD', b'#PAD', b'#PAD', b'#PAD', b'#PAD',\n",
       "         b'#PAD', b'#PAD', b'#PAD', b'#PAD', b'#PAD', b'#PAD', b'#PAD',\n",
       "         b'#PAD', b'#PAD', b'#PAD', b'#PAD', b'#PAD', b'#PAD', b'#PAD',\n",
       "         b'#PAD', b'#PAD', b'#PAD', b'#PAD', b'#PAD', b'#PAD', b'#PAD',\n",
       "         b'#PAD', b'#PAD', b'#PAD', b'#PAD', b'#PAD', b'#PAD', b'#PAD',\n",
       "         b'#PAD', b'#PAD', b'#PAD', b'#PAD', b'#PAD', b'#PAD', b'#PAD',\n",
       "         b'#PAD', b'#PAD', b'#PAD', b'#PAD', b'#PAD', b'#PAD', b'#PAD',\n",
       "         b'#PAD', b'#PAD', b'#PAD', b'#PAD', b'#PAD', b'#PAD', b'#PAD',\n",
       "         b'#PAD', b'#PAD', b'#PAD', b'#PAD', b'#PAD', b'#PAD', b'#PAD',\n",
       "         b'#PAD', b'#PAD', b'#PAD', b'#PAD', b'#PAD', b'#PAD', b'#PAD',\n",
       "         b'#PAD', b'#PAD', b'#PAD', b'#PAD', b'#PAD', b'#PAD', b'#PAD',\n",
       "         b'#PAD', b'#PAD', b'#PAD', b'#PAD', b'#PAD', b'#PAD', b'#PAD',\n",
       "         b'#PAD', b'#PAD', b'#PAD', b'#PAD', b'#PAD', b'#PAD', b'#PAD',\n",
       "         b'#PAD', b'#PAD', b'#PAD', b'#PAD', b'#PAD', b'#PAD', b'#PAD',\n",
       "         b'#PAD', b'#PAD', b'#PAD', b'#PAD', b'#PAD', b'#PAD', b'#PAD',\n",
       "         b'#PAD', b'#PAD', b'#PAD', b'#PAD', b'#PAD', b'#PAD', b'#PAD',\n",
       "         b'#PAD', b'#PAD', b'#PAD', b'#PAD', b'#PAD', b'#PAD', b'#PAD',\n",
       "         b'#PAD', b'#PAD', b'#PAD', b'#PAD', b'#PAD', b'#PAD', b'#PAD',\n",
       "         b'#PAD', b'#PAD', b'#PAD']]], dtype=object)>"
      ]
     },
     "execution_count": 10,
     "metadata": {},
     "output_type": "execute_result"
    }
   ],
   "source": [
    "new_response = model.generate(test_case, pretty_print=True)"
   ]
  }
 ],
 "metadata": {
  "kernelspec": {
   "display_name": "Python 3 (ipykernel)",
   "language": "python",
   "name": "python3"
  },
  "language_info": {
   "codemirror_mode": {
    "name": "ipython",
    "version": 3
   },
   "file_extension": ".py",
   "mimetype": "text/x-python",
   "name": "python",
   "nbconvert_exporter": "python",
   "pygments_lexer": "ipython3",
   "version": "3.11.11"
  }
 },
 "nbformat": 4,
 "nbformat_minor": 5
}
