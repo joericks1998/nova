{
 "cells": [
  {
   "cell_type": "code",
   "execution_count": 7,
   "id": "0a80172d-b803-48ee-886f-6ca095412812",
   "metadata": {},
   "outputs": [
    {
     "name": "stdout",
     "output_type": "stream",
     "text": [
      "/usr/local/bin/python\n"
     ]
    }
   ],
   "source": [
    "!which python"
   ]
  },
  {
   "cell_type": "code",
   "execution_count": 8,
   "id": "e578899b-e883-4421-a6f7-e530329a6437",
   "metadata": {},
   "outputs": [
    {
     "name": "stdout",
     "output_type": "stream",
     "text": [
      "zsh:1: command not found: nvidia-smi\n"
     ]
    }
   ],
   "source": [
    "!nvidia-smi"
   ]
  },
  {
   "cell_type": "code",
   "execution_count": 1,
   "id": "f6dc2f9d-8787-4815-b6f2-e61cceaeb325",
   "metadata": {},
   "outputs": [
    {
     "name": "stderr",
     "output_type": "stream",
     "text": [
      "2025-04-17 21:53:15.204406: I tensorflow/core/platform/cpu_feature_guard.cc:210] This TensorFlow binary is optimized to use available CPU instructions in performance-critical operations.\n",
      "To enable the following instructions: AVX2 FMA, in other operations, rebuild TensorFlow with the appropriate compiler flags.\n"
     ]
    }
   ],
   "source": [
    "from nova_py import PArMesan\n",
    "import tensorflow as tf"
   ]
  },
  {
   "cell_type": "code",
   "execution_count": 2,
   "id": "57dc522d-c9c6-41bb-84c9-c05382814afe",
   "metadata": {},
   "outputs": [],
   "source": [
    "dummy_hyperparameters = {\n",
    "    \"d_model\": 1024,\n",
    "    \"num_transformers\": 16,\n",
    "    \"input_size\": 10000,\n",
    "    \"output_size\": 1000,\n",
    "    \"layerdrop\": 0.2,\n",
    "    \"num_heads\": 32,\n",
    "    \"dff\": 4096,\n",
    "    \"dropout_rate\": 0.3,\n",
    "    \"temperature\": 1.0,\n",
    "    \"top_p\": 0.2,\n",
    "    \"num_samples\": 5,\n",
    "    \"name\": \"PArM 1.0\"\n",
    "}"
   ]
  },
  {
   "cell_type": "code",
   "execution_count": 3,
   "id": "f9339ff0-aa8e-4175-a17d-154f6877a613",
   "metadata": {},
   "outputs": [
    {
     "name": "stderr",
     "output_type": "stream",
     "text": [
      "/usr/local/lib/python3.11/site-packages/keras/src/layers/core/dense.py:87: UserWarning: Do not pass an `input_shape`/`input_dim` argument to a layer. When using Sequential models, prefer using an `Input(shape)` object as the first layer in the model instead.\n",
      "  super().__init__(activity_regularizer=activity_regularizer, **kwargs)\n"
     ]
    }
   ],
   "source": [
    "genAI = PArMesan.Model(**dummy_hyperparameters)"
   ]
  },
  {
   "cell_type": "code",
   "execution_count": 4,
   "id": "33f07876-80db-4640-b98c-13f4c2a76a3e",
   "metadata": {},
   "outputs": [
    {
     "data": {
      "text/plain": [
       "195896296"
      ]
     },
     "execution_count": 4,
     "metadata": {},
     "output_type": "execute_result"
    }
   ],
   "source": [
    "genAI.Size"
   ]
  },
  {
   "cell_type": "code",
   "execution_count": 5,
   "id": "82f12d71-f975-41f7-8785-23664099a1a0",
   "metadata": {},
   "outputs": [],
   "source": [
    "sample_input = tf.random.uniform(shape=(2,36), minval=0, maxval=10000, dtype=tf.int32)"
   ]
  },
  {
   "cell_type": "code",
   "execution_count": 6,
   "id": "700aad18-18d8-49ee-943b-5615f1918131",
   "metadata": {},
   "outputs": [
    {
     "data": {
      "text/plain": [
       "<tf.Tensor: shape=(2, 250), dtype=int32, numpy=\n",
       "array([[1007,  493,  372,  892,  483,  498,  759,  899,  724,  150,  994,\n",
       "         765,  541,  224,  950,  330,  255,  785,  277,  982,  425,  188,\n",
       "         304,   44,  505,  402,  247,  906,  256,  633,  924,  286,   76,\n",
       "         958,  290,  915,  221,  275,  970,  297,  744,  551,  168,  751,\n",
       "         188,  278,  588,   12,  846,  897,  708,  715,  344,  973,  220,\n",
       "         103,    0,  376,  722,  506,  875,  751,  960,  619,   84,  317,\n",
       "         619, 1007,  542,   38,  534,  232,  233,   88,  539,  290,   11,\n",
       "         577,  931,  622,  272,  505,  221,   65,  454,  107,  469,  915,\n",
       "        1007,   32,  379,  211,   74,  631,  222,  952,  222,  517, 1007,\n",
       "         257,  123,  280,  317,  290, 1002,  168,   26,  290,  330,  211,\n",
       "         168,  493,  120,  204,  958,  296,   11,  279,  619,   42,  608,\n",
       "         539,  611,  779,  506,   73,  561,   44,  391,  120,  982,   66,\n",
       "         813,  135,  433,  931,  864,   12,  232,  858,  904,  524,  462,\n",
       "         505,    0,  290,  426,  181,  407,  960,  836,  646,  218,  809,\n",
       "        1007,  734,  631,  294,  734,  739,  272,  680, 1002,  960,  442,\n",
       "         982,   77,  924,  472,  734,  541,  454,  472,  708,  297,  503,\n",
       "         506,  691,  630,  286, 1002,  169,  602,  407,  602,  619,  224,\n",
       "         181,   77,   20,  123,  263,  297,  140,  998,  272,  462,  625,\n",
       "         298,  503,  982,  227,  756,   26,  924, 1006,  460,  272,  630,\n",
       "         433,  423,  404,  488,  763,  786,  931,  801,   54,   20,  963,\n",
       "         607,  708, 1009,  561,  261,  376, 1002,  864,  574,  267,  801,\n",
       "         607,   44,  366,  368,  924,  773,  819,  255,  221,  559,  289,\n",
       "         555,  242,  731,   20,  957,  705,  290,  858],\n",
       "       [ 611,  618,  270,  838,  862,  889,  734,  683, 1002,  812,   52,\n",
       "         343,  269, 1007,  361,  169,  181,  413,  960,  298,  267,  708,\n",
       "         168,  960,  290,  613,  281,  924,  984,  316, 1007,  485,    0,\n",
       "         640,  270,  440,  402,  897,  734,  272,  317,  329,  577,  798,\n",
       "         684,  195,  186,  864,  104,  680,  887,   32,  413,  151,  411,\n",
       "         619,  267,  534,  853,   35,  304,  304,  169,  705,   77,  708,\n",
       "         168,  760,  685,  168,  614,  390,  272,  708,  422,  379,  227,\n",
       "         330,  608, 1002,  232,  145,  619,  330,  181,  298,  224,  560,\n",
       "         120,  322,  864,  798, 1014,  974,  185,  506,   55,  619,  362,\n",
       "          86,  121,  960,  808,  454,  224,  423,  960,  433,  274,  169,\n",
       "         370,  317,  370,  321,   32,  272,  247,  396,  159,  773,   20,\n",
       "         474,  858,  883,  108,  345,  267,  222,  613,  960,  813,  267,\n",
       "          65,  708,  304,  850,  423,  610,  775,  267,  399,  850,  734,\n",
       "         550,  317,  145,  921,  317, 1002,  864,   81,  298,  664,  344,\n",
       "         505,  520,  242,  267,  259,  358,  864,  966,  493,  295,  126,\n",
       "         321,  614,  596,  773,  960,  505,  297,  222,  169,  841,  290,\n",
       "         297,  123,  189,  179,  584,  329,  611,  540,  540,  304,  298,\n",
       "         317,  173,  365,  608,  345,   92,  691,  221,  362,  555,  715,\n",
       "         413,  423,  478,  100,  290,  298,  625,  608,  960,  469,  517,\n",
       "         683,  255,  211,  211,  875,  413,  588,  460,  138,  296,  887,\n",
       "         680,  426,  281,  765,  980,   77,  290,  169,  916,  397,  242,\n",
       "         588,  960,  986,  931,  288,  677,  892,  447, 1009,  613,  176,\n",
       "         569,    0,  982,  221,  304,  150,  517,   32]], dtype=int32)>"
      ]
     },
     "execution_count": 6,
     "metadata": {},
     "output_type": "execute_result"
    }
   ],
   "source": [
    "genAI.generate(sample_input)"
   ]
  }
 ],
 "metadata": {
  "kernelspec": {
   "display_name": "Python 3 (ipykernel)",
   "language": "python",
   "name": "python3"
  },
  "language_info": {
   "codemirror_mode": {
    "name": "ipython",
    "version": 3
   },
   "file_extension": ".py",
   "mimetype": "text/x-python",
   "name": "python",
   "nbconvert_exporter": "python",
   "pygments_lexer": "ipython3",
   "version": "3.11.11"
  }
 },
 "nbformat": 4,
 "nbformat_minor": 5
}
