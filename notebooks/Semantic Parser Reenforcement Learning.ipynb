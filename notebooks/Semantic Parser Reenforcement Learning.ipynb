{
 "cells": [
  {
   "cell_type": "code",
   "execution_count": 107,
   "id": "c110cc05-5d0a-4a4c-90d2-a66684fa3d86",
   "metadata": {},
   "outputs": [
    {
     "data": {
      "text/plain": [
       "['/Users/joericks/Desktop/nova',\n",
       " '/usr/local/Cellar/python@3.9/3.9.13_1/Frameworks/Python.framework/Versions/3.9/lib/python39.zip',\n",
       " '/usr/local/Cellar/python@3.9/3.9.13_1/Frameworks/Python.framework/Versions/3.9/lib/python3.9',\n",
       " '/usr/local/Cellar/python@3.9/3.9.13_1/Frameworks/Python.framework/Versions/3.9/lib/python3.9/lib-dynload',\n",
       " '',\n",
       " '/usr/local/lib/python3.9/site-packages']"
      ]
     },
     "execution_count": 107,
     "metadata": {},
     "output_type": "execute_result"
    }
   ],
   "source": [
    "import tensorflow as tf\n",
    "from semantics import parser, tokenizer\n",
    "from inference import main\n",
    "import numpy as np\n",
    "from Levenshtein import distance\n",
    "import importlib\n",
    "import sys\n",
    "import json\n",
    "import itertools\n",
    "\n",
    "sys.path"
   ]
  },
  {
   "cell_type": "markdown",
   "id": "2452140f-b49e-4616-9302-b294dbbf2932",
   "metadata": {},
   "source": [
    "The goal of this is to come up with a reasonable reenforcement learning algorithm for the encoding model first, so that when training nova begins, most of the encoding can be handled in an automated way"
   ]
  },
  {
   "cell_type": "markdown",
   "id": "e24182ab-d48d-45a2-8cf8-354557eb6be2",
   "metadata": {
    "jp-MarkdownHeadingCollapsed": true
   },
   "source": [
    "## Whiteboard"
   ]
  },
  {
   "cell_type": "code",
   "execution_count": 4,
   "id": "05658d40-050c-4cbc-b514-457dde619277",
   "metadata": {},
   "outputs": [],
   "source": [
    "encoder = parser.Encoder.load(\"model/semantics\")\n",
    "\n",
    "def getSimWeights(sequence):\n",
    "    return tf.constant([1-distance(sequence.replace(' -> ', ''), k.replace(' -> ', ''))/max(len(k), len(sequence)) for k, v in encoder.TransitionStates.items()])\n",
    "    "
   ]
  },
  {
   "cell_type": "code",
   "execution_count": 5,
   "id": "5155ebef-28fe-48fc-82bf-b7d95e74dc23",
   "metadata": {},
   "outputs": [
    {
     "data": {
      "text/plain": [
       "<tf.Tensor: shape=(4,), dtype=float32, numpy=array([0.2857143 , 0.64285713, 0.5714286 , 0.5263158 ], dtype=float32)>"
      ]
     },
     "execution_count": 5,
     "metadata": {},
     "output_type": "execute_result"
    }
   ],
   "source": [
    "v = getSimWeights('~pad~ -> ~pad~')\n",
    "v"
   ]
  },
  {
   "cell_type": "code",
   "execution_count": 6,
   "id": "282558fb-c1a7-411b-ad7f-8bbf5a408159",
   "metadata": {},
   "outputs": [
    {
     "data": {
      "text/plain": [
       "{'': 1,\n",
       " '~pad~': 2,\n",
       " '~pad~ -> ~var~ -> ~relation~': 3,\n",
       " '~var~ -> ~relation~': 4}"
      ]
     },
     "execution_count": 6,
     "metadata": {},
     "output_type": "execute_result"
    }
   ],
   "source": [
    "encoder.TransitionStates"
   ]
  },
  {
   "cell_type": "code",
   "execution_count": 7,
   "id": "044b851c-3dcc-479b-bc9c-3c4f87519fb7",
   "metadata": {},
   "outputs": [
    {
     "data": {
      "text/plain": [
       "<tf.Tensor: shape=(4, 10), dtype=float32, numpy=\n",
       "array([[0.        , 0.        , 0.2857143 , 0.        , 0.        ,\n",
       "        0.        , 0.        , 0.        , 0.        , 0.        ],\n",
       "       [0.        , 0.        , 0.64285713, 0.        , 0.        ,\n",
       "        0.        , 0.        , 0.        , 0.        , 0.        ],\n",
       "       [0.        , 0.        , 0.        , 0.5714286 , 0.        ,\n",
       "        0.        , 0.        , 0.        , 0.        , 0.        ],\n",
       "       [0.        , 0.        , 0.        , 0.5263158 , 0.        ,\n",
       "        0.        , 0.        , 0.        , 0.        , 0.        ]],\n",
       "      dtype=float32)>"
      ]
     },
     "execution_count": 7,
     "metadata": {},
     "output_type": "execute_result"
    }
   ],
   "source": [
    "p_mtrx = encoder.TransitionMatrix[1:,:] * v[:, tf.newaxis]\n",
    "p_mtrx"
   ]
  },
  {
   "cell_type": "code",
   "execution_count": 8,
   "id": "ca3ad17c-15b6-4773-922e-979c5e9f634d",
   "metadata": {},
   "outputs": [],
   "source": [
    "logits = tf.Variable([sum(p_mtrx[:,i]) for i in range(0, p_mtrx.shape[1])])"
   ]
  },
  {
   "cell_type": "code",
   "execution_count": 191,
   "id": "152c8034-c062-4679-8968-ddf1a63f07c0",
   "metadata": {
    "scrolled": true
   },
   "outputs": [
    {
     "data": {
      "text/plain": [
       "<tf.Tensor: shape=(10,), dtype=float32, numpy=\n",
       "array([0.07391918, 0.07391918, 0.18708138, 0.22156517, 0.07391918,\n",
       "       0.07391918, 0.07391918, 0.07391918, 0.07391918, 0.07391918],\n",
       "      dtype=float32)>"
      ]
     },
     "execution_count": 191,
     "metadata": {},
     "output_type": "execute_result"
    }
   ],
   "source": [
    "probabilities = tf.nn.softmax(logits,axis=-1)\n",
    "probabilities"
   ]
  },
  {
   "cell_type": "code",
   "execution_count": 187,
   "id": "aa0f3936-501c-4bb7-9f6a-b1470e61f374",
   "metadata": {},
   "outputs": [],
   "source": [
    "def tf_mode(tensor):\n",
    "    \"\"\"Computes the mode of a 1D tensor.\"\"\"\n",
    "    tensor_1d = tf.reshape(tensor, [-1])\n",
    "    values, _, counts = tf.unique_with_counts(tensor_1d)\n",
    "    max_index = tf.argmax(counts)\n",
    "    return tf.gather(values, max_index)"
   ]
  },
  {
   "cell_type": "code",
   "execution_count": 192,
   "id": "7098a0a4-23f5-470f-8f45-e3e0f7cacd18",
   "metadata": {},
   "outputs": [],
   "source": [
    "# Initialize variables\n",
    "wrong_answers = [0, 1, 2, 3, 5, 6, 7, 8, 9]\n",
    "num_epochs = 10\n",
    "num_bad = tf.Variable(0, dtype=tf.int32)  # Track the number of bad updates\n",
    "# probabilities = tf.Variable(tf.random.uniform([10], dtype=tf.float32))  # Example initialization of probabilities\n",
    "\n",
    "# Normalize the probabilities initially\n",
    "probabilities.assign(probabilities / tf.reduce_sum(probabilities))\n",
    "\n",
    "# Training loop\n",
    "for epoch in range(num_epochs):\n",
    "    # Sample actions according to the current probabilities distribution\n",
    "    samples = tf.random.categorical(tf.math.log([probabilities]), num_samples=5)\n",
    "    \n",
    "    # Get the mode of the sampled actions (this will be the most frequent action)\n",
    "    mode = tf_mode(samples)\n",
    "    \n",
    "    # Check if the mode is in wrong answers\n",
    "    is_wrong = tf.reduce_any(tf.equal(mode, wrong_answers))\n",
    "\n",
    "    if is_wrong:\n",
    "        num_bad.assign_add(1)  # Increment the number of bad updates\n",
    "        # Update probabilities by averaging the wrong answer's probability with 0\n",
    "        probabilities = tf.tensor_scatter_nd_update(probabilities, [[mode]], [tf.reduce_mean([probabilities[mode], 0])])\n",
    "        probabilities /= tf.reduce_sum(probabilities)  # Normalize after update\n",
    "    else:\n",
    "        # Reduce the wrong answers' probabilities to 0 (like penalizing)\n",
    "        wrong_probs = tf.gather(probabilities, wrong_answers)\n",
    "        zero_tensor = tf.zeros_like(wrong_probs)  # Create a tensor of zeros with the same shape as wrong_probs\n",
    "        vals = tf.reduce_mean([wrong_probs, zero_tensor], axis=0)\n",
    "        idxs = tf.constant(wrong_answers, dtype=tf.int32)\n",
    "        probabilities = tf.tensor_scatter_nd_update(probabilities, tf.reshape(idxs, (-1, 1)), vals)\n",
    "        probabilities /= tf.reduce_sum(probabilities)   # Normalize after update\n"
   ]
  },
  {
   "cell_type": "code",
   "execution_count": 290,
   "id": "724226a5-4ee3-44ef-9f74-cd5b7d0c8197",
   "metadata": {},
   "outputs": [
    {
     "data": {
      "text/plain": [
       "<tf.Tensor: shape=(10,), dtype=float32, numpy=\n",
       "array([0.07391918, 0.07391918, 0.18708138, 0.22156517, 0.07391918,\n",
       "       0.07391918, 0.07391918, 0.07391918, 0.07391918, 0.07391918],\n",
       "      dtype=float32)>"
      ]
     },
     "execution_count": 290,
     "metadata": {},
     "output_type": "execute_result"
    }
   ],
   "source": [
    "probabilities = tf.nn.softmax(logits,axis=-1)\n",
    "probabilities"
   ]
  },
  {
   "cell_type": "code",
   "execution_count": 301,
   "id": "26ea09d0-82ae-4e44-8a1f-8360786202fb",
   "metadata": {},
   "outputs": [],
   "source": [
    "def reenforce(probabilities, mode, num_epochs = 1, is_bad = False, num_bad = 0):\n",
    "    for epoch in range(num_epochs):\n",
    "        if is_bad:\n",
    "            # num_bad.assign_add(1)  # Increment the number of bad updates\n",
    "            # Update probabilities by averaging the wrong answer's probability with 0\n",
    "            probabilities = tf.tensor_scatter_nd_update(probabilities, [[mode]], [tf.reduce_mean([probabilities[mode], 0])])\n",
    "            probabilities /= tf.reduce_sum(probabilities)  # Normalize after update\n",
    "        else:\n",
    "            # Reduce the wrong answers' probabilities to 0 (like penalizing)\n",
    "            one_hot_tensor = tf.one_hot(mode, probabilities.shape[0])  # Create a tensor of zeros with the same shape as wrong_probs\n",
    "            probabilities = tf.reduce_mean([probabilities, one_hot_tensor], axis=0)\n",
    "   # Normalize after update\n",
    "    return probabilities\n",
    "    "
   ]
  },
  {
   "cell_type": "code",
   "execution_count": 315,
   "id": "9ef63499-8d8e-48d8-b4e9-3f8bddbac56a",
   "metadata": {},
   "outputs": [],
   "source": [
    "probabilities = reenforce(probabilities, 7, num_epochs = 10, is_bad = True)"
   ]
  },
  {
   "cell_type": "code",
   "execution_count": 316,
   "id": "1a0d9c70-8272-46be-bc9c-d36e2c01f58b",
   "metadata": {},
   "outputs": [
    {
     "data": {
      "text/plain": [
       "<tf.Tensor: shape=(10,), dtype=float32, numpy=\n",
       "array([8.6735785e-02, 8.6735785e-02, 2.1951883e-01, 2.5998166e-01,\n",
       "       8.6735785e-02, 8.6735785e-02, 8.6735785e-02, 8.4702915e-05,\n",
       "       8.2717690e-08, 8.6735785e-02], dtype=float32)>"
      ]
     },
     "execution_count": 316,
     "metadata": {},
     "output_type": "execute_result"
    }
   ],
   "source": [
    "probabilities"
   ]
  },
  {
   "cell_type": "code",
   "execution_count": 293,
   "id": "a1c2ef20-1ade-49d6-964d-d2ff67b6d6c0",
   "metadata": {},
   "outputs": [
    {
     "data": {
      "text/plain": [
       "array([0.07391918, 0.07391918, 0.18708138, 0.22156517, 0.07391918,\n",
       "       0.07391918, 0.07391918, 0.07391918, 0.07391918, 0.07391918],\n",
       "      dtype=float32)"
      ]
     },
     "execution_count": 293,
     "metadata": {},
     "output_type": "execute_result"
    }
   ],
   "source": [
    "probabilities.numpy()"
   ]
  },
  {
   "cell_type": "code",
   "execution_count": 283,
   "id": "44a4647a-8af1-4618-abf2-f8f96e1857fa",
   "metadata": {},
   "outputs": [
    {
     "data": {
      "text/plain": [
       "<tf.Tensor: shape=(), dtype=float32, numpy=1.0000001>"
      ]
     },
     "execution_count": 283,
     "metadata": {},
     "output_type": "execute_result"
    }
   ],
   "source": [
    "sum(probabilities)"
   ]
  },
  {
   "cell_type": "code",
   "execution_count": 282,
   "id": "1e9918e2-f9da-44df-9015-47308f0185ca",
   "metadata": {},
   "outputs": [
    {
     "data": {
      "text/plain": [
       "<tf.Tensor: shape=(), dtype=float64, numpy=0.01>"
      ]
     },
     "execution_count": 282,
     "metadata": {},
     "output_type": "execute_result"
    }
   ],
   "source": [
    "num_bad/num_epocs"
   ]
  },
  {
   "cell_type": "code",
   "execution_count": 194,
   "id": "3801797d-bee2-4447-9cd8-ddf15f928461",
   "metadata": {},
   "outputs": [
    {
     "data": {
      "text/plain": [
       "<tf.Tensor: shape=(10,), dtype=float32, numpy=\n",
       "array([0.13505921, 0.08938976, 0.10936902, 0.06480423, 0.20316379,\n",
       "       0.04681202, 0.03829137, 0.05723381, 0.13689348, 0.11898329],\n",
       "      dtype=float32)>"
      ]
     },
     "execution_count": 194,
     "metadata": {},
     "output_type": "execute_result"
    }
   ],
   "source": [
    "probabilities"
   ]
  },
  {
   "cell_type": "code",
   "execution_count": 257,
   "id": "d0e42fac-2877-4156-b270-5d34f8a03246",
   "metadata": {},
   "outputs": [
    {
     "data": {
      "text/plain": [
       "<tf.Tensor: shape=(4,), dtype=float32, numpy=array([0., 0., 0., 0.], dtype=float32)>"
      ]
     },
     "execution_count": 257,
     "metadata": {},
     "output_type": "execute_result"
    }
   ],
   "source": [
    "p_mtrx[:,1]"
   ]
  },
  {
   "cell_type": "code",
   "execution_count": 63,
   "id": "82eb95b9-579e-42d6-9e51-05a7cceabd90",
   "metadata": {},
   "outputs": [
    {
     "data": {
      "text/plain": [
       "5"
      ]
     },
     "execution_count": 63,
     "metadata": {},
     "output_type": "execute_result"
    }
   ],
   "source": [
    "t_mtrx.shape[0] "
   ]
  },
  {
   "cell_type": "code",
   "execution_count": 51,
   "id": "eb2bb2dd-9b36-44cd-9cc2-e114064d278c",
   "metadata": {},
   "outputs": [
    {
     "data": {
      "text/plain": [
       "0.04475199317449662"
      ]
     },
     "execution_count": 51,
     "metadata": {},
     "output_type": "execute_result"
    }
   ],
   "source": [
    "np.random.beta(0.3,0.5)"
   ]
  },
  {
   "cell_type": "code",
   "execution_count": 9,
   "id": "91867ff3-3b7b-475d-ac69-77c822f600e6",
   "metadata": {},
   "outputs": [
    {
     "data": {
      "text/plain": [
       "<function tensorflow.python.ops.random_ops.random_uniform(shape, minval=0, maxval=None, dtype=tf.float32, seed=None, name=None)>"
      ]
     },
     "execution_count": 9,
     "metadata": {},
     "output_type": "execute_result"
    }
   ],
   "source": [
    "tf.random.uniform"
   ]
  },
  {
   "cell_type": "markdown",
   "id": "f823d4e2-bfb4-4825-89c9-73dc57276323",
   "metadata": {},
   "source": [
    "## Encoder Reenforcement Training Dev"
   ]
  },
  {
   "cell_type": "code",
   "execution_count": 209,
   "id": "ffdfd464-4279-4f89-999e-0d97b2dfcd84",
   "metadata": {},
   "outputs": [],
   "source": [
    "importlib.reload(parser)\n",
    "\n",
    "with open(\"model/semantics/tags.json\", \"r\") as f:\n",
    "    tags = json.load(f)\n",
    "\n",
    "with open(\"model/semantics/predefined_tags.json\", \"r\") as f:\n",
    "    predef = json.load(f)\n",
    "\n",
    "with open('fpass_sample.txt', 'r') as f:\n",
    "    examples = f.read().split('\\n')\n",
    "\n",
    "test_batch = main.inBatch(examples[:len(examples) - 1])"
   ]
  },
  {
   "cell_type": "code",
   "execution_count": 210,
   "id": "35252bb4-34ba-4ad0-9c4a-1447f4bcc775",
   "metadata": {},
   "outputs": [],
   "source": [
    "all_combos = []\n",
    "\n",
    "for j in range(1,5):\n",
    "    for i in itertools.product(tags.keys(), repeat = j):\n",
    "        all_combos.append(i)"
   ]
  },
  {
   "cell_type": "code",
   "execution_count": 211,
   "id": "d995923f-4258-4e55-a779-f59df95900fe",
   "metadata": {},
   "outputs": [],
   "source": [
    "encoder = parser.Encoder(tags, n_limit = 6, predefinitions = predef)"
   ]
  },
  {
   "cell_type": "code",
   "execution_count": 212,
   "id": "e9d01c17-fdf7-4554-9be6-bfd92315e49d",
   "metadata": {},
   "outputs": [],
   "source": [
    "encoder.addTransitions(list(tags.keys()))"
   ]
  },
  {
   "cell_type": "code",
   "execution_count": 213,
   "id": "56c63f1d-b0e7-4d21-a7d4-51481f519c0a",
   "metadata": {},
   "outputs": [
    {
     "data": {
      "text/plain": [
       "<tf.Tensor: shape=(10,), dtype=string, numpy=\n",
       "array([b'~relation~', b'~pad~', b'~var~', b'~value~', b'~func~',\n",
       "       b'~break~', b'~container~', b'~def~', b'~brelation~',\n",
       "       b'~connector~'], dtype=object)>"
      ]
     },
     "execution_count": 213,
     "metadata": {},
     "output_type": "execute_result"
    }
   ],
   "source": [
    "test_batch_single_token = tf.constant(list(tags.keys()))\n",
    "test_batch_single_token"
   ]
  },
  {
   "cell_type": "code",
   "execution_count": 214,
   "id": "75b581f3-ca0c-4128-a601-cc0cf24eaa19",
   "metadata": {},
   "outputs": [
    {
     "data": {
      "text/plain": [
       "<tf.Tensor: shape=(1, 1), dtype=string, numpy=array([[b'hello']], dtype=object)>"
      ]
     },
     "execution_count": 214,
     "metadata": {},
     "output_type": "execute_result"
    }
   ],
   "source": [
    "fake_single_batch = tf.constant([['hello']])\n",
    "fake_single_batch"
   ]
  },
  {
   "cell_type": "code",
   "execution_count": 229,
   "id": "9b579f44-554c-4ace-a40f-ca595f2df2f7",
   "metadata": {},
   "outputs": [
    {
     "name": "stdout",
     "output_type": "stream",
     "text": [
      "0\n",
      "tf.Tensor(7, shape=(), dtype=int64)\n"
     ]
    },
    {
     "data": {
      "text/plain": [
       "<tf.Variable 'Variable:0' shape=(1, 1) dtype=string, numpy=array([[b'~def~']], dtype=object)>"
      ]
     },
     "execution_count": 229,
     "metadata": {},
     "output_type": "execute_result"
    }
   ],
   "source": [
    "encoder(fake_single_batch)"
   ]
  },
  {
   "cell_type": "code",
   "execution_count": 216,
   "id": "a848542f-4242-4b25-b147-bb477478a350",
   "metadata": {},
   "outputs": [
    {
     "data": {
      "text/plain": [
       "<tf.Tensor: shape=(11, 10), dtype=float64, numpy=\n",
       "array([[0.1, 0.1, 0.1, 0.1, 0.1, 0.1, 0.1, 0.1, 0.1, 0.1],\n",
       "       [0.1, 0.1, 0.1, 0.1, 0.1, 0.1, 0.1, 0.1, 0.1, 0.1],\n",
       "       [0.1, 0.1, 0.1, 0.1, 0.1, 0.1, 0.1, 0.1, 0.1, 0.1],\n",
       "       [0.1, 0.1, 0.1, 0.1, 0.1, 0.1, 0.1, 0.1, 0.1, 0.1],\n",
       "       [0.1, 0.1, 0.1, 0.1, 0.1, 0.1, 0.1, 0.1, 0.1, 0.1],\n",
       "       [0.1, 0.1, 0.1, 0.1, 0.1, 0.1, 0.1, 0.1, 0.1, 0.1],\n",
       "       [0.1, 0.1, 0.1, 0.1, 0.1, 0.1, 0.1, 0.1, 0.1, 0.1],\n",
       "       [0.1, 0.1, 0.1, 0.1, 0.1, 0.1, 0.1, 0.1, 0.1, 0.1],\n",
       "       [0.1, 0.1, 0.1, 0.1, 0.1, 0.1, 0.1, 0.1, 0.1, 0.1],\n",
       "       [0.1, 0.1, 0.1, 0.1, 0.1, 0.1, 0.1, 0.1, 0.1, 0.1],\n",
       "       [0.1, 0.1, 0.1, 0.1, 0.1, 0.1, 0.1, 0.1, 0.1, 0.1]])>"
      ]
     },
     "execution_count": 216,
     "metadata": {},
     "output_type": "execute_result"
    }
   ],
   "source": [
    "encoder.TransitionMatrix"
   ]
  },
  {
   "cell_type": "code",
   "execution_count": null,
   "id": "3e400d46-97ba-40d1-8019-6afd580ff554",
   "metadata": {},
   "outputs": [],
   "source": []
  },
  {
   "cell_type": "code",
   "execution_count": 337,
   "id": "cfa32e8c-c80d-4166-867b-9059f53c363a",
   "metadata": {},
   "outputs": [
    {
     "data": {
      "text/plain": [
       "<tf.Tensor: shape=(820, 10), dtype=float64, numpy=\n",
       "array([[0.1, 0.1, 0.1, ..., 0.1, 0.1, 0.1],\n",
       "       [0.1, 0.1, 0.1, ..., 0.1, 0.1, 0.1],\n",
       "       [0.1, 0.1, 0.1, ..., 0.1, 0.1, 0.1],\n",
       "       ...,\n",
       "       [0.1, 0.1, 0.1, ..., 0.1, 0.1, 0.1],\n",
       "       [0.1, 0.1, 0.1, ..., 0.1, 0.1, 0.1],\n",
       "       [0.1, 0.1, 0.1, ..., 0.1, 0.1, 0.1]])>"
      ]
     },
     "execution_count": 337,
     "metadata": {},
     "output_type": "execute_result"
    }
   ],
   "source": [
    "encoder.TransitionMatrix"
   ]
  },
  {
   "cell_type": "code",
   "execution_count": 343,
   "id": "763caef6-42df-4046-9391-631930ce64bf",
   "metadata": {},
   "outputs": [
    {
     "data": {
      "text/plain": [
       "{'~relation~': 0,\n",
       " '~pad~': 1,\n",
       " '~var~': 2,\n",
       " '~value~': 3,\n",
       " '~func~': 4,\n",
       " '~break~': 5,\n",
       " '~container~': 6,\n",
       " '~def~': 7,\n",
       " '~brelation~': 8,\n",
       " '~connector~': 9,\n",
       " '~relation~ -> ~pad~': 10,\n",
       " '~relation~ -> ~var~': 11,\n",
       " '~relation~ -> ~value~': 12,\n",
       " '~relation~ -> ~func~': 13,\n",
       " '~relation~ -> ~break~': 14,\n",
       " '~relation~ -> ~container~': 15,\n",
       " '~relation~ -> ~def~': 16,\n",
       " '~relation~ -> ~brelation~': 17,\n",
       " '~relation~ -> ~connector~': 18,\n",
       " '~pad~ -> ~relation~': 19,\n",
       " '~pad~ -> ~var~': 20,\n",
       " '~pad~ -> ~value~': 21,\n",
       " '~pad~ -> ~func~': 22,\n",
       " '~pad~ -> ~break~': 23,\n",
       " '~pad~ -> ~container~': 24,\n",
       " '~pad~ -> ~def~': 25,\n",
       " '~pad~ -> ~brelation~': 26,\n",
       " '~pad~ -> ~connector~': 27,\n",
       " '~var~ -> ~relation~': 28,\n",
       " '~var~ -> ~pad~': 29,\n",
       " '~var~ -> ~value~': 30,\n",
       " '~var~ -> ~func~': 31,\n",
       " '~var~ -> ~break~': 32,\n",
       " '~var~ -> ~container~': 33,\n",
       " '~var~ -> ~def~': 34,\n",
       " '~var~ -> ~brelation~': 35,\n",
       " '~var~ -> ~connector~': 36,\n",
       " '~value~ -> ~relation~': 37,\n",
       " '~value~ -> ~pad~': 38,\n",
       " '~value~ -> ~var~': 39,\n",
       " '~value~ -> ~func~': 40,\n",
       " '~value~ -> ~break~': 41,\n",
       " '~value~ -> ~container~': 42,\n",
       " '~value~ -> ~def~': 43,\n",
       " '~value~ -> ~brelation~': 44,\n",
       " '~value~ -> ~connector~': 45,\n",
       " '~func~ -> ~relation~': 46,\n",
       " '~func~ -> ~pad~': 47,\n",
       " '~func~ -> ~var~': 48,\n",
       " '~func~ -> ~value~': 49,\n",
       " '~func~ -> ~break~': 50,\n",
       " '~func~ -> ~container~': 51,\n",
       " '~func~ -> ~def~': 52,\n",
       " '~func~ -> ~brelation~': 53,\n",
       " '~func~ -> ~connector~': 54,\n",
       " '~break~ -> ~relation~': 55,\n",
       " '~break~ -> ~pad~': 56,\n",
       " '~break~ -> ~var~': 57,\n",
       " '~break~ -> ~value~': 58,\n",
       " '~break~ -> ~func~': 59,\n",
       " '~break~ -> ~container~': 60,\n",
       " '~break~ -> ~def~': 61,\n",
       " '~break~ -> ~brelation~': 62,\n",
       " '~break~ -> ~connector~': 63,\n",
       " '~container~ -> ~relation~': 64,\n",
       " '~container~ -> ~pad~': 65,\n",
       " '~container~ -> ~var~': 66,\n",
       " '~container~ -> ~value~': 67,\n",
       " '~container~ -> ~func~': 68,\n",
       " '~container~ -> ~break~': 69,\n",
       " '~container~ -> ~def~': 70,\n",
       " '~container~ -> ~brelation~': 71,\n",
       " '~container~ -> ~connector~': 72,\n",
       " '~def~ -> ~relation~': 73,\n",
       " '~def~ -> ~pad~': 74,\n",
       " '~def~ -> ~var~': 75,\n",
       " '~def~ -> ~value~': 76,\n",
       " '~def~ -> ~func~': 77,\n",
       " '~def~ -> ~break~': 78,\n",
       " '~def~ -> ~container~': 79,\n",
       " '~def~ -> ~brelation~': 80,\n",
       " '~def~ -> ~connector~': 81,\n",
       " '~brelation~ -> ~relation~': 82,\n",
       " '~brelation~ -> ~pad~': 83,\n",
       " '~brelation~ -> ~var~': 84,\n",
       " '~brelation~ -> ~value~': 85,\n",
       " '~brelation~ -> ~func~': 86,\n",
       " '~brelation~ -> ~break~': 87,\n",
       " '~brelation~ -> ~container~': 88,\n",
       " '~brelation~ -> ~def~': 89,\n",
       " '~brelation~ -> ~connector~': 90,\n",
       " '~connector~ -> ~relation~': 91,\n",
       " '~connector~ -> ~pad~': 92,\n",
       " '~connector~ -> ~var~': 93,\n",
       " '~connector~ -> ~value~': 94,\n",
       " '~connector~ -> ~func~': 95,\n",
       " '~connector~ -> ~break~': 96,\n",
       " '~connector~ -> ~container~': 97,\n",
       " '~connector~ -> ~def~': 98,\n",
       " '~connector~ -> ~brelation~': 99,\n",
       " '~relation~ -> ~pad~ -> ~var~': 100,\n",
       " '~relation~ -> ~pad~ -> ~value~': 101,\n",
       " '~relation~ -> ~pad~ -> ~func~': 102,\n",
       " '~relation~ -> ~pad~ -> ~break~': 103,\n",
       " '~relation~ -> ~pad~ -> ~container~': 104,\n",
       " '~relation~ -> ~pad~ -> ~def~': 105,\n",
       " '~relation~ -> ~pad~ -> ~brelation~': 106,\n",
       " '~relation~ -> ~pad~ -> ~connector~': 107,\n",
       " '~relation~ -> ~var~ -> ~pad~': 108,\n",
       " '~relation~ -> ~var~ -> ~value~': 109,\n",
       " '~relation~ -> ~var~ -> ~func~': 110,\n",
       " '~relation~ -> ~var~ -> ~break~': 111,\n",
       " '~relation~ -> ~var~ -> ~container~': 112,\n",
       " '~relation~ -> ~var~ -> ~def~': 113,\n",
       " '~relation~ -> ~var~ -> ~brelation~': 114,\n",
       " '~relation~ -> ~var~ -> ~connector~': 115,\n",
       " '~relation~ -> ~value~ -> ~pad~': 116,\n",
       " '~relation~ -> ~value~ -> ~var~': 117,\n",
       " '~relation~ -> ~value~ -> ~func~': 118,\n",
       " '~relation~ -> ~value~ -> ~break~': 119,\n",
       " '~relation~ -> ~value~ -> ~container~': 120,\n",
       " '~relation~ -> ~value~ -> ~def~': 121,\n",
       " '~relation~ -> ~value~ -> ~brelation~': 122,\n",
       " '~relation~ -> ~value~ -> ~connector~': 123,\n",
       " '~relation~ -> ~func~ -> ~pad~': 124,\n",
       " '~relation~ -> ~func~ -> ~var~': 125,\n",
       " '~relation~ -> ~func~ -> ~value~': 126,\n",
       " '~relation~ -> ~func~ -> ~break~': 127,\n",
       " '~relation~ -> ~func~ -> ~container~': 128,\n",
       " '~relation~ -> ~func~ -> ~def~': 129,\n",
       " '~relation~ -> ~func~ -> ~brelation~': 130,\n",
       " '~relation~ -> ~func~ -> ~connector~': 131,\n",
       " '~relation~ -> ~break~ -> ~pad~': 132,\n",
       " '~relation~ -> ~break~ -> ~var~': 133,\n",
       " '~relation~ -> ~break~ -> ~value~': 134,\n",
       " '~relation~ -> ~break~ -> ~func~': 135,\n",
       " '~relation~ -> ~break~ -> ~container~': 136,\n",
       " '~relation~ -> ~break~ -> ~def~': 137,\n",
       " '~relation~ -> ~break~ -> ~brelation~': 138,\n",
       " '~relation~ -> ~break~ -> ~connector~': 139,\n",
       " '~relation~ -> ~container~ -> ~pad~': 140,\n",
       " '~relation~ -> ~container~ -> ~var~': 141,\n",
       " '~relation~ -> ~container~ -> ~value~': 142,\n",
       " '~relation~ -> ~container~ -> ~func~': 143,\n",
       " '~relation~ -> ~container~ -> ~break~': 144,\n",
       " '~relation~ -> ~container~ -> ~def~': 145,\n",
       " '~relation~ -> ~container~ -> ~brelation~': 146,\n",
       " '~relation~ -> ~container~ -> ~connector~': 147,\n",
       " '~relation~ -> ~def~ -> ~pad~': 148,\n",
       " '~relation~ -> ~def~ -> ~var~': 149,\n",
       " '~relation~ -> ~def~ -> ~value~': 150,\n",
       " '~relation~ -> ~def~ -> ~func~': 151,\n",
       " '~relation~ -> ~def~ -> ~break~': 152,\n",
       " '~relation~ -> ~def~ -> ~container~': 153,\n",
       " '~relation~ -> ~def~ -> ~brelation~': 154,\n",
       " '~relation~ -> ~def~ -> ~connector~': 155,\n",
       " '~relation~ -> ~brelation~ -> ~pad~': 156,\n",
       " '~relation~ -> ~brelation~ -> ~var~': 157,\n",
       " '~relation~ -> ~brelation~ -> ~value~': 158,\n",
       " '~relation~ -> ~brelation~ -> ~func~': 159,\n",
       " '~relation~ -> ~brelation~ -> ~break~': 160,\n",
       " '~relation~ -> ~brelation~ -> ~container~': 161,\n",
       " '~relation~ -> ~brelation~ -> ~def~': 162,\n",
       " '~relation~ -> ~brelation~ -> ~connector~': 163,\n",
       " '~relation~ -> ~connector~ -> ~pad~': 164,\n",
       " '~relation~ -> ~connector~ -> ~var~': 165,\n",
       " '~relation~ -> ~connector~ -> ~value~': 166,\n",
       " '~relation~ -> ~connector~ -> ~func~': 167,\n",
       " '~relation~ -> ~connector~ -> ~break~': 168,\n",
       " '~relation~ -> ~connector~ -> ~container~': 169,\n",
       " '~relation~ -> ~connector~ -> ~def~': 170,\n",
       " '~relation~ -> ~connector~ -> ~brelation~': 171,\n",
       " '~pad~ -> ~relation~ -> ~var~': 172,\n",
       " '~pad~ -> ~relation~ -> ~value~': 173,\n",
       " '~pad~ -> ~relation~ -> ~func~': 174,\n",
       " '~pad~ -> ~relation~ -> ~break~': 175,\n",
       " '~pad~ -> ~relation~ -> ~container~': 176,\n",
       " '~pad~ -> ~relation~ -> ~def~': 177,\n",
       " '~pad~ -> ~relation~ -> ~brelation~': 178,\n",
       " '~pad~ -> ~relation~ -> ~connector~': 179,\n",
       " '~pad~ -> ~var~ -> ~relation~': 180,\n",
       " '~pad~ -> ~var~ -> ~value~': 181,\n",
       " '~pad~ -> ~var~ -> ~func~': 182,\n",
       " '~pad~ -> ~var~ -> ~break~': 183,\n",
       " '~pad~ -> ~var~ -> ~container~': 184,\n",
       " '~pad~ -> ~var~ -> ~def~': 185,\n",
       " '~pad~ -> ~var~ -> ~brelation~': 186,\n",
       " '~pad~ -> ~var~ -> ~connector~': 187,\n",
       " '~pad~ -> ~value~ -> ~relation~': 188,\n",
       " '~pad~ -> ~value~ -> ~var~': 189,\n",
       " '~pad~ -> ~value~ -> ~func~': 190,\n",
       " '~pad~ -> ~value~ -> ~break~': 191,\n",
       " '~pad~ -> ~value~ -> ~container~': 192,\n",
       " '~pad~ -> ~value~ -> ~def~': 193,\n",
       " '~pad~ -> ~value~ -> ~brelation~': 194,\n",
       " '~pad~ -> ~value~ -> ~connector~': 195,\n",
       " '~pad~ -> ~func~ -> ~relation~': 196,\n",
       " '~pad~ -> ~func~ -> ~var~': 197,\n",
       " '~pad~ -> ~func~ -> ~value~': 198,\n",
       " '~pad~ -> ~func~ -> ~break~': 199,\n",
       " '~pad~ -> ~func~ -> ~container~': 200,\n",
       " '~pad~ -> ~func~ -> ~def~': 201,\n",
       " '~pad~ -> ~func~ -> ~brelation~': 202,\n",
       " '~pad~ -> ~func~ -> ~connector~': 203,\n",
       " '~pad~ -> ~break~ -> ~relation~': 204,\n",
       " '~pad~ -> ~break~ -> ~var~': 205,\n",
       " '~pad~ -> ~break~ -> ~value~': 206,\n",
       " '~pad~ -> ~break~ -> ~func~': 207,\n",
       " '~pad~ -> ~break~ -> ~container~': 208,\n",
       " '~pad~ -> ~break~ -> ~def~': 209,\n",
       " '~pad~ -> ~break~ -> ~brelation~': 210,\n",
       " '~pad~ -> ~break~ -> ~connector~': 211,\n",
       " '~pad~ -> ~container~ -> ~relation~': 212,\n",
       " '~pad~ -> ~container~ -> ~var~': 213,\n",
       " '~pad~ -> ~container~ -> ~value~': 214,\n",
       " '~pad~ -> ~container~ -> ~func~': 215,\n",
       " '~pad~ -> ~container~ -> ~break~': 216,\n",
       " '~pad~ -> ~container~ -> ~def~': 217,\n",
       " '~pad~ -> ~container~ -> ~brelation~': 218,\n",
       " '~pad~ -> ~container~ -> ~connector~': 219,\n",
       " '~pad~ -> ~def~ -> ~relation~': 220,\n",
       " '~pad~ -> ~def~ -> ~var~': 221,\n",
       " '~pad~ -> ~def~ -> ~value~': 222,\n",
       " '~pad~ -> ~def~ -> ~func~': 223,\n",
       " '~pad~ -> ~def~ -> ~break~': 224,\n",
       " '~pad~ -> ~def~ -> ~container~': 225,\n",
       " '~pad~ -> ~def~ -> ~brelation~': 226,\n",
       " '~pad~ -> ~def~ -> ~connector~': 227,\n",
       " '~pad~ -> ~brelation~ -> ~relation~': 228,\n",
       " '~pad~ -> ~brelation~ -> ~var~': 229,\n",
       " '~pad~ -> ~brelation~ -> ~value~': 230,\n",
       " '~pad~ -> ~brelation~ -> ~func~': 231,\n",
       " '~pad~ -> ~brelation~ -> ~break~': 232,\n",
       " '~pad~ -> ~brelation~ -> ~container~': 233,\n",
       " '~pad~ -> ~brelation~ -> ~def~': 234,\n",
       " '~pad~ -> ~brelation~ -> ~connector~': 235,\n",
       " '~pad~ -> ~connector~ -> ~relation~': 236,\n",
       " '~pad~ -> ~connector~ -> ~var~': 237,\n",
       " '~pad~ -> ~connector~ -> ~value~': 238,\n",
       " '~pad~ -> ~connector~ -> ~func~': 239,\n",
       " '~pad~ -> ~connector~ -> ~break~': 240,\n",
       " '~pad~ -> ~connector~ -> ~container~': 241,\n",
       " '~pad~ -> ~connector~ -> ~def~': 242,\n",
       " '~pad~ -> ~connector~ -> ~brelation~': 243,\n",
       " '~var~ -> ~relation~ -> ~pad~': 244,\n",
       " '~var~ -> ~relation~ -> ~value~': 245,\n",
       " '~var~ -> ~relation~ -> ~func~': 246,\n",
       " '~var~ -> ~relation~ -> ~break~': 247,\n",
       " '~var~ -> ~relation~ -> ~container~': 248,\n",
       " '~var~ -> ~relation~ -> ~def~': 249,\n",
       " '~var~ -> ~relation~ -> ~brelation~': 250,\n",
       " '~var~ -> ~relation~ -> ~connector~': 251,\n",
       " '~var~ -> ~pad~ -> ~relation~': 252,\n",
       " '~var~ -> ~pad~ -> ~value~': 253,\n",
       " '~var~ -> ~pad~ -> ~func~': 254,\n",
       " '~var~ -> ~pad~ -> ~break~': 255,\n",
       " '~var~ -> ~pad~ -> ~container~': 256,\n",
       " '~var~ -> ~pad~ -> ~def~': 257,\n",
       " '~var~ -> ~pad~ -> ~brelation~': 258,\n",
       " '~var~ -> ~pad~ -> ~connector~': 259,\n",
       " '~var~ -> ~value~ -> ~relation~': 260,\n",
       " '~var~ -> ~value~ -> ~pad~': 261,\n",
       " '~var~ -> ~value~ -> ~func~': 262,\n",
       " '~var~ -> ~value~ -> ~break~': 263,\n",
       " '~var~ -> ~value~ -> ~container~': 264,\n",
       " '~var~ -> ~value~ -> ~def~': 265,\n",
       " '~var~ -> ~value~ -> ~brelation~': 266,\n",
       " '~var~ -> ~value~ -> ~connector~': 267,\n",
       " '~var~ -> ~func~ -> ~relation~': 268,\n",
       " '~var~ -> ~func~ -> ~pad~': 269,\n",
       " '~var~ -> ~func~ -> ~value~': 270,\n",
       " '~var~ -> ~func~ -> ~break~': 271,\n",
       " '~var~ -> ~func~ -> ~container~': 272,\n",
       " '~var~ -> ~func~ -> ~def~': 273,\n",
       " '~var~ -> ~func~ -> ~brelation~': 274,\n",
       " '~var~ -> ~func~ -> ~connector~': 275,\n",
       " '~var~ -> ~break~ -> ~relation~': 276,\n",
       " '~var~ -> ~break~ -> ~pad~': 277,\n",
       " '~var~ -> ~break~ -> ~value~': 278,\n",
       " '~var~ -> ~break~ -> ~func~': 279,\n",
       " '~var~ -> ~break~ -> ~container~': 280,\n",
       " '~var~ -> ~break~ -> ~def~': 281,\n",
       " '~var~ -> ~break~ -> ~brelation~': 282,\n",
       " '~var~ -> ~break~ -> ~connector~': 283,\n",
       " '~var~ -> ~container~ -> ~relation~': 284,\n",
       " '~var~ -> ~container~ -> ~pad~': 285,\n",
       " '~var~ -> ~container~ -> ~value~': 286,\n",
       " '~var~ -> ~container~ -> ~func~': 287,\n",
       " '~var~ -> ~container~ -> ~break~': 288,\n",
       " '~var~ -> ~container~ -> ~def~': 289,\n",
       " '~var~ -> ~container~ -> ~brelation~': 290,\n",
       " '~var~ -> ~container~ -> ~connector~': 291,\n",
       " '~var~ -> ~def~ -> ~relation~': 292,\n",
       " '~var~ -> ~def~ -> ~pad~': 293,\n",
       " '~var~ -> ~def~ -> ~value~': 294,\n",
       " '~var~ -> ~def~ -> ~func~': 295,\n",
       " '~var~ -> ~def~ -> ~break~': 296,\n",
       " '~var~ -> ~def~ -> ~container~': 297,\n",
       " '~var~ -> ~def~ -> ~brelation~': 298,\n",
       " '~var~ -> ~def~ -> ~connector~': 299,\n",
       " '~var~ -> ~brelation~ -> ~relation~': 300,\n",
       " '~var~ -> ~brelation~ -> ~pad~': 301,\n",
       " '~var~ -> ~brelation~ -> ~value~': 302,\n",
       " '~var~ -> ~brelation~ -> ~func~': 303,\n",
       " '~var~ -> ~brelation~ -> ~break~': 304,\n",
       " '~var~ -> ~brelation~ -> ~container~': 305,\n",
       " '~var~ -> ~brelation~ -> ~def~': 306,\n",
       " '~var~ -> ~brelation~ -> ~connector~': 307,\n",
       " '~var~ -> ~connector~ -> ~relation~': 308,\n",
       " '~var~ -> ~connector~ -> ~pad~': 309,\n",
       " '~var~ -> ~connector~ -> ~value~': 310,\n",
       " '~var~ -> ~connector~ -> ~func~': 311,\n",
       " '~var~ -> ~connector~ -> ~break~': 312,\n",
       " '~var~ -> ~connector~ -> ~container~': 313,\n",
       " '~var~ -> ~connector~ -> ~def~': 314,\n",
       " '~var~ -> ~connector~ -> ~brelation~': 315,\n",
       " '~value~ -> ~relation~ -> ~pad~': 316,\n",
       " '~value~ -> ~relation~ -> ~var~': 317,\n",
       " '~value~ -> ~relation~ -> ~func~': 318,\n",
       " '~value~ -> ~relation~ -> ~break~': 319,\n",
       " '~value~ -> ~relation~ -> ~container~': 320,\n",
       " '~value~ -> ~relation~ -> ~def~': 321,\n",
       " '~value~ -> ~relation~ -> ~brelation~': 322,\n",
       " '~value~ -> ~relation~ -> ~connector~': 323,\n",
       " '~value~ -> ~pad~ -> ~relation~': 324,\n",
       " '~value~ -> ~pad~ -> ~var~': 325,\n",
       " '~value~ -> ~pad~ -> ~func~': 326,\n",
       " '~value~ -> ~pad~ -> ~break~': 327,\n",
       " '~value~ -> ~pad~ -> ~container~': 328,\n",
       " '~value~ -> ~pad~ -> ~def~': 329,\n",
       " '~value~ -> ~pad~ -> ~brelation~': 330,\n",
       " '~value~ -> ~pad~ -> ~connector~': 331,\n",
       " '~value~ -> ~var~ -> ~relation~': 332,\n",
       " '~value~ -> ~var~ -> ~pad~': 333,\n",
       " '~value~ -> ~var~ -> ~func~': 334,\n",
       " '~value~ -> ~var~ -> ~break~': 335,\n",
       " '~value~ -> ~var~ -> ~container~': 336,\n",
       " '~value~ -> ~var~ -> ~def~': 337,\n",
       " '~value~ -> ~var~ -> ~brelation~': 338,\n",
       " '~value~ -> ~var~ -> ~connector~': 339,\n",
       " '~value~ -> ~func~ -> ~relation~': 340,\n",
       " '~value~ -> ~func~ -> ~pad~': 341,\n",
       " '~value~ -> ~func~ -> ~var~': 342,\n",
       " '~value~ -> ~func~ -> ~break~': 343,\n",
       " '~value~ -> ~func~ -> ~container~': 344,\n",
       " '~value~ -> ~func~ -> ~def~': 345,\n",
       " '~value~ -> ~func~ -> ~brelation~': 346,\n",
       " '~value~ -> ~func~ -> ~connector~': 347,\n",
       " '~value~ -> ~break~ -> ~relation~': 348,\n",
       " '~value~ -> ~break~ -> ~pad~': 349,\n",
       " '~value~ -> ~break~ -> ~var~': 350,\n",
       " '~value~ -> ~break~ -> ~func~': 351,\n",
       " '~value~ -> ~break~ -> ~container~': 352,\n",
       " '~value~ -> ~break~ -> ~def~': 353,\n",
       " '~value~ -> ~break~ -> ~brelation~': 354,\n",
       " '~value~ -> ~break~ -> ~connector~': 355,\n",
       " '~value~ -> ~container~ -> ~relation~': 356,\n",
       " '~value~ -> ~container~ -> ~pad~': 357,\n",
       " '~value~ -> ~container~ -> ~var~': 358,\n",
       " '~value~ -> ~container~ -> ~func~': 359,\n",
       " '~value~ -> ~container~ -> ~break~': 360,\n",
       " '~value~ -> ~container~ -> ~def~': 361,\n",
       " '~value~ -> ~container~ -> ~brelation~': 362,\n",
       " '~value~ -> ~container~ -> ~connector~': 363,\n",
       " '~value~ -> ~def~ -> ~relation~': 364,\n",
       " '~value~ -> ~def~ -> ~pad~': 365,\n",
       " '~value~ -> ~def~ -> ~var~': 366,\n",
       " '~value~ -> ~def~ -> ~func~': 367,\n",
       " '~value~ -> ~def~ -> ~break~': 368,\n",
       " '~value~ -> ~def~ -> ~container~': 369,\n",
       " '~value~ -> ~def~ -> ~brelation~': 370,\n",
       " '~value~ -> ~def~ -> ~connector~': 371,\n",
       " '~value~ -> ~brelation~ -> ~relation~': 372,\n",
       " '~value~ -> ~brelation~ -> ~pad~': 373,\n",
       " '~value~ -> ~brelation~ -> ~var~': 374,\n",
       " '~value~ -> ~brelation~ -> ~func~': 375,\n",
       " '~value~ -> ~brelation~ -> ~break~': 376,\n",
       " '~value~ -> ~brelation~ -> ~container~': 377,\n",
       " '~value~ -> ~brelation~ -> ~def~': 378,\n",
       " '~value~ -> ~brelation~ -> ~connector~': 379,\n",
       " '~value~ -> ~connector~ -> ~relation~': 380,\n",
       " '~value~ -> ~connector~ -> ~pad~': 381,\n",
       " '~value~ -> ~connector~ -> ~var~': 382,\n",
       " '~value~ -> ~connector~ -> ~func~': 383,\n",
       " '~value~ -> ~connector~ -> ~break~': 384,\n",
       " '~value~ -> ~connector~ -> ~container~': 385,\n",
       " '~value~ -> ~connector~ -> ~def~': 386,\n",
       " '~value~ -> ~connector~ -> ~brelation~': 387,\n",
       " '~func~ -> ~relation~ -> ~pad~': 388,\n",
       " '~func~ -> ~relation~ -> ~var~': 389,\n",
       " '~func~ -> ~relation~ -> ~value~': 390,\n",
       " '~func~ -> ~relation~ -> ~break~': 391,\n",
       " '~func~ -> ~relation~ -> ~container~': 392,\n",
       " '~func~ -> ~relation~ -> ~def~': 393,\n",
       " '~func~ -> ~relation~ -> ~brelation~': 394,\n",
       " '~func~ -> ~relation~ -> ~connector~': 395,\n",
       " '~func~ -> ~pad~ -> ~relation~': 396,\n",
       " '~func~ -> ~pad~ -> ~var~': 397,\n",
       " '~func~ -> ~pad~ -> ~value~': 398,\n",
       " '~func~ -> ~pad~ -> ~break~': 399,\n",
       " '~func~ -> ~pad~ -> ~container~': 400,\n",
       " '~func~ -> ~pad~ -> ~def~': 401,\n",
       " '~func~ -> ~pad~ -> ~brelation~': 402,\n",
       " '~func~ -> ~pad~ -> ~connector~': 403,\n",
       " '~func~ -> ~var~ -> ~relation~': 404,\n",
       " '~func~ -> ~var~ -> ~pad~': 405,\n",
       " '~func~ -> ~var~ -> ~value~': 406,\n",
       " '~func~ -> ~var~ -> ~break~': 407,\n",
       " '~func~ -> ~var~ -> ~container~': 408,\n",
       " '~func~ -> ~var~ -> ~def~': 409,\n",
       " '~func~ -> ~var~ -> ~brelation~': 410,\n",
       " '~func~ -> ~var~ -> ~connector~': 411,\n",
       " '~func~ -> ~value~ -> ~relation~': 412,\n",
       " '~func~ -> ~value~ -> ~pad~': 413,\n",
       " '~func~ -> ~value~ -> ~var~': 414,\n",
       " '~func~ -> ~value~ -> ~break~': 415,\n",
       " '~func~ -> ~value~ -> ~container~': 416,\n",
       " '~func~ -> ~value~ -> ~def~': 417,\n",
       " '~func~ -> ~value~ -> ~brelation~': 418,\n",
       " '~func~ -> ~value~ -> ~connector~': 419,\n",
       " '~func~ -> ~break~ -> ~relation~': 420,\n",
       " '~func~ -> ~break~ -> ~pad~': 421,\n",
       " '~func~ -> ~break~ -> ~var~': 422,\n",
       " '~func~ -> ~break~ -> ~value~': 423,\n",
       " '~func~ -> ~break~ -> ~container~': 424,\n",
       " '~func~ -> ~break~ -> ~def~': 425,\n",
       " '~func~ -> ~break~ -> ~brelation~': 426,\n",
       " '~func~ -> ~break~ -> ~connector~': 427,\n",
       " '~func~ -> ~container~ -> ~relation~': 428,\n",
       " '~func~ -> ~container~ -> ~pad~': 429,\n",
       " '~func~ -> ~container~ -> ~var~': 430,\n",
       " '~func~ -> ~container~ -> ~value~': 431,\n",
       " '~func~ -> ~container~ -> ~break~': 432,\n",
       " '~func~ -> ~container~ -> ~def~': 433,\n",
       " '~func~ -> ~container~ -> ~brelation~': 434,\n",
       " '~func~ -> ~container~ -> ~connector~': 435,\n",
       " '~func~ -> ~def~ -> ~relation~': 436,\n",
       " '~func~ -> ~def~ -> ~pad~': 437,\n",
       " '~func~ -> ~def~ -> ~var~': 438,\n",
       " '~func~ -> ~def~ -> ~value~': 439,\n",
       " '~func~ -> ~def~ -> ~break~': 440,\n",
       " '~func~ -> ~def~ -> ~container~': 441,\n",
       " '~func~ -> ~def~ -> ~brelation~': 442,\n",
       " '~func~ -> ~def~ -> ~connector~': 443,\n",
       " '~func~ -> ~brelation~ -> ~relation~': 444,\n",
       " '~func~ -> ~brelation~ -> ~pad~': 445,\n",
       " '~func~ -> ~brelation~ -> ~var~': 446,\n",
       " '~func~ -> ~brelation~ -> ~value~': 447,\n",
       " '~func~ -> ~brelation~ -> ~break~': 448,\n",
       " '~func~ -> ~brelation~ -> ~container~': 449,\n",
       " '~func~ -> ~brelation~ -> ~def~': 450,\n",
       " '~func~ -> ~brelation~ -> ~connector~': 451,\n",
       " '~func~ -> ~connector~ -> ~relation~': 452,\n",
       " '~func~ -> ~connector~ -> ~pad~': 453,\n",
       " '~func~ -> ~connector~ -> ~var~': 454,\n",
       " '~func~ -> ~connector~ -> ~value~': 455,\n",
       " '~func~ -> ~connector~ -> ~break~': 456,\n",
       " '~func~ -> ~connector~ -> ~container~': 457,\n",
       " '~func~ -> ~connector~ -> ~def~': 458,\n",
       " '~func~ -> ~connector~ -> ~brelation~': 459,\n",
       " '~break~ -> ~relation~ -> ~pad~': 460,\n",
       " '~break~ -> ~relation~ -> ~var~': 461,\n",
       " '~break~ -> ~relation~ -> ~value~': 462,\n",
       " '~break~ -> ~relation~ -> ~func~': 463,\n",
       " '~break~ -> ~relation~ -> ~container~': 464,\n",
       " '~break~ -> ~relation~ -> ~def~': 465,\n",
       " '~break~ -> ~relation~ -> ~brelation~': 466,\n",
       " '~break~ -> ~relation~ -> ~connector~': 467,\n",
       " '~break~ -> ~pad~ -> ~relation~': 468,\n",
       " '~break~ -> ~pad~ -> ~var~': 469,\n",
       " '~break~ -> ~pad~ -> ~value~': 470,\n",
       " '~break~ -> ~pad~ -> ~func~': 471,\n",
       " '~break~ -> ~pad~ -> ~container~': 472,\n",
       " '~break~ -> ~pad~ -> ~def~': 473,\n",
       " '~break~ -> ~pad~ -> ~brelation~': 474,\n",
       " '~break~ -> ~pad~ -> ~connector~': 475,\n",
       " '~break~ -> ~var~ -> ~relation~': 476,\n",
       " '~break~ -> ~var~ -> ~pad~': 477,\n",
       " '~break~ -> ~var~ -> ~value~': 478,\n",
       " '~break~ -> ~var~ -> ~func~': 479,\n",
       " '~break~ -> ~var~ -> ~container~': 480,\n",
       " '~break~ -> ~var~ -> ~def~': 481,\n",
       " '~break~ -> ~var~ -> ~brelation~': 482,\n",
       " '~break~ -> ~var~ -> ~connector~': 483,\n",
       " '~break~ -> ~value~ -> ~relation~': 484,\n",
       " '~break~ -> ~value~ -> ~pad~': 485,\n",
       " '~break~ -> ~value~ -> ~var~': 486,\n",
       " '~break~ -> ~value~ -> ~func~': 487,\n",
       " '~break~ -> ~value~ -> ~container~': 488,\n",
       " '~break~ -> ~value~ -> ~def~': 489,\n",
       " '~break~ -> ~value~ -> ~brelation~': 490,\n",
       " '~break~ -> ~value~ -> ~connector~': 491,\n",
       " '~break~ -> ~func~ -> ~relation~': 492,\n",
       " '~break~ -> ~func~ -> ~pad~': 493,\n",
       " '~break~ -> ~func~ -> ~var~': 494,\n",
       " '~break~ -> ~func~ -> ~value~': 495,\n",
       " '~break~ -> ~func~ -> ~container~': 496,\n",
       " '~break~ -> ~func~ -> ~def~': 497,\n",
       " '~break~ -> ~func~ -> ~brelation~': 498,\n",
       " '~break~ -> ~func~ -> ~connector~': 499,\n",
       " '~break~ -> ~container~ -> ~relation~': 500,\n",
       " '~break~ -> ~container~ -> ~pad~': 501,\n",
       " '~break~ -> ~container~ -> ~var~': 502,\n",
       " '~break~ -> ~container~ -> ~value~': 503,\n",
       " '~break~ -> ~container~ -> ~func~': 504,\n",
       " '~break~ -> ~container~ -> ~def~': 505,\n",
       " '~break~ -> ~container~ -> ~brelation~': 506,\n",
       " '~break~ -> ~container~ -> ~connector~': 507,\n",
       " '~break~ -> ~def~ -> ~relation~': 508,\n",
       " '~break~ -> ~def~ -> ~pad~': 509,\n",
       " '~break~ -> ~def~ -> ~var~': 510,\n",
       " '~break~ -> ~def~ -> ~value~': 511,\n",
       " '~break~ -> ~def~ -> ~func~': 512,\n",
       " '~break~ -> ~def~ -> ~container~': 513,\n",
       " '~break~ -> ~def~ -> ~brelation~': 514,\n",
       " '~break~ -> ~def~ -> ~connector~': 515,\n",
       " '~break~ -> ~brelation~ -> ~relation~': 516,\n",
       " '~break~ -> ~brelation~ -> ~pad~': 517,\n",
       " '~break~ -> ~brelation~ -> ~var~': 518,\n",
       " '~break~ -> ~brelation~ -> ~value~': 519,\n",
       " '~break~ -> ~brelation~ -> ~func~': 520,\n",
       " '~break~ -> ~brelation~ -> ~container~': 521,\n",
       " '~break~ -> ~brelation~ -> ~def~': 522,\n",
       " '~break~ -> ~brelation~ -> ~connector~': 523,\n",
       " '~break~ -> ~connector~ -> ~relation~': 524,\n",
       " '~break~ -> ~connector~ -> ~pad~': 525,\n",
       " '~break~ -> ~connector~ -> ~var~': 526,\n",
       " '~break~ -> ~connector~ -> ~value~': 527,\n",
       " '~break~ -> ~connector~ -> ~func~': 528,\n",
       " '~break~ -> ~connector~ -> ~container~': 529,\n",
       " '~break~ -> ~connector~ -> ~def~': 530,\n",
       " '~break~ -> ~connector~ -> ~brelation~': 531,\n",
       " '~container~ -> ~relation~ -> ~pad~': 532,\n",
       " '~container~ -> ~relation~ -> ~var~': 533,\n",
       " '~container~ -> ~relation~ -> ~value~': 534,\n",
       " '~container~ -> ~relation~ -> ~func~': 535,\n",
       " '~container~ -> ~relation~ -> ~break~': 536,\n",
       " '~container~ -> ~relation~ -> ~def~': 537,\n",
       " '~container~ -> ~relation~ -> ~brelation~': 538,\n",
       " '~container~ -> ~relation~ -> ~connector~': 539,\n",
       " '~container~ -> ~pad~ -> ~relation~': 540,\n",
       " '~container~ -> ~pad~ -> ~var~': 541,\n",
       " '~container~ -> ~pad~ -> ~value~': 542,\n",
       " '~container~ -> ~pad~ -> ~func~': 543,\n",
       " '~container~ -> ~pad~ -> ~break~': 544,\n",
       " '~container~ -> ~pad~ -> ~def~': 545,\n",
       " '~container~ -> ~pad~ -> ~brelation~': 546,\n",
       " '~container~ -> ~pad~ -> ~connector~': 547,\n",
       " '~container~ -> ~var~ -> ~relation~': 548,\n",
       " '~container~ -> ~var~ -> ~pad~': 549,\n",
       " '~container~ -> ~var~ -> ~value~': 550,\n",
       " '~container~ -> ~var~ -> ~func~': 551,\n",
       " '~container~ -> ~var~ -> ~break~': 552,\n",
       " '~container~ -> ~var~ -> ~def~': 553,\n",
       " '~container~ -> ~var~ -> ~brelation~': 554,\n",
       " '~container~ -> ~var~ -> ~connector~': 555,\n",
       " '~container~ -> ~value~ -> ~relation~': 556,\n",
       " '~container~ -> ~value~ -> ~pad~': 557,\n",
       " '~container~ -> ~value~ -> ~var~': 558,\n",
       " '~container~ -> ~value~ -> ~func~': 559,\n",
       " '~container~ -> ~value~ -> ~break~': 560,\n",
       " '~container~ -> ~value~ -> ~def~': 561,\n",
       " '~container~ -> ~value~ -> ~brelation~': 562,\n",
       " '~container~ -> ~value~ -> ~connector~': 563,\n",
       " '~container~ -> ~func~ -> ~relation~': 564,\n",
       " '~container~ -> ~func~ -> ~pad~': 565,\n",
       " '~container~ -> ~func~ -> ~var~': 566,\n",
       " '~container~ -> ~func~ -> ~value~': 567,\n",
       " '~container~ -> ~func~ -> ~break~': 568,\n",
       " '~container~ -> ~func~ -> ~def~': 569,\n",
       " '~container~ -> ~func~ -> ~brelation~': 570,\n",
       " '~container~ -> ~func~ -> ~connector~': 571,\n",
       " '~container~ -> ~break~ -> ~relation~': 572,\n",
       " '~container~ -> ~break~ -> ~pad~': 573,\n",
       " '~container~ -> ~break~ -> ~var~': 574,\n",
       " '~container~ -> ~break~ -> ~value~': 575,\n",
       " '~container~ -> ~break~ -> ~func~': 576,\n",
       " '~container~ -> ~break~ -> ~def~': 577,\n",
       " '~container~ -> ~break~ -> ~brelation~': 578,\n",
       " '~container~ -> ~break~ -> ~connector~': 579,\n",
       " '~container~ -> ~def~ -> ~relation~': 580,\n",
       " '~container~ -> ~def~ -> ~pad~': 581,\n",
       " '~container~ -> ~def~ -> ~var~': 582,\n",
       " '~container~ -> ~def~ -> ~value~': 583,\n",
       " '~container~ -> ~def~ -> ~func~': 584,\n",
       " '~container~ -> ~def~ -> ~break~': 585,\n",
       " '~container~ -> ~def~ -> ~brelation~': 586,\n",
       " '~container~ -> ~def~ -> ~connector~': 587,\n",
       " '~container~ -> ~brelation~ -> ~relation~': 588,\n",
       " '~container~ -> ~brelation~ -> ~pad~': 589,\n",
       " '~container~ -> ~brelation~ -> ~var~': 590,\n",
       " '~container~ -> ~brelation~ -> ~value~': 591,\n",
       " '~container~ -> ~brelation~ -> ~func~': 592,\n",
       " '~container~ -> ~brelation~ -> ~break~': 593,\n",
       " '~container~ -> ~brelation~ -> ~def~': 594,\n",
       " '~container~ -> ~brelation~ -> ~connector~': 595,\n",
       " '~container~ -> ~connector~ -> ~relation~': 596,\n",
       " '~container~ -> ~connector~ -> ~pad~': 597,\n",
       " '~container~ -> ~connector~ -> ~var~': 598,\n",
       " '~container~ -> ~connector~ -> ~value~': 599,\n",
       " '~container~ -> ~connector~ -> ~func~': 600,\n",
       " '~container~ -> ~connector~ -> ~break~': 601,\n",
       " '~container~ -> ~connector~ -> ~def~': 602,\n",
       " '~container~ -> ~connector~ -> ~brelation~': 603,\n",
       " '~def~ -> ~relation~ -> ~pad~': 604,\n",
       " '~def~ -> ~relation~ -> ~var~': 605,\n",
       " '~def~ -> ~relation~ -> ~value~': 606,\n",
       " '~def~ -> ~relation~ -> ~func~': 607,\n",
       " '~def~ -> ~relation~ -> ~break~': 608,\n",
       " '~def~ -> ~relation~ -> ~container~': 609,\n",
       " '~def~ -> ~relation~ -> ~brelation~': 610,\n",
       " '~def~ -> ~relation~ -> ~connector~': 611,\n",
       " '~def~ -> ~pad~ -> ~relation~': 612,\n",
       " '~def~ -> ~pad~ -> ~var~': 613,\n",
       " '~def~ -> ~pad~ -> ~value~': 614,\n",
       " '~def~ -> ~pad~ -> ~func~': 615,\n",
       " '~def~ -> ~pad~ -> ~break~': 616,\n",
       " '~def~ -> ~pad~ -> ~container~': 617,\n",
       " '~def~ -> ~pad~ -> ~brelation~': 618,\n",
       " '~def~ -> ~pad~ -> ~connector~': 619,\n",
       " '~def~ -> ~var~ -> ~relation~': 620,\n",
       " '~def~ -> ~var~ -> ~pad~': 621,\n",
       " '~def~ -> ~var~ -> ~value~': 622,\n",
       " '~def~ -> ~var~ -> ~func~': 623,\n",
       " '~def~ -> ~var~ -> ~break~': 624,\n",
       " '~def~ -> ~var~ -> ~container~': 625,\n",
       " '~def~ -> ~var~ -> ~brelation~': 626,\n",
       " '~def~ -> ~var~ -> ~connector~': 627,\n",
       " '~def~ -> ~value~ -> ~relation~': 628,\n",
       " '~def~ -> ~value~ -> ~pad~': 629,\n",
       " '~def~ -> ~value~ -> ~var~': 630,\n",
       " '~def~ -> ~value~ -> ~func~': 631,\n",
       " '~def~ -> ~value~ -> ~break~': 632,\n",
       " '~def~ -> ~value~ -> ~container~': 633,\n",
       " '~def~ -> ~value~ -> ~brelation~': 634,\n",
       " '~def~ -> ~value~ -> ~connector~': 635,\n",
       " '~def~ -> ~func~ -> ~relation~': 636,\n",
       " '~def~ -> ~func~ -> ~pad~': 637,\n",
       " '~def~ -> ~func~ -> ~var~': 638,\n",
       " '~def~ -> ~func~ -> ~value~': 639,\n",
       " '~def~ -> ~func~ -> ~break~': 640,\n",
       " '~def~ -> ~func~ -> ~container~': 641,\n",
       " '~def~ -> ~func~ -> ~brelation~': 642,\n",
       " '~def~ -> ~func~ -> ~connector~': 643,\n",
       " '~def~ -> ~break~ -> ~relation~': 644,\n",
       " '~def~ -> ~break~ -> ~pad~': 645,\n",
       " '~def~ -> ~break~ -> ~var~': 646,\n",
       " '~def~ -> ~break~ -> ~value~': 647,\n",
       " '~def~ -> ~break~ -> ~func~': 648,\n",
       " '~def~ -> ~break~ -> ~container~': 649,\n",
       " '~def~ -> ~break~ -> ~brelation~': 650,\n",
       " '~def~ -> ~break~ -> ~connector~': 651,\n",
       " '~def~ -> ~container~ -> ~relation~': 652,\n",
       " '~def~ -> ~container~ -> ~pad~': 653,\n",
       " '~def~ -> ~container~ -> ~var~': 654,\n",
       " '~def~ -> ~container~ -> ~value~': 655,\n",
       " '~def~ -> ~container~ -> ~func~': 656,\n",
       " '~def~ -> ~container~ -> ~break~': 657,\n",
       " '~def~ -> ~container~ -> ~brelation~': 658,\n",
       " '~def~ -> ~container~ -> ~connector~': 659,\n",
       " '~def~ -> ~brelation~ -> ~relation~': 660,\n",
       " '~def~ -> ~brelation~ -> ~pad~': 661,\n",
       " '~def~ -> ~brelation~ -> ~var~': 662,\n",
       " '~def~ -> ~brelation~ -> ~value~': 663,\n",
       " '~def~ -> ~brelation~ -> ~func~': 664,\n",
       " '~def~ -> ~brelation~ -> ~break~': 665,\n",
       " '~def~ -> ~brelation~ -> ~container~': 666,\n",
       " '~def~ -> ~brelation~ -> ~connector~': 667,\n",
       " '~def~ -> ~connector~ -> ~relation~': 668,\n",
       " '~def~ -> ~connector~ -> ~pad~': 669,\n",
       " '~def~ -> ~connector~ -> ~var~': 670,\n",
       " '~def~ -> ~connector~ -> ~value~': 671,\n",
       " '~def~ -> ~connector~ -> ~func~': 672,\n",
       " '~def~ -> ~connector~ -> ~break~': 673,\n",
       " '~def~ -> ~connector~ -> ~container~': 674,\n",
       " '~def~ -> ~connector~ -> ~brelation~': 675,\n",
       " '~brelation~ -> ~relation~ -> ~pad~': 676,\n",
       " '~brelation~ -> ~relation~ -> ~var~': 677,\n",
       " '~brelation~ -> ~relation~ -> ~value~': 678,\n",
       " '~brelation~ -> ~relation~ -> ~func~': 679,\n",
       " '~brelation~ -> ~relation~ -> ~break~': 680,\n",
       " '~brelation~ -> ~relation~ -> ~container~': 681,\n",
       " '~brelation~ -> ~relation~ -> ~def~': 682,\n",
       " '~brelation~ -> ~relation~ -> ~connector~': 683,\n",
       " '~brelation~ -> ~pad~ -> ~relation~': 684,\n",
       " '~brelation~ -> ~pad~ -> ~var~': 685,\n",
       " '~brelation~ -> ~pad~ -> ~value~': 686,\n",
       " '~brelation~ -> ~pad~ -> ~func~': 687,\n",
       " '~brelation~ -> ~pad~ -> ~break~': 688,\n",
       " '~brelation~ -> ~pad~ -> ~container~': 689,\n",
       " '~brelation~ -> ~pad~ -> ~def~': 690,\n",
       " '~brelation~ -> ~pad~ -> ~connector~': 691,\n",
       " '~brelation~ -> ~var~ -> ~relation~': 692,\n",
       " '~brelation~ -> ~var~ -> ~pad~': 693,\n",
       " '~brelation~ -> ~var~ -> ~value~': 694,\n",
       " '~brelation~ -> ~var~ -> ~func~': 695,\n",
       " '~brelation~ -> ~var~ -> ~break~': 696,\n",
       " '~brelation~ -> ~var~ -> ~container~': 697,\n",
       " '~brelation~ -> ~var~ -> ~def~': 698,\n",
       " '~brelation~ -> ~var~ -> ~connector~': 699,\n",
       " '~brelation~ -> ~value~ -> ~relation~': 700,\n",
       " '~brelation~ -> ~value~ -> ~pad~': 701,\n",
       " '~brelation~ -> ~value~ -> ~var~': 702,\n",
       " '~brelation~ -> ~value~ -> ~func~': 703,\n",
       " '~brelation~ -> ~value~ -> ~break~': 704,\n",
       " '~brelation~ -> ~value~ -> ~container~': 705,\n",
       " '~brelation~ -> ~value~ -> ~def~': 706,\n",
       " '~brelation~ -> ~value~ -> ~connector~': 707,\n",
       " '~brelation~ -> ~func~ -> ~relation~': 708,\n",
       " '~brelation~ -> ~func~ -> ~pad~': 709,\n",
       " '~brelation~ -> ~func~ -> ~var~': 710,\n",
       " '~brelation~ -> ~func~ -> ~value~': 711,\n",
       " '~brelation~ -> ~func~ -> ~break~': 712,\n",
       " '~brelation~ -> ~func~ -> ~container~': 713,\n",
       " '~brelation~ -> ~func~ -> ~def~': 714,\n",
       " '~brelation~ -> ~func~ -> ~connector~': 715,\n",
       " '~brelation~ -> ~break~ -> ~relation~': 716,\n",
       " '~brelation~ -> ~break~ -> ~pad~': 717,\n",
       " '~brelation~ -> ~break~ -> ~var~': 718,\n",
       " '~brelation~ -> ~break~ -> ~value~': 719,\n",
       " '~brelation~ -> ~break~ -> ~func~': 720,\n",
       " '~brelation~ -> ~break~ -> ~container~': 721,\n",
       " '~brelation~ -> ~break~ -> ~def~': 722,\n",
       " '~brelation~ -> ~break~ -> ~connector~': 723,\n",
       " '~brelation~ -> ~container~ -> ~relation~': 724,\n",
       " '~brelation~ -> ~container~ -> ~pad~': 725,\n",
       " '~brelation~ -> ~container~ -> ~var~': 726,\n",
       " '~brelation~ -> ~container~ -> ~value~': 727,\n",
       " '~brelation~ -> ~container~ -> ~func~': 728,\n",
       " '~brelation~ -> ~container~ -> ~break~': 729,\n",
       " '~brelation~ -> ~container~ -> ~def~': 730,\n",
       " '~brelation~ -> ~container~ -> ~connector~': 731,\n",
       " '~brelation~ -> ~def~ -> ~relation~': 732,\n",
       " '~brelation~ -> ~def~ -> ~pad~': 733,\n",
       " '~brelation~ -> ~def~ -> ~var~': 734,\n",
       " '~brelation~ -> ~def~ -> ~value~': 735,\n",
       " '~brelation~ -> ~def~ -> ~func~': 736,\n",
       " '~brelation~ -> ~def~ -> ~break~': 737,\n",
       " '~brelation~ -> ~def~ -> ~container~': 738,\n",
       " '~brelation~ -> ~def~ -> ~connector~': 739,\n",
       " '~brelation~ -> ~connector~ -> ~relation~': 740,\n",
       " '~brelation~ -> ~connector~ -> ~pad~': 741,\n",
       " '~brelation~ -> ~connector~ -> ~var~': 742,\n",
       " '~brelation~ -> ~connector~ -> ~value~': 743,\n",
       " '~brelation~ -> ~connector~ -> ~func~': 744,\n",
       " '~brelation~ -> ~connector~ -> ~break~': 745,\n",
       " '~brelation~ -> ~connector~ -> ~container~': 746,\n",
       " '~brelation~ -> ~connector~ -> ~def~': 747,\n",
       " '~connector~ -> ~relation~ -> ~pad~': 748,\n",
       " '~connector~ -> ~relation~ -> ~var~': 749,\n",
       " '~connector~ -> ~relation~ -> ~value~': 750,\n",
       " '~connector~ -> ~relation~ -> ~func~': 751,\n",
       " '~connector~ -> ~relation~ -> ~break~': 752,\n",
       " '~connector~ -> ~relation~ -> ~container~': 753,\n",
       " '~connector~ -> ~relation~ -> ~def~': 754,\n",
       " '~connector~ -> ~relation~ -> ~brelation~': 755,\n",
       " '~connector~ -> ~pad~ -> ~relation~': 756,\n",
       " '~connector~ -> ~pad~ -> ~var~': 757,\n",
       " '~connector~ -> ~pad~ -> ~value~': 758,\n",
       " '~connector~ -> ~pad~ -> ~func~': 759,\n",
       " '~connector~ -> ~pad~ -> ~break~': 760,\n",
       " '~connector~ -> ~pad~ -> ~container~': 761,\n",
       " '~connector~ -> ~pad~ -> ~def~': 762,\n",
       " '~connector~ -> ~pad~ -> ~brelation~': 763,\n",
       " '~connector~ -> ~var~ -> ~relation~': 764,\n",
       " '~connector~ -> ~var~ -> ~pad~': 765,\n",
       " '~connector~ -> ~var~ -> ~value~': 766,\n",
       " '~connector~ -> ~var~ -> ~func~': 767,\n",
       " '~connector~ -> ~var~ -> ~break~': 768,\n",
       " '~connector~ -> ~var~ -> ~container~': 769,\n",
       " '~connector~ -> ~var~ -> ~def~': 770,\n",
       " '~connector~ -> ~var~ -> ~brelation~': 771,\n",
       " '~connector~ -> ~value~ -> ~relation~': 772,\n",
       " '~connector~ -> ~value~ -> ~pad~': 773,\n",
       " '~connector~ -> ~value~ -> ~var~': 774,\n",
       " '~connector~ -> ~value~ -> ~func~': 775,\n",
       " '~connector~ -> ~value~ -> ~break~': 776,\n",
       " '~connector~ -> ~value~ -> ~container~': 777,\n",
       " '~connector~ -> ~value~ -> ~def~': 778,\n",
       " '~connector~ -> ~value~ -> ~brelation~': 779,\n",
       " '~connector~ -> ~func~ -> ~relation~': 780,\n",
       " '~connector~ -> ~func~ -> ~pad~': 781,\n",
       " '~connector~ -> ~func~ -> ~var~': 782,\n",
       " '~connector~ -> ~func~ -> ~value~': 783,\n",
       " '~connector~ -> ~func~ -> ~break~': 784,\n",
       " '~connector~ -> ~func~ -> ~container~': 785,\n",
       " '~connector~ -> ~func~ -> ~def~': 786,\n",
       " '~connector~ -> ~func~ -> ~brelation~': 787,\n",
       " '~connector~ -> ~break~ -> ~relation~': 788,\n",
       " '~connector~ -> ~break~ -> ~pad~': 789,\n",
       " '~connector~ -> ~break~ -> ~var~': 790,\n",
       " '~connector~ -> ~break~ -> ~value~': 791,\n",
       " '~connector~ -> ~break~ -> ~func~': 792,\n",
       " '~connector~ -> ~break~ -> ~container~': 793,\n",
       " '~connector~ -> ~break~ -> ~def~': 794,\n",
       " '~connector~ -> ~break~ -> ~brelation~': 795,\n",
       " '~connector~ -> ~container~ -> ~relation~': 796,\n",
       " '~connector~ -> ~container~ -> ~pad~': 797,\n",
       " '~connector~ -> ~container~ -> ~var~': 798,\n",
       " '~connector~ -> ~container~ -> ~value~': 799,\n",
       " '~connector~ -> ~container~ -> ~func~': 800,\n",
       " '~connector~ -> ~container~ -> ~break~': 801,\n",
       " '~connector~ -> ~container~ -> ~def~': 802,\n",
       " '~connector~ -> ~container~ -> ~brelation~': 803,\n",
       " '~connector~ -> ~def~ -> ~relation~': 804,\n",
       " '~connector~ -> ~def~ -> ~pad~': 805,\n",
       " '~connector~ -> ~def~ -> ~var~': 806,\n",
       " '~connector~ -> ~def~ -> ~value~': 807,\n",
       " '~connector~ -> ~def~ -> ~func~': 808,\n",
       " '~connector~ -> ~def~ -> ~break~': 809,\n",
       " '~connector~ -> ~def~ -> ~container~': 810,\n",
       " '~connector~ -> ~def~ -> ~brelation~': 811,\n",
       " '~connector~ -> ~brelation~ -> ~relation~': 812,\n",
       " '~connector~ -> ~brelation~ -> ~pad~': 813,\n",
       " '~connector~ -> ~brelation~ -> ~var~': 814,\n",
       " '~connector~ -> ~brelation~ -> ~value~': 815,\n",
       " '~connector~ -> ~brelation~ -> ~func~': 816,\n",
       " '~connector~ -> ~brelation~ -> ~break~': 817,\n",
       " '~connector~ -> ~brelation~ -> ~container~': 818,\n",
       " '~connector~ -> ~brelation~ -> ~def~': 819}"
      ]
     },
     "execution_count": 343,
     "metadata": {},
     "output_type": "execute_result"
    }
   ],
   "source": [
    "encoder.TransitionStates"
   ]
  }
 ],
 "metadata": {
  "kernelspec": {
   "display_name": "Python 3 (ipykernel)",
   "language": "python",
   "name": "python3"
  },
  "language_info": {
   "codemirror_mode": {
    "name": "ipython",
    "version": 3
   },
   "file_extension": ".py",
   "mimetype": "text/x-python",
   "name": "python",
   "nbconvert_exporter": "python",
   "pygments_lexer": "ipython3",
   "version": "3.9.13"
  }
 },
 "nbformat": 4,
 "nbformat_minor": 5
}
