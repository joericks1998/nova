{
 "cells": [
  {
   "cell_type": "code",
   "execution_count": 2,
   "id": "c110cc05-5d0a-4a4c-90d2-a66684fa3d86",
   "metadata": {},
   "outputs": [
    {
     "data": {
      "text/plain": [
       "['/Users/joericks/Desktop/nova',\n",
       " '/usr/local/Cellar/python@3.9/3.9.13_1/Frameworks/Python.framework/Versions/3.9/lib/python39.zip',\n",
       " '/usr/local/Cellar/python@3.9/3.9.13_1/Frameworks/Python.framework/Versions/3.9/lib/python3.9',\n",
       " '/usr/local/Cellar/python@3.9/3.9.13_1/Frameworks/Python.framework/Versions/3.9/lib/python3.9/lib-dynload',\n",
       " '',\n",
       " '/usr/local/lib/python3.9/site-packages']"
      ]
     },
     "execution_count": 2,
     "metadata": {},
     "output_type": "execute_result"
    }
   ],
   "source": [
    "import tensorflow as tf\n",
    "from semantics import parser\n",
    "import numpy as np\n",
    "from Levenshtein import distance\n",
    "import sys\n",
    "\n",
    "sys.path"
   ]
  },
  {
   "cell_type": "markdown",
   "id": "2452140f-b49e-4616-9302-b294dbbf2932",
   "metadata": {},
   "source": [
    "The goal of this is to come up with a reasonable reenforcement learning algorithm for the encoding model first, so that when training nova begins, most of the encoding can be handled in an automated way"
   ]
  },
  {
   "cell_type": "code",
   "execution_count": 4,
   "id": "05658d40-050c-4cbc-b514-457dde619277",
   "metadata": {},
   "outputs": [],
   "source": [
    "encoder = parser.Encoder.load(\"model/semantics\")\n",
    "\n",
    "def getSimWeights(sequence):\n",
    "    return tf.constant([1-distance(sequence.replace(' -> ', ''), k.replace(' -> ', ''))/max(len(k), len(sequence)) for k, v in encoder.TransitionStates.items()])\n",
    "    "
   ]
  },
  {
   "cell_type": "code",
   "execution_count": 5,
   "id": "5155ebef-28fe-48fc-82bf-b7d95e74dc23",
   "metadata": {},
   "outputs": [
    {
     "data": {
      "text/plain": [
       "<tf.Tensor: shape=(4,), dtype=float32, numpy=array([0.2857143 , 0.64285713, 0.5714286 , 0.5263158 ], dtype=float32)>"
      ]
     },
     "execution_count": 5,
     "metadata": {},
     "output_type": "execute_result"
    }
   ],
   "source": [
    "v = getSimWeights('~pad~ -> ~pad~')\n",
    "v"
   ]
  },
  {
   "cell_type": "code",
   "execution_count": 6,
   "id": "282558fb-c1a7-411b-ad7f-8bbf5a408159",
   "metadata": {},
   "outputs": [
    {
     "data": {
      "text/plain": [
       "{'': 1,\n",
       " '~pad~': 2,\n",
       " '~pad~ -> ~var~ -> ~relation~': 3,\n",
       " '~var~ -> ~relation~': 4}"
      ]
     },
     "execution_count": 6,
     "metadata": {},
     "output_type": "execute_result"
    }
   ],
   "source": [
    "encoder.TransitionStates"
   ]
  },
  {
   "cell_type": "code",
   "execution_count": 7,
   "id": "044b851c-3dcc-479b-bc9c-3c4f87519fb7",
   "metadata": {},
   "outputs": [
    {
     "data": {
      "text/plain": [
       "<tf.Tensor: shape=(4, 10), dtype=float32, numpy=\n",
       "array([[0.        , 0.        , 0.2857143 , 0.        , 0.        ,\n",
       "        0.        , 0.        , 0.        , 0.        , 0.        ],\n",
       "       [0.        , 0.        , 0.64285713, 0.        , 0.        ,\n",
       "        0.        , 0.        , 0.        , 0.        , 0.        ],\n",
       "       [0.        , 0.        , 0.        , 0.5714286 , 0.        ,\n",
       "        0.        , 0.        , 0.        , 0.        , 0.        ],\n",
       "       [0.        , 0.        , 0.        , 0.5263158 , 0.        ,\n",
       "        0.        , 0.        , 0.        , 0.        , 0.        ]],\n",
       "      dtype=float32)>"
      ]
     },
     "execution_count": 7,
     "metadata": {},
     "output_type": "execute_result"
    }
   ],
   "source": [
    "p_mtrx = encoder.TransitionMatrix[1:,:] * v[:, tf.newaxis]\n",
    "p_mtrx"
   ]
  },
  {
   "cell_type": "code",
   "execution_count": 8,
   "id": "ca3ad17c-15b6-4773-922e-979c5e9f634d",
   "metadata": {},
   "outputs": [],
   "source": [
    "logits = tf.Variable([sum(p_mtrx[:,i]) for i in range(0, p_mtrx.shape[1])])"
   ]
  },
  {
   "cell_type": "code",
   "execution_count": 191,
   "id": "152c8034-c062-4679-8968-ddf1a63f07c0",
   "metadata": {
    "scrolled": true
   },
   "outputs": [
    {
     "data": {
      "text/plain": [
       "<tf.Tensor: shape=(10,), dtype=float32, numpy=\n",
       "array([0.07391918, 0.07391918, 0.18708138, 0.22156517, 0.07391918,\n",
       "       0.07391918, 0.07391918, 0.07391918, 0.07391918, 0.07391918],\n",
       "      dtype=float32)>"
      ]
     },
     "execution_count": 191,
     "metadata": {},
     "output_type": "execute_result"
    }
   ],
   "source": [
    "probabilities = tf.nn.softmax(logits,axis=-1)\n",
    "probabilities"
   ]
  },
  {
   "cell_type": "code",
   "execution_count": 187,
   "id": "aa0f3936-501c-4bb7-9f6a-b1470e61f374",
   "metadata": {},
   "outputs": [],
   "source": [
    "def tf_mode(tensor):\n",
    "    \"\"\"Computes the mode of a 1D tensor.\"\"\"\n",
    "    tensor_1d = tf.reshape(tensor, [-1])\n",
    "    values, _, counts = tf.unique_with_counts(tensor_1d)\n",
    "    max_index = tf.argmax(counts)\n",
    "    return tf.gather(values, max_index)"
   ]
  },
  {
   "cell_type": "code",
   "execution_count": 192,
   "id": "7098a0a4-23f5-470f-8f45-e3e0f7cacd18",
   "metadata": {},
   "outputs": [],
   "source": [
    "# Initialize variables\n",
    "wrong_answers = [0, 1, 2, 3, 5, 6, 7, 8, 9]\n",
    "num_epochs = 10\n",
    "num_bad = tf.Variable(0, dtype=tf.int32)  # Track the number of bad updates\n",
    "# probabilities = tf.Variable(tf.random.uniform([10], dtype=tf.float32))  # Example initialization of probabilities\n",
    "\n",
    "# Normalize the probabilities initially\n",
    "probabilities.assign(probabilities / tf.reduce_sum(probabilities))\n",
    "\n",
    "# Training loop\n",
    "for epoch in range(num_epochs):\n",
    "    # Sample actions according to the current probabilities distribution\n",
    "    samples = tf.random.categorical(tf.math.log([probabilities]), num_samples=5)\n",
    "    \n",
    "    # Get the mode of the sampled actions (this will be the most frequent action)\n",
    "    mode = tf_mode(samples)\n",
    "    \n",
    "    # Check if the mode is in wrong answers\n",
    "    is_wrong = tf.reduce_any(tf.equal(mode, wrong_answers))\n",
    "\n",
    "    if is_wrong:\n",
    "        num_bad.assign_add(1)  # Increment the number of bad updates\n",
    "        # Update probabilities by averaging the wrong answer's probability with 0\n",
    "        probabilities = tf.tensor_scatter_nd_update(probabilities, [[mode]], [tf.reduce_mean([probabilities[mode], 0])])\n",
    "        probabilities /= tf.reduce_sum(probabilities)  # Normalize after update\n",
    "    else:\n",
    "        # Reduce the wrong answers' probabilities to 0 (like penalizing)\n",
    "        wrong_probs = tf.gather(probabilities, wrong_answers)\n",
    "        zero_tensor = tf.zeros_like(wrong_probs)  # Create a tensor of zeros with the same shape as wrong_probs\n",
    "        vals = tf.reduce_mean([wrong_probs, zero_tensor], axis=0)\n",
    "        idxs = tf.constant(wrong_answers, dtype=tf.int32)\n",
    "        probabilities = tf.tensor_scatter_nd_update(probabilities, tf.reshape(idxs, (-1, 1)), vals)\n",
    "        probabilities /= tf.reduce_sum(probabilities)   # Normalize after update\n"
   ]
  },
  {
   "cell_type": "code",
   "execution_count": 290,
   "id": "724226a5-4ee3-44ef-9f74-cd5b7d0c8197",
   "metadata": {},
   "outputs": [
    {
     "data": {
      "text/plain": [
       "<tf.Tensor: shape=(10,), dtype=float32, numpy=\n",
       "array([0.07391918, 0.07391918, 0.18708138, 0.22156517, 0.07391918,\n",
       "       0.07391918, 0.07391918, 0.07391918, 0.07391918, 0.07391918],\n",
       "      dtype=float32)>"
      ]
     },
     "execution_count": 290,
     "metadata": {},
     "output_type": "execute_result"
    }
   ],
   "source": [
    "probabilities = tf.nn.softmax(logits,axis=-1)\n",
    "probabilities"
   ]
  },
  {
   "cell_type": "code",
   "execution_count": 301,
   "id": "26ea09d0-82ae-4e44-8a1f-8360786202fb",
   "metadata": {},
   "outputs": [],
   "source": [
    "def reenforce(probabilities, mode, num_epochs = 1, is_bad = False, num_bad = 0):\n",
    "    for epoch in range(num_epochs):\n",
    "        if is_bad:\n",
    "            # num_bad.assign_add(1)  # Increment the number of bad updates\n",
    "            # Update probabilities by averaging the wrong answer's probability with 0\n",
    "            probabilities = tf.tensor_scatter_nd_update(probabilities, [[mode]], [tf.reduce_mean([probabilities[mode], 0])])\n",
    "            probabilities /= tf.reduce_sum(probabilities)  # Normalize after update\n",
    "        else:\n",
    "            # Reduce the wrong answers' probabilities to 0 (like penalizing)\n",
    "            one_hot_tensor = tf.one_hot(mode, probabilities.shape[0])  # Create a tensor of zeros with the same shape as wrong_probs\n",
    "            probabilities = tf.reduce_mean([probabilities, one_hot_tensor], axis=0)\n",
    "   # Normalize after update\n",
    "    return probabilities\n",
    "    "
   ]
  },
  {
   "cell_type": "code",
   "execution_count": 315,
   "id": "9ef63499-8d8e-48d8-b4e9-3f8bddbac56a",
   "metadata": {},
   "outputs": [],
   "source": [
    "probabilities = reenforce(probabilities, 7, num_epochs = 10, is_bad = True)"
   ]
  },
  {
   "cell_type": "code",
   "execution_count": 316,
   "id": "1a0d9c70-8272-46be-bc9c-d36e2c01f58b",
   "metadata": {},
   "outputs": [
    {
     "data": {
      "text/plain": [
       "<tf.Tensor: shape=(10,), dtype=float32, numpy=\n",
       "array([8.6735785e-02, 8.6735785e-02, 2.1951883e-01, 2.5998166e-01,\n",
       "       8.6735785e-02, 8.6735785e-02, 8.6735785e-02, 8.4702915e-05,\n",
       "       8.2717690e-08, 8.6735785e-02], dtype=float32)>"
      ]
     },
     "execution_count": 316,
     "metadata": {},
     "output_type": "execute_result"
    }
   ],
   "source": [
    "probabilities"
   ]
  },
  {
   "cell_type": "code",
   "execution_count": 293,
   "id": "a1c2ef20-1ade-49d6-964d-d2ff67b6d6c0",
   "metadata": {},
   "outputs": [
    {
     "data": {
      "text/plain": [
       "array([0.07391918, 0.07391918, 0.18708138, 0.22156517, 0.07391918,\n",
       "       0.07391918, 0.07391918, 0.07391918, 0.07391918, 0.07391918],\n",
       "      dtype=float32)"
      ]
     },
     "execution_count": 293,
     "metadata": {},
     "output_type": "execute_result"
    }
   ],
   "source": [
    "probabilities.numpy()"
   ]
  },
  {
   "cell_type": "code",
   "execution_count": 283,
   "id": "44a4647a-8af1-4618-abf2-f8f96e1857fa",
   "metadata": {},
   "outputs": [
    {
     "data": {
      "text/plain": [
       "<tf.Tensor: shape=(), dtype=float32, numpy=1.0000001>"
      ]
     },
     "execution_count": 283,
     "metadata": {},
     "output_type": "execute_result"
    }
   ],
   "source": [
    "sum(probabilities)"
   ]
  },
  {
   "cell_type": "code",
   "execution_count": 282,
   "id": "1e9918e2-f9da-44df-9015-47308f0185ca",
   "metadata": {},
   "outputs": [
    {
     "data": {
      "text/plain": [
       "<tf.Tensor: shape=(), dtype=float64, numpy=0.01>"
      ]
     },
     "execution_count": 282,
     "metadata": {},
     "output_type": "execute_result"
    }
   ],
   "source": [
    "num_bad/num_epocs"
   ]
  },
  {
   "cell_type": "code",
   "execution_count": 194,
   "id": "3801797d-bee2-4447-9cd8-ddf15f928461",
   "metadata": {},
   "outputs": [
    {
     "data": {
      "text/plain": [
       "<tf.Tensor: shape=(10,), dtype=float32, numpy=\n",
       "array([0.13505921, 0.08938976, 0.10936902, 0.06480423, 0.20316379,\n",
       "       0.04681202, 0.03829137, 0.05723381, 0.13689348, 0.11898329],\n",
       "      dtype=float32)>"
      ]
     },
     "execution_count": 194,
     "metadata": {},
     "output_type": "execute_result"
    }
   ],
   "source": [
    "probabilities"
   ]
  },
  {
   "cell_type": "code",
   "execution_count": 257,
   "id": "d0e42fac-2877-4156-b270-5d34f8a03246",
   "metadata": {},
   "outputs": [
    {
     "data": {
      "text/plain": [
       "<tf.Tensor: shape=(4,), dtype=float32, numpy=array([0., 0., 0., 0.], dtype=float32)>"
      ]
     },
     "execution_count": 257,
     "metadata": {},
     "output_type": "execute_result"
    }
   ],
   "source": [
    "p_mtrx[:,1]"
   ]
  },
  {
   "cell_type": "code",
   "execution_count": 63,
   "id": "82eb95b9-579e-42d6-9e51-05a7cceabd90",
   "metadata": {},
   "outputs": [
    {
     "data": {
      "text/plain": [
       "5"
      ]
     },
     "execution_count": 63,
     "metadata": {},
     "output_type": "execute_result"
    }
   ],
   "source": [
    "t_mtrx.shape[0] "
   ]
  },
  {
   "cell_type": "code",
   "execution_count": 51,
   "id": "eb2bb2dd-9b36-44cd-9cc2-e114064d278c",
   "metadata": {},
   "outputs": [
    {
     "data": {
      "text/plain": [
       "0.04475199317449662"
      ]
     },
     "execution_count": 51,
     "metadata": {},
     "output_type": "execute_result"
    }
   ],
   "source": [
    "np.random.beta(0.3,0.5)"
   ]
  },
  {
   "cell_type": "code",
   "execution_count": 9,
   "id": "91867ff3-3b7b-475d-ac69-77c822f600e6",
   "metadata": {},
   "outputs": [
    {
     "data": {
      "text/plain": [
       "<function tensorflow.python.ops.random_ops.random_uniform(shape, minval=0, maxval=None, dtype=tf.float32, seed=None, name=None)>"
      ]
     },
     "execution_count": 9,
     "metadata": {},
     "output_type": "execute_result"
    }
   ],
   "source": [
    "tf.random.uniform"
   ]
  }
 ],
 "metadata": {
  "kernelspec": {
   "display_name": "Python 3 (ipykernel)",
   "language": "python",
   "name": "python3"
  },
  "language_info": {
   "codemirror_mode": {
    "name": "ipython",
    "version": 3
   },
   "file_extension": ".py",
   "mimetype": "text/x-python",
   "name": "python",
   "nbconvert_exporter": "python",
   "pygments_lexer": "ipython3",
   "version": "3.9.13"
  }
 },
 "nbformat": 4,
 "nbformat_minor": 5
}
