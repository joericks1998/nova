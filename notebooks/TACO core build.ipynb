{
 "cells": [
  {
   "cell_type": "code",
   "execution_count": 1,
   "id": "3ea1f9fe-5a71-4b39-9a07-bdd788f1c2c3",
   "metadata": {},
   "outputs": [
    {
     "name": "stderr",
     "output_type": "stream",
     "text": [
      "2025-03-23 22:06:43.299813: I tensorflow/core/platform/cpu_feature_guard.cc:210] This TensorFlow binary is optimized to use available CPU instructions in performance-critical operations.\n",
      "To enable the following instructions: AVX2 FMA, in other operations, rebuild TensorFlow with the appropriate compiler flags.\n"
     ]
    }
   ],
   "source": [
    "from nova_py import TACO\n",
    "import tensorflow as tf\n",
    "from nova_py.architecture import embedding"
   ]
  },
  {
   "cell_type": "code",
   "execution_count": 2,
   "id": "59eedc54-9f8b-481d-9c14-8ed66a983d8d",
   "metadata": {},
   "outputs": [],
   "source": [
    "code_str = ''' \n",
    "class AST:\n",
    "    def __init__(self):\n",
    "        pass\n",
    "\n",
    "def hello_world(test):\n",
    "    return test\n",
    "'''\n",
    "\n",
    "other_str = '''test'''"
   ]
  },
  {
   "cell_type": "code",
   "execution_count": 3,
   "id": "7cb6cbdd-75a7-4aaa-b63f-8958867e513a",
   "metadata": {},
   "outputs": [
    {
     "data": {
      "text/plain": [
       "(<tf.Tensor: shape=(2, 37), dtype=int32, numpy=\n",
       " array([[ 1321,  1128,    28,  3754,    55,    77,  1414,    15,  8988,\n",
       "          1923,  1929,  8988,    69,  2914,  2215,    70,    77,  2610,\n",
       "          2928,  1414,    15,  1814,  2221,  2588,  3324,  2821,    13,\n",
       "            69,  3014,  2929,    70,    77,  2814,  3030,  2823,  3014,\n",
       "          2929],\n",
       "        [ 3014,  2929, 10100, 10100, 10100, 10100, 10100, 10100, 10100,\n",
       "         10100, 10100, 10100, 10100, 10100, 10100, 10100, 10100, 10100,\n",
       "         10100, 10100, 10100, 10100, 10100, 10100, 10100, 10100, 10100,\n",
       "         10100, 10100, 10100, 10100, 10100, 10100, 10100, 10100, 10100,\n",
       "         10100]], dtype=int32)>,\n",
       " <tf.Tensor: shape=(2, 18), dtype=int32, numpy=\n",
       " array([[3, 2, 1, 2, 4, 1, 2, 1, 1, 2, 2, 6, 1, 2, 1, 1, 3, 2],\n",
       "        [2, 0, 0, 0, 0, 0, 0, 0, 0, 0, 0, 0, 0, 0, 0, 0, 0, 0]],\n",
       "       dtype=int32)>)"
      ]
     },
     "execution_count": 3,
     "metadata": {},
     "output_type": "execute_result"
    }
   ],
   "source": [
    "TACO.batch([code_str, other_str])"
   ]
  },
  {
   "cell_type": "code",
   "execution_count": 5,
   "id": "7548364e-3e10-4989-a8b3-94e8418f1043",
   "metadata": {},
   "outputs": [],
   "source": [
    "embedding_test = embedding.Layer(d_model = 10, N=10100)"
   ]
  },
  {
   "cell_type": "code",
   "execution_count": 6,
   "id": "7c8d36c8-1105-4b29-b36d-b9b56f464bad",
   "metadata": {},
   "outputs": [
    {
     "data": {
      "text/plain": [
       "<tf.Variable 'Variable:0' shape=(10100, 10) dtype=float32, numpy=\n",
       "array([[-0.01329554,  0.01934609,  0.01987418, ..., -0.02162934,\n",
       "        -0.00544346,  0.01824301],\n",
       "       [-0.01016369, -0.02077285,  0.02225867, ...,  0.01458584,\n",
       "        -0.00446836, -0.02089825],\n",
       "       [ 0.012869  , -0.009697  ,  0.01644907, ...,  0.02172651,\n",
       "        -0.00642405, -0.00900532],\n",
       "       ...,\n",
       "       [-0.02365198,  0.00185447,  0.0003818 , ...,  0.00019872,\n",
       "        -0.00571606, -0.01539276],\n",
       "       [-0.00020033, -0.0154217 , -0.00326702, ...,  0.02274549,\n",
       "         0.01585326,  0.0241295 ],\n",
       "       [ 0.01602439,  0.00445597, -0.00530677, ...,  0.01446839,\n",
       "         0.00079913,  0.01721573]], dtype=float32)>"
      ]
     },
     "execution_count": 6,
     "metadata": {},
     "output_type": "execute_result"
    }
   ],
   "source": [
    "embedding_test.embeddings"
   ]
  },
  {
   "cell_type": "code",
   "execution_count": 10,
   "id": "f6e92e97-864d-4298-9335-82bced439ca6",
   "metadata": {},
   "outputs": [
    {
     "data": {
      "text/plain": [
       "<tf.Tensor: shape=(10,), dtype=float32, numpy=\n",
       "array([ 0.012869  , -0.009697  ,  0.01644907, -0.01600126,  0.01733674,\n",
       "        0.0135118 ,  0.01830292,  0.02172651, -0.00642405, -0.00900532],\n",
       "      dtype=float32)>"
      ]
     },
     "execution_count": 10,
     "metadata": {},
     "output_type": "execute_result"
    }
   ],
   "source": [
    "embedding_test(2)"
   ]
  }
 ],
 "metadata": {
  "kernelspec": {
   "display_name": "Python 3 (ipykernel)",
   "language": "python",
   "name": "python3"
  },
  "language_info": {
   "codemirror_mode": {
    "name": "ipython",
    "version": 3
   },
   "file_extension": ".py",
   "mimetype": "text/x-python",
   "name": "python",
   "nbconvert_exporter": "python",
   "pygments_lexer": "ipython3",
   "version": "3.11.11"
  }
 },
 "nbformat": 4,
 "nbformat_minor": 5
}
