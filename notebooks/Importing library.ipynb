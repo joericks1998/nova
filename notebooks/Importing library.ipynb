{
 "cells": [
  {
   "cell_type": "code",
   "execution_count": 1,
   "id": "e0a689ae-e761-4adc-aa3f-b613abc508d9",
   "metadata": {},
   "outputs": [
    {
     "ename": "ImportError",
     "evalue": "cannot import name 'Nova' from 'nova_py.model' (unknown location)",
     "output_type": "error",
     "traceback": [
      "\u001b[0;31m---------------------------------------------------------------------------\u001b[0m",
      "\u001b[0;31mImportError\u001b[0m                               Traceback (most recent call last)",
      "Cell \u001b[0;32mIn[1], line 1\u001b[0m\n\u001b[0;32m----> 1\u001b[0m \u001b[38;5;28;01mfrom\u001b[39;00m\u001b[38;5;250m \u001b[39m\u001b[38;5;21;01mnova_py\u001b[39;00m\u001b[38;5;21;01m.\u001b[39;00m\u001b[38;5;21;01mmodel\u001b[39;00m\u001b[38;5;250m \u001b[39m\u001b[38;5;28;01mimport\u001b[39;00m Nova\n\u001b[1;32m      2\u001b[0m \u001b[38;5;28;01mimport\u001b[39;00m\u001b[38;5;250m \u001b[39m\u001b[38;5;21;01myaml\u001b[39;00m\n",
      "\u001b[0;31mImportError\u001b[0m: cannot import name 'Nova' from 'nova_py.model' (unknown location)"
     ]
    }
   ],
   "source": [
    "from nova_py.model import Nova\n",
    "import yaml"
   ]
  },
  {
   "cell_type": "code",
   "execution_count": null,
   "id": "5b51b337-b6aa-4063-b81e-6563ecd493ad",
   "metadata": {},
   "outputs": [],
   "source": [
    "nova = Nova()"
   ]
  },
  {
   "cell_type": "code",
   "execution_count": 3,
   "id": "159c6f2a-113b-4b7a-86f9-f3b7e264b7b6",
   "metadata": {},
   "outputs": [
    {
     "name": "stdout",
     "output_type": "stream",
     "text": [
      "['sky']\n",
      "['sky', '=']\n",
      "['sky', '=', '\"', 'blue', '\"']\n",
      "tf.Tensor([[b'sky' b'=' b'\"' b'blue' b'\"']], shape=(1, 5), dtype=string)\n",
      "1\n",
      "tf.Tensor(2, shape=(), dtype=int64)\n"
     ]
    },
    {
     "ename": "KeyError",
     "evalue": "'~var~ -> ~relation~ -> ~container~'",
     "output_type": "error",
     "traceback": [
      "\u001b[0;31m---------------------------------------------------------------------------\u001b[0m",
      "\u001b[0;31mKeyError\u001b[0m                                  Traceback (most recent call last)",
      "Cell \u001b[0;32mIn[3], line 1\u001b[0m\n\u001b[0;32m----> 1\u001b[0m \u001b[43mnova\u001b[49m\u001b[38;5;241;43m.\u001b[39;49m\u001b[43mgenerate\u001b[49m\u001b[43m(\u001b[49m\u001b[43m[\u001b[49m\u001b[38;5;124;43m\"\u001b[39;49m\u001b[38;5;124;43msky = \u001b[39;49m\u001b[38;5;130;43;01m\\\"\u001b[39;49;00m\u001b[38;5;124;43mblue\u001b[39;49m\u001b[38;5;130;43;01m\\\"\u001b[39;49;00m\u001b[38;5;124;43m\"\u001b[39;49m\u001b[43m]\u001b[49m\u001b[43m)\u001b[49m\n",
      "File \u001b[0;32m~/Desktop/nova/nova-py/src/nova_py/model.py:61\u001b[0m, in \u001b[0;36mNova.generate\u001b[0;34m(self, in_batch, training)\u001b[0m\n\u001b[1;32m     59\u001b[0m token_batch \u001b[38;5;241m=\u001b[39m tokenizer\u001b[38;5;241m.\u001b[39minBatch(in_batch)\n\u001b[1;32m     60\u001b[0m \u001b[38;5;28mprint\u001b[39m(token_batch)\n\u001b[0;32m---> 61\u001b[0m encoded_batch \u001b[38;5;241m=\u001b[39m \u001b[38;5;28;43mself\u001b[39;49m\u001b[38;5;241;43m.\u001b[39;49m\u001b[43mencoder\u001b[49m\u001b[43m(\u001b[49m\u001b[43mtoken_batch\u001b[49m\u001b[43m)\u001b[49m\n\u001b[1;32m     62\u001b[0m \u001b[38;5;28;01mpass\u001b[39;00m\n",
      "File \u001b[0;32m~/Desktop/nova/nova-py/src/nova_py/semantics/parser.py:95\u001b[0m, in \u001b[0;36mEncoder.__call__\u001b[0;34m(self, batch, memory, training, sentiment)\u001b[0m\n\u001b[1;32m     92\u001b[0m     \u001b[38;5;28mprint\u001b[39m(idx)\n\u001b[1;32m     93\u001b[0m \u001b[38;5;28;01melse\u001b[39;00m:\n\u001b[1;32m     94\u001b[0m     \u001b[38;5;66;03m# Lookup the current state based on prior sequence.\u001b[39;00m\n\u001b[0;32m---> 95\u001b[0m     idx \u001b[38;5;241m=\u001b[39m \u001b[38;5;28;43mself\u001b[39;49m\u001b[38;5;241;43m.\u001b[39;49m\u001b[43mTransitionStates\u001b[49m\u001b[43m[\u001b[49m\u001b[38;5;124;43m\"\u001b[39;49m\u001b[38;5;124;43m -> \u001b[39;49m\u001b[38;5;124;43m\"\u001b[39;49m\u001b[38;5;241;43m.\u001b[39;49m\u001b[43mjoin\u001b[49m\u001b[43m(\u001b[49m\u001b[43m[\u001b[49m\u001b[43mtkn\u001b[49m\u001b[43m \u001b[49m\u001b[38;5;28;43;01mfor\u001b[39;49;00m\u001b[43m \u001b[49m\u001b[43mtkn\u001b[49m\u001b[43m \u001b[49m\u001b[38;5;129;43;01min\u001b[39;49;00m\u001b[43m \u001b[49m\u001b[43mtag_seq\u001b[49m\u001b[43m[\u001b[49m\u001b[43m:\u001b[49m\u001b[43mi\u001b[49m\u001b[43m]\u001b[49m\u001b[43m]\u001b[49m\u001b[43m)\u001b[49m\u001b[43m]\u001b[49m\n\u001b[1;32m     96\u001b[0m \u001b[38;5;66;03m# Lookup the embedding vector from the transition matrix.\u001b[39;00m\n\u001b[1;32m     97\u001b[0m vec \u001b[38;5;241m=\u001b[39m tf\u001b[38;5;241m.\u001b[39mnn\u001b[38;5;241m.\u001b[39membedding_lookup(\u001b[38;5;28mself\u001b[39m\u001b[38;5;241m.\u001b[39mTransitionMatrix, idx)\n",
      "\u001b[0;31mKeyError\u001b[0m: '~var~ -> ~relation~ -> ~container~'"
     ]
    }
   ],
   "source": [
    "nova.generate([\"sky = \\\"blue\\\"\"])"
   ]
  }
 ],
 "metadata": {
  "kernelspec": {
   "display_name": "Python 3 (ipykernel)",
   "language": "python",
   "name": "python3"
  },
  "language_info": {
   "codemirror_mode": {
    "name": "ipython",
    "version": 3
   },
   "file_extension": ".py",
   "mimetype": "text/x-python",
   "name": "python",
   "nbconvert_exporter": "python",
   "pygments_lexer": "ipython3",
   "version": "3.11.11"
  }
 },
 "nbformat": 4,
 "nbformat_minor": 5
}
