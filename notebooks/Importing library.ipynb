{
 "cells": [
  {
   "cell_type": "code",
   "execution_count": 1,
   "id": "e0a689ae-e761-4adc-aa3f-b613abc508d9",
   "metadata": {},
   "outputs": [
    {
     "name": "stderr",
     "output_type": "stream",
     "text": [
      "2025-01-12 18:26:31.612028: I tensorflow/core/platform/cpu_feature_guard.cc:210] This TensorFlow binary is optimized to use available CPU instructions in performance-critical operations.\n",
      "To enable the following instructions: AVX2 FMA, in other operations, rebuild TensorFlow with the appropriate compiler flags.\n"
     ]
    }
   ],
   "source": [
    "from nova_py.model import Nova\n",
    "import yaml"
   ]
  },
  {
   "cell_type": "code",
   "execution_count": 2,
   "id": "5b51b337-b6aa-4063-b81e-6563ecd493ad",
   "metadata": {},
   "outputs": [],
   "source": [
    "nova = Nova()"
   ]
  },
  {
   "cell_type": "code",
   "execution_count": 4,
   "id": "159c6f2a-113b-4b7a-86f9-f3b7e264b7b6",
   "metadata": {},
   "outputs": [
    {
     "data": {
      "text/plain": [
       "<Layer name=layer, built=False>"
      ]
     },
     "execution_count": 4,
     "metadata": {},
     "output_type": "execute_result"
    }
   ],
   "source": [
    "nova.final"
   ]
  }
 ],
 "metadata": {
  "kernelspec": {
   "display_name": "Python 3 (ipykernel)",
   "language": "python",
   "name": "python3"
  },
  "language_info": {
   "codemirror_mode": {
    "name": "ipython",
    "version": 3
   },
   "file_extension": ".py",
   "mimetype": "text/x-python",
   "name": "python",
   "nbconvert_exporter": "python",
   "pygments_lexer": "ipython3",
   "version": "3.9.13"
  }
 },
 "nbformat": 4,
 "nbformat_minor": 5
}
