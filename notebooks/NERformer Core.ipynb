{
 "cells": [
  {
   "cell_type": "code",
   "execution_count": 1,
   "id": "d9f335ee-33b3-491c-8c02-19c4eec3fbcf",
   "metadata": {},
   "outputs": [
    {
     "name": "stderr",
     "output_type": "stream",
     "text": [
      "2025-03-29 16:00:32.090319: I tensorflow/core/platform/cpu_feature_guard.cc:210] This TensorFlow binary is optimized to use available CPU instructions in performance-critical operations.\n",
      "To enable the following instructions: AVX2 FMA, in other operations, rebuild TensorFlow with the appropriate compiler flags.\n"
     ]
    }
   ],
   "source": [
    "from nova_py import TACO, NERf"
   ]
  },
  {
   "cell_type": "code",
   "execution_count": 2,
   "id": "54c665bc-9d39-4c72-b2b3-480cf5bf4b0a",
   "metadata": {},
   "outputs": [],
   "source": [
    "code_str = ''' \n",
    "class AST:\n",
    "    def __init__(self):\n",
    "        pass\n",
    "\n",
    "def hello_world(test):\n",
    "    return test\n",
    "'''"
   ]
  },
  {
   "cell_type": "code",
   "execution_count": 3,
   "id": "c904e03b-0846-4200-aa1e-ff2b3b5652ea",
   "metadata": {},
   "outputs": [],
   "source": [
    "tokens = TACO.batch([code_str])"
   ]
  },
  {
   "cell_type": "code",
   "execution_count": 9,
   "id": "5d121908-63fa-4fae-a7fa-0f89841804b1",
   "metadata": {},
   "outputs": [],
   "source": [
    "parameters = {\n",
    "    \"d_model\": 1024,\n",
    "    \"num_transformers\": 16,\n",
    "    \"num_features\": 64,\n",
    "    \"num_groups\": 2,\n",
    "    \"vocabulary_size\": 10100,\n",
    "    \"layerdrop\": 0.2,\n",
    "    \"num_heads\": 8,\n",
    "    \"dF\": 4,\n",
    "    \"dropout_rate\": 0.2,\n",
    "    \"temperature\": 1\n",
    "}"
   ]
  },
  {
   "cell_type": "code",
   "execution_count": 10,
   "id": "aebbfb04-1efd-4694-9132-8aaaff50b9a5",
   "metadata": {},
   "outputs": [],
   "source": [
    "nerf = NERf.Model(**parameters)"
   ]
  },
  {
   "cell_type": "code",
   "execution_count": 29,
   "id": "d1c6cc28-9b5f-40b5-8c8f-3d3c81f4b12c",
   "metadata": {},
   "outputs": [],
   "source": [
    "outputs = nerf.tag(tokens)"
   ]
  },
  {
   "cell_type": "code",
   "execution_count": 30,
   "id": "b7c5330b-aa57-4288-8cc8-c40fcd53096b",
   "metadata": {},
   "outputs": [
    {
     "data": {
      "text/plain": [
       "195155073"
      ]
     },
     "execution_count": 30,
     "metadata": {},
     "output_type": "execute_result"
    }
   ],
   "source": [
    "nerf.Size"
   ]
  },
  {
   "cell_type": "code",
   "execution_count": 33,
   "id": "1b7b534f-808f-466f-a5d8-f5e377ca430e",
   "metadata": {},
   "outputs": [
    {
     "data": {
      "text/plain": [
       "(<tf.Tensor: shape=(18, 2), dtype=int32, numpy=\n",
       " array([[ 1,  1],\n",
       "        [ 1,  1],\n",
       "        [54,  1],\n",
       "        [52,  2],\n",
       "        [42,  1],\n",
       "        [15,  2],\n",
       "        [22,  2],\n",
       "        [14,  1],\n",
       "        [ 7,  1],\n",
       "        [62,  1],\n",
       "        [53,  2],\n",
       "        [ 6,  1],\n",
       "        [ 4,  2],\n",
       "        [44,  2],\n",
       "        [48,  2],\n",
       "        [31,  1],\n",
       "        [51,  1],\n",
       "        [44,  2]], dtype=int32)>,\n",
       " [[[1321, 1128, 28],\n",
       "   [3754, 55],\n",
       "   [77],\n",
       "   [1414, 15],\n",
       "   [8988, 1923, 1929, 8988],\n",
       "   [69],\n",
       "   [2914, 2215],\n",
       "   [70],\n",
       "   [77],\n",
       "   [2610, 2928],\n",
       "   [1414, 15],\n",
       "   [1814, 2221, 2588, 3324, 2821, 13],\n",
       "   [69],\n",
       "   [3014, 2929],\n",
       "   [70],\n",
       "   [77],\n",
       "   [2814, 3030, 2823],\n",
       "   [3014, 2929]]])"
      ]
     },
     "execution_count": 33,
     "metadata": {},
     "output_type": "execute_result"
    }
   ],
   "source": [
    "outputs"
   ]
  },
  {
   "cell_type": "code",
   "execution_count": 8,
   "id": "81dc9651-b61e-4606-8c79-3ba0f21d4bc6",
   "metadata": {},
   "outputs": [
    {
     "name": "stdout",
     "output_type": "stream",
     "text": [
      "(1, 37)\n"
     ]
    }
   ],
   "source": [
    "print(tokens[0].shape)"
   ]
  }
 ],
 "metadata": {
  "kernelspec": {
   "display_name": "Python 3 (ipykernel)",
   "language": "python",
   "name": "python3"
  },
  "language_info": {
   "codemirror_mode": {
    "name": "ipython",
    "version": 3
   },
   "file_extension": ".py",
   "mimetype": "text/x-python",
   "name": "python",
   "nbconvert_exporter": "python",
   "pygments_lexer": "ipython3",
   "version": "3.11.11"
  }
 },
 "nbformat": 4,
 "nbformat_minor": 5
}
