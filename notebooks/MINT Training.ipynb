{
 "cells": [
  {
   "cell_type": "markdown",
   "id": "7d735908-a399-4b9b-85f9-0999217a127e",
   "metadata": {},
   "source": [
    "# text datasets"
   ]
  },
  {
   "cell_type": "markdown",
   "id": "a3a837d0-902d-4aed-b70a-a99c6f995a9b",
   "metadata": {},
   "source": [
    "first we are going to build in a real life text datasource from hugging face"
   ]
  },
  {
   "cell_type": "code",
   "execution_count": 1,
   "id": "80162543-f28a-43d6-a318-420b88d13a77",
   "metadata": {},
   "outputs": [
    {
     "name": "stderr",
     "output_type": "stream",
     "text": [
      "2025-01-24 21:57:33.754847: I tensorflow/core/platform/cpu_feature_guard.cc:210] This TensorFlow binary is optimized to use available CPU instructions in performance-critical operations.\n",
      "To enable the following instructions: AVX2 FMA, in other operations, rebuild TensorFlow with the appropriate compiler flags.\n"
     ]
    }
   ],
   "source": [
    "from nova_py.transcribe import MINT\n",
    "from nova_py import TACO\n",
    "import itertools\n",
    "import tensorflow as tf\n",
    "import pandas as pd\n",
    "from datasets import load_dataset_builder, load_dataset\n",
    "from itertools import chain\n",
    "import json"
   ]
  },
  {
   "cell_type": "code",
   "execution_count": 2,
   "id": "495409f2-4ab6-44f1-b533-5f4fc0b49d44",
   "metadata": {},
   "outputs": [],
   "source": [
    "mint = MINT.load()"
   ]
  },
  {
   "cell_type": "code",
   "execution_count": 3,
   "id": "84d4173d-9177-4cc1-8abf-0cbbed83ae87",
   "metadata": {},
   "outputs": [],
   "source": [
    "mint.save()"
   ]
  },
  {
   "cell_type": "markdown",
   "id": "91379889-f0b8-4824-b0d4-08f100be9d38",
   "metadata": {
    "jp-MarkdownHeadingCollapsed": true
   },
   "source": [
    "### Annotations for Invalid Sequences"
   ]
  },
  {
   "cell_type": "markdown",
   "id": "9c4fa8b9-ed8e-45fe-b2f3-89133694374e",
   "metadata": {},
   "source": [
    "The easiest manual training for the model (in otherwords without implementing something reenforcement based) is to train it to learn what an invalid sequence is. We can do this by giving it large blocks of free text from books and things. The largest corpus of text that I know of (which we will use now) is the stackv2 on hugging face, we will query some human written text that would be nonsensical in programming context, split it by sentence, and then tell the model it is invalid. The one trick with this is there are alot of variations of invalid sequences so we may end up overfitting a few with this technique."
   ]
  },
  {
   "cell_type": "code",
   "execution_count": 4,
   "id": "94f09cfa-69ba-4183-ac67-a2c61e237152",
   "metadata": {},
   "outputs": [
    {
     "data": {
      "application/vnd.jupyter.widget-view+json": {
       "model_id": "1f6740d2d7ba402e9d089cf502bb2cd5",
       "version_major": 2,
       "version_minor": 0
      },
      "text/plain": [
       "Resolving data files:   0%|          | 0/37 [00:00<?, ?it/s]"
      ]
     },
     "metadata": {},
     "output_type": "display_data"
    }
   ],
   "source": [
    "dataset_name = \"sedthh/gutenberg_english\"\n",
    "\n",
    "dataset = load_dataset(dataset_name, 'default', split='train', streaming=True)"
   ]
  },
  {
   "cell_type": "markdown",
   "id": "1afaf811-a337-4122-ad4a-d03ae402c441",
   "metadata": {},
   "source": [
    "Next we load in the text data, were going to use 5 articles for this"
   ]
  },
  {
   "cell_type": "code",
   "execution_count": 5,
   "id": "756b5e8c-4588-492e-9678-3ee620227edc",
   "metadata": {
    "scrolled": true
   },
   "outputs": [
    {
     "data": {
      "text/plain": [
       "[['The United States Bill of Rights',\n",
       "  '\\r\\nThe Ten Original Amendments to the Constitution of the United States\\r\\nPassed by Congress September 25, 1789\\r\\nRatified December 15, 1791\\r\\n\\r\\n\\r\\nI\\r\\nCongress shall make no law respecting an establishment of religion, or\\r\\n\\r\\nprohibiting the free exercise thereof; or abridging the freedom of speech, or of\\r\\n\\r\\nthe press, or the right of the people peaceably to assemble, and to petition the\\r\\n\\r\\nGovernment for a redress of grievances',\n",
       "  '\\r\\nII\\r\\nA well-regulated militia, being necessary to the security of a free State,\\r\\n\\r\\nthe right of the people to keep and bear arms, shall not be\\r\\n\\r\\ninfringed',\n",
       "  '\\r\\nIII\\r\\nNo soldier shall, in time of peace be quartered in any house, without the\\r\\n\\r\\nconsent of the owner, nor in time of war, but in a manner to be prescribed by\\r\\n\\r\\nlaw',\n",
       "  '\\r\\nIV\\r\\nThe right of the people to be secure in their persons, houses, papers, and\\r\\n\\r\\neffects, against unreasonable searches and seizures, shall not be violated, and\\r\\n\\r\\nno Warrants shall issue, but upon probable cause, supported by oath or\\r\\n\\r\\naffirmation, and particularly describing the place to be searched, and the\\r\\n\\r\\npersons or things to be seized',\n",
       "  ' \\r\\nV\\r\\nNo person shall be held to answer for a capital, or otherwise infamous crime,\\r\\n\\r\\nunless on a presentment or indictment of a Grand Jury, except in cases arising\\r\\n\\r\\nin the land or naval forces, or in the Militia, when in actual service in time\\r\\n\\r\\nof War or public danger; nor shall any person be subject for the same offense to\\r\\n\\r\\nbe twice put in jeopardy of life or limb; nor shall be compelled in any criminal\\r\\n\\r\\ncase to be a witness against himself, nor be deprived of life, liberty, or\\r\\n\\r\\nproperty, without due process of law; nor shall private property be taken for\\r\\n\\r\\npublic use without just compensation',\n",
       "  ' \\r\\nVI\\r\\nIn all criminal prosecutions, the accused shall enjoy the right to a speedy\\r\\n\\r\\nand public trial, by an impartial jury of the State and district wherein the\\r\\n\\r\\ncrime shall have been committed, which district shall have been previously\\r\\n\\r\\nascertained by law, and to be informed of the nature and cause of the\\r\\n\\r\\naccusation; to be confronted with the witnesses against him; to have compulsory\\r\\n\\r\\nprocess for obtaining witnesses in his favor, and to have the assistance of\\r\\n\\r\\ncounsel for his defense',\n",
       "  ' \\r\\nVII\\r\\nIn suits at common law, where the value in controversy shall exceed twenty\\r\\n\\r\\ndollars, the right of trial by jury shall be preserved, and no fact tried by a\\r\\n\\r\\njury shall be otherwise re-examined in any court of the United States, than\\r\\n\\r\\naccording to the rules of the common law',\n",
       "  ' \\r\\nVIII\\r\\nExcessive bail shall not be required nor excessive fines imposed, nor cruel\\r\\n\\r\\nand unusual punishments inflicted',\n",
       "  ' \\r\\nIX\\r\\nThe enumeration in the Constitution, of certain rights, shall not be\\r\\n\\r\\nconstrued to deny or disparage others retained by the\\r\\n\\r\\npeople',\n",
       "  '\\xa0\\r\\nX\\r\\nThe powers not delegated to the United States by the Constitution, nor\\r\\n\\r\\nprohibited by it to the States, are reserved to the States respectively, or to\\r\\n\\r\\nthe people',\n",
       "  ''],\n",
       " [\"JFK's Inaugural Address, January 20, 1961, 12:11 EST\\r\\nWe observe today not a victory of party but a celebration of freedom\",\n",
       "  ' ',\n",
       "  ' ',\n",
       "  '\\r\\n\\r\\nsymbolizing an end as well as a beginning',\n",
       "  ' ',\n",
       "  ' ',\n",
       "  'signifying renewal\\r\\n\\r\\nas well as change for I have sworn before you and Almighty God\\r\\n\\r\\nthe same solemn oath our forbears prescribed nearly a century\\r\\n\\r\\nand three-quarters ago',\n",
       "  '\\r\\nThe world is very different now, for man holds in his mortal hands\\r\\n\\r\\nthe power to abolish all forms of human poverty and all forms of human life',\n",
       "  '\\r\\n\\r\\nAnd yet the same revolutionary beliefs for which our forbears fought\\r\\n\\r\\nare still at issue around the globe',\n",
       "  ' ',\n",
       "  ' ',\n",
       "  'the belief that the rights of man\\r\\n\\r\\ncome not from the generosity of the state but from the hand of God',\n",
       "  '\\r\\n\\r\\nWe dare not forget today that we are the heirs of that first revolution',\n",
       "  '\\r\\nLet the word go forth from this time and place',\n",
       "  ' ',\n",
       "  ' ',\n",
       "  'to friend and foe alike',\n",
       "  ' ',\n",
       "  ' ',\n",
       "  '\\r\\n\\r\\nthat the torch has been passed to a new generation of Americans',\n",
       "  ' ',\n",
       "  ' ',\n",
       "  '\\r\\n\\r\\nborn in this century, tempered by war, disciplined by a hard and bitter peace,\\r\\n\\r\\nproud of our ancient heritage',\n",
       "  ' ',\n",
       "  ' ',\n",
       "  'and unwilling to witness or permit the slow\\r\\n\\r\\nundoing of those human rights to which this nation has always been committed,\\r\\n\\r\\nand to which we are committed today',\n",
       "  ' ',\n",
       "  ' ',\n",
       "  'at home and around the world',\n",
       "  '\\r\\nLet every nation know',\n",
       "  ' ',\n",
       "  ' ',\n",
       "  'whether it wishes us well or ill',\n",
       "  ' ',\n",
       "  ' ',\n",
       "  '\\r\\n\\r\\nthat we shall pay any price, bear any burden, meet any hardship,\\r\\n\\r\\nsupport any friend, oppose any foe, to assure the survival and\\r\\n\\r\\nthe success of liberty',\n",
       "  '  This much we pledge',\n",
       "  ' ',\n",
       "  ' ',\n",
       "  'and more',\n",
       "  '\\r\\nTo those old allies whose cultural and spiritual origins we share:\\r\\n\\r\\nwe pledge the loyalty of faithful friends',\n",
       "  '  United',\n",
       "  ' ',\n",
       "  ' ',\n",
       "  'there is\\r\\n\\r\\nlittle we cannot do in a host of co-operative ventures',\n",
       "  '\\r\\n\\r\\nDivided',\n",
       "  ' ',\n",
       "  ' ',\n",
       "  'there is little we can do',\n",
       "  ' ',\n",
       "  ' ',\n",
       "  'for we dare not meet\\r\\n\\r\\na powerful challenge, at odds, and split asunder',\n",
       "  '\\r\\n\\r\\nTo those new states whom we welcome to the ranks of the free:\\r\\n\\r\\nwe pledge our word that one form of colonial control shall not\\r\\n\\r\\nhave passed away merely to be replaced by a far more iron tyranny',\n",
       "  '\\r\\n\\r\\nWe shall not always expect to find them supporting our view',\n",
       "  '\\r\\n\\r\\nBut we shall always hope to find them strongly supporting their\\r\\n\\r\\nown freedom',\n",
       "  ' ',\n",
       "  ' ',\n",
       "  'and to remember that',\n",
       "  ' ',\n",
       "  ' ',\n",
       "  'in the past',\n",
       "  ' ',\n",
       "  ' ',\n",
       "  'those who\\r\\n\\r\\nfoolishly sought power by riding the back of the tiger ended up inside',\n",
       "  '\\r\\n\\r\\nTo those people in the huts and villages of half the globe\\r\\n\\r\\nstruggling to break the bonds of mass misery:  we pledge our best\\r\\n\\r\\nefforts to help them help themselves, for whatever period\\r\\n\\r\\nis required',\n",
       "  ' ',\n",
       "  ' ',\n",
       "  'not because the Communists may be doing it,\\r\\n\\r\\nnot because we seek their votes, but because it is right',\n",
       "  '\\r\\n\\r\\nIf a free society cannot help the many who are poor,\\r\\n\\r\\nit cannot save the few who are rich',\n",
       "  '\\r\\nTo our sister republics south of our border:  we offer a special pledge',\n",
       "  ' ',\n",
       "  ' ',\n",
       "  '\\r\\n\\r\\nto convert our good words into good deeds',\n",
       "  ' ',\n",
       "  ' ',\n",
       "  'in a new alliance for progress\\r\\n\\r\\n',\n",
       "  ' ',\n",
       "  ' ',\n",
       "  'to assist free men and free governments in casting off the chains of\\r\\n\\r\\npoverty',\n",
       "  '  But this peaceful revolution of hope cannot become the prey of\\r\\n\\r\\nhostile powers',\n",
       "  '  Let all our neighbors know that we shall join with them\\r\\n\\r\\nto oppose aggression or subversion anywhere in the Americas',\n",
       "  ' ',\n",
       "  ' ',\n",
       "  'and let\\r\\n\\r\\nevery other power know that this hemisphere intends to remain the master\\r\\n\\r\\nof its own house',\n",
       "  '\\r\\nTo that world assembly of sovereign states:  the United Nations',\n",
       "  ' ',\n",
       "  ' ',\n",
       "  '\\r\\n\\r\\nour last best hope in an age where the instruments of war\\r\\n\\r\\nhave far outpaced the instruments of peace, we renew our pledge\\r\\n\\r\\nof support',\n",
       "  ' ',\n",
       "  ' ',\n",
       "  'to prevent it from becoming merely a forum for\\r\\n\\r\\ninvective',\n",
       "  ' ',\n",
       "  ' ',\n",
       "  'to strengthen its shield of the new and the weak',\n",
       "  ' ',\n",
       "  ' ',\n",
       "  '\\r\\n\\r\\nand to enlarge the area in which its writ may run',\n",
       "  '\\r\\nFinally, to those nations who would make themselves our adversaries,\\r\\n\\r\\nwe offer not a pledge but a request:  that both sides begin anew\\r\\n\\r\\nthe quest for peace; before the dark powers of destruction unleashed\\r\\n\\r\\nby science engulf all humanity in planned or accidental self-destruction',\n",
       "  '\\r\\n\\r\\nWe dare not tempt them with weakness',\n",
       "  '  For only when our arms are sufficient\\r\\n\\r\\nbeyond doubt can we be certain beyond doubt that they will never be employed',\n",
       "  '\\r\\n\\r\\nBut neither can two great and powerful groups of nations take comfort from\\r\\n\\r\\nour present course',\n",
       "  ' ',\n",
       "  ' ',\n",
       "  \"both sides overburdened by the cost of modern weapons,\\r\\n\\r\\nboth rightly alarmed by the steady spread of the deadly atom, yet both racing\\r\\n\\r\\nto alter that uncertain balance of terror that stays the hand of Mankind's\\r\\n\\r\\nfinal war\",\n",
       "  '\\r\\nSo let us begin anew',\n",
       "  ' ',\n",
       "  ' ',\n",
       "  'remembering on both sides that civility\\r\\n\\r\\nis not a sign of weakness, and sincerity is always subject to proof',\n",
       "  '\\r\\n\\r\\nLet us never negotiate out of fear, but let us never fear to negotiate',\n",
       "  '\\r\\n\\r\\nLet both sides explore what problems unite us instead of belaboring\\r\\n\\r\\nthose problems which divide us',\n",
       "  '  Let both sides, for the first time,\\r\\n\\r\\nformulate serious and precise proposals for the inspection and\\r\\n\\r\\ncontrol of arms',\n",
       "  ' ',\n",
       "  ' ',\n",
       "  'and bring the absolute power to destroy\\r\\n\\r\\nother nations under the absolute control of all nations',\n",
       "  '\\r\\n\\r\\nLet both sides seek to invoke the wonders of science instead\\r\\n\\r\\nof its terrors',\n",
       "  '  Together let us explore the stars, conquer the\\r\\n\\r\\ndeserts, eradicate disease, tap the ocean depths, and encourage\\r\\n\\r\\nthe arts and commerce',\n",
       "  '  Let both sides unite to heed in all corners\\r\\n\\r\\nof the earth the command of Isaiah',\n",
       "  ' ',\n",
       "  ' ',\n",
       "  'to \"undo the heavy burdens',\n",
       "  ' ',\n",
       "  ' ',\n",
       "  '\\r\\n\\r\\nlet the oppressed go free',\n",
       "  '\"\\r\\nAnd if a beachhead of co-operation may push back the jungle of suspicion',\n",
       "  ' ',\n",
       "  ' ',\n",
       "  '\\r\\n\\r\\nlet both sides join in creating not a new balance of power',\n",
       "  ' ',\n",
       "  ' ',\n",
       "  '\\r\\n\\r\\nbut a new world of law',\n",
       "  ' ',\n",
       "  ' ',\n",
       "  'where the strong are just',\n",
       "  ' ',\n",
       "  ' ',\n",
       "  '\\r\\n\\r\\nand the weak secure',\n",
       "  ' ',\n",
       "  ' ',\n",
       "  'and the peace preserved',\n",
       "  ' ',\n",
       "  ' ',\n",
       "  ' ',\n",
       "  '\\r\\nAll this will not be finished in the first one hundred days',\n",
       "  '\\r\\n\\r\\nNor will it be finished in the first one thousand days',\n",
       "  ' ',\n",
       "  ' ',\n",
       "  '\\r\\n\\r\\nnor in the life of this administration, nor even perhaps\\r\\n\\r\\nin our lifetime on this planet',\n",
       "  '  But let us begin',\n",
       "  '\\r\\nIn your hands, my fellow citizens',\n",
       "  ' ',\n",
       "  ' ',\n",
       "  'more than mine',\n",
       "  ' ',\n",
       "  ' ',\n",
       "  'will rest the\\r\\n\\r\\nfinal success or failure of our course',\n",
       "  '  Since this country was founded,\\r\\n\\r\\neach generation of Americans has been summoned to give testimony\\r\\n\\r\\nto its national loyalty',\n",
       "  '  The graves of young Americans who answered\\r\\n\\r\\nthe call to service surround the globe',\n",
       "  '  Now the trumpet summons us again',\n",
       "  ' ',\n",
       "  ' ',\n",
       "  '\\r\\n\\r\\nnot as a call to bear arms, though arms we need',\n",
       "  ' ',\n",
       "  ' ',\n",
       "  'not as a call to battle',\n",
       "  ' ',\n",
       "  ' ',\n",
       "  '\\r\\n\\r\\nthough embattled we are',\n",
       "  ' ',\n",
       "  ' ',\n",
       "  'but a call to bear the burden of a long\\r\\n\\r\\ntwilight struggle',\n",
       "  ' ',\n",
       "  ' ',\n",
       "  'year in and year out, rejoicing in hope,\\r\\n\\r\\npatient in tribulation',\n",
       "  ' ',\n",
       "  ' ',\n",
       "  'a struggle against the common enemies of man:\\r\\n\\r\\ntyranny',\n",
       "  ' ',\n",
       "  ' ',\n",
       "  'poverty',\n",
       "  ' ',\n",
       "  ' ',\n",
       "  'disease',\n",
       "  ' ',\n",
       "  ' ',\n",
       "  'and war itself',\n",
       "  '  Can we forge against\\r\\n\\r\\nthese enemies a grand and global alliance',\n",
       "  ' ',\n",
       "  ' ',\n",
       "  'North and South',\n",
       "  ' ',\n",
       "  ' ',\n",
       "  '\\r\\n\\r\\nEast and West',\n",
       "  ' ',\n",
       "  ' ',\n",
       "  'that can assure a more fruitful life for all mankind?\\r\\n\\r\\nWill you join in that historic effort?\\r\\nIn the long history of the world, only a few generations have been granted\\r\\n\\r\\nthe role of defending freedom in its hour of maximum danger; I do not shrink\\r\\n\\r\\nfrom this responsibility',\n",
       "  ' ',\n",
       "  ' ',\n",
       "  'I welcome it',\n",
       "  '  I do not believe that any of us\\r\\n\\r\\nwould exchange places with any other people or any other generation',\n",
       "  '\\r\\n\\r\\nThe energy, the faith, the devotion which we bring to this endeavor\\r\\n\\r\\nwill light our country and all who serve it',\n",
       "  ' ',\n",
       "  ' ',\n",
       "  'and the glow from\\r\\n\\r\\nthat fire can truly light the world',\n",
       "  '\\r\\nAnd so, my fellow Americans',\n",
       "  ' ',\n",
       "  ' ',\n",
       "  'ask not what your country can\\r\\n\\r\\ndo for you',\n",
       "  ' ',\n",
       "  ' ',\n",
       "  'ask what you can do for your country',\n",
       "  '  My fellow\\r\\n\\r\\ncitizens of the world',\n",
       "  ' ',\n",
       "  ' ',\n",
       "  'ask not what America will do for you,\\r\\n\\r\\nbut what together we can do for the Freedom of Man',\n",
       "  '\\r\\nFinally, whether you are citizens of America or citizens of the world,\\r\\n\\r\\nask of us here the same high standards of strength and sacrifice\\r\\n\\r\\nwhich we ask of you',\n",
       "  \"  With a good conscience our only sure reward,\\r\\n\\r\\nwith history the final judge of our deeds; let us go forth to lead\\r\\n\\r\\nthe land we love, asking His blessing and His help, but knowing that\\r\\n\\r\\nhere on earth God's work must truly be our own\",\n",
       "  ''],\n",
       " [\"Lincoln's Gettysburg Address,given November 19, 1863\\r\\n\\r\\non the battlefield near Gettysburg, Pennsylvania, USA\\r\\n\\r\\nFour score and seven years ago, our fathers brought forth\\r\\n\\r\\nupon this continent a new nation:  conceived in liberty, and\\r\\n\\r\\ndedicated to the proposition that all men are created equal\",\n",
       "  '\\r\\nNow we are engaged in a great civil war ',\n",
       "  '',\n",
       "  '',\n",
       "  ' testing whether\\r\\n\\r\\nthat nation, or any nation so conceived and so dedicated ',\n",
       "  '',\n",
       "  '',\n",
       "  '\\r\\n\\r\\ncan long endure',\n",
       "  '  We are met on a great battlefield of that war',\n",
       "  '\\r\\nWe have come to dedicate a portion of that field as a final resting place\\r\\n\\r\\nfor those who here gave their lives that this nation might live',\n",
       "  '\\r\\n\\r\\nIt is altogether fitting and proper that we should do this',\n",
       "  '\\r\\nBut, in a larger sense, we cannot dedicate ',\n",
       "  '',\n",
       "  '',\n",
       "  ' we cannot consecrate ',\n",
       "  '',\n",
       "  '',\n",
       "  '\\r\\n\\r\\nwe cannot hallow this ground',\n",
       "  '  The brave men, living and dead,\\r\\n\\r\\nwho struggled here have consecrated it, far above our poor power\\r\\n\\r\\nto add or detract',\n",
       "  '  The world will little note, nor long remember,\\r\\n\\r\\nwhat we say here, but it can never forget what they did here',\n",
       "  '\\r\\nIt is for us the living, rather, to be dedicated here to the unfinished\\r\\n\\r\\nwork which they who fought here have thus far so nobly advanced',\n",
       "  '\\r\\n\\r\\nIt is rather for us to be here dedicated to the great task remaining\\r\\n\\r\\nbefore us ',\n",
       "  '',\n",
       "  '',\n",
       "  ' that from these honored dead we take increased devotion\\r\\n\\r\\nto that cause for which they gave the last full measure of devotion ',\n",
       "  '',\n",
       "  '',\n",
       "  '\\r\\n\\r\\nthat we here highly resolve that these dead shall not have died in vain ',\n",
       "  '',\n",
       "  '',\n",
       "  '\\r\\n\\r\\nthat this nation, under God, shall have a new birth of freedom ',\n",
       "  '',\n",
       "  '',\n",
       "  '\\r\\n\\r\\nand that government of the people ',\n",
       "  '',\n",
       "  '',\n",
       "  ' by the people ',\n",
       "  '',\n",
       "  '',\n",
       "  ' for the people ',\n",
       "  '',\n",
       "  '',\n",
       "  '\\r\\n\\r\\nshall not perish from this earth',\n",
       "  ''],\n",
       " ['THE CONSTITUTION OF THE UNITED STATES OF AMERICA, 1787\\r\\nWe the people of the United States, in Order to form a more perfect Union,\\r\\n\\r\\nestablish Justice, insure domestic Tranquility, provide for the common defence,\\r\\n\\r\\npromote the general Welfare, and secure the Blessings of Liberty to ourselves\\r\\n\\r\\nand our Posterity, do ordain and establish this Constitution for the\\r\\n\\r\\nUnited States of America',\n",
       "  '\\r\\nArticle I\\r\\nSection 1',\n",
       "  '  All legislative Powers herein granted shall be vested in a\\r\\n\\r\\nCongress of the United States, which shall consist of a Senate and\\r\\n\\r\\nHouse of Representatives',\n",
       "  '\\r\\nSection 2',\n",
       "  '  The House of Representatives shall be composed of Members\\r\\n\\r\\nchosen every second Year by the People of the several States,\\r\\n\\r\\nand the electors in each State shall have the qualifications requisite\\r\\n\\r\\nfor electors of the most numerous branch of the State legislature',\n",
       "  '\\r\\nNo Person shall be a Representative who shall not have attained to the\\r\\n\\r\\nAge of twenty five Years, and been seven Years a citizen of the United States,\\r\\n\\r\\nand who shall not, when elected, be an Inhabitant of that State in which\\r\\n\\r\\nhe shall be chosen',\n",
       "  '\\r\\nRepresentatives and direct Taxes shall be apportioned among\\r\\n\\r\\nthe several States which may be included within this Union,\\r\\n\\r\\naccording to their respective Numbers, which shall be determined\\r\\n\\r\\nby adding to the whole number of free Persons, including those\\r\\n\\r\\nbound to Service for a Term of Years, and excluding Indians not taxed,\\r\\n\\r\\nthree fifths of all other Persons',\n",
       "  '  The actual Enumeration shall be made\\r\\n\\r\\nwithin three Years after the first Meeting of the Congress of the\\r\\n\\r\\nUnited States, and within every subsequent Term of ten Years,\\r\\n\\r\\nin such Manner as they shall by law Direct',\n",
       "  '  The number of\\r\\n\\r\\nRepresentatives shall not exceed one for every thirty Thousand,\\r\\n\\r\\nbut each State shall have at least one Representative;\\r\\n\\r\\nand until such enumeration shall be made, the State of New Hampshire\\r\\n\\r\\nshall be entitled to chuse three, Massachusetts eight, Rhode Island\\r\\n\\r\\nand Providence Plantations one, Connecticut five, New York six,\\r\\n\\r\\nNew Jersey four, Pennsylvania eight, Delaware one, Maryland six,\\r\\n\\r\\nVirginia ten, North Carolina five, South Carolina five, and Georgia three',\n",
       "  '\\r\\nWhen vacancies happen in the Representation from any State, the Executive\\r\\n\\r\\nAuthority thereof shall issue Writs of Election to fill such Vacancies',\n",
       "  '\\r\\nThe House of Representatives shall chuse their Speaker and other Officers;\\r\\n\\r\\nand shall have the sole Power of Impeachment',\n",
       "  '\\r\\nSection 3',\n",
       "  '  The Senate of the United States shall be composed of\\r\\n\\r\\ntwo Senators from each State, chosen by the legislature thereof,\\r\\n\\r\\nfor six Years; and each Senator shall have one Vote',\n",
       "  '\\r\\nImmediately after they shall be assembled in Consequence of the first Election,\\r\\n\\r\\nthey shall be divided as equally as may be into three Classes',\n",
       "  '  The Seats of\\r\\n\\r\\nthe Senators of the first Class shall be vacated at the expiration of the\\r\\n\\r\\nsecond Year, of the second Class at the expiration of the fourth Year,\\r\\n\\r\\nand of the third Class at the expiration of the sixth Year, so that one third\\r\\n\\r\\nmay be chosen every second Year; and if vacancies happen by Resignation,\\r\\n\\r\\nor otherwise, during the recess of the Legislature of any State,\\r\\n\\r\\nthe Executive thereof may make temporary Appointments until the\\r\\n\\r\\nnext meeting of the Legislature, which shall then fill such Vacancies',\n",
       "  '\\r\\nNo person shall be a Senator who shall not have attained to the Age of\\r\\n\\r\\nthirty Years, and been nine Years a Citizen of the United States,\\r\\n\\r\\nand who shall not, when elected, be an Inhabitant of that State\\r\\n\\r\\nfor which he shall be chosen',\n",
       "  '\\r\\nThe Vice-President of the United States shall be President of the Senate,\\r\\n\\r\\nbut shall have no Vote, unless they be equally divided',\n",
       "  '\\r\\nThe Senate shall choose their other Officers, and also a President\\r\\n\\r\\npro tempore, in the Absence of the Vice-President, or when he shall\\r\\n\\r\\nexercise the Office of President of the United States',\n",
       "  '\\r\\nThe Senate shall have the sole Power to try all Impeachments',\n",
       "  '\\r\\n\\r\\nWhen sitting for that Purpose, they shall be on Oath or Affirmation',\n",
       "  '\\r\\n\\r\\nWhen the President of the United States is tried, the Chief Justice\\r\\n\\r\\nshall preside: And no Person shall be convicted without the Concurrence\\r\\n\\r\\nof two thirds of the Members present',\n",
       "  '\\r\\nJudgment in cases of Impeachment shall not extend further than to removal\\r\\n\\r\\nfrom Office, and disqualification to hold and enjoy any Office of honor,\\r\\n\\r\\nTrust or Profit under the United States:  but the Party convicted shall\\r\\n\\r\\nnevertheless be liable and subject to Indictment, Trial, Judgment and\\r\\n\\r\\nPunishment, according to Law',\n",
       "  '\\r\\nSection 4',\n",
       "  '  The Times, Places and Manner of holding Elections for Senators and\\r\\n\\r\\nRepresentatives, shall be prescribed in each State by the Legislature thereof;\\r\\n\\r\\nbut the Congress may at any time by Law make or alter such Regulations,\\r\\n\\r\\nexcept as to the Places of chusing Senators',\n",
       "  '\\r\\nThe Congress shall assemble at least once in every Year,\\r\\n\\r\\nand such Meeting shall be on the first Monday in December,\\r\\n\\r\\nunless they shall by law appoint a different Day',\n",
       "  '\\r\\nSection 5',\n",
       "  '  Each House shall be the Judge of the Elections,\\r\\n\\r\\nReturns and Qualifications of its own Members, and a\\r\\n\\r\\nMajority of each shall constitute a Quorum to do Business;\\r\\n\\r\\nbut a smaller Number may adjourn from day to day,\\r\\n\\r\\nand may be authorized to compel the Attendance of absent Members,\\r\\n\\r\\nin such Manner, and under such Penalties as each House may provide',\n",
       "  '\\r\\nEach house may determine the Rules of its Proceedings,\\r\\n\\r\\npunish its Members for disorderly Behavior, and, with the\\r\\n\\r\\nConcurrence of two-thirds, expel a Member',\n",
       "  '\\r\\nEach house shall keep a Journal of its Proceedings,\\r\\n\\r\\nand from time to time publish the same, excepting such Parts as may\\r\\n\\r\\nin their Judgment require Secrecy; and the Yeas and Nays of the\\r\\n\\r\\nMembers of either House on any question shall, at the Desire of\\r\\n\\r\\none fifth of those Present, be entered on the Journal',\n",
       "  '\\r\\nNeither House, during the Session of Congress, shall, without the\\r\\n\\r\\nConsent of the other, adjourn for more than three days, nor to\\r\\n\\r\\nany other Place than that in which the two Houses shall be sitting',\n",
       "  '\\r\\nSection 6',\n",
       "  '  The Senators and Representatives shall receive a Compensation\\r\\n\\r\\nfor their Services, to be ascertained by Law, and paid out of the Treasury\\r\\n\\r\\nof the United States',\n",
       "  '  They shall in all Cases, except Treason, Felony and\\r\\n\\r\\nBreach of the Peace, be privileged from Arrest during their Attendance\\r\\n\\r\\nat the Session of their respective Houses, and in going to and returning\\r\\n\\r\\nfrom the same; and for any Speech or Debate in either House,\\r\\n\\r\\nthey shall not be questioned in any other Place',\n",
       "  '\\r\\nNo Senator or Representative shall, during the Time for which he was elected,\\r\\n\\r\\nbe appointed to any civil Office under the authority of the United States,\\r\\n\\r\\nwhich shall have been created, or the Emoluments whereof shall have been\\r\\n\\r\\nincreased during such time; and no Person holding any Office under the\\r\\n\\r\\nUnited States, shall be a Member of either House during his Continuance\\r\\n\\r\\nin Office',\n",
       "  '\\r\\nSection 7',\n",
       "  '  All Bills for raising Revenue shall originate in the\\r\\n\\r\\nHouse of Representatives; but the Senate may propose or concur with\\r\\n\\r\\nAmendments as on other Bills',\n",
       "  '\\r\\nEvery Bill which shall have passed the House of Representatives and\\r\\n\\r\\nthe Senate, shall, before it become a Law, be presented to the\\r\\n\\r\\nPresident of the United States; If he approve he shall sign it,\\r\\n\\r\\nbut if not he shall return it, with his Objections to that House\\r\\n\\r\\nin which it shall have originated, who shall enter the Objections\\r\\n\\r\\nat large on their Journal, and proceed to reconsider it',\n",
       "  '\\r\\n\\r\\nIf after such Reconsideration two thirds of that house\\r\\n\\r\\nshall agree to pass the Bill, it shall be sent,\\r\\n\\r\\ntogether with the Objections, to the other House, by which\\r\\n\\r\\nit shall likewise be reconsidered, and if approved by two thirds\\r\\n\\r\\nof that House, it shall become a law',\n",
       "  '  But in all such Cases\\r\\n\\r\\nthe Votes of both Houses shall be determined by Yeas and Nays,\\r\\n\\r\\nand the Names of the Persons voting for and against the Bill shall be\\r\\n\\r\\nentered on the Journal of each House respectively',\n",
       "  '  If any Bill\\r\\n\\r\\nshall not be returned by the President within ten Days (Sundays excepted)\\r\\n\\r\\nafter it shall have been presented to him, the Same shall be a Law,\\r\\n\\r\\nin like Manner as if he had signed it, unless the Congress by their\\r\\n\\r\\nAdjournment prevent its Return, in which case it shall not be a Law',\n",
       "  '\\r\\nEvery Order, Resolution, or Vote to which the Concurrence of the Senate\\r\\n\\r\\nand House of Representatives may be necessary (except on a question\\r\\n\\r\\nof Adjournment) shall be presented to the President of the United States;\\r\\n\\r\\nand before the Same shall take Effect, shall be approved by him,\\r\\n\\r\\nor being disapproved by him, shall be repassed by two thirds of\\r\\n\\r\\nthe Senate and House of Representatives, according to the Rules\\r\\n\\r\\nand Limitations prescribed in the Case of a Bill',\n",
       "  '\\r\\nSection 8',\n",
       "  '  The Congress shall have Power to lay and collect Taxes, Duties,\\r\\n\\r\\nImposts and Excises, to pay the Debts and provide for the common Defence\\r\\n\\r\\nand general Welfare of the United States; but all Duties, Imposts and Excises\\r\\n\\r\\nshall be uniform throughout the United States;\\r\\nTo borrow Money on the credit of the United States;\\r\\nTo regulate Commerce with foreign Nations, and among the several States,\\r\\n\\r\\nand with the Indian Tribes;\\r\\nTo establish an uniform Rule of Naturalization, and uniform Laws\\r\\n\\r\\non the subject of Bankruptcies throughout the United States;\\r\\nTo coin Money, regulate the Value thereof, and of foreign Coin,\\r\\n\\r\\nand fix the Standard of Weights and Measures;\\r\\nTo provide for the Punishment of counterfeiting the Securities\\r\\n\\r\\nand current Coin of the United States;\\r\\nTo establish Post Offices and Post Roads;\\r\\nTo promote the Progress of Science and useful Arts, by securing\\r\\n\\r\\nfor limited Times to Authors and Inventors the exclusive Right\\r\\n\\r\\nto their respective Writings and Discoveries;\\r\\nTo constitute Tribunals inferior to the supreme Court;\\r\\nTo define and punish Piracies and Felonies committed on the high Seas,\\r\\n\\r\\nand Offenses against the Law of Nations;\\r\\nTo declare War, grant Letters of Marque and Reprisal,\\r\\n\\r\\nand make Rules concerning Captures on Land and Water;\\r\\nTo raise and support Armies, but no Appropriation of Money to that Use\\r\\n\\r\\nshall be for a longer term than two Years;\\r\\nTo provide and maintain a Navy;\\r\\nTo make Rules for the Government and Regulation of the land and naval Forces;\\r\\nTo provide for calling forth the Militia to execute the Laws of the Union,\\r\\n\\r\\nsuppress Insurrections and repel Invasions;\\r\\nTo provide for organizing, arming, and disciplining, the Militia, and for\\r\\n\\r\\ngoverning such Part of them as may be employed in the Service of the\\r\\n\\r\\nUnited States, reserving to the States respectively, the Appointment\\r\\n\\r\\nof the Officers, and the Authority of training the militia according\\r\\n\\r\\nto the discipline prescribed by Congress;\\r\\nTo exercise exclusive Legislation in all Cases whatsoever,\\r\\n\\r\\nover such District (not exceeding ten Miles square) as may,\\r\\n\\r\\nby Cession of particular States, and the Acceptance of Congress,\\r\\n\\r\\nbecome the Seat of the Government of the United States, and to\\r\\n\\r\\nexercise like Authority over all Places purchased by the Consent\\r\\n\\r\\nof the Legislature of the State in which the Same shall be,\\r\\n\\r\\nfor the Erection of Forts, Magazines, Arsenals, Dockyards,\\r\\n\\r\\nand other needful Buildings;—And\\r\\nTo make all Laws which shall be necessary and proper for carrying\\r\\n\\r\\ninto Execution the foregoing Powers, and all other Powers vested\\r\\n\\r\\nby this Constitution in the Government of the United States,\\r\\n\\r\\nor in any Department or Officer thereof',\n",
       "  '\\r\\nSection 9',\n",
       "  '  The Migration or Importation of such Persons as any\\r\\n\\r\\nof the States now existing shall think proper to admit, shall not\\r\\n\\r\\nbe prohibited by the Congress prior to the Year one thousand eight\\r\\n\\r\\nhundred and eight, but a Tax or Duty may be imposed on such Importation,\\r\\n\\r\\nnot exceeding ten dollars for each Person',\n",
       "  '\\r\\nThe Privilege of the Writ of Habeas Corpus shall not be suspended, unless\\r\\n\\r\\nwhen in Cases of Rebellion or Invasion the public Safety may require it',\n",
       "  '\\r\\nNo Bill of Attainder or ex post facto Law shall be passed',\n",
       "  '\\r\\nNo Capitation, or other direct, Tax shall be laid, unless in Proportion\\r\\n\\r\\nto the Census or Enumeration herein before directed to be taken',\n",
       "  '\\r\\nNo Tax or Duty shall be laid on Articles exported from any State',\n",
       "  '\\r\\nNo Preference shall be given by any Regulation of Commerce or Revenue\\r\\n\\r\\nto the Ports of one State over those of another: nor shall Vessels bound to,\\r\\n\\r\\nor from, one State, be obliged to enter, clear, or pay Duties in another',\n",
       "  '\\r\\nNo Money shall be drawn from the Treasury, but in Consequence\\r\\n\\r\\nof Appropriations made by Law; and a regular Statement and Account\\r\\n\\r\\nof the Receipts and Expenditures of all public Money shall be\\r\\n\\r\\npublished from time to time',\n",
       "  '\\r\\nNo Title of Nobility shall be granted by the United States;\\r\\n\\r\\nand no Person holding any Office of Profit or Trust under them, shall,\\r\\n\\r\\nwithout the Consent of the Congress, accept of any present, Emolument,\\r\\n\\r\\nOffice, or Title, of any kind whatever, from any King, Prince,\\r\\n\\r\\nor foreign State',\n",
       "  '\\r\\nSection 10',\n",
       "  '  No State shall enter into any Treaty, Alliance, or\\r\\n\\r\\nConfederation; grant Letters of Marque and Reprisal; coin Money;\\r\\n\\r\\nemit Bills of Credit; make any Thing but gold and silver Coin a Tender\\r\\n\\r\\nin Payment of Debts; pass any Bill of Attainder, ex post facto Law,\\r\\n\\r\\nor Law impairing the Obligation of Contracts, or grant any Title of Nobility',\n",
       "  \"\\r\\nNo State shall, without the Consent of the Congress, lay any Imposts or Duties\\r\\n\\r\\non Imports or Exports, except what may be absolutely necessary for executing\\r\\n\\r\\nit's inspection Laws: and the net Produce of all Duties and Imposts,\\r\\n\\r\\nlaid by any State on Imports or Exports, shall be for the Use of the Treasury\\r\\n\\r\\nof the United States; and all such Laws shall be subject to the Revision\\r\\n\\r\\nand Controul of the Congress\",\n",
       "  '\\r\\nNo State shall, without the Consent of Congress, lay any Duty of\\r\\n\\r\\nTonnage, keep Troops, or Ships of War in time of Peace, enter into any\\r\\n\\r\\nAgreement or Compact with another State, or with a foreign Power, or\\r\\n\\r\\nengage in War, unless actually invaded, or in such imminent Danger\\r\\n\\r\\nas will not admit of delay',\n",
       "  '\\r\\nARTICLE II\\r\\nSection 1',\n",
       "  '  The executive Power shall be vested in a President\\r\\n\\r\\nof the United States of America',\n",
       "  '  He shall hold his Office during\\r\\n\\r\\nthe Term of four Years, and, together with the Vice President\\r\\n\\r\\nchosen for the same Term, be elected, as follows:\\r\\nEach State shall appoint, in such Manner as the Legislature thereof may direct,\\r\\n\\r\\na Number of Electors, equal to the whole Number of Senators and Representatives\\r\\n\\r\\nto which the State may be entitled in the Congress:  but no Senator or\\r\\n\\r\\nRepresentative, or Person holding an Office of Trust or Profit under\\r\\n\\r\\nthe United States, shall be appointed an Elector',\n",
       "  '\\r\\nThe Electors shall meet in their respective States, and vote by Ballot\\r\\n\\r\\nfor two Persons, of whom one at least shall not be an Inhabitant of\\r\\n\\r\\nthe same State with themselves',\n",
       "  '  And they shall make a List of\\r\\n\\r\\nall the Persons voted for, and of the Number of Votes for each;\\r\\n\\r\\nwhich List they shall sign and certify, and transmit sealed to\\r\\n\\r\\nthe Seat of the Government of the United States, directed to the\\r\\n\\r\\nPresident of the Senate',\n",
       "  '  The President of the Senate shall,\\r\\n\\r\\nin the Presence of the Senate and House of Representatives,\\r\\n\\r\\nopen all the Certificates, and the Votes shall then be counted',\n",
       "  '\\r\\n\\r\\nThe Person having the greatest Number of Votes shall be the President,\\r\\n\\r\\nif such Number be a Majority of the whole Number of Electors appointed;\\r\\n\\r\\nand if there be more than one who have such Majority, and have an equal\\r\\n\\r\\nNumber of votes, then the House of Representatives shall immediately\\r\\n\\r\\nchuse by Ballot one of them for President; and if no Person have\\r\\n\\r\\na Majority, then from the five highest on the List the said House\\r\\n\\r\\nshall in like Manner chuse the President',\n",
       "  '  But in chusing the President,\\r\\n\\r\\nthe Votes shall be taken by States, the Representation from each State\\r\\n\\r\\nhaving one Vote; a Quorum for this Purpose shall consist of a Member\\r\\n\\r\\nor Members from two thirds of the States, and a Majority of all the\\r\\n\\r\\nStates shall be necessary to a Choice',\n",
       "  '  In every Case, after the Choice\\r\\n\\r\\nof the President, the Person having the greatest Number of Votes of\\r\\n\\r\\nthe Electors shall be the Vice President',\n",
       "  '  But if there should remain\\r\\n\\r\\ntwo or more who have equal Votes, the Senate shall chuse from them\\r\\n\\r\\nby Ballot the Vice President',\n",
       "  '\\r\\nThe Congress may determine the Time of chusing the Electors,\\r\\n\\r\\nand the Day on which they shall give their Votes; which Day\\r\\n\\r\\nshall be the same throughout the United States',\n",
       "  '\\r\\nNo Person except a natural born Citizen, or a Citizen of the United States,\\r\\n\\r\\nat the time of the Adoption of this Constitution, shall be eligible to\\r\\n\\r\\nthe Office of President; neither shall any Person be eligible to that\\r\\n\\r\\nOffice who shall not have attained to the Age of thirty five Years,\\r\\n\\r\\nand been fourteen Years a Resident within the United States',\n",
       "  '\\r\\nIn Case of the Removal of the President from Office, or of his Death,\\r\\n\\r\\nResignation, or Inability to discharge the Powers and Duties of the\\r\\n\\r\\nsaid Office, the Same shall devolve on the Vice President, and the\\r\\n\\r\\nCongress may by Law provide for the Case of Removal, Death, Resignation\\r\\n\\r\\nor Inability, both of the President and Vice President, declaring what\\r\\n\\r\\nOfficer shall then act as President, and such Officer shall act accordingly,\\r\\n\\r\\nuntil the Disability be removed, or a President shall be elected',\n",
       "  '\\r\\nThe President shall, at stated Times, receive for his Services,\\r\\n\\r\\na Compensation, which shall neither be encreased nor diminished during\\r\\n\\r\\nthe Period for which he shall have been elected, and he shall not receive\\r\\n\\r\\nwithin that Period any other Emolument from the United States, or any of them',\n",
       "  '\\r\\nBefore he enter on the Execution of his Office, he shall take the\\r\\n\\r\\nfollowing Oath or Affirmation:—\"I do solemnly swear (or affirm) that\\r\\n\\r\\nI will faithfully execute the Office of President of the United States,\\r\\n\\r\\nand will to the best of my Ability, preserve, protect and defend the\\r\\n\\r\\nConstitution of the United States',\n",
       "  '\"\\r\\nSection 2',\n",
       "  '  The President shall be Commander in Chief of the Army\\r\\n\\r\\nand Navy of the United States, and of the Militia of the several States,\\r\\n\\r\\nwhen called into the actual Service of the United States;\\r\\n\\r\\nhe may require the Opinion, in writing, of the principal Officer\\r\\n\\r\\nin each of the executive Departments, upon any Subject relating to\\r\\n\\r\\nthe Duties of their respective Offices, and he shall have Power\\r\\n\\r\\nto grant Reprieves and Pardons for Offenses against the United States,\\r\\n\\r\\nexcept in Cases of impeachment',\n",
       "  '\\r\\nHe shall have Power, by and with the Advice and Consent of the\\r\\n\\r\\nSenate, to make Treaties, provided two thirds of the Senators\\r\\n\\r\\npresent concur; and he shall nominate, and by and with the Advice\\r\\n\\r\\nand Consent of the Senate, shall appoint Ambassadors, other public\\r\\n\\r\\nMinisters and Consuls, Judges of the supreme Court, and all other\\r\\n\\r\\nOfficers of the United States, whose Appointments are not herein\\r\\n\\r\\notherwise provided for, and which shall be established by Law:\\r\\n\\r\\nbut the Congress may by Law vest the Appointment of such inferior Officers,\\r\\n\\r\\nas they think proper, in the President alone, in the Courts of Law,\\r\\n\\r\\nor in the Heads of Departments',\n",
       "  '\\r\\nThe President shall have Power to fill up all Vacancies that may happen\\r\\n\\r\\nduring the Recess of the Senate, by granting Commissions which shall\\r\\n\\r\\nexpire at the End of their next session',\n",
       "  '\\r\\nSection 3',\n",
       "  '  He shall from time to time give to the Congress\\r\\n\\r\\nInformation of the State of the Union, and recommend to their\\r\\n\\r\\nConsideration such Measures as he shall judge necessary and expedient;\\r\\n\\r\\nhe may, on extraordinary Occasions, convene both Houses, or either\\r\\n\\r\\nof them, and in Case of Disagreement between them, with Respect to\\r\\n\\r\\nthe Time of Adjournment, he may adjourn them to such Time as he shall\\r\\n\\r\\nthink proper; he shall receive Ambassadors and other public Ministers;\\r\\n\\r\\nhe shall take Care that the Laws be faithfully executed, and shall\\r\\n\\r\\nCommission all the Officers of the United States',\n",
       "  '\\r\\nSection 4',\n",
       "  '  The President, Vice President and all civil Officers of the\\r\\n\\r\\nUnited States, shall be removed from Office on Impeachment for,\\r\\n\\r\\nand Conviction of, Treason, Bribery, or other high Crimes and Misdemeanors',\n",
       "  '\\r\\nARTICLE III\\r\\nSection 1',\n",
       "  '  The judicial Power of the United States, shall be vested\\r\\n\\r\\nin one supreme Court, and in such inferior Courts as the Congress may\\r\\n\\r\\nfrom time to time ordain and establish',\n",
       "  '  The Judges, both of the supreme\\r\\n\\r\\nand inferior Courts, shall hold their Offices during good behavior,\\r\\n\\r\\nand shall, at stated Times, receive for their Services, a Compensation,\\r\\n\\r\\nwhich shall not be diminished during their Continuance in Office',\n",
       "  '\\r\\nSection 2',\n",
       "  '  The judicial Power shall extend to all Cases, in Law and Equity,\\r\\n\\r\\narising under this Constitution, the Laws of the United States, and Treaties\\r\\n\\r\\nmade, or which shall be made, under their Authority;—to all Cases affecting\\r\\n\\r\\nAmbassadors, other public Ministers and Consuls;—to all Cases of admiralty\\r\\n\\r\\nand maritime Jurisdiction;—to Controversies to which the United States\\r\\n\\r\\nshall be a Party;—to Controversies between two or more States;—between a\\r\\n\\r\\nState and Citizens of another State;—between Citizens of different States;\\r\\n\\r\\n—between Citizens of the same State claiming Lands under Grants of\\r\\n\\r\\ndifferent States, and between a State, or the Citizens thereof,\\r\\n\\r\\nand foreign States, Citizens or Subjects',\n",
       "  '\\r\\nIn all cases affecting Ambassadors, other public Ministers and Consuls,\\r\\n\\r\\nand those in which a State shall be Party, the supreme Court shall have\\r\\n\\r\\noriginal Jurisdiction',\n",
       "  '  In all the other Cases before mentioned, the\\r\\n\\r\\nsupreme Court shall have appellate Jurisdiction, both as to Law and Fact,\\r\\n\\r\\nwith such Exceptions, and under such Regulations as the Congress shall make',\n",
       "  '\\r\\nThe Trial of all Crimes, except in Cases of Impeachment, shall be by Jury;\\r\\n\\r\\nand such Trial shall be held in the State where the said Crimes shall\\r\\n\\r\\nhave been committed; but when not committed within any State, the Trial\\r\\n\\r\\nshall be at such Place or Places as the Congress may by Law have directed',\n",
       "  '\\r\\nSection 3',\n",
       "  '  Treason against the United States, shall consist only in\\r\\n\\r\\nlevying War against them, or in adhering to their Enemies, giving them\\r\\n\\r\\nAid and Comfort',\n",
       "  '  No Person shall be convicted of Treason unless on\\r\\n\\r\\nthe Testimony of two Witnesses to the same overt Act, or on Confession\\r\\n\\r\\nin open Court',\n",
       "  '\\r\\nThe Congress shall have power to declare the punishment of Treason,\\r\\n\\r\\nbut no Attainder of Treason shall work Corruption of Blood,\\r\\n\\r\\nor Forfeiture except during the Life of the Person attainted',\n",
       "  '\\r\\nARTICLE IV\\r\\nSection 1',\n",
       "  '  Full Faith and Credit shall be given in each State to the\\r\\n\\r\\npublic Acts, Records, and judicial Proceedings of every other State',\n",
       "  '\\r\\n\\r\\nAnd the Congress may by general Laws prescribe the Manner in which such Acts,\\r\\n\\r\\nRecords, and Proceedings shall be proved, and the Effect thereof',\n",
       "  '\\r\\nSection 2',\n",
       "  '  The Citizens of each State shall be entitled to all\\r\\n\\r\\nPrivileges and Immunities of Citizens in the several States',\n",
       "  '\\r\\nA Person charged in any State with Treason, Felony, or other Crime,\\r\\n\\r\\nwho shall flee from Justice, and be found in another State,\\r\\n\\r\\nshall on Demand of the executive Authority of the State from\\r\\n\\r\\nwhich he fled, be delivered up, to be removed to the State having\\r\\n\\r\\nJurisdiction of the Crime',\n",
       "  '\\r\\nNo person held to Service or Labor in one State, under the Laws thereof,\\r\\n\\r\\nescaping into another, shall, in Consequence of any Law or Regulation therein,\\r\\n\\r\\nbe discharged from such Service or Labor, But shall be delivered up on Claim\\r\\n\\r\\nof the Party to whom such Service or Labor may be due',\n",
       "  '\\r\\nSection 3',\n",
       "  '  New States may be admitted by the Congress into this Union;\\r\\n\\r\\nbut no new States shall be formed or erected within the Jurisdiction\\r\\n\\r\\nof any other State; nor any State be formed by the Junction of two\\r\\n\\r\\nor more States, or Parts of States, without the Consent of the\\r\\n\\r\\nLegislatures of the States concerned as well as of the Congress',\n",
       "  '\\r\\nThe Congress shall have Power to dispose of and make all needful Rules\\r\\n\\r\\nand Regulations respecting the Territory or other Property belonging\\r\\n\\r\\nto the United States; and nothing in this Constitution shall be so\\r\\n\\r\\nconstrued as to Prejudice any Claims of the United States,\\r\\n\\r\\nor of any particular State',\n",
       "  '\\r\\nSection 4',\n",
       "  '  The United States shall guarantee to every State in this Union\\r\\n\\r\\na Republican Form of Government, and shall protect each of them against\\r\\n\\r\\nInvasion; and on Application of the Legislature, or of the Executive\\r\\n\\r\\n(when the Legislature cannot be convened) against domestic Violence',\n",
       "  \"\\r\\nARTICLE V\\r\\nThe Congress, whenever two thirds of both Houses shall deem it necessary,\\r\\n\\r\\nshall propose Amendments to this Constitution, or, on the Application of\\r\\n\\r\\nthe Legislatures of two thirds of the several States, shall call a Convention\\r\\n\\r\\nfor proposing Amendments, which, in either Case, shall be valid to all Intents\\r\\n\\r\\nand Purposes, as Part of this Constitution, when ratified by the Legislatures\\r\\n\\r\\nof three fourths of the several States, or by Conventions in three fourths\\r\\n\\r\\nthereof, as the one or the other Mode of Ratification may be proposed by\\r\\n\\r\\nthe Congress; Provided that no Amendment which may be made prior to the\\r\\n\\r\\nYear one thousand eight hundred and eight shall in any Manner affect\\r\\n\\r\\nthe first and fourth Clauses in the ninth Section of the first Article;\\r\\n\\r\\nand that no State, without its Consent, shall be deprived of it's\\r\\n\\r\\nequal Suffrage in the Senate\",\n",
       "  '\\r\\nARTICLE VI\\r\\nAll Debts contracted and Engagements entered into, before the Adoption\\r\\n\\r\\nof this Constitution, shall be as valid against the United States\\r\\n\\r\\nunder this Constitution, as under the Confederation',\n",
       "  '\\r\\nThis Constitution, and the Laws of the United States which shall be made\\r\\n\\r\\nin Pursuance thereof; and all Treaties made, or which shall be made,\\r\\n\\r\\nunder the Authority of the United States, shall be the supreme\\r\\n\\r\\nLaw of the Land; and the Judges in every State shall be bound thereby,\\r\\n\\r\\nany Thing in the Constitution or Laws of any State to the Contrary\\r\\n\\r\\nnotwithstanding',\n",
       "  '\\r\\nThe Senators and Representatives before mentioned, and the Members of the\\r\\n\\r\\nseveral State Legislatures, and all executive and judicial Officers,\\r\\n\\r\\nboth of the United States and of the several States, shall be bound\\r\\n\\r\\nby Oath or Affirmation, to support this Constitution; but no religious\\r\\n\\r\\nTest shall ever be required as a Qualification to any Office or public Trust\\r\\n\\r\\nunder the United States',\n",
       "  '\\r\\nARTICLE VII\\r\\nThe Ratification of the Conventions of nine States, shall be sufficient for the\\r\\n\\r\\nEstablishment of this Constitution between the States so ratifying the Same',\n",
       "  '\\r\\nDone in Convention by the Unanimous Consent of the States present\\r\\n\\r\\nthe Seventeenth Day of September in the Year of our Lord one\\r\\n\\r\\nthousand seven hundred and eighty seven and of the Independence of the\\r\\n\\r\\nUnited States of America the Twelfth',\n",
       "  ' In Witness whereof We have\\r\\n\\r\\nhereunto subscribed our Names,\\r\\n\\r\\n\\r\\nGo',\n",
       "  ' WASHINGTON—\\r\\n\\r\\nPresid',\n",
       "  ' and deputy from Virginia\\r\\nNew Hampshire\\r\\nJohn Langdon\\r\\n\\r\\nNicholas Gilman\\r\\nMassachusetts\\r\\nNathaniel Gorham\\r\\n\\r\\nRufus King\\r\\nConnecticut\\r\\nWm',\n",
       "  ' Saml',\n",
       "  ' Johnson\\r\\n\\r\\nRoger Sherman\\r\\nNew York\\r\\nAlexander Hamilton\\r\\nNew Jersey\\r\\nWil: Livingston\\r\\n\\r\\nDavid Brearley\\r\\n\\r\\nWm',\n",
       "  ' Paterson\\r\\n\\r\\nJona: Dayton\\r\\nPennsylvania\\r\\nB Franklin\\r\\n\\r\\nThomas Mifflin\\r\\n\\r\\nRobt Morris\\r\\n\\r\\nGeo',\n",
       "  ' Clymer\\r\\n\\r\\nThos FitzSimons\\r\\n\\r\\nJared Ingersoll\\r\\n\\r\\nJames Wilson\\r\\n\\r\\nGouv Morris\\r\\nDelaware\\r\\nGeo: Read\\r\\n\\r\\nGunning Bedford jun\\r\\n\\r\\nJohn Dickinson\\r\\n\\r\\nRichard Bassett\\r\\n\\r\\nJaco: Broom\\r\\nMaryland\\r\\nJames Mchenry\\r\\n\\r\\nDan of St Thos',\n",
       "  ' Jenifer\\r\\n\\r\\nDanl Carroll\\r\\nVirginia\\r\\nJohn Blair—\\r\\n\\r\\nJames Madison Jr',\n",
       "  '\\r\\nNorth Carolina\\r\\nWm',\n",
       "  \" Blount\\r\\n\\r\\nRich'd Dobbs Spaight\\r\\n\\r\\nHu Williamson\\r\\nSouth Carolina\\r\\nJ\",\n",
       "  ' Rutledge\\r\\n\\r\\nCharles Cotesworth Pinckney\\r\\n\\r\\nCharles Pinckney\\r\\n\\r\\nPierce Butler\\r\\nGeorgia\\r\\nWilliam Few\\r\\n\\r\\nAbr Baldwin\\r\\nAttest:\\r\\n\\r\\nWilliam Jackson, Secretary'],\n",
       " ['Give Me Liberty Or Give Me Death\\r\\nPatrick Henry, March 23, 1775',\n",
       "  '\\r\\nNo man thinks more highly than I do of the patriotism, as well as abilities,\\r\\n\\r\\nof the very worthy gentlemen who have just addressed the House',\n",
       "  '  But different\\r\\n\\r\\nmen often see the same subject in different lights; and, therefore, I hope it\\r\\n\\r\\nwill not be thought disrespectful to those gentlemen if, entertaining as I do\\r\\n\\r\\nopinions of a character very opposite to theirs, I shall speak forth my\\r\\n\\r\\nsentiments freely and without reserve',\n",
       "  '  This is no time for ceremony',\n",
       "  '\\r\\n\\r\\nThe question before the House is one of awful moment to this country',\n",
       "  '\\r\\n\\r\\nFor my own part, I consider it as nothing less than a question of\\r\\n\\r\\nfreedom or slavery; and in proportion to the magnitude of the subject\\r\\n\\r\\nought to be the freedom of the debate',\n",
       "  '  It is only in this way that\\r\\n\\r\\nwe can hope to arrive at truth, and fulfill the great responsibility\\r\\n\\r\\nwhich we hold to God and our country',\n",
       "  '  Should I keep back my opinions\\r\\n\\r\\nat such a time, through fear of giving offense, I should consider myself\\r\\n\\r\\nas guilty of treason towards my country, and of an act of disloyalty\\r\\n\\r\\ntoward the Majesty of Heaven, which I revere above all earthly kings',\n",
       "  '\\r\\nMr',\n",
       "  ' President, it is natural to man to indulge in the illusions of hope',\n",
       "  '\\r\\n\\r\\nWe are apt to shut our eyes against a painful truth, and listen to the\\r\\n\\r\\nsong of that siren till she transforms us into beasts',\n",
       "  '  Is this the part\\r\\n\\r\\nof wise men, engaged in a great and arduous struggle for liberty?\\r\\n\\r\\nAre we disposed to be of the number of those who, having eyes, see not,\\r\\n\\r\\nand, having ears, hear not, the things which so nearly concern their\\r\\n\\r\\ntemporal salvation?  For my part, whatever anguish of spirit it may cost,\\r\\n\\r\\nI am willing to know the whole truth; to know the worst, and to provide for it',\n",
       "  '\\r\\nI have but one lamp by which my feet are guided, and that is the lamp of\\r\\n\\r\\nexperience',\n",
       "  '  I know of no way of judging of the future but by the past',\n",
       "  '\\r\\n\\r\\nAnd judging by the past, I wish to know what there has been in the conduct\\r\\n\\r\\nof the British ministry for the last ten years to justify those hopes with\\r\\n\\r\\nwhich  gentlemen have been pleased to solace themselves and the House',\n",
       "  '\\r\\n\\r\\nIs it that insidious smile with which our petition has been lately received?\\r\\n\\r\\nTrust it not, sir; it will prove a snare to your feet',\n",
       "  '  Suffer not yourselves\\r\\n\\r\\nto be betrayed with a kiss',\n",
       "  '  Ask yourselves how this gracious reception of our\\r\\n\\r\\npetition comports with those warlike preparations which cover our waters and\\r\\n\\r\\ndarken our land',\n",
       "  '  Are fleets and armies necessary to a work of love and\\r\\n\\r\\nreconciliation?  Have we shown ourselves so unwilling to be reconciled that\\r\\n\\r\\nforce must be called in to win back our love?  Let us not deceive ourselves,\\r\\n\\r\\nsir',\n",
       "  '  These are the implements of war and subjugation; the last arguments to\\r\\n\\r\\nwhich kings resort',\n",
       "  '  I ask gentlemen, sir, what means this martial array, if\\r\\n\\r\\nits purpose be not to force us to submission?  Can gentlemen assign any other\\r\\n\\r\\npossible motive for it?  Has Great Britain any enemy, in this quarter of\\r\\n\\r\\nthe world, to call for all this accumulation of navies and armies?  No, sir,\\r\\n\\r\\nshe has none',\n",
       "  '  They are meant for us:  they can be meant for no other',\n",
       "  '\\r\\n\\r\\nThey are sent over to bind and rivet upon us those chains which the British\\r\\n\\r\\nministry have been so long forging',\n",
       "  '  And what have we to oppose to them?\\r\\n\\r\\nShall we try argument?  Sir, we have been trying that for the last ten years',\n",
       "  '\\r\\n\\r\\nHave we anything new to offer upon the subject?  Nothing',\n",
       "  '  We have held the\\r\\n\\r\\nsubject up in every light of which it is capable; but it has been all in vain',\n",
       "  '\\r\\n\\r\\nShall we resort to entreaty and humble supplication?  What terms shall we\\r\\n\\r\\nfind which have not been already exhausted?  Let us not, I beseech you, sir,\\r\\n\\r\\ndeceive ourselves',\n",
       "  '  Sir, we have done everything that could be done to avert\\r\\n\\r\\nthe storm which is now coming on',\n",
       "  '  We have petitioned; we have remonstrated;\\r\\n\\r\\nwe have supplicated; we have prostrated ourselves before the throne, and have\\r\\n\\r\\nimplored its interposition to arrest the tyrannical hands of the ministry and\\r\\n\\r\\nParliament',\n",
       "  '  Our petitions have been slighted; our remonstrances have produced\\r\\n\\r\\nadditional violence and insult; our supplications have been disregarded;\\r\\n\\r\\nand we have been spurned, with contempt, from the foot of the throne!\\r\\n\\r\\nIn vain, after these things, may we indulge the fond hope of peace and\\r\\n\\r\\nreconciliation',\n",
       "  '  There is no longer any room for hope',\n",
       "  '  If we wish to be free—if\\r\\n\\r\\nwe mean to preserve inviolate those inestimable privileges for which\\r\\n\\r\\nwe have been so long contending—if we mean not basely to abandon the noble\\r\\n\\r\\nstruggle in which we have been so long engaged, and which we have pledged\\r\\n\\r\\nourselves never to abandon until the glorious object of our contest\\r\\n\\r\\nshall be obtained—we must fight!  I repeat it, sir, we must fight!\\r\\n\\r\\nAn appeal to arms  and to the God of hosts is all that is left us!\\r\\nThey tell us, sir, that we are weak; unable to cope with so formidable\\r\\n\\r\\nan adversary',\n",
       "  '  But when shall we be stronger?  Will it be the next week,\\r\\n\\r\\nor the next year?  Will it be when we are totally disarmed, and when a British\\r\\n\\r\\nguard shall be stationed in every house?  Shall we gather strength by\\r\\n\\r\\nirresolution and inaction?  Shall we acquire the means of effectual resistance\\r\\n\\r\\nby lying supinely on our backs and hugging the delusive phantom of hope, until\\r\\n\\r\\nour enemies shall have bound us hand and foot?  Sir, we are not weak if we make\\r\\n\\r\\na proper use of those means which the God of nature hath placed in our power',\n",
       "  '\\r\\n\\r\\nThe millions of people, armed in the holy cause of liberty, and in such a\\r\\n\\r\\ncountry as that which we possess, are invincible by any force which our enemy\\r\\n\\r\\ncan send against us',\n",
       "  '  Besides, sir, we shall not fight our battles alone',\n",
       "  '\\r\\n\\r\\nThere is a just God who presides over the destinies of nations, and who will\\r\\n\\r\\nraise up friends to fight our battles for us',\n",
       "  '  The battle, sir, is not to the\\r\\n\\r\\nstrong alone; it is to the vigilant, the active, the brave',\n",
       "  '  Besides, sir,\\r\\n\\r\\nwe have no election',\n",
       "  '  If we were base enough to desire it, it is now too late\\r\\n\\r\\nto retire from the contest',\n",
       "  '  There is no retreat but in submission and slavery!\\r\\n\\r\\nOur chains are forged!  Their clanking may be heard on the plains of Boston!\\r\\n\\r\\nThe war is inevitable—and let it come!  I repeat it, sir, let it come',\n",
       "  '\\r\\nIt is in vain, sir, to extenuate the matter',\n",
       "  '  Gentlemen may cry, Peace, Peace—but\\r\\n\\r\\nthere is no peace',\n",
       "  '  The war is actually begun!  The next gale that sweeps\\r\\n\\r\\nfrom the north will bring to our ears the clash of resounding arms!\\r\\n\\r\\nOur brethren are already in the field!  Why stand we here idle?\\r\\n\\r\\nWhat is it that gentlemen wish?  What would they have?  Is life so dear,\\r\\n\\r\\nor peace so sweet, as to be purchased at the price of chains and slavery?\\r\\n\\r\\nForbid it, Almighty God!  I know not what course others may take;\\r\\n\\r\\nbut as for me, give me liberty or give me death!']]"
      ]
     },
     "execution_count": 5,
     "metadata": {},
     "output_type": "execute_result"
    }
   ],
   "source": [
    "just_text = [d['TEXT'].split('.') for d in dataset.take(5)]\n",
    "\n",
    "flat_text = list(itertools.chain.from_iterable(just_text))\n",
    "\n",
    "just_text"
   ]
  },
  {
   "cell_type": "code",
   "execution_count": 6,
   "id": "c30a4247-8986-46e5-9b96-5e0565364e6f",
   "metadata": {},
   "outputs": [
    {
     "data": {
      "text/plain": [
       "436"
      ]
     },
     "execution_count": 6,
     "metadata": {},
     "output_type": "execute_result"
    }
   ],
   "source": [
    "len(flat_text)"
   ]
  },
  {
   "cell_type": "code",
   "execution_count": 35,
   "id": "6a4a9947-9b34-46c6-8170-4efbdc94ae31",
   "metadata": {
    "scrolled": true
   },
   "outputs": [
    {
     "data": {
      "text/plain": [
       "<tf.Tensor: shape=(296, 482), dtype=string, numpy=\n",
       "array([[b'the', b'united', b'states', ..., b'<pad>', b'<pad>', b'<pad>'],\n",
       "       [b'the', b'ten', b'original', ..., b'<pad>', b'<pad>', b'<pad>'],\n",
       "       [b'ii', b'a', b'well-regulated', ..., b'<pad>', b'<pad>',\n",
       "        b'<pad>'],\n",
       "       ...,\n",
       "       [b'it', b'is', b'in', ..., b'<pad>', b'<pad>', b'<pad>'],\n",
       "       [b'gentlemen', b'may', b'cry', ..., b'<pad>', b'<pad>', b'<pad>'],\n",
       "       [b'the', b'war', b'is', ..., b'<pad>', b'<pad>', b'<pad>']],\n",
       "      dtype=object)>"
      ]
     },
     "execution_count": 35,
     "metadata": {},
     "output_type": "execute_result"
    }
   ],
   "source": [
    "tokens = TACO.inBatch(flat_text)\n",
    "\n",
    "tokens"
   ]
  },
  {
   "cell_type": "code",
   "execution_count": 8,
   "id": "2fc21878-0c66-4f51-a8e5-0c36966708aa",
   "metadata": {},
   "outputs": [],
   "source": [
    "mint_pass = mint(tokens)"
   ]
  },
  {
   "cell_type": "code",
   "execution_count": 31,
   "id": "6f8c2414-7cbf-48c2-ad92-52ba777686a4",
   "metadata": {},
   "outputs": [
    {
     "data": {
      "text/plain": [
       "'BAD SEQUENCE ERROR'"
      ]
     },
     "execution_count": 31,
     "metadata": {},
     "output_type": "execute_result"
    }
   ],
   "source": [
    "bad_seq_tag = list(mint.tags.keys())[10]\n",
    "\n",
    "bad_seq_tag"
   ]
  },
  {
   "cell_type": "code",
   "execution_count": 40,
   "id": "57bc4f2b-acc0-4dc5-9974-36697fe900d1",
   "metadata": {},
   "outputs": [],
   "source": [
    "flat_pretagged_batch = tf.map_fn(mint.pretag, tf.reshape(tokens, [-1]))\n",
    "\n",
    "training_tags = tf.where(flat_pretagged_batch == '', bad_seq_tag, flat_pretagged_batch)"
   ]
  },
  {
   "cell_type": "code",
   "execution_count": 47,
   "id": "1fd7eaa9-bb4f-4a4a-a284-43d1b0147bf8",
   "metadata": {},
   "outputs": [
    {
     "data": {
      "text/plain": [
       "<tf.Tensor: shape=(296, 482, 2), dtype=string, numpy=\n",
       "array([[[b'the', b'~pad~'],\n",
       "        [b'united', b'BAD SEQUENCE ERROR'],\n",
       "        [b'states', b'BAD SEQUENCE ERROR'],\n",
       "        ...,\n",
       "        [b'<pad>', b'~pad~'],\n",
       "        [b'<pad>', b'~pad~'],\n",
       "        [b'<pad>', b'~pad~']],\n",
       "\n",
       "       [[b'the', b'~pad~'],\n",
       "        [b'ten', b'BAD SEQUENCE ERROR'],\n",
       "        [b'original', b'BAD SEQUENCE ERROR'],\n",
       "        ...,\n",
       "        [b'<pad>', b'~pad~'],\n",
       "        [b'<pad>', b'~pad~'],\n",
       "        [b'<pad>', b'~pad~']],\n",
       "\n",
       "       [[b'ii', b'BAD SEQUENCE ERROR'],\n",
       "        [b'a', b'~pad~'],\n",
       "        [b'well-regulated', b'BAD SEQUENCE ERROR'],\n",
       "        ...,\n",
       "        [b'<pad>', b'~pad~'],\n",
       "        [b'<pad>', b'~pad~'],\n",
       "        [b'<pad>', b'~pad~']],\n",
       "\n",
       "       ...,\n",
       "\n",
       "       [[b'it', b'BAD SEQUENCE ERROR'],\n",
       "        [b'is', b'~relation~'],\n",
       "        [b'in', b'BAD SEQUENCE ERROR'],\n",
       "        ...,\n",
       "        [b'<pad>', b'~pad~'],\n",
       "        [b'<pad>', b'~pad~'],\n",
       "        [b'<pad>', b'~pad~']],\n",
       "\n",
       "       [[b'gentlemen', b'BAD SEQUENCE ERROR'],\n",
       "        [b'may', b'BAD SEQUENCE ERROR'],\n",
       "        [b'cry', b'BAD SEQUENCE ERROR'],\n",
       "        ...,\n",
       "        [b'<pad>', b'~pad~'],\n",
       "        [b'<pad>', b'~pad~'],\n",
       "        [b'<pad>', b'~pad~']],\n",
       "\n",
       "       [[b'the', b'~pad~'],\n",
       "        [b'war', b'BAD SEQUENCE ERROR'],\n",
       "        [b'is', b'~relation~'],\n",
       "        ...,\n",
       "        [b'<pad>', b'~pad~'],\n",
       "        [b'<pad>', b'~pad~'],\n",
       "        [b'<pad>', b'~pad~']]], dtype=object)>"
      ]
     },
     "execution_count": 47,
     "metadata": {},
     "output_type": "execute_result"
    }
   ],
   "source": [
    "ground_truths = tf.reshape(tf.transpose(tf.stack([tf.reshape(tokens, [-1]), training_tags])), shape = (tokens.shape[0], tokens.shape[1], 2))\n",
    "\n",
    "ground_truths"
   ]
  },
  {
   "cell_type": "code",
   "execution_count": 48,
   "id": "982b4691-36c9-4591-aea1-4c19f788e20b",
   "metadata": {},
   "outputs": [],
   "source": [
    "mint.train(ground_truths)"
   ]
  },
  {
   "cell_type": "code",
   "execution_count": 49,
   "id": "83a5db3e-d2c6-4a64-a3a1-e52a5f55c919",
   "metadata": {},
   "outputs": [
    {
     "data": {
      "text/plain": [
       "<tf.Tensor: shape=(1464, 11), dtype=float64, numpy=\n",
       "array([[3.43696508e-02, 1.81171054e-01, 7.30040149e-04, ...,\n",
       "        7.88762342e-05, 7.88762342e-05, 7.79171473e-01],\n",
       "       [8.56656668e-02, 1.04512113e-01, 8.56656668e-02, ...,\n",
       "        8.56656668e-02, 8.56656668e-02, 1.24496886e-01],\n",
       "       [4.17626825e-02, 4.49628983e-02, 2.36480664e-02, ...,\n",
       "        2.36480664e-02, 2.36480664e-02, 7.16805028e-01],\n",
       "       ...,\n",
       "       [9.09090936e-02, 9.09090936e-02, 9.09090936e-02, ...,\n",
       "        9.09090936e-02, 9.09090936e-02, 9.09090936e-02],\n",
       "       [9.09090936e-02, 9.09090936e-02, 9.09090936e-02, ...,\n",
       "        9.09090936e-02, 9.09090936e-02, 9.09090936e-02],\n",
       "       [5.00483768e-02, 9.70469207e-02, 3.94949248e-45, ...,\n",
       "        3.94949248e-45, 3.94949248e-45, 8.52904702e-01]])>"
      ]
     },
     "execution_count": 49,
     "metadata": {},
     "output_type": "execute_result"
    }
   ],
   "source": [
    "mint.TransitionMatrix"
   ]
  },
  {
   "cell_type": "code",
   "execution_count": 51,
   "id": "fb1085e2-f2b5-4ef1-b38d-96cbe3be788d",
   "metadata": {},
   "outputs": [],
   "source": [
    "i = mint.TransitionStates['']\n",
    "\n",
    "ps = mint.TransitionMatrix[i,:]"
   ]
  },
  {
   "cell_type": "code",
   "execution_count": 52,
   "id": "da31947d-8ccb-4bd6-a0d2-5e5042da952d",
   "metadata": {},
   "outputs": [
    {
     "data": {
      "text/plain": [
       "<tf.Tensor: shape=(11,), dtype=float64, numpy=\n",
       "array([3.43696508e-02, 1.81171054e-01, 7.30040149e-04, 7.88762342e-05,\n",
       "       7.88762342e-05, 7.88762342e-05, 4.08452430e-03, 7.88762342e-05,\n",
       "       7.88762342e-05, 7.88762342e-05, 7.79171473e-01])>"
      ]
     },
     "execution_count": 52,
     "metadata": {},
     "output_type": "execute_result"
    }
   ],
   "source": [
    "ps"
   ]
  },
  {
   "cell_type": "code",
   "execution_count": 138,
   "id": "bed45bd6-cea7-4956-b6ae-c48181074710",
   "metadata": {},
   "outputs": [
    {
     "data": {
      "text/plain": [
       "<tf.Tensor: shape=(1, 5), dtype=string, numpy=array([[b'hello', b'=', b'\"', b'1', b'\"']], dtype=object)>"
      ]
     },
     "execution_count": 138,
     "metadata": {},
     "output_type": "execute_result"
    }
   ],
   "source": [
    "example_text = [\"Hello = \\\"1\\\"\"]\n",
    "\n",
    "new_tokens = TACO.inBatch(example_text)\n",
    "\n",
    "new_tokens"
   ]
  },
  {
   "cell_type": "code",
   "execution_count": 175,
   "id": "3b23f23d-710b-4c24-9541-0d4ebb266dd2",
   "metadata": {},
   "outputs": [
    {
     "data": {
      "text/plain": [
       "<tf.Tensor: shape=(1, 5, 2), dtype=string, numpy=\n",
       "array([[[b'hello', b'BAD SEQUENCE ERROR'],\n",
       "        [b'=', b'~relation~'],\n",
       "        [b'\"', b'~container~'],\n",
       "        [b'1', b'~connector~'],\n",
       "        [b'\"', b'~container~']]], dtype=object)>"
      ]
     },
     "execution_count": 175,
     "metadata": {},
     "output_type": "execute_result"
    }
   ],
   "source": [
    "mint(new_tokens)"
   ]
  },
  {
   "cell_type": "markdown",
   "id": "ffbadc8c-61d2-454e-940a-417fe750a2d7",
   "metadata": {},
   "source": [
    "As you can see our training has worked (ish) and most sequences relating to a bad sequence will also produce a bad sequence"
   ]
  },
  {
   "cell_type": "code",
   "execution_count": 176,
   "id": "b14a6c04-c192-4ed3-a274-90f26e391303",
   "metadata": {},
   "outputs": [],
   "source": [
    "mint.save()"
   ]
  },
  {
   "cell_type": "markdown",
   "id": "c7aa49ce-2286-4e3b-a243-045054fbce01",
   "metadata": {},
   "source": [
    "### Training the model on basic sequences"
   ]
  },
  {
   "cell_type": "markdown",
   "id": "5d6695cb-b279-44d8-84c5-d2bbfb41dcd3",
   "metadata": {},
   "source": [
    "To be continued..."
   ]
  },
  {
   "cell_type": "code",
   "execution_count": 4,
   "id": "791a151e-5bf7-4678-864f-7cb58e7fc511",
   "metadata": {},
   "outputs": [
    {
     "data": {
      "text/plain": [
       "{'~relation~': 0,\n",
       " '~pad~': 1,\n",
       " '~var~': 2,\n",
       " '~value~': 3,\n",
       " '~func~': 4,\n",
       " '~break~': 5,\n",
       " '~container~': 6,\n",
       " '~definition~': 7,\n",
       " '~brelation~': 8,\n",
       " '~connector~': 9,\n",
       " 'BAD SEQUENCE ERROR': 10}"
      ]
     },
     "execution_count": 4,
     "metadata": {},
     "output_type": "execute_result"
    }
   ],
   "source": [
    "mint.tags"
   ]
  },
  {
   "cell_type": "code",
   "execution_count": 5,
   "id": "8725ae41-2c92-4e46-9298-0d8b32e888a9",
   "metadata": {},
   "outputs": [],
   "source": [
    "# example of a valid equation\n",
    "\n",
    "ground_truths = tf.constant([[[\"variable\", \"~var~\"], [\"=\", \"~relation~\"], [\"\\\"\", \"~container~\"], [\"hello\", \"~value~\"], [\"\\\"\", \"~container~\"]]])"
   ]
  },
  {
   "cell_type": "code",
   "execution_count": 6,
   "id": "44b4c265-46e8-4319-b6ec-7a896d3b2bb5",
   "metadata": {},
   "outputs": [],
   "source": [
    "mint.train(ground_truths, num_epochs= 30)"
   ]
  },
  {
   "cell_type": "code",
   "execution_count": 7,
   "id": "d72c5eff-2212-4d5c-a677-742de6dba278",
   "metadata": {},
   "outputs": [],
   "source": [
    "test_string = [\"variable = \\\"string\\\"\"]"
   ]
  },
  {
   "cell_type": "code",
   "execution_count": 8,
   "id": "39a2f096-4253-47ce-aaf7-6a7c60d462bf",
   "metadata": {},
   "outputs": [
    {
     "data": {
      "text/plain": [
       "<tf.Tensor: shape=(1, 5), dtype=string, numpy=array([[b'variable', b'=', b'\"', b'string', b'\"']], dtype=object)>"
      ]
     },
     "execution_count": 8,
     "metadata": {},
     "output_type": "execute_result"
    }
   ],
   "source": [
    "tokens = TACO.inBatch(test_string)\n",
    "\n",
    "tokens"
   ]
  },
  {
   "cell_type": "code",
   "execution_count": 21,
   "id": "8423a331-229d-4603-a734-49b4ae207a54",
   "metadata": {},
   "outputs": [
    {
     "name": "stdout",
     "output_type": "stream",
     "text": [
      "[b'variable' b'~var~']\n",
      "[b'=' b'~relation~']\n",
      "[b'\"' b'~container~']\n",
      "[b'string' b'~value~']\n",
      "[b'\"' b'~container~']\n"
     ]
    },
    {
     "data": {
      "text/plain": [
       "<tf.Tensor: shape=(5,), dtype=string, numpy=array([b'~var~', b'=', b'\"', b'~value~', b'\"'], dtype=object)>"
      ]
     },
     "execution_count": 21,
     "metadata": {},
     "output_type": "execute_result"
    }
   ],
   "source": [
    "mint(tokens)"
   ]
  }
 ],
 "metadata": {
  "kernelspec": {
   "display_name": "Python 3 (ipykernel)",
   "language": "python",
   "name": "python3"
  },
  "language_info": {
   "codemirror_mode": {
    "name": "ipython",
    "version": 3
   },
   "file_extension": ".py",
   "mimetype": "text/x-python",
   "name": "python",
   "nbconvert_exporter": "python",
   "pygments_lexer": "ipython3",
   "version": "3.11.11"
  }
 },
 "nbformat": 4,
 "nbformat_minor": 5
}
