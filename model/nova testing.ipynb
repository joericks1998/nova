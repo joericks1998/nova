{
 "cells": [
  {
   "cell_type": "code",
   "execution_count": 3,
   "id": "1501318a-300b-4f23-a6a5-77790334c21f",
   "metadata": {},
   "outputs": [
    {
     "data": {
      "text/plain": [
       "<module 'nova' from '/Users/joericks/Desktop/nova/model/nova.py'>"
      ]
     },
     "execution_count": 3,
     "metadata": {},
     "output_type": "execute_result"
    }
   ],
   "source": [
    "import nova\n",
    "import importlib\n",
    "\n",
    "importlib.reload(nova)"
   ]
  },
  {
   "cell_type": "code",
   "execution_count": 4,
   "id": "5430c2d5-591f-4fb4-bf1d-48072bdab714",
   "metadata": {},
   "outputs": [
    {
     "ename": "NameError",
     "evalue": "name 'PerformerAttention' is not defined",
     "output_type": "error",
     "traceback": [
      "\u001b[0;31m---------------------------------------------------------------------------\u001b[0m",
      "\u001b[0;31mNameError\u001b[0m                                 Traceback (most recent call last)",
      "Cell \u001b[0;32mIn[4], line 1\u001b[0m\n\u001b[0;32m----> 1\u001b[0m instance \u001b[38;5;241m=\u001b[39m \u001b[43mnova\u001b[49m\u001b[38;5;241;43m.\u001b[39;49m\u001b[43mModel\u001b[49m\u001b[43m(\u001b[49m\u001b[38;5;124;43m\"\u001b[39;49m\u001b[38;5;124;43mHello World\u001b[39;49m\u001b[38;5;124;43m\"\u001b[39;49m\u001b[43m)\u001b[49m\n",
      "File \u001b[0;32m~/Desktop/nova/model/nova.py:15\u001b[0m, in \u001b[0;36mModel.__init__\u001b[0;34m(self, vocabulary)\u001b[0m\n\u001b[1;32m     11\u001b[0m tfmrs \u001b[38;5;241m=\u001b[39m {}\n\u001b[1;32m     12\u001b[0m \u001b[38;5;28;01mfor\u001b[39;00m i \u001b[38;5;129;01min\u001b[39;00m \u001b[38;5;28mrange\u001b[39m (\u001b[38;5;241m1\u001b[39m, constants\u001b[38;5;241m.\u001b[39mnova_tfmr \u001b[38;5;241m+\u001b[39m \u001b[38;5;241m1\u001b[39m):\n\u001b[1;32m     13\u001b[0m     tfmrs \u001b[38;5;241m=\u001b[39m {\n\u001b[1;32m     14\u001b[0m         \u001b[38;5;241m*\u001b[39m\u001b[38;5;241m*\u001b[39mtfmrs,\n\u001b[0;32m---> 15\u001b[0m         \u001b[38;5;241m*\u001b[39m\u001b[38;5;241m*\u001b[39m{i: \u001b[43mtransformer\u001b[49m\u001b[38;5;241;43m.\u001b[39;49m\u001b[43mLayer\u001b[49m\u001b[43m(\u001b[49m\u001b[43mconstants\u001b[49m\u001b[38;5;241;43m.\u001b[39;49m\u001b[43md_model\u001b[49m\u001b[43m,\u001b[49m\n\u001b[1;32m     16\u001b[0m \u001b[43m            \u001b[49m\u001b[43mconstants\u001b[49m\u001b[38;5;241;43m.\u001b[39;49m\u001b[43mnum_heads\u001b[49m\u001b[43m \u001b[49m\u001b[43m,\u001b[49m\u001b[43m \u001b[49m\u001b[43mconstants\u001b[49m\u001b[38;5;241;43m.\u001b[39;49m\u001b[43mdff\u001b[49m\u001b[43m)\u001b[49m}\n\u001b[1;32m     17\u001b[0m         }\n\u001b[1;32m     18\u001b[0m \u001b[38;5;28mself\u001b[39m\u001b[38;5;241m.\u001b[39mtfmrs \u001b[38;5;241m=\u001b[39m tfmrs\n\u001b[1;32m     19\u001b[0m \u001b[38;5;28mself\u001b[39m\u001b[38;5;241m.\u001b[39mfinal \u001b[38;5;241m=\u001b[39m FinalLayer(\u001b[38;5;28mlen\u001b[39m(vocabulary), constants\u001b[38;5;241m.\u001b[39md_model)\n",
      "File \u001b[0;32m~/Desktop/nova/model/neuralnetworks/transformer.py:8\u001b[0m, in \u001b[0;36mLayer.__init__\u001b[0;34m(self, embed_dim, num_heads, dff, dropout_rate, name)\u001b[0m\n\u001b[1;32m      6\u001b[0m \u001b[38;5;28;01mdef\u001b[39;00m \u001b[38;5;21m__init__\u001b[39m(\u001b[38;5;28mself\u001b[39m, embed_dim, num_heads, dff, dropout_rate \u001b[38;5;241m=\u001b[39m constants\u001b[38;5;241m.\u001b[39mdropout_rate, name \u001b[38;5;241m=\u001b[39m \u001b[38;5;28;01mNone\u001b[39;00m):\n\u001b[1;32m      7\u001b[0m     \u001b[38;5;28msuper\u001b[39m()\u001b[38;5;241m.\u001b[39m\u001b[38;5;21m__init__\u001b[39m(name \u001b[38;5;241m=\u001b[39m name)\n\u001b[0;32m----> 8\u001b[0m     \u001b[38;5;28mself\u001b[39m\u001b[38;5;241m.\u001b[39mattention_mech \u001b[38;5;241m=\u001b[39m \u001b[43mattention\u001b[49m\u001b[38;5;241;43m.\u001b[39;49m\u001b[43mLayer\u001b[49m\u001b[43m(\u001b[49m\u001b[43membed_dim\u001b[49m\u001b[43m,\u001b[49m\u001b[43m \u001b[49m\u001b[43mnum_heads\u001b[49m\u001b[43m)\u001b[49m\n\u001b[1;32m      9\u001b[0m     \u001b[38;5;28mself\u001b[39m\u001b[38;5;241m.\u001b[39mffnn \u001b[38;5;241m=\u001b[39m ffnn\u001b[38;5;241m.\u001b[39mLayer(embed_dim, dff)\n\u001b[1;32m     10\u001b[0m     \u001b[38;5;66;03m# layer normalization\u001b[39;00m\n",
      "File \u001b[0;32m~/Desktop/nova/model/neuralnetworks/attention.py:6\u001b[0m, in \u001b[0;36mLayer.__init__\u001b[0;34m(self, embed_dim, num_heads, kernel_transformation, name)\u001b[0m\n\u001b[1;32m      5\u001b[0m \u001b[38;5;28;01mdef\u001b[39;00m \u001b[38;5;21m__init__\u001b[39m(\u001b[38;5;28mself\u001b[39m, embed_dim, num_heads, kernel_transformation\u001b[38;5;241m=\u001b[39m\u001b[38;5;28;01mNone\u001b[39;00m, name\u001b[38;5;241m=\u001b[39m\u001b[38;5;28;01mNone\u001b[39;00m):\n\u001b[0;32m----> 6\u001b[0m     \u001b[38;5;28msuper\u001b[39m(\u001b[43mPerformerAttention\u001b[49m, \u001b[38;5;28mself\u001b[39m)\u001b[38;5;241m.\u001b[39m\u001b[38;5;21m__init__\u001b[39m(name\u001b[38;5;241m=\u001b[39mname)\n\u001b[1;32m      7\u001b[0m     \u001b[38;5;28mself\u001b[39m\u001b[38;5;241m.\u001b[39membed_dim \u001b[38;5;241m=\u001b[39m embed_dim\n\u001b[1;32m      8\u001b[0m     \u001b[38;5;28mself\u001b[39m\u001b[38;5;241m.\u001b[39mnum_heads \u001b[38;5;241m=\u001b[39m num_heads\n",
      "\u001b[0;31mNameError\u001b[0m: name 'PerformerAttention' is not defined"
     ]
    }
   ],
   "source": [
    "instance = nova.Model(\"Hello World\")"
   ]
  }
 ],
 "metadata": {
  "kernelspec": {
   "display_name": "Python 3 (ipykernel)",
   "language": "python",
   "name": "python3"
  },
  "language_info": {
   "codemirror_mode": {
    "name": "ipython",
    "version": 3
   },
   "file_extension": ".py",
   "mimetype": "text/x-python",
   "name": "python",
   "nbconvert_exporter": "python",
   "pygments_lexer": "ipython3",
   "version": "3.9.13"
  }
 },
 "nbformat": 4,
 "nbformat_minor": 5
}
