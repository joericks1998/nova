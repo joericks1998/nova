{
 "cells": [
  {
   "cell_type": "code",
   "execution_count": 18,
   "id": "05c06b39-3f66-49bb-be45-e63d7809f12b",
   "metadata": {},
   "outputs": [],
   "source": [
    "import model\n",
    "import importlib"
   ]
  },
  {
   "cell_type": "code",
   "execution_count": 19,
   "id": "693055c9-04da-46b2-8de2-78fed919f8ff",
   "metadata": {},
   "outputs": [],
   "source": [
    "model = model.Nova(15, 10, 1, 13, 23)"
   ]
  },
  {
   "cell_type": "code",
   "execution_count": 20,
   "id": "58a03a7d-07e1-4369-bd30-daa4d7515325",
   "metadata": {},
   "outputs": [
    {
     "data": {
      "text/plain": [
       "Nova(\n",
       "  (transformer): Transformer(\n",
       "    (encoder): TransformerEncoder(\n",
       "      (layers): ModuleList(\n",
       "        (0-12): 13 x TransformerEncoderLayer(\n",
       "          (self_attn): MultiheadAttention(\n",
       "            (out_proj): NonDynamicallyQuantizableLinear(in_features=15, out_features=15, bias=True)\n",
       "          )\n",
       "          (linear1): Linear(in_features=15, out_features=2048, bias=True)\n",
       "          (dropout): Dropout(p=0.1, inplace=False)\n",
       "          (linear2): Linear(in_features=2048, out_features=15, bias=True)\n",
       "          (norm1): LayerNorm((15,), eps=1e-05, elementwise_affine=True)\n",
       "          (norm2): LayerNorm((15,), eps=1e-05, elementwise_affine=True)\n",
       "          (dropout1): Dropout(p=0.1, inplace=False)\n",
       "          (dropout2): Dropout(p=0.1, inplace=False)\n",
       "        )\n",
       "      )\n",
       "      (norm): LayerNorm((15,), eps=1e-05, elementwise_affine=True)\n",
       "    )\n",
       "    (decoder): TransformerDecoder(\n",
       "      (layers): ModuleList(\n",
       "        (0-22): 23 x TransformerDecoderLayer(\n",
       "          (self_attn): MultiheadAttention(\n",
       "            (out_proj): NonDynamicallyQuantizableLinear(in_features=15, out_features=15, bias=True)\n",
       "          )\n",
       "          (multihead_attn): MultiheadAttention(\n",
       "            (out_proj): NonDynamicallyQuantizableLinear(in_features=15, out_features=15, bias=True)\n",
       "          )\n",
       "          (linear1): Linear(in_features=15, out_features=2048, bias=True)\n",
       "          (dropout): Dropout(p=0.1, inplace=False)\n",
       "          (linear2): Linear(in_features=2048, out_features=15, bias=True)\n",
       "          (norm1): LayerNorm((15,), eps=1e-05, elementwise_affine=True)\n",
       "          (norm2): LayerNorm((15,), eps=1e-05, elementwise_affine=True)\n",
       "          (norm3): LayerNorm((15,), eps=1e-05, elementwise_affine=True)\n",
       "          (dropout1): Dropout(p=0.1, inplace=False)\n",
       "          (dropout2): Dropout(p=0.1, inplace=False)\n",
       "          (dropout3): Dropout(p=0.1, inplace=False)\n",
       "        )\n",
       "      )\n",
       "      (norm): LayerNorm((15,), eps=1e-05, elementwise_affine=True)\n",
       "    )\n",
       "  )\n",
       "  (fc): Linear(in_features=15, out_features=10, bias=True)\n",
       ")"
      ]
     },
     "execution_count": 20,
     "metadata": {},
     "output_type": "execute_result"
    }
   ],
   "source": [
    "model"
   ]
  }
 ],
 "metadata": {
  "kernelspec": {
   "display_name": "Python 3 (ipykernel)",
   "language": "python",
   "name": "python3"
  },
  "language_info": {
   "codemirror_mode": {
    "name": "ipython",
    "version": 3
   },
   "file_extension": ".py",
   "mimetype": "text/x-python",
   "name": "python",
   "nbconvert_exporter": "python",
   "pygments_lexer": "ipython3",
   "version": "3.9.13"
  }
 },
 "nbformat": 4,
 "nbformat_minor": 5
}
