{
 "cells": [
  {
   "cell_type": "markdown",
   "id": "244f514f-c95b-4260-95db-c0e93c94d5d9",
   "metadata": {},
   "source": [
    "# Nova Neural Network Whiteboard\n",
    "\n",
    "This code is just me experimenting with building my own neural network, none of this has been unit tested, time or memory efficiency optimized, etc..."
   ]
  },
  {
   "cell_type": "code",
   "execution_count": 5,
   "id": "0f802635-7000-4650-96ea-07d896933f43",
   "metadata": {},
   "outputs": [],
   "source": [
    "import numpy as np\n",
    "from neuralnetworks import fnn, embedding\n",
    "import importlib"
   ]
  },
  {
   "cell_type": "code",
   "execution_count": 95,
   "id": "a8b07c24-2b23-481c-9a4d-e4c9b236e270",
   "metadata": {},
   "outputs": [
    {
     "data": {
      "text/plain": [
       "<module 'neuralnetworks.embedding' from '/Users/joericks/Desktop/nova/model/neuralnetworks/embedding.py'>"
      ]
     },
     "execution_count": 95,
     "metadata": {},
     "output_type": "execute_result"
    }
   ],
   "source": [
    "importlib.reload(embedding)"
   ]
  },
  {
   "cell_type": "code",
   "execution_count": 96,
   "id": "e72c0fb6-8c60-413d-bb3a-de6fe4f84316",
   "metadata": {},
   "outputs": [
    {
     "data": {
      "text/plain": [
       "<tf.Tensor: shape=(100,), dtype=float32, numpy=\n",
       "array([ 0.31243145,  1.6632258 ,  1.2573024 , -1.6512637 ,  0.29736254,\n",
       "        2.1557643 , -0.7013561 ,  0.58076817,  2.169741  ,  2.2590425 ,\n",
       "        0.34638137,  1.0250777 , -2.4216557 ,  0.78658867,  0.09942935,\n",
       "       -0.57624614, -0.5109345 , -2.3001287 ,  1.4342275 , -0.17053911,\n",
       "       -2.3091273 , -2.157223  , -1.035323  ,  0.36069795, -2.520853  ,\n",
       "        0.48261052, -1.5583143 ,  0.10796907,  1.4343675 , -0.5762365 ,\n",
       "        0.7285637 ,  2.0106332 ,  2.1278622 ,  0.08499612,  0.5075268 ,\n",
       "        0.35677117, -1.080905  ,  0.742236  ,  0.11387067, -0.35152408,\n",
       "        0.64968145, -3.1470046 , -0.8857241 ,  0.5810134 ,  0.32110292,\n",
       "       -0.83292776,  2.0756316 , -0.51833284,  0.834049  ,  0.26343995,\n",
       "       -0.17082189, -0.8301311 ,  0.5139759 , -2.2150524 , -0.84129804,\n",
       "       -2.214689  , -0.67672205, -1.4836304 ,  1.7543744 ,  0.26278627,\n",
       "        2.1675007 ,  3.206404  ,  3.1903284 ,  3.0959518 , -1.0576005 ,\n",
       "       -1.5482693 ,  1.1762339 ,  0.7416901 ,  0.48525003, -0.70244557,\n",
       "       -1.2702253 ,  2.6481137 , -1.8988329 ,  0.4744644 ,  0.01611684,\n",
       "        0.5478469 ,  0.7257163 ,  0.17672852, -1.6802002 ,  0.32492587,\n",
       "       -2.229734  , -0.31731653, -0.6123794 , -0.62588686,  2.6887767 ,\n",
       "        2.957589  , -2.6828709 ,  0.08910351, -0.74493325, -1.210196  ,\n",
       "       -3.0315957 , -0.4203409 ,  2.1285334 , -1.3127126 ,  0.03175239,\n",
       "       -2.7062395 ,  1.8336256 , -0.526634  ,  2.9823618 , -1.0762193 ],\n",
       "      dtype=float32)>"
      ]
     },
     "execution_count": 96,
     "metadata": {},
     "output_type": "execute_result"
    }
   ],
   "source": [
    "e_layer = embedding.EmbeddingLayer(100, name = \"embedding\")\n",
    "\n",
    "e_layer(\"hello\")\n",
    "e_layer(\"world\")"
   ]
  },
  {
   "cell_type": "code",
   "execution_count": 97,
   "id": "961297ce-1f33-485f-b53b-4838643d3c5e",
   "metadata": {},
   "outputs": [],
   "source": [
    "other_layer = embedding.EmbeddingLayer(100, name = \"other_embedding\")\n",
    "\n",
    "other_layer(\"!\")\n",
    "\n",
    "other_layer(\"=\")\n",
    "\n",
    "other_layer (\";\")\n",
    "\n",
    "new_layer = e_layer + other_layer"
   ]
  },
  {
   "cell_type": "code",
   "execution_count": 99,
   "id": "b15d7c30-fa24-4b13-b1c6-0c9a1c460e51",
   "metadata": {},
   "outputs": [
    {
     "data": {
      "text/plain": [
       "<tf.Tensor: shape=(100,), dtype=float32, numpy=\n",
       "array([ 7.38983989e-01,  3.19875932e+00,  3.36644709e-01,  1.29854405e+00,\n",
       "       -2.49995306e-01,  1.67443514e+00, -4.90961730e-01, -1.65032530e+00,\n",
       "        6.37550279e-02,  5.66977322e-01,  3.40556651e-01,  7.56609589e-02,\n",
       "       -1.32443774e+00, -9.23222423e-01,  1.12295115e+00, -1.00889468e+00,\n",
       "       -2.40938589e-01,  1.37578690e+00,  9.61631477e-01, -1.68321192e+00,\n",
       "       -1.83286572e+00,  3.12508655e+00, -1.09329730e-01,  1.88812762e-01,\n",
       "        7.14339793e-01,  1.09181309e+00,  2.22378469e+00, -1.16445804e+00,\n",
       "        2.02065802e+00,  3.09894204e+00, -1.10969400e+00, -5.72638214e-02,\n",
       "       -1.19058907e+00, -1.12114477e+00, -9.73630726e-01,  4.77530330e-01,\n",
       "       -1.94844592e+00, -2.03636813e+00,  6.33223593e-01,  1.78532004e+00,\n",
       "        5.29739797e-01,  2.32007766e+00, -7.30323672e-01,  7.00678793e-04,\n",
       "       -2.29549932e+00,  4.83108580e-01, -1.97858214e+00,  5.44873297e-01,\n",
       "        2.50639224e+00,  2.68776894e+00,  9.08593893e-01,  1.55927372e+00,\n",
       "       -1.41722810e+00,  1.26584125e+00, -3.98938507e-02,  1.01315367e+00,\n",
       "       -7.28041232e-01,  1.42785800e+00, -1.07211649e+00,  1.44314468e+00,\n",
       "        3.91779453e-01, -2.12952304e+00,  1.01075149e+00, -1.25085938e+00,\n",
       "       -2.69356132e-01, -3.14555764e+00, -1.61962286e-02, -1.33912897e+00,\n",
       "        2.42368531e+00,  1.19157173e-01, -9.32735205e-01, -2.87813807e+00,\n",
       "       -1.47466036e-02, -2.28237367e+00, -5.78749299e-01,  8.74843717e-01,\n",
       "        4.15872812e-01, -6.40863478e-01, -1.99287915e+00,  4.45385635e-01,\n",
       "       -1.14008558e+00, -3.16596103e+00,  2.01346684e+00, -2.13834906e+00,\n",
       "       -9.55591261e-01, -3.11351299e+00, -7.10326791e-01, -1.11761820e+00,\n",
       "       -7.88218200e-01,  2.23370537e-01, -1.77482510e+00,  2.96854973e+00,\n",
       "       -5.47498524e-01,  2.78390348e-01, -2.50429702e+00, -2.90017724e-01,\n",
       "       -7.92081237e-01,  1.04429886e-01, -7.77488112e-01,  1.09201765e+00],\n",
       "      dtype=float32)>"
      ]
     },
     "execution_count": 99,
     "metadata": {},
     "output_type": "execute_result"
    }
   ],
   "source": [
    "new_layer(\"\")"
   ]
  },
  {
   "cell_type": "markdown",
   "id": "ff505ce5-24ba-47c0-9a62-b85894061a29",
   "metadata": {},
   "source": [
    "Documentation on softmax and ReLU are provided below: <br>\n",
    "**[ReLU](https://en.wikipedia.org/wiki/Rectifier_(neural_networks))** <br>\n",
    "**[softmax](https://en.wikipedia.org/wiki/Softmax_function)**"
   ]
  }
 ],
 "metadata": {
  "kernelspec": {
   "display_name": "Python 3 (ipykernel)",
   "language": "python",
   "name": "python3"
  },
  "language_info": {
   "codemirror_mode": {
    "name": "ipython",
    "version": 3
   },
   "file_extension": ".py",
   "mimetype": "text/x-python",
   "name": "python",
   "nbconvert_exporter": "python",
   "pygments_lexer": "ipython3",
   "version": "3.9.13"
  }
 },
 "nbformat": 4,
 "nbformat_minor": 5
}
