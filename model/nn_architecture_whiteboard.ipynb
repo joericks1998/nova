{
 "cells": [
  {
   "cell_type": "markdown",
   "id": "244f514f-c95b-4260-95db-c0e93c94d5d9",
   "metadata": {},
   "source": [
    "# Nova Model Whiteboard\n",
    "\n",
    "This code is just me experimenting with building my own neural network, none of this has been unit tested, time or memory efficiency optimized, etc..."
   ]
  },
  {
   "cell_type": "code",
   "execution_count": 54,
   "id": "0f802635-7000-4650-96ea-07d896933f43",
   "metadata": {},
   "outputs": [],
   "source": [
    "import numpy as np\n",
    "import tensorflow as tf\n",
    "from neuralnetworks import ffnn, embedding, attention, masking, transformer\n",
    "from tokenization import tokenizer\n",
    "import importlib"
   ]
  },
  {
   "cell_type": "markdown",
   "id": "ef3b1e3a-3dfb-4bd6-81b8-4fd848f2edb4",
   "metadata": {},
   "source": [
    "## Embedding Model Tests"
   ]
  },
  {
   "cell_type": "code",
   "execution_count": 5,
   "id": "a8b07c24-2b23-481c-9a4d-e4c9b236e270",
   "metadata": {},
   "outputs": [
    {
     "data": {
      "text/plain": [
       "<module 'neuralnetworks.embedding' from '/Users/joericks/Desktop/nova/model/neuralnetworks/embedding.py'>"
      ]
     },
     "execution_count": 5,
     "metadata": {},
     "output_type": "execute_result"
    }
   ],
   "source": [
    "importlib.reload(embedding)"
   ]
  },
  {
   "cell_type": "code",
   "execution_count": 34,
   "id": "e72c0fb6-8c60-413d-bb3a-de6fe4f84316",
   "metadata": {},
   "outputs": [
    {
     "data": {
      "text/plain": [
       "<tf.Tensor: shape=(40,), dtype=float32, numpy=\n",
       "array([ 0.9466732 , -0.9517766 ,  0.6089755 , -1.7202418 ,  0.00536991,\n",
       "       -2.1891122 ,  0.22489779, -1.9345222 , -0.64037246,  1.342186  ,\n",
       "       -0.0755018 ,  1.6919665 , -0.5203122 , -1.8375303 , -2.4220014 ,\n",
       "       -0.67197025,  2.5232656 , -2.2110374 ,  3.1824946 , -1.183102  ,\n",
       "       -1.8224388 , -1.2308848 ,  2.4863615 ,  0.57052153, -0.31785262,\n",
       "       -1.0713868 , -0.26481   ,  2.1472726 ,  0.3293893 , -1.3335986 ,\n",
       "        2.2279396 ,  1.374608  , -0.5200319 ,  1.0549773 ,  0.414537  ,\n",
       "        1.4100695 , -0.09097227, -1.5231383 ,  1.1515183 , -0.7249024 ],\n",
       "      dtype=float32)>"
      ]
     },
     "execution_count": 34,
     "metadata": {},
     "output_type": "execute_result"
    }
   ],
   "source": [
    "e_dim = 40\n",
    "\n",
    "e_layer = embedding.EmbeddingLayer(e_dim, name = \"embedding\")\n",
    "\n",
    "e_layer(\"hello\")\n",
    "e_layer(\"world\")"
   ]
  },
  {
   "cell_type": "code",
   "execution_count": 35,
   "id": "961297ce-1f33-485f-b53b-4838643d3c5e",
   "metadata": {},
   "outputs": [],
   "source": [
    "other_layer = embedding.EmbeddingLayer(e_dim, name = \"other_embedding\")\n",
    "\n",
    "other_layer(\"!\")\n",
    "\n",
    "other_layer(\"=\")\n",
    "\n",
    "other_layer (\";\")\n",
    "\n",
    "new_layer = e_layer + other_layer"
   ]
  },
  {
   "cell_type": "code",
   "execution_count": 36,
   "id": "b15d7c30-fa24-4b13-b1c6-0c9a1c460e51",
   "metadata": {},
   "outputs": [
    {
     "data": {
      "text/plain": [
       "{'hello': 0, 'world': 1, '!': 2, '=': 3, ';': 4}"
      ]
     },
     "execution_count": 36,
     "metadata": {},
     "output_type": "execute_result"
    }
   ],
   "source": [
    "new_layer.h"
   ]
  },
  {
   "cell_type": "markdown",
   "id": "ff505ce5-24ba-47c0-9a62-b85894061a29",
   "metadata": {},
   "source": [
    "Documentation on softmax and ReLU are provided below: <br>\n",
    "**[ReLU](https://en.wikipedia.org/wiki/Rectifier_(neural_networks))** <br>\n",
    "**[softmax](https://en.wikipedia.org/wiki/Softmax_function)**"
   ]
  },
  {
   "cell_type": "code",
   "execution_count": 37,
   "id": "a3e20f92-17ee-4f02-b732-4e38de1d5614",
   "metadata": {},
   "outputs": [],
   "source": [
    "#testing the performer attention head\n",
    "\n",
    "sentence = ['hello', 'world']\n",
    "\n",
    "idxs = [new_layer.h[s] for s in sentence if s in new_layer.h.keys()]"
   ]
  },
  {
   "cell_type": "code",
   "execution_count": 38,
   "id": "6d5b4445-4b32-42f9-b82b-2c1058f00082",
   "metadata": {},
   "outputs": [],
   "source": [
    "c = []\n",
    "\n",
    "for i in idxs:\n",
    "    c.append(new_layer.embeddings[i].numpy())"
   ]
  },
  {
   "cell_type": "code",
   "execution_count": 39,
   "id": "176cffd5-3f95-4920-8b0e-56413c3dbf36",
   "metadata": {},
   "outputs": [],
   "source": [
    "# then this process would get iterated based on the batches of training data passed through the model,\n",
    "# but here we are going to cheat and just make this example be one batch\n",
    "\n",
    "b = []\n",
    "\n",
    "b.append(c)\n",
    "\n",
    "batches = tf.constant(b)\n"
   ]
  },
  {
   "cell_type": "code",
   "execution_count": 40,
   "id": "b2f9f642-7557-4f30-93a6-3e6138607b48",
   "metadata": {},
   "outputs": [
    {
     "data": {
      "text/plain": [
       "<tf.Tensor: shape=(1, 2, 40), dtype=float32, numpy=\n",
       "array([[[ 0.9466732 , -0.9517766 ,  0.6089755 , -1.7202418 ,\n",
       "          0.00536991, -2.1891122 ,  0.22489779, -1.9345222 ,\n",
       "         -0.64037246,  1.342186  , -0.0755018 ,  1.6919665 ,\n",
       "         -0.5203122 , -1.8375303 , -2.4220014 , -0.67197025,\n",
       "          2.5232656 , -2.2110374 ,  3.1824946 , -1.183102  ,\n",
       "         -1.8224388 , -1.2308848 ,  2.4863615 ,  0.57052153,\n",
       "         -0.31785262, -1.0713868 , -0.26481   ,  2.1472726 ,\n",
       "          0.3293893 , -1.3335986 ,  2.2279396 ,  1.374608  ,\n",
       "         -0.5200319 ,  1.0549773 ,  0.414537  ,  1.4100695 ,\n",
       "         -0.09097227, -1.5231383 ,  1.1515183 , -0.7249024 ],\n",
       "        [ 0.9466732 , -0.9517766 ,  0.6089755 , -1.7202418 ,\n",
       "          0.00536991, -2.1891122 ,  0.22489779, -1.9345222 ,\n",
       "         -0.64037246,  1.342186  , -0.0755018 ,  1.6919665 ,\n",
       "         -0.5203122 , -1.8375303 , -2.4220014 , -0.67197025,\n",
       "          2.5232656 , -2.2110374 ,  3.1824946 , -1.183102  ,\n",
       "         -1.8224388 , -1.2308848 ,  2.4863615 ,  0.57052153,\n",
       "         -0.31785262, -1.0713868 , -0.26481   ,  2.1472726 ,\n",
       "          0.3293893 , -1.3335986 ,  2.2279396 ,  1.374608  ,\n",
       "         -0.5200319 ,  1.0549773 ,  0.414537  ,  1.4100695 ,\n",
       "         -0.09097227, -1.5231383 ,  1.1515183 , -0.7249024 ]]],\n",
       "      dtype=float32)>"
      ]
     },
     "execution_count": 40,
     "metadata": {},
     "output_type": "execute_result"
    }
   ],
   "source": [
    "batches"
   ]
  },
  {
   "cell_type": "markdown",
   "id": "a8496664-93fd-44b7-a71d-0cd03e1e73d0",
   "metadata": {},
   "source": [
    "## Attention Mechanism Testing"
   ]
  },
  {
   "cell_type": "code",
   "execution_count": 41,
   "id": "a5be6ea0-f836-4baa-b8a0-4c007f0fe88f",
   "metadata": {},
   "outputs": [
    {
     "data": {
      "text/plain": [
       "<module 'neuralnetworks.masking' from '/Users/joericks/Desktop/nova/model/neuralnetworks/masking.py'>"
      ]
     },
     "execution_count": 41,
     "metadata": {},
     "output_type": "execute_result"
    }
   ],
   "source": [
    "importlib.reload(attention)\n",
    "importlib.reload(masking)"
   ]
  },
  {
   "cell_type": "code",
   "execution_count": 42,
   "id": "f46dd3ad-d675-43a9-8254-bfbd0857ee36",
   "metadata": {},
   "outputs": [
    {
     "data": {
      "text/plain": [
       "<tf.Tensor: shape=(1, 2, 40), dtype=float32, numpy=\n",
       "array([[[-0.54793596,  1.5718837 , -0.7816968 , -0.04243499,\n",
       "          0.31416672, -0.97249967, -0.90798515, -0.47719094,\n",
       "         -0.3950184 , -0.9158306 , -0.78688574, -0.689862  ,\n",
       "          0.2270847 , -0.7912786 , -0.7128403 ,  0.484177  ,\n",
       "          0.9981199 ,  0.66749126,  1.8231533 , -1.3570731 ,\n",
       "         -0.1674463 , -0.17252502, -2.2583406 , -0.23404063,\n",
       "          0.2119686 , -2.2515857 ,  1.455368  , -0.43291268,\n",
       "         -0.25599355,  0.12516946, -0.59737355,  1.146447  ,\n",
       "          1.7000797 ,  0.34244937,  0.95458764,  0.44063324,\n",
       "          0.42473024,  2.1888547 , -0.25808448,  0.9304709 ],\n",
       "        [ 0.8838261 ,  0.91367316, -1.4455229 , -1.5507452 ,\n",
       "         -0.46548843, -0.5916154 ,  0.06613071, -1.7764513 ,\n",
       "          0.9627501 ,  0.70014507,  0.41408014,  0.61156875,\n",
       "         -1.1048583 , -0.5744596 , -0.26353523,  0.47219965,\n",
       "          0.15598807,  1.3493611 , -0.66852957, -0.32535693,\n",
       "         -2.340591  ,  1.2960248 , -0.31563962,  1.159934  ,\n",
       "          1.0657817 ,  0.48855647, -0.05952174,  1.8214557 ,\n",
       "         -0.5097268 , -0.8913562 ,  0.7442496 ,  1.6564974 ,\n",
       "          0.46144068, -2.104729  , -0.46089107,  0.41615543,\n",
       "         -0.5603454 ,  0.8249176 , -0.5289063 ,  0.07353325]]],\n",
       "      dtype=float32)>"
      ]
     },
     "execution_count": 42,
     "metadata": {},
     "output_type": "execute_result"
    }
   ],
   "source": [
    "attention_mech = attention.PerformerAttention(e_dim, 8)\n",
    "\n",
    "attention_mech(batches, batches, batches)"
   ]
  },
  {
   "cell_type": "code",
   "execution_count": 45,
   "id": "1f8abb03-2516-497b-ba59-78bfd3d6a5e0",
   "metadata": {},
   "outputs": [
    {
     "data": {
      "text/plain": [
       "<tf.Tensor: shape=(1, 2, 40), dtype=float32, numpy=\n",
       "array([[[ 0.9466732 , -0.9517766 ,  0.6089755 , -1.7202418 ,\n",
       "          0.00536991, -2.1891122 ,  0.22489779, -1.9345222 ,\n",
       "         -0.64037246,  1.342186  , -0.0755018 ,  1.6919665 ,\n",
       "         -0.5203122 , -1.8375303 , -2.4220014 , -0.67197025,\n",
       "          2.5232656 , -2.2110374 ,  3.1824946 , -1.183102  ,\n",
       "         -1.8224388 , -1.2308848 ,  2.4863615 ,  0.57052153,\n",
       "         -0.31785262, -1.0713868 , -0.26481   ,  2.1472726 ,\n",
       "          0.3293893 , -1.3335986 ,  2.2279396 ,  1.374608  ,\n",
       "         -0.5200319 ,  1.0549773 ,  0.414537  ,  1.4100695 ,\n",
       "         -0.09097227, -1.5231383 ,  1.1515183 , -0.7249024 ],\n",
       "        [ 0.9466732 , -0.9517766 ,  0.6089755 , -1.7202418 ,\n",
       "          0.00536991, -2.1891122 ,  0.22489779, -1.9345222 ,\n",
       "         -0.64037246,  1.342186  , -0.0755018 ,  1.6919665 ,\n",
       "         -0.5203122 , -1.8375303 , -2.4220014 , -0.67197025,\n",
       "          2.5232656 , -2.2110374 ,  3.1824946 , -1.183102  ,\n",
       "         -1.8224388 , -1.2308848 ,  2.4863615 ,  0.57052153,\n",
       "         -0.31785262, -1.0713868 , -0.26481   ,  2.1472726 ,\n",
       "          0.3293893 , -1.3335986 ,  2.2279396 ,  1.374608  ,\n",
       "         -0.5200319 ,  1.0549773 ,  0.414537  ,  1.4100695 ,\n",
       "         -0.09097227, -1.5231383 ,  1.1515183 , -0.7249024 ]]],\n",
       "      dtype=float32)>"
      ]
     },
     "execution_count": 45,
     "metadata": {},
     "output_type": "execute_result"
    }
   ],
   "source": [
    "batches"
   ]
  },
  {
   "cell_type": "markdown",
   "id": "baf22135-da45-451f-a3af-e64ecdb78ad2",
   "metadata": {},
   "source": [
    "## Transformer Testing"
   ]
  },
  {
   "cell_type": "code",
   "execution_count": 46,
   "id": "b8a79423-caf7-4dcc-86bd-fbce1fd854bc",
   "metadata": {},
   "outputs": [
    {
     "data": {
      "text/plain": [
       "<module 'neuralnetworks.transformer' from '/Users/joericks/Desktop/nova/model/neuralnetworks/transformer.py'>"
      ]
     },
     "execution_count": 46,
     "metadata": {},
     "output_type": "execute_result"
    }
   ],
   "source": [
    "importlib.reload(transformer)"
   ]
  },
  {
   "cell_type": "code",
   "execution_count": 48,
   "id": "29c20495-42f3-41b5-9e49-e1ecae12cd56",
   "metadata": {},
   "outputs": [],
   "source": [
    "tfrmr = transformer.TransformerLayer(batches.shape[2], batches.shape[0],8 ,20, name = \"test_transformer\")"
   ]
  },
  {
   "cell_type": "code",
   "execution_count": 53,
   "id": "0294a6e5-d3fe-409a-b0c5-dac5de6ebab0",
   "metadata": {},
   "outputs": [
    {
     "data": {
      "text/plain": [
       "<tf.Tensor: shape=(1, 2, 40), dtype=float32, numpy=\n",
       "array([[[ 0.21994892, -0.05975333,  0.0789724 , -0.43921822,\n",
       "         -0.11044189,  0.8868356 ,  0.67162454, -1.096051  ,\n",
       "          0.4992288 ,  0.5139241 ,  0.14785917, -0.38208514,\n",
       "         -0.62101895, -0.37262067,  0.04167616,  0.49791864,\n",
       "         -0.64596516,  0.07079103, -0.2810902 , -0.9351888 ,\n",
       "         -0.06590635, -0.2972786 , -0.16326918,  0.7278791 ,\n",
       "         -0.929311  ,  0.8543292 , -0.6946428 , -0.17785752,\n",
       "         -0.65794134, -0.10700488, -0.23116693, -1.1493764 ,\n",
       "         -0.38608885,  0.6411152 ,  0.24923731, -0.2929222 ,\n",
       "         -0.19133559, -0.60280806,  0.02011721,  1.1356254 ],\n",
       "        [ 0.05286725, -0.8993983 , -0.21018639, -0.26984408,\n",
       "         -0.33245635, -0.57058895,  0.6576936 , -0.05481829,\n",
       "          0.17056805,  0.30149615, -0.19358285, -0.35626158,\n",
       "          0.72556895, -0.18458861,  0.22103399, -0.09815413,\n",
       "          0.90647614, -0.06192705,  0.08891258, -0.19970153,\n",
       "         -0.32112715, -0.01172552,  0.81117445, -0.62129456,\n",
       "          0.42535573,  0.13666981, -0.06761778,  0.1013422 ,\n",
       "          0.03955059,  0.4651224 , -0.38235787, -0.5885687 ,\n",
       "         -0.12228064, -0.3591882 , -0.19745126,  0.42724526,\n",
       "         -1.0133255 ,  0.27133614, -0.05813152,  0.38988847]]],\n",
       "      dtype=float32)>"
      ]
     },
     "execution_count": 53,
     "metadata": {},
     "output_type": "execute_result"
    }
   ],
   "source": [
    "tfrmr(batches)"
   ]
  },
  {
   "cell_type": "code",
   "execution_count": 70,
   "id": "e8888b19-c9a4-410e-a9e7-5357ed550ec2",
   "metadata": {},
   "outputs": [
    {
     "data": {
      "text/plain": [
       "{'hello': 0, 'world': 1}"
      ]
     },
     "execution_count": 70,
     "metadata": {},
     "output_type": "execute_result"
    }
   ],
   "source": [
    "embedding_dim = 200\n",
    "\n",
    "test_string = \"hello world\"\n",
    "\n",
    "tkn = tokenizer.Tokenizer()\n",
    "\n",
    "tkn(\"hello world\")\n",
    "\n",
    "E_L = embedding.EmbeddingLayer(embedding_dim, name = \"embedding\")\n",
    "\n",
    "[E_L(t) for t in tkn.token_q]\n",
    "\n",
    "E_L.h"
   ]
  },
  {
   "cell_type": "code",
   "execution_count": 57,
   "id": "df58b0d6-8695-4f0c-ae02-43def8b68677",
   "metadata": {},
   "outputs": [
    {
     "data": {
      "text/plain": [
       "['hello', 'world']"
      ]
     },
     "execution_count": 57,
     "metadata": {},
     "output_type": "execute_result"
    }
   ],
   "source": [
    "tkn.token_q"
   ]
  }
 ],
 "metadata": {
  "kernelspec": {
   "display_name": "Python 3 (ipykernel)",
   "language": "python",
   "name": "python3"
  },
  "language_info": {
   "codemirror_mode": {
    "name": "ipython",
    "version": 3
   },
   "file_extension": ".py",
   "mimetype": "text/x-python",
   "name": "python",
   "nbconvert_exporter": "python",
   "pygments_lexer": "ipython3",
   "version": "3.9.13"
  }
 },
 "nbformat": 4,
 "nbformat_minor": 5
}
