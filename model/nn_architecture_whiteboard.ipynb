{
 "cells": [
  {
   "cell_type": "markdown",
   "id": "244f514f-c95b-4260-95db-c0e93c94d5d9",
   "metadata": {},
   "source": [
    "# Nova Neural Network Whiteboard\n",
    "\n",
    "This code is just me experimenting with building my own neural network, none of this has been unit tested, time or memory efficiency optimized, etc..."
   ]
  },
  {
   "cell_type": "code",
   "execution_count": 1,
   "id": "0f802635-7000-4650-96ea-07d896933f43",
   "metadata": {},
   "outputs": [],
   "source": [
    "import numpy as np\n",
    "from neuralnetworks import fnn, embedding"
   ]
  },
  {
   "cell_type": "markdown",
   "id": "ff505ce5-24ba-47c0-9a62-b85894061a29",
   "metadata": {},
   "source": [
    "Documentation on softmax and ReLU are provided below: <br>\n",
    "**[ReLU](https://en.wikipedia.org/wiki/Rectifier_(neural_networks))** <br>\n",
    "**[softmax](https://en.wikipedia.org/wiki/Softmax_function)**"
   ]
  },
  {
   "cell_type": "code",
   "execution_count": 12,
   "id": "de656d17-be0a-45b3-9eb4-a30d1fcce08b",
   "metadata": {},
   "outputs": [],
   "source": [
    "class Nova:\n",
    "    def __init__(self, hidden_dim = 125, vocab = None):\n",
    "        self.hidden_dim = hidden_dim\n",
    "        self.vocab = vocab\n",
    "        self.prompt = None\n",
    "        self.tokens = None\n",
    "        self.code = None\n",
    "        self.memory = []\n",
    "        self.E = embedding.Embedding(hidden_dim)\n",
    "        self.NN = fnn.Neural(len(vocab), embedding_instance = self.E, hidden_dim = hidden_dim)\n",
    "        \n",
    "    @property\n",
    "    def Prompt(self):\n",
    "        return self.prompt\n",
    "        \n",
    "    @Prompt.setter\n",
    "    def Prompt(self, prompt_str):\n",
    "        # PLACEHOLDER SET TOKENS VIA TOKENIZATION\n",
    "        self.tokens = [prompt_str]\n",
    "        self.prompt = prompt_str\n",
    "        return\n",
    "        \n",
    "    def generateCode(self):\n",
    "        if not self.tokens:\n",
    "            return \"please enter a prompt\"\n",
    "        for token in self.tokens:\n",
    "            self.E.setParams(token)\n",
    "        return self.NN.embedding.hmap\n",
    "        #sparse attention head placeholder\n",
    "        "
   ]
  },
  {
   "cell_type": "code",
   "execution_count": 13,
   "id": "51217e42-d116-481b-a8d8-71bdd3ffbfce",
   "metadata": {},
   "outputs": [
    {
     "data": {
      "text/plain": [
       "{'the world is round': 0}"
      ]
     },
     "execution_count": 13,
     "metadata": {},
     "output_type": "execute_result"
    }
   ],
   "source": [
    "nova = Nova(vocab = [\"yes\", \"no\"])\n",
    "\n",
    "nova.Prompt = \"the world is round\"\n",
    "\n",
    "nova.generateCode()"
   ]
  },
  {
   "cell_type": "code",
   "execution_count": 30,
   "id": "aa4a5d93-14ae-4599-bcd4-b0cbedc19fc1",
   "metadata": {},
   "outputs": [
    {
     "data": {
      "text/plain": [
       "250546"
      ]
     },
     "execution_count": 30,
     "metadata": {},
     "output_type": "execute_result"
    }
   ],
   "source": [
    "sum([1 if v > 0 else 0 for v in e_model.M[0]])"
   ]
  }
 ],
 "metadata": {
  "kernelspec": {
   "display_name": "Python 3 (ipykernel)",
   "language": "python",
   "name": "python3"
  },
  "language_info": {
   "codemirror_mode": {
    "name": "ipython",
    "version": 3
   },
   "file_extension": ".py",
   "mimetype": "text/x-python",
   "name": "python",
   "nbconvert_exporter": "python",
   "pygments_lexer": "ipython3",
   "version": "3.9.13"
  }
 },
 "nbformat": 4,
 "nbformat_minor": 5
}
