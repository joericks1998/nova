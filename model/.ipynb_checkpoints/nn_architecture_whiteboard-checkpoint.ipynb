{
 "cells": [
  {
   "cell_type": "code",
   "execution_count": 1,
   "id": "0f802635-7000-4650-96ea-07d896933f43",
   "metadata": {},
   "outputs": [],
   "source": [
    "import numpy as np"
   ]
  },
  {
   "cell_type": "code",
   "execution_count": 39,
   "id": "bb48c081-4835-43b3-959c-274d8115e563",
   "metadata": {},
   "outputs": [
    {
     "data": {
      "text/plain": [
       "{'hello': array([-5.88811618, -9.31911579, 39.09191909]),\n",
       " 'world': array([38.29816447, 40.04236143, 30.30495969])}"
      ]
     },
     "execution_count": 39,
     "metadata": {},
     "output_type": "execute_result"
    }
   ],
   "source": [
    "hidden_layer_length = 3\n",
    "\n",
    "word_stack = {\n",
    "    \"hello\": np.random.random(hidden_layer_length)*100 - 50,\n",
    "    \"world\": np.random.random(hidden_layer_length)*100 - 50\n",
    "}\n",
    "\n",
    "word_stack"
   ]
  },
  {
   "cell_type": "code",
   "execution_count": 118,
   "id": "055d8740-1d97-42a8-8ce0-fc08ff704978",
   "metadata": {},
   "outputs": [],
   "source": [
    "class Nova:\n",
    "    def __init__(self, outputs):\n",
    "        self.outputs = outputs\n",
    "        self.output_layer = np.random.random((len(outputs),1))\n",
    "        self.hidden_layer = np.random.random((hidden_layer_length, 1))\n",
    "        self.E = None\n",
    "    \n",
    "    def queueInputs(self, words):\n",
    "        for word in words:\n",
    "            if not word in word_stack.keys():\n",
    "                print(\"generating new embedding\")\n",
    "                word_stack[word] = np.random.random(hidden_layer_length)*100 - 50\n",
    "                try:\n",
    "                    if not self.E:\n",
    "                        self.E = word_stack[word]\n",
    "                except ValueError:\n",
    "                    self.E = np.vstack((self.E, word_stack[word]))\n",
    "            else:\n",
    "                try:\n",
    "                    if not self.E:\n",
    "                        self.E = word_stack[word]\n",
    "                except ValueError:\n",
    "                    self.E = np.vstack((self.E, word_stack[word]))\n",
    "        return self.E\n",
    "\n",
    "    @staticmethod\n",
    "    def activation(M):\n",
    "        arr = []\n",
    "        for v in M.reshape(1, len(M))[0]:\n",
    "            arr.append(max([v, 1]) - max([v, 0]) + 1)\n",
    "        return np.array(arr)\n",
    "\n",
    "    def feedForward(self):\n",
    "        return self.activation(np.dot(self.E , self.hidden_layer))\n",
    "        \n",
    "        "
   ]
  },
  {
   "cell_type": "code",
   "execution_count": 119,
   "id": "4c65e0ab-d134-4d19-bb4a-7c030b5c4a89",
   "metadata": {},
   "outputs": [
    {
     "data": {
      "text/plain": [
       "array([[-5.88811618, -9.31911579, 39.09191909],\n",
       "       [38.29816447, 40.04236143, 30.30495969]])"
      ]
     },
     "execution_count": 119,
     "metadata": {},
     "output_type": "execute_result"
    }
   ],
   "source": [
    "nn = Nova([\"Yes\", \"No\"])\n",
    "\n",
    "nn.queueInputs([\"hello\", \"world\"])"
   ]
  },
  {
   "cell_type": "code",
   "execution_count": 120,
   "id": "56674c7a-dafa-4fa5-8fc2-3db21a465353",
   "metadata": {},
   "outputs": [
    {
     "data": {
      "text/plain": [
       "array([1., 1.])"
      ]
     },
     "execution_count": 120,
     "metadata": {},
     "output_type": "execute_result"
    }
   ],
   "source": [
    "nn.feedForward()"
   ]
  }
 ],
 "metadata": {
  "kernelspec": {
   "display_name": "Python 3 (ipykernel)",
   "language": "python",
   "name": "python3"
  },
  "language_info": {
   "codemirror_mode": {
    "name": "ipython",
    "version": 3
   },
   "file_extension": ".py",
   "mimetype": "text/x-python",
   "name": "python",
   "nbconvert_exporter": "python",
   "pygments_lexer": "ipython3",
   "version": "3.9.13"
  }
 },
 "nbformat": 4,
 "nbformat_minor": 5
}
