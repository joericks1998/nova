{
 "cells": [
  {
   "cell_type": "code",
   "execution_count": 59,
   "id": "52ba644f-8916-4977-b8ae-e930de4f1a48",
   "metadata": {},
   "outputs": [
    {
     "data": {
      "text/plain": [
       "<module 'static.constants' from '/Users/joericks/Desktop/nova/static/constants.py'>"
      ]
     },
     "execution_count": 59,
     "metadata": {},
     "output_type": "execute_result"
    }
   ],
   "source": [
    "from inference import inference\n",
    "from architecture import nova\n",
    "from static import constants\n",
    "from semantics import tokenizer, parser\n",
    "from utils import model_io\n",
    "import tensorflow as tf\n",
    "import numpy as np\n",
    "import importlib\n",
    "import re\n",
    "import json\n",
    "\n",
    "\n",
    "importlib.reload(nova)\n",
    "importlib.reload(inference)\n",
    "importlib.reload(constants)"
   ]
  },
  {
   "cell_type": "code",
   "execution_count": 54,
   "id": "b7c02145-0e70-4f15-a703-971e173afd8c",
   "metadata": {},
   "outputs": [
    {
     "name": "stdout",
     "output_type": "stream",
     "text": [
      "[b'foo' b'bar']\n",
      "<class 'numpy.ndarray'>\n",
      "b'foo'\n",
      "<class 'bytes'>\n",
      "b'bar'\n",
      "<class 'bytes'>\n",
      "[['foo' 'bar']]\n"
     ]
    }
   ],
   "source": [
    "# Sample data with mixed types\n",
    "data = np.array([[b'foo', b'bar']], dtype=object)\n",
    "\n",
    "# Apply debytify\n",
    "result = inference.debytify(data)\n",
    "\n",
    "print(result)\n",
    "# Output: ['hello', 'world', ['foo', 'bar']]\n"
   ]
  },
  {
   "cell_type": "markdown",
   "id": "c660648e-5564-4981-a4cc-0555a2ef4de1",
   "metadata": {},
   "source": [
    "## Inference Testing"
   ]
  },
  {
   "cell_type": "markdown",
   "id": "41fcdc76-9282-48e3-b63c-3650bf434933",
   "metadata": {
    "jp-MarkdownHeadingCollapsed": true
   },
   "source": [
    "#### If reinitialization is needed"
   ]
  },
  {
   "cell_type": "code",
   "execution_count": 2,
   "id": "a422a112-38fd-4013-bde0-3987e8b25132",
   "metadata": {},
   "outputs": [
    {
     "name": "stdout",
     "output_type": "stream",
     "text": [
      "Model Saved Successfully\n"
     ]
    },
    {
     "name": "stderr",
     "output_type": "stream",
     "text": [
      "/usr/local/lib/python3.9/site-packages/keras/src/saving/saving_api.py:102: UserWarning: You are saving a model that has not yet been built. It might not contain any weights yet. Consider building the model first by calling it on some data.\n",
      "  return saving_lib.save_model(model, filepath)\n"
     ]
    }
   ],
   "source": [
    "model = nova.Model()\n",
    "\n",
    "model_io.save(model = model, save_dir = \"model\")"
   ]
  },
  {
   "cell_type": "markdown",
   "id": "4e4c4ac3-2c09-4b50-8028-c895630f39aa",
   "metadata": {},
   "source": [
    "#### Otherwise"
   ]
  },
  {
   "cell_type": "code",
   "execution_count": 40,
   "id": "98bc1270-4028-4f55-b6d0-46468e7ed128",
   "metadata": {},
   "outputs": [],
   "source": [
    "model = model_io.load(save_dir = \"model\")"
   ]
  },
  {
   "cell_type": "code",
   "execution_count": 41,
   "id": "e1a978c5-c4f8-4cb0-bfd6-d845f936e4c8",
   "metadata": {},
   "outputs": [
    {
     "data": {
      "text/plain": [
       "{'d_model': 128, 'num_heads': 32, 'dff': 512, 'vocab_len': 92, 'num_tfmrs': 8}"
      ]
     },
     "execution_count": 41,
     "metadata": {},
     "output_type": "execute_result"
    }
   ],
   "source": [
    "model.get_config()"
   ]
  },
  {
   "cell_type": "code",
   "execution_count": 44,
   "id": "dbcaedbc-4500-4536-99aa-d5f37fbff056",
   "metadata": {},
   "outputs": [
    {
     "data": {
      "text/plain": [
       "<tf.Variable 'Variable:0' shape=(1, 4) dtype=string, numpy=array([[b'the', b'sky', b'is', b'blue']], dtype=object)>"
      ]
     },
     "execution_count": 44,
     "metadata": {},
     "output_type": "execute_result"
    }
   ],
   "source": [
    "test_batch = [\"the sky is blue\"]\n",
    "\n",
    "inference.inBatch(test_batch, tokenizer)"
   ]
  },
  {
   "cell_type": "code",
   "execution_count": 60,
   "id": "beefafdc-4bf5-465f-9a98-1b4e61e77ecc",
   "metadata": {},
   "outputs": [
    {
     "name": "stdout",
     "output_type": "stream",
     "text": [
      "Performing first pass..\n",
      "entered\n",
      "<tf.Variable 'Variable:0' shape=(1, 4) dtype=string, numpy=array([[b'~pad~', b'~var~', b'is', b'~value.string~']], dtype=object)>\n",
      "Generating...\n"
     ]
    }
   ],
   "source": [
    "one = inference.Generator(test_batch, model, tokenizer)"
   ]
  },
  {
   "cell_type": "code",
   "execution_count": 48,
   "id": "5e94224c-3bbf-4447-8302-9ee13247daa0",
   "metadata": {},
   "outputs": [
    {
     "name": "stdout",
     "output_type": "stream",
     "text": [
      "Performing first pass..\n",
      "entered\n",
      "<tf.Variable 'Variable:0' shape=(1, 4) dtype=string, numpy=array([[b'~pad~', b'~var~', b'is', b'~value.string~']], dtype=object)>\n",
      "Generating...\n",
      "[b'&' b'goto' b'<' b'inline' b'*' b'unsigned' b'-' b'' b'unsigned'\n",
      " b'static' b'unsigned' b'<stop>' b'<stop>' b'restrict' b'inline' b'goto'\n",
      " b'<stop>' b'unsigned' b'unsigned' b'unsigned' b'unsigned' b'<stop>'\n",
      " b'inline' b'inline' b'inline']\n",
      "<class 'numpy.ndarray'>\n",
      "b'&'\n",
      "<class 'bytes'>\n",
      "b'goto'\n",
      "<class 'bytes'>\n",
      "b'<'\n",
      "<class 'bytes'>\n",
      "b'inline'\n",
      "<class 'bytes'>\n",
      "b'*'\n",
      "<class 'bytes'>\n",
      "b'unsigned'\n",
      "<class 'bytes'>\n",
      "b'-'\n",
      "<class 'bytes'>\n",
      "b''\n",
      "<class 'bytes'>\n",
      "b'unsigned'\n",
      "<class 'bytes'>\n",
      "b'static'\n",
      "<class 'bytes'>\n",
      "b'unsigned'\n",
      "<class 'bytes'>\n",
      "b'<stop>'\n",
      "<class 'bytes'>\n",
      "b'<stop>'\n",
      "<class 'bytes'>\n",
      "b'restrict'\n",
      "<class 'bytes'>\n",
      "b'inline'\n",
      "<class 'bytes'>\n",
      "b'goto'\n",
      "<class 'bytes'>\n",
      "b'<stop>'\n",
      "<class 'bytes'>\n",
      "b'unsigned'\n",
      "<class 'bytes'>\n",
      "b'unsigned'\n",
      "<class 'bytes'>\n",
      "b'unsigned'\n",
      "<class 'bytes'>\n",
      "b'unsigned'\n",
      "<class 'bytes'>\n",
      "b'<stop>'\n",
      "<class 'bytes'>\n",
      "b'inline'\n",
      "<class 'bytes'>\n",
      "b'inline'\n",
      "<class 'bytes'>\n",
      "b'inline'\n",
      "<class 'bytes'>\n"
     ]
    }
   ],
   "source": [
    "two = inference.Generator(test_batch, model, tokenizer)"
   ]
  },
  {
   "cell_type": "code",
   "execution_count": 61,
   "id": "85b15c64-cb35-4c43-9692-fe175687b6f8",
   "metadata": {},
   "outputs": [
    {
     "data": {
      "text/plain": [
       "['& goto < inline * unsigned -  unsigned static unsigned <stop> <stop> restrict inline goto <stop> unsigned unsigned unsigned unsigned <stop> inline inline inline']"
      ]
     },
     "execution_count": 61,
     "metadata": {},
     "output_type": "execute_result"
    }
   ],
   "source": [
    "one"
   ]
  },
  {
   "cell_type": "code",
   "execution_count": 16,
   "id": "fe6c22a2-685f-4e87-9581-99af67ac0a31",
   "metadata": {},
   "outputs": [
    {
     "data": {
      "text/plain": [
       "[\"b'#define'b'{'b'{'b'<'b'>>'b'extern'b'>>'b'<'b'register'b'_Alignas'b'>>'b'%float'b'#if'b'double'b'typedef'b'typedef'b'#define'b'<'b'#define'b'const'b'&&'b'<'b'!='b'!='b'_Alignof'\",\n",
       " \"b'#define'b'{'b'{'b'<'b'>>'b'extern'b'double'b'<'b'register'b'restrict'b'>>'b'%float'b'#if'b'double'b'double'b'typedef'b'#define'b'<'b'#define'b'const'b'&&'b'!='b'!='b'!='b'_Alignof'\"]"
      ]
     },
     "execution_count": 16,
     "metadata": {},
     "output_type": "execute_result"
    }
   ],
   "source": [
    "two"
   ]
  },
  {
   "cell_type": "code",
   "execution_count": 17,
   "id": "733799f4-fec9-439b-a3b4-853455013b2c",
   "metadata": {},
   "outputs": [
    {
     "name": "stdout",
     "output_type": "stream",
     "text": [
      "Model Saved Successfully\n"
     ]
    }
   ],
   "source": [
    "model_io.save(model = model, save_dir = \"model\")"
   ]
  },
  {
   "cell_type": "markdown",
   "id": "a853a8dd-f064-4102-af33-3eee4cc01bbf",
   "metadata": {},
   "source": [
    "## Encoding Dev"
   ]
  },
  {
   "cell_type": "code",
   "execution_count": 23,
   "id": "227654cd-1e8f-4688-94e4-ed734c62b09c",
   "metadata": {},
   "outputs": [],
   "source": [
    "with open('text/fpass_sample.txt', 'r') as f:\n",
    "    examples = f.read().split('\\n')\n",
    "\n",
    "target_str = \"~var is ~str\""
   ]
  },
  {
   "cell_type": "code",
   "execution_count": 25,
   "id": "c69d83f9-46e8-45eb-a0bf-b893afd051f0",
   "metadata": {},
   "outputs": [
    {
     "data": {
      "text/plain": [
       "['~var', 'is', '~str']"
      ]
     },
     "execution_count": 25,
     "metadata": {},
     "output_type": "execute_result"
    }
   ],
   "source": [
    "target_tokens = tokenizer.word_split(target_str)\n",
    "\n",
    "target_tokens"
   ]
  },
  {
   "cell_type": "code",
   "execution_count": 36,
   "id": "d3d5924c-0dd8-4475-8ef2-4cd0cb53e7b2",
   "metadata": {
    "scrolled": true
   },
   "outputs": [
    {
     "ename": "ValueError",
     "evalue": "Can't convert non-rectangular Python sequence to Tensor.",
     "output_type": "error",
     "traceback": [
      "\u001b[0;31m---------------------------------------------------------------------------\u001b[0m",
      "\u001b[0;31mValueError\u001b[0m                                Traceback (most recent call last)",
      "Cell \u001b[0;32mIn[36], line 1\u001b[0m\n\u001b[0;32m----> 1\u001b[0m in_tokens \u001b[38;5;241m=\u001b[39m \u001b[43mtf\u001b[49m\u001b[38;5;241;43m.\u001b[39;49m\u001b[43mVariable\u001b[49m\u001b[43m(\u001b[49m\u001b[38;5;28;43mlist\u001b[39;49m\u001b[43m(\u001b[49m\u001b[38;5;28;43mmap\u001b[39;49m\u001b[43m(\u001b[49m\u001b[43mtokenizer\u001b[49m\u001b[38;5;241;43m.\u001b[39;49m\u001b[43mword_split\u001b[49m\u001b[43m,\u001b[49m\u001b[43m \u001b[49m\u001b[43mexamples\u001b[49m\u001b[43m[\u001b[49m\u001b[43m:\u001b[49m\u001b[38;5;28;43mlen\u001b[39;49m\u001b[43m(\u001b[49m\u001b[43mexamples\u001b[49m\u001b[43m)\u001b[49m\u001b[38;5;241;43m-\u001b[39;49m\u001b[38;5;241;43m1\u001b[39;49m\u001b[43m]\u001b[49m\u001b[43m)\u001b[49m\u001b[43m)\u001b[49m\u001b[43m)\u001b[49m\n\u001b[1;32m      3\u001b[0m in_tokens\n",
      "File \u001b[0;32m/usr/local/lib/python3.9/site-packages/tensorflow/python/util/traceback_utils.py:153\u001b[0m, in \u001b[0;36mfilter_traceback.<locals>.error_handler\u001b[0;34m(*args, **kwargs)\u001b[0m\n\u001b[1;32m    151\u001b[0m \u001b[38;5;28;01mexcept\u001b[39;00m \u001b[38;5;167;01mException\u001b[39;00m \u001b[38;5;28;01mas\u001b[39;00m e:\n\u001b[1;32m    152\u001b[0m   filtered_tb \u001b[38;5;241m=\u001b[39m _process_traceback_frames(e\u001b[38;5;241m.\u001b[39m__traceback__)\n\u001b[0;32m--> 153\u001b[0m   \u001b[38;5;28;01mraise\u001b[39;00m e\u001b[38;5;241m.\u001b[39mwith_traceback(filtered_tb) \u001b[38;5;28;01mfrom\u001b[39;00m \u001b[38;5;28;01mNone\u001b[39;00m\n\u001b[1;32m    154\u001b[0m \u001b[38;5;28;01mfinally\u001b[39;00m:\n\u001b[1;32m    155\u001b[0m   \u001b[38;5;28;01mdel\u001b[39;00m filtered_tb\n",
      "File \u001b[0;32m/usr/local/lib/python3.9/site-packages/tensorflow/python/framework/constant_op.py:108\u001b[0m, in \u001b[0;36mconvert_to_eager_tensor\u001b[0;34m(value, ctx, dtype)\u001b[0m\n\u001b[1;32m    106\u001b[0m     dtype \u001b[38;5;241m=\u001b[39m dtypes\u001b[38;5;241m.\u001b[39mas_dtype(dtype)\u001b[38;5;241m.\u001b[39mas_datatype_enum\n\u001b[1;32m    107\u001b[0m ctx\u001b[38;5;241m.\u001b[39mensure_initialized()\n\u001b[0;32m--> 108\u001b[0m \u001b[38;5;28;01mreturn\u001b[39;00m \u001b[43mops\u001b[49m\u001b[38;5;241;43m.\u001b[39;49m\u001b[43mEagerTensor\u001b[49m\u001b[43m(\u001b[49m\u001b[43mvalue\u001b[49m\u001b[43m,\u001b[49m\u001b[43m \u001b[49m\u001b[43mctx\u001b[49m\u001b[38;5;241;43m.\u001b[39;49m\u001b[43mdevice_name\u001b[49m\u001b[43m,\u001b[49m\u001b[43m \u001b[49m\u001b[43mdtype\u001b[49m\u001b[43m)\u001b[49m\n",
      "\u001b[0;31mValueError\u001b[0m: Can't convert non-rectangular Python sequence to Tensor."
     ]
    }
   ],
   "source": [
    "in_tokens = tf.Variable(list(map(tokenizer.word_split, examples[:len(examples)-1])))\n",
    "\n",
    "in_tokens"
   ]
  },
  {
   "cell_type": "markdown",
   "id": "cfa4c27a-9dd2-4899-b7c2-ac82cbd85a7e",
   "metadata": {
    "jp-MarkdownHeadingCollapsed": true
   },
   "source": [
    "#### Old Solution"
   ]
  },
  {
   "cell_type": "code",
   "execution_count": 92,
   "id": "41a0f534-3af5-4333-9c8a-944a930d922a",
   "metadata": {},
   "outputs": [],
   "source": [
    "mini_lookup = {\n",
    "    \"~pad\": [\"the\"],\n",
    "    \"~relation\": [\"is\", \n",
    "                 \"are\", \n",
    "                 \"=\",\n",
    "                 \"<\", \n",
    "                 \">\",\n",
    "                 \"in\",\n",
    "                 \"like\"\n",
    "                ]\n",
    "}\n",
    "\n",
    "def intType(string):\n",
    "    try:\n",
    "        int(string)\n",
    "        return \"int\"\n",
    "    except:\n",
    "        return \"string\"\n",
    "\n",
    "class Encoding:\n",
    "    def __init__(self, arr):\n",
    "        self.in_arr = arr,\n",
    "        self.tag_map = {t : None for t in arr}\n",
    "    def tag(self):\n",
    "        # add tags for known relations and pads\n",
    "        for k in mini_lookup.keys():\n",
    "            for t in self.tag_map.keys():\n",
    "                if t in mini_lookup[k]:\n",
    "                    self.tag_map[t] = k\n",
    "        # add variable object tags\n",
    "        i = 0\n",
    "        j = 0\n",
    "        rel_idx = None\n",
    "        keys = list(self.tag_map.keys())\n",
    "        for t in keys:\n",
    "            if not self.tag_map[t]:\n",
    "                i+=1\n",
    "            if self.tag_map[t] == \"~relation\":\n",
    "                rel_idx = j\n",
    "            j+=1\n",
    "        var_k = [k for k in keys[:rel_idx] if self.tag_map[k] != \"~pad\"]\n",
    "        val_k = [k for k in keys[rel_idx+1:] if self.tag_map[k] != \"~pad\"]\n",
    "        for k in var_k:\n",
    "            self.tag_map[k] = \"~variable\"\n",
    "        for k in val_k:\n",
    "            self.tag_map[k] = \"~value.\"+intType(k)\n",
    "    @property\n",
    "    def Response(self):\n",
    "        tokens = []\n",
    "        for i in self.tag_map.items():\n",
    "            if i[1] != \"~pad\":\n",
    "                if i[1] == \"~relation\":\n",
    "                    tokens.append(i[0])\n",
    "                else:\n",
    "                    tokens.append(i[1])\n",
    "        return \" \".join(tokens)\n",
    "        \n",
    "        "
   ]
  },
  {
   "cell_type": "code",
   "execution_count": 93,
   "id": "6a906000-5b67-4997-ad64-71996dde8901",
   "metadata": {},
   "outputs": [],
   "source": [
    "encoding = map(Encoding, in_tokens)"
   ]
  },
  {
   "cell_type": "code",
   "execution_count": 94,
   "id": "11d6c192-432a-46b6-9ca3-5f54f4a77737",
   "metadata": {},
   "outputs": [
    {
     "name": "stdout",
     "output_type": "stream",
     "text": [
      "~variable is ~value.string\n",
      "~variable is ~value.string\n",
      "~variable is ~value.string\n",
      "~variable is ~value.string\n",
      "~variable is ~value.string\n",
      "~variable is ~value.string\n",
      "~variable are ~value.string\n",
      "~variable is ~value.string\n",
      "~variable is ~value.string\n",
      "~variable is ~value.string\n",
      "~variable is ~value.string\n",
      "~variable is ~value.string\n",
      "~variable is ~value.string\n",
      "~variable are ~value.string\n",
      "~variable is ~value.string\n",
      "~variable is ~value.string\n",
      "~variable are ~value.string\n",
      "~variable are ~value.string\n",
      "~variable are ~value.string\n",
      "~variable is ~value.string\n",
      "~variable are ~value.string\n",
      "~variable are ~value.string\n",
      "~variable is ~value.string\n",
      "~variable is ~value.string\n",
      "~variable is ~value.string\n",
      "~variable is ~value.string\n",
      "~variable is ~value.string\n",
      "~variable are ~value.string\n",
      "~variable are ~value.string\n",
      "~variable is ~value.string\n",
      "~variable is ~value.string\n",
      "~variable are ~value.string\n",
      "~variable are ~value.string\n",
      "~variable are ~value.string\n",
      "~variable are ~value.string\n",
      "~variable are ~value.string\n",
      "~variable are ~value.string\n",
      "~variable are ~value.string\n",
      "~variable are ~value.string\n",
      "~variable are ~value.string\n",
      "~variable are ~value.string\n",
      "~variable are ~value.string\n",
      "~variable are ~value.string\n",
      "~variable are ~value.string\n",
      "~variable is ~value.string\n",
      "~variable is ~value.string\n",
      "~variable is ~value.string\n",
      "~variable are ~value.string\n",
      "~variable is ~value.string\n",
      "~variable is ~value.string\n",
      "~variable are ~value.string\n",
      "~variable are ~value.string\n",
      "~variable are ~value.string\n",
      "~variable are ~value.string\n",
      "~variable are ~value.string\n",
      "~variable are ~value.string\n",
      "~variable are ~value.string\n",
      "~variable are ~value.string\n",
      "~variable are ~value.string\n",
      "~variable are ~value.string\n",
      "~variable are ~value.string\n",
      "~variable are ~value.string\n",
      "~variable are ~value.string\n",
      "~variable are ~value.string\n",
      "~variable are ~value.string\n",
      "~variable are ~value.string\n",
      "~variable are ~value.string\n",
      "~variable are ~value.string\n",
      "~variable are ~value.string\n",
      "~variable are ~value.string\n",
      "~variable are ~value.string\n",
      "~variable are ~value.string\n",
      "~variable are ~value.string\n",
      "~variable are ~value.string\n",
      "~variable are ~value.string\n",
      "~variable are ~value.string\n",
      "~variable are ~value.string\n",
      "~variable are ~value.string\n",
      "~variable are ~value.string\n",
      "~variable are ~value.string\n",
      "~variable are ~value.string\n",
      "~variable are ~value.string\n",
      "~variable are ~value.string\n",
      "~variable are ~value.string\n",
      "~variable are ~value.string\n",
      "~variable are ~value.string\n",
      "~variable are ~value.string\n",
      "~variable are ~value.string\n",
      "~variable are ~value.string\n",
      "~variable are ~value.string\n",
      "~variable are ~value.string\n",
      "~variable are ~value.string\n",
      "~variable are ~value.string\n",
      "~variable are ~value.string\n",
      "~variable are ~value.string\n",
      "~variable are ~value.string\n",
      "~variable are ~value.string\n",
      "~variable are ~value.string\n",
      "~variable are ~value.string\n",
      "~variable are ~value.string\n"
     ]
    },
    {
     "ename": "TypeError",
     "evalue": "unsupported operand type(s) for +: 'NoneType' and 'int'",
     "output_type": "error",
     "traceback": [
      "\u001b[0;31m---------------------------------------------------------------------------\u001b[0m",
      "\u001b[0;31mTypeError\u001b[0m                                 Traceback (most recent call last)",
      "Cell \u001b[0;32mIn[94], line 2\u001b[0m\n\u001b[1;32m      1\u001b[0m \u001b[38;5;28;01mfor\u001b[39;00m o \u001b[38;5;129;01min\u001b[39;00m \u001b[38;5;28mlist\u001b[39m(encoding):\n\u001b[0;32m----> 2\u001b[0m     \u001b[43mo\u001b[49m\u001b[38;5;241;43m.\u001b[39;49m\u001b[43mtag\u001b[49m\u001b[43m(\u001b[49m\u001b[43m)\u001b[49m\n\u001b[1;32m      3\u001b[0m     \u001b[38;5;28mprint\u001b[39m(o\u001b[38;5;241m.\u001b[39mResponse)\n",
      "Cell \u001b[0;32mIn[92], line 42\u001b[0m, in \u001b[0;36mEncoding.tag\u001b[0;34m(self)\u001b[0m\n\u001b[1;32m     40\u001b[0m     j\u001b[38;5;241m+\u001b[39m\u001b[38;5;241m=\u001b[39m\u001b[38;5;241m1\u001b[39m\n\u001b[1;32m     41\u001b[0m var_k \u001b[38;5;241m=\u001b[39m [k \u001b[38;5;28;01mfor\u001b[39;00m k \u001b[38;5;129;01min\u001b[39;00m keys[:rel_idx] \u001b[38;5;28;01mif\u001b[39;00m \u001b[38;5;28mself\u001b[39m\u001b[38;5;241m.\u001b[39mtag_map[k] \u001b[38;5;241m!=\u001b[39m \u001b[38;5;124m\"\u001b[39m\u001b[38;5;124m~pad\u001b[39m\u001b[38;5;124m\"\u001b[39m]\n\u001b[0;32m---> 42\u001b[0m val_k \u001b[38;5;241m=\u001b[39m [k \u001b[38;5;28;01mfor\u001b[39;00m k \u001b[38;5;129;01min\u001b[39;00m keys[\u001b[43mrel_idx\u001b[49m\u001b[38;5;241;43m+\u001b[39;49m\u001b[38;5;241;43m1\u001b[39;49m:] \u001b[38;5;28;01mif\u001b[39;00m \u001b[38;5;28mself\u001b[39m\u001b[38;5;241m.\u001b[39mtag_map[k] \u001b[38;5;241m!=\u001b[39m \u001b[38;5;124m\"\u001b[39m\u001b[38;5;124m~pad\u001b[39m\u001b[38;5;124m\"\u001b[39m]\n\u001b[1;32m     43\u001b[0m \u001b[38;5;28;01mfor\u001b[39;00m k \u001b[38;5;129;01min\u001b[39;00m var_k:\n\u001b[1;32m     44\u001b[0m     \u001b[38;5;28mself\u001b[39m\u001b[38;5;241m.\u001b[39mtag_map[k] \u001b[38;5;241m=\u001b[39m \u001b[38;5;124m\"\u001b[39m\u001b[38;5;124m~variable\u001b[39m\u001b[38;5;124m\"\u001b[39m\n",
      "\u001b[0;31mTypeError\u001b[0m: unsupported operand type(s) for +: 'NoneType' and 'int'"
     ]
    }
   ],
   "source": [
    "for o in list(encoding):\n",
    "    o.tag()\n",
    "    print(o.Response)"
   ]
  },
  {
   "cell_type": "markdown",
   "id": "bfb5f0ed-44f7-488a-8975-ec99c5d7c020",
   "metadata": {},
   "source": [
    "### Transition Map"
   ]
  },
  {
   "cell_type": "code",
   "execution_count": 31,
   "id": "d2f3aeb4-0048-4aa9-aba7-08034598f2b8",
   "metadata": {},
   "outputs": [],
   "source": [
    "importlib.reload(parser)\n",
    "\n",
    "with open(\"model/semantics/tags.json\", \"r\") as f:\n",
    "    tags = json.load(f)\n",
    "\n",
    "with open(\"model/semantics/tags.json\", \"r\") as f:\n",
    "    predef = json.load(f)"
   ]
  },
  {
   "cell_type": "code",
   "execution_count": 37,
   "id": "013dc48c-0fd5-4384-a303-50f34bd30702",
   "metadata": {},
   "outputs": [],
   "source": [
    "mem = parser.Memory()\n",
    "\n",
    "encoder = parser.Encoder(tags, n_limit = 6, predefinitions = predef)\n",
    "\n",
    "encoder.addTransition(\"\", \"~var~\")\n",
    "encoder.addTransition(\"~pad~\", \"~var~\")\n",
    "encoder.addTransition(\"~pad~ -> ~var~ -> ~relation~\", \"~value~\")\n",
    "encoder.addTransition(\"~var~ -> ~relation~\", \"~value~\")"
   ]
  },
  {
   "cell_type": "code",
   "execution_count": 35,
   "id": "8ad11e2c-d2b1-4dd0-b7a9-d1111bed0845",
   "metadata": {
    "scrolled": true
   },
   "outputs": [
    {
     "ename": "AttributeError",
     "evalue": "'str' object has no attribute 'numpy'",
     "output_type": "error",
     "traceback": [
      "\u001b[0;31m---------------------------------------------------------------------------\u001b[0m",
      "\u001b[0;31mAttributeError\u001b[0m                            Traceback (most recent call last)",
      "Cell \u001b[0;32mIn[35], line 1\u001b[0m\n\u001b[0;32m----> 1\u001b[0m \u001b[43mencoder\u001b[49m\u001b[43m(\u001b[49m\u001b[43mexamples\u001b[49m\u001b[43m)\u001b[49m\n",
      "File \u001b[0;32m~/Desktop/nova/semantics/parser.py:55\u001b[0m, in \u001b[0;36mEncoder.__call__\u001b[0;34m(self, batch, memory)\u001b[0m\n\u001b[1;32m     53\u001b[0m \u001b[38;5;28;01mfor\u001b[39;00m sequence \u001b[38;5;129;01min\u001b[39;00m batch:\n\u001b[1;32m     54\u001b[0m     tagged_data \u001b[38;5;241m=\u001b[39m []\n\u001b[0;32m---> 55\u001b[0m     \u001b[38;5;28;01mfor\u001b[39;00m tkn \u001b[38;5;129;01min\u001b[39;00m \u001b[43msequence\u001b[49m\u001b[38;5;241;43m.\u001b[39;49m\u001b[43mnumpy\u001b[49m():\n\u001b[1;32m     56\u001b[0m         token \u001b[38;5;241m=\u001b[39m tkn\u001b[38;5;241m.\u001b[39mdecode(\u001b[38;5;124m'\u001b[39m\u001b[38;5;124mutf-8\u001b[39m\u001b[38;5;124m'\u001b[39m)\n\u001b[1;32m     57\u001b[0m         tagged \u001b[38;5;241m=\u001b[39m \u001b[38;5;28;01mFalse\u001b[39;00m\n",
      "\u001b[0;31mAttributeError\u001b[0m: 'str' object has no attribute 'numpy'"
     ]
    }
   ],
   "source": [
    "encoder(examples)"
   ]
  },
  {
   "cell_type": "code",
   "execution_count": 282,
   "id": "4da1af2e-c5c6-4fb4-a233-6e5edc27d15f",
   "metadata": {},
   "outputs": [
    {
     "ename": "AttributeError",
     "evalue": "'Encoder' object has no attribute 'save'",
     "output_type": "error",
     "traceback": [
      "\u001b[0;31m---------------------------------------------------------------------------\u001b[0m",
      "\u001b[0;31mAttributeError\u001b[0m                            Traceback (most recent call last)",
      "Cell \u001b[0;32mIn[282], line 3\u001b[0m\n\u001b[1;32m      1\u001b[0m path \u001b[38;5;241m=\u001b[39m \u001b[38;5;124m\"\u001b[39m\u001b[38;5;124m/Users/joericks/Desktop/nova/model/semantic\u001b[39m\u001b[38;5;124m\"\u001b[39m\n\u001b[0;32m----> 3\u001b[0m \u001b[43mencoder\u001b[49m\u001b[38;5;241;43m.\u001b[39;49m\u001b[43msave\u001b[49m(path \u001b[38;5;241m=\u001b[39m path)\n",
      "\u001b[0;31mAttributeError\u001b[0m: 'Encoder' object has no attribute 'save'"
     ]
    }
   ],
   "source": [
    "path = \"/Users/joericks/Desktop/nova/model/semantic\"\n",
    "\n",
    "encoder.save(path = path)"
   ]
  },
  {
   "cell_type": "code",
   "execution_count": 168,
   "id": "f3745ed1-454f-4c0b-8af7-e08a2a859b0b",
   "metadata": {},
   "outputs": [
    {
     "data": {
      "text/plain": [
       "<tf.Tensor: shape=(2, 9), dtype=float32, numpy=\n",
       "array([[0., 0., 0., 0., 0., 0., 0., 0., 0.],\n",
       "       [0., 0., 1., 0., 0., 0., 0., 0., 0.]], dtype=float32)>"
      ]
     },
     "execution_count": 168,
     "metadata": {},
     "output_type": "execute_result"
    }
   ],
   "source": [
    "encoder.TransitionMatrix"
   ]
  },
  {
   "cell_type": "markdown",
   "id": "d9d9df87-c1b4-4431-9d68-4428e64956e3",
   "metadata": {
    "jp-MarkdownHeadingCollapsed": true
   },
   "source": [
    "## Model Testing"
   ]
  },
  {
   "cell_type": "code",
   "execution_count": 6,
   "id": "91e4b44e-0710-4c33-8979-795995e07b38",
   "metadata": {},
   "outputs": [],
   "source": [
    "test_string = [[\"the\", \"cow\", \"jumped\"], [\"hello\", \"world\", \"<pad>\"]]\n",
    "\n",
    "model = nova.Model()"
   ]
  },
  {
   "cell_type": "code",
   "execution_count": 7,
   "id": "b26340dc-86b6-453a-bc62-2e04b9729041",
   "metadata": {},
   "outputs": [
    {
     "data": {
      "text/plain": [
       "<tf.Tensor: shape=(2,), dtype=int64, numpy=array([74, 74])>"
      ]
     },
     "execution_count": 7,
     "metadata": {},
     "output_type": "execute_result"
    }
   ],
   "source": [
    "run = model.fPass(test_string)\n",
    "\n",
    "run"
   ]
  },
  {
   "cell_type": "code",
   "execution_count": 11,
   "id": "6ae6bb75-7f9a-4c37-a498-c0bdf0f04c2c",
   "metadata": {},
   "outputs": [
    {
     "data": {
      "text/plain": [
       "{'<pad>': 0, 'the': 1, 'cow': 2, 'jumped': 3, 'hello': 4, 'world': 5}"
      ]
     },
     "execution_count": 11,
     "metadata": {},
     "output_type": "execute_result"
    }
   ],
   "source": [
    "model.embed.h"
   ]
  },
  {
   "cell_type": "code",
   "execution_count": 8,
   "id": "34135af3-ff1a-42b8-87a4-d584b66fa3f6",
   "metadata": {},
   "outputs": [
    {
     "data": {
      "text/plain": [
       "{'d_model': 128, 'num_heads': 4, 'dff': 512, 'vocab_len': 92, 'num_tfmrs': 16}"
      ]
     },
     "execution_count": 8,
     "metadata": {},
     "output_type": "execute_result"
    }
   ],
   "source": [
    "model.get_config()"
   ]
  },
  {
   "cell_type": "code",
   "execution_count": 5,
   "id": "e243df20-f24a-40cc-92b2-c721bb1f4e33",
   "metadata": {},
   "outputs": [
    {
     "name": "stdout",
     "output_type": "stream",
     "text": [
      "Model Saved Successfully\n"
     ]
    },
    {
     "name": "stderr",
     "output_type": "stream",
     "text": [
      "/usr/local/lib/python3.9/site-packages/keras/src/saving/saving_api.py:102: UserWarning: You are saving a model that has not yet been built. It might not contain any weights yet. Consider building the model first by calling it on some data.\n",
      "  return saving_lib.save_model(model, filepath)\n"
     ]
    }
   ],
   "source": [
    "model_io.save(model = model, save_dir = \"/Users/joericks/Desktop/nova/model\")"
   ]
  },
  {
   "cell_type": "code",
   "execution_count": 11,
   "id": "98ad81cd-4751-4b6f-8484-5ef3e22c606f",
   "metadata": {},
   "outputs": [
    {
     "name": "stdout",
     "output_type": "stream",
     "text": [
      "Adding a new word to the model...\n",
      "Done.\n",
      "Retrieving existing embedding\n",
      "Adding a new word to the model...\n",
      "Retrieving existing embedding\n",
      "Adding a new word to the model...\n",
      "Retrieving existing embedding\n",
      "Adding a new word to the model...\n",
      "Retrieving existing embedding\n"
     ]
    },
    {
     "data": {
      "text/plain": [
       "<tf.Tensor: shape=(2,), dtype=int64, numpy=array([5, 5])>"
      ]
     },
     "execution_count": 11,
     "metadata": {},
     "output_type": "execute_result"
    }
   ],
   "source": [
    "loaded_model = model_io.load(save_dir = \"/Users/joericks/Desktop/nova/model\")\n",
    "\n",
    "loaded_model.fPass(test_string)"
   ]
  }
 ],
 "metadata": {
  "kernelspec": {
   "display_name": "Python 3 (ipykernel)",
   "language": "python",
   "name": "python3"
  },
  "language_info": {
   "codemirror_mode": {
    "name": "ipython",
    "version": 3
   },
   "file_extension": ".py",
   "mimetype": "text/x-python",
   "name": "python",
   "nbconvert_exporter": "python",
   "pygments_lexer": "ipython3",
   "version": "3.9.13"
  }
 },
 "nbformat": 4,
 "nbformat_minor": 5
}
