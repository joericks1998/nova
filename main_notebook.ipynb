{
 "cells": [
  {
   "cell_type": "code",
   "execution_count": 44,
   "id": "52ba644f-8916-4977-b8ae-e930de4f1a48",
   "metadata": {},
   "outputs": [
    {
     "data": {
      "text/plain": [
       "<module 'static.constants' from '/Users/joericks/Desktop/nova/static/constants.py'>"
      ]
     },
     "execution_count": 44,
     "metadata": {},
     "output_type": "execute_result"
    }
   ],
   "source": [
    "from inference import inference\n",
    "from architecture import nova\n",
    "from static import constants\n",
    "from encoding import tokenizer, encoding\n",
    "from utils import model_io\n",
    "import tensorflow as tf\n",
    "import numpy as np\n",
    "import importlib\n",
    "import re\n",
    "import json\n",
    "\n",
    "\n",
    "importlib.reload(nova)\n",
    "importlib.reload(inference)\n",
    "importlib.reload(constants)"
   ]
  },
  {
   "cell_type": "markdown",
   "id": "c660648e-5564-4981-a4cc-0555a2ef4de1",
   "metadata": {
    "jp-MarkdownHeadingCollapsed": true
   },
   "source": [
    "## Inference Testing"
   ]
  },
  {
   "cell_type": "markdown",
   "id": "41fcdc76-9282-48e3-b63c-3650bf434933",
   "metadata": {},
   "source": [
    "#### If reinitialization is needed"
   ]
  },
  {
   "cell_type": "code",
   "execution_count": 2,
   "id": "a422a112-38fd-4013-bde0-3987e8b25132",
   "metadata": {},
   "outputs": [
    {
     "name": "stdout",
     "output_type": "stream",
     "text": [
      "Model Saved Successfully\n"
     ]
    },
    {
     "name": "stderr",
     "output_type": "stream",
     "text": [
      "/usr/local/lib/python3.9/site-packages/keras/src/saving/saving_api.py:102: UserWarning: You are saving a model that has not yet been built. It might not contain any weights yet. Consider building the model first by calling it on some data.\n",
      "  return saving_lib.save_model(model, filepath)\n"
     ]
    }
   ],
   "source": [
    "model = nova.Model()\n",
    "\n",
    "model_io.save(model = model, save_dir = \"model\")"
   ]
  },
  {
   "cell_type": "markdown",
   "id": "4e4c4ac3-2c09-4b50-8028-c895630f39aa",
   "metadata": {
    "jp-MarkdownHeadingCollapsed": true
   },
   "source": [
    "#### Otherwise"
   ]
  },
  {
   "cell_type": "code",
   "execution_count": 3,
   "id": "98bc1270-4028-4f55-b6d0-46468e7ed128",
   "metadata": {},
   "outputs": [],
   "source": [
    "model = model_io.load(save_dir = \"model\")"
   ]
  },
  {
   "cell_type": "code",
   "execution_count": 4,
   "id": "e1a978c5-c4f8-4cb0-bfd6-d845f936e4c8",
   "metadata": {},
   "outputs": [
    {
     "data": {
      "text/plain": [
       "{'d_model': 128, 'num_heads': 32, 'dff': 512, 'vocab_len': 92, 'num_tfmrs': 8}"
      ]
     },
     "execution_count": 4,
     "metadata": {},
     "output_type": "execute_result"
    }
   ],
   "source": [
    "model.get_config()"
   ]
  },
  {
   "cell_type": "code",
   "execution_count": 5,
   "id": "dbcaedbc-4500-4536-99aa-d5f37fbff056",
   "metadata": {},
   "outputs": [
    {
     "data": {
      "text/plain": [
       "[['the', 'cow', 'jumped', 'over', 'the', 'moon'],\n",
       " ['hello', 'world', '<pad>', '<pad>', '<pad>', '<pad>']]"
      ]
     },
     "execution_count": 5,
     "metadata": {},
     "output_type": "execute_result"
    }
   ],
   "source": [
    "test_batch = [\"the cow jumped over the moon\", \"hello world\"]\n",
    "\n",
    "inference.inBatch(test_batch, tokenizer)"
   ]
  },
  {
   "cell_type": "code",
   "execution_count": 13,
   "id": "beefafdc-4bf5-465f-9a98-1b4e61e77ecc",
   "metadata": {},
   "outputs": [
    {
     "name": "stdout",
     "output_type": "stream",
     "text": [
      "Performing first pass..\n",
      "Generating...\n"
     ]
    }
   ],
   "source": [
    "one = inference.Generator(test_batch, model, tokenizer)"
   ]
  },
  {
   "cell_type": "code",
   "execution_count": 14,
   "id": "5e94224c-3bbf-4447-8302-9ee13247daa0",
   "metadata": {},
   "outputs": [
    {
     "name": "stdout",
     "output_type": "stream",
     "text": [
      "Performing first pass..\n",
      "Generating...\n"
     ]
    }
   ],
   "source": [
    "two = inference.Generator(test_batch, model, tokenizer)"
   ]
  },
  {
   "cell_type": "code",
   "execution_count": 15,
   "id": "85b15c64-cb35-4c43-9692-fe175687b6f8",
   "metadata": {},
   "outputs": [
    {
     "data": {
      "text/plain": [
       "[\"b'#define'b'{'b'{'b'<'b'>>'b'extern'b'>>'b'<'b'register'b'_Alignas'b'>>'b'%float'b'#if'b'double'b'typedef'b'typedef'b'#define'b'<'b'#define'b'const'b'&&'b'<'b'!='b'!='b'_Alignof'\",\n",
       " \"b'#define'b'{'b'{'b'<'b'>>'b'extern'b'double'b'<'b'register'b'restrict'b'>>'b'%float'b'#if'b'double'b'double'b'typedef'b'#define'b'<'b'#define'b'const'b'&&'b'!='b'!='b'!='b'_Alignof'\"]"
      ]
     },
     "execution_count": 15,
     "metadata": {},
     "output_type": "execute_result"
    }
   ],
   "source": [
    "one"
   ]
  },
  {
   "cell_type": "code",
   "execution_count": 16,
   "id": "fe6c22a2-685f-4e87-9581-99af67ac0a31",
   "metadata": {},
   "outputs": [
    {
     "data": {
      "text/plain": [
       "[\"b'#define'b'{'b'{'b'<'b'>>'b'extern'b'>>'b'<'b'register'b'_Alignas'b'>>'b'%float'b'#if'b'double'b'typedef'b'typedef'b'#define'b'<'b'#define'b'const'b'&&'b'<'b'!='b'!='b'_Alignof'\",\n",
       " \"b'#define'b'{'b'{'b'<'b'>>'b'extern'b'double'b'<'b'register'b'restrict'b'>>'b'%float'b'#if'b'double'b'double'b'typedef'b'#define'b'<'b'#define'b'const'b'&&'b'!='b'!='b'!='b'_Alignof'\"]"
      ]
     },
     "execution_count": 16,
     "metadata": {},
     "output_type": "execute_result"
    }
   ],
   "source": [
    "two"
   ]
  },
  {
   "cell_type": "code",
   "execution_count": 17,
   "id": "733799f4-fec9-439b-a3b4-853455013b2c",
   "metadata": {},
   "outputs": [
    {
     "name": "stdout",
     "output_type": "stream",
     "text": [
      "Model Saved Successfully\n"
     ]
    }
   ],
   "source": [
    "model_io.save(model = model, save_dir = \"model\")"
   ]
  },
  {
   "cell_type": "markdown",
   "id": "a853a8dd-f064-4102-af33-3eee4cc01bbf",
   "metadata": {},
   "source": [
    "## Encoding Dev"
   ]
  },
  {
   "cell_type": "code",
   "execution_count": 45,
   "id": "227654cd-1e8f-4688-94e4-ed734c62b09c",
   "metadata": {},
   "outputs": [],
   "source": [
    "with open('text/fpass_sample.txt', 'r') as f:\n",
    "    examples = f.read().split('\\n')\n",
    "\n",
    "examples[0]\n",
    "\n",
    "target_str = \"~var is ~str\""
   ]
  },
  {
   "cell_type": "code",
   "execution_count": 46,
   "id": "c69d83f9-46e8-45eb-a0bf-b893afd051f0",
   "metadata": {},
   "outputs": [
    {
     "data": {
      "text/plain": [
       "['~var', 'is', '~str']"
      ]
     },
     "execution_count": 46,
     "metadata": {},
     "output_type": "execute_result"
    }
   ],
   "source": [
    "target_tokens = tokenizer.word_split(target_str)\n",
    "\n",
    "target_tokens"
   ]
  },
  {
   "cell_type": "code",
   "execution_count": 47,
   "id": "d3d5924c-0dd8-4475-8ef2-4cd0cb53e7b2",
   "metadata": {
    "scrolled": true
   },
   "outputs": [
    {
     "data": {
      "text/plain": [
       "[['the', 'sky', 'is', 'blue'],\n",
       " ['water', 'is', 'clear'],\n",
       " ['fire', 'is', 'hot'],\n",
       " ['ice', 'is', 'cold'],\n",
       " ['the', 'sun', 'is', 'bright'],\n",
       " ['grass', 'is', 'green'],\n",
       " ['clouds', 'are', 'fluffy'],\n",
       " ['sand', 'is', 'soft'],\n",
       " ['stone', 'is', 'hard'],\n",
       " ['air', 'is', 'fresh'],\n",
       " ['coffee', 'is', 'strong'],\n",
       " ['milk', 'is', 'creamy'],\n",
       " ['honey', 'is', 'sweet'],\n",
       " ['lemons', 'are', 'sour'],\n",
       " ['sugar', 'is', 'granular'],\n",
       " ['bread', 'is', 'soft'],\n",
       " ['trees', 'are', 'tall'],\n",
       " ['rivers', 'are', 'wide'],\n",
       " ['mountains', 'are', 'majestic'],\n",
       " ['the', 'moon', 'is', 'luminous'],\n",
       " ['roses', 'are', 'fragrant'],\n",
       " ['flowers', 'are', 'colorful'],\n",
       " ['cotton', 'is', 'soft'],\n",
       " ['silk', 'is', 'smooth'],\n",
       " ['wool', 'is', 'warm'],\n",
       " ['metal', 'is', 'shiny'],\n",
       " ['gold', 'is', 'valuable'],\n",
       " ['diamonds', 'are', 'brilliant'],\n",
       " ['rocks', 'are', 'sturdy'],\n",
       " ['wood', 'is', 'solid'],\n",
       " ['soil', 'is', 'fertile'],\n",
       " ['leaves', 'are', 'vibrant'],\n",
       " ['apples', 'are', 'juicy'],\n",
       " ['oranges', 'are', 'tangy'],\n",
       " ['bananas', 'are', 'ripe'],\n",
       " ['grapes', 'are', 'small'],\n",
       " ['strawberries', 'are', 'delicious'],\n",
       " ['plums', 'are', 'purple'],\n",
       " ['peaches', 'are', 'fuzzy'],\n",
       " ['cherries', 'are', 'red'],\n",
       " ['potatoes', 'are', 'starchy'],\n",
       " ['carrots', 'are', 'orange'],\n",
       " ['tomatoes', 'are', 'round'],\n",
       " ['onions', 'are', 'pungent'],\n",
       " ['garlic', 'is', 'aromatic'],\n",
       " ['cheese', 'is', 'savory'],\n",
       " ['butter', 'is', 'rich'],\n",
       " ['eggs', 'are', 'nutritious'],\n",
       " ['fish', 'is', 'fresh'],\n",
       " ['meat', 'is', 'tender'],\n",
       " ['lions', 'are', 'fierce'],\n",
       " ['tigers', 'are', 'striped'],\n",
       " ['bears', 'are', 'strong'],\n",
       " ['wolves', 'are', 'cunning'],\n",
       " ['eagles', 'are', 'majestic'],\n",
       " ['horses', 'are', 'fast'],\n",
       " ['dogs', 'are', 'loyal'],\n",
       " ['cats', 'are', 'graceful'],\n",
       " ['fish', 'are', 'slippery'],\n",
       " ['snakes', 'are', 'smooth'],\n",
       " ['frogs', 'are', 'slimy'],\n",
       " ['birds', 'are', 'chirpy'],\n",
       " ['bees', 'are', 'busy'],\n",
       " ['ants', 'are', 'tiny'],\n",
       " ['spiders', 'are', 'clever'],\n",
       " ['sharks', 'are', 'dangerous'],\n",
       " ['whales', 'are', 'huge'],\n",
       " ['dolphins', 'are', 'intelligent'],\n",
       " ['seals', 'are', 'playful'],\n",
       " ['penguins', 'are', 'adorable'],\n",
       " ['butterflies', 'are', 'delicate'],\n",
       " ['ladybugs', 'are', 'cute'],\n",
       " ['mosquitoes', 'are', 'annoying'],\n",
       " ['flies', 'are', 'dirty'],\n",
       " ['cockroaches', 'are', 'disgusting'],\n",
       " ['elephants', 'are', 'large'],\n",
       " ['zebras', 'are', 'striped'],\n",
       " ['giraffes', 'are', 'tall'],\n",
       " ['monkeys', 'are', 'mischievous'],\n",
       " ['parrots', 'are', 'colorful'],\n",
       " ['pigeons', 'are', 'common'],\n",
       " ['ravens', 'are', 'black'],\n",
       " ['owls', 'are', 'wise'],\n",
       " ['ducks', 'are', 'noisy'],\n",
       " ['geese', 'are', 'aggressive'],\n",
       " ['swans', 'are', 'elegant'],\n",
       " ['foxes', 'are', 'sly'],\n",
       " ['kangaroos', 'are', 'bouncy'],\n",
       " ['pandas', 'are', 'adorable'],\n",
       " ['cows', 'are', 'gentle'],\n",
       " ['sheep', 'are', 'fluffy'],\n",
       " ['pigs', 'are', 'pink'],\n",
       " ['goats', 'are', 'stubborn'],\n",
       " ['chickens', 'are', 'clucky'],\n",
       " ['turkeys', 'are', 'big'],\n",
       " ['horses', 'are', 'majestic'],\n",
       " ['donkeys', 'are', 'strong'],\n",
       " ['camels', 'are', 'hardy'],\n",
       " ['humans', 'are', 'complex'],\n",
       " ['stars', 'are', 'distant'],\n",
       " ['']]"
      ]
     },
     "execution_count": 47,
     "metadata": {},
     "output_type": "execute_result"
    }
   ],
   "source": [
    "in_tokens = list(map(tokenizer.word_split, examples))\n",
    "\n",
    "in_tokens"
   ]
  },
  {
   "cell_type": "markdown",
   "id": "cfa4c27a-9dd2-4899-b7c2-ac82cbd85a7e",
   "metadata": {
    "jp-MarkdownHeadingCollapsed": true
   },
   "source": [
    "#### Old Solution"
   ]
  },
  {
   "cell_type": "code",
   "execution_count": 92,
   "id": "41a0f534-3af5-4333-9c8a-944a930d922a",
   "metadata": {},
   "outputs": [],
   "source": [
    "mini_lookup = {\n",
    "    \"~pad\": [\"the\"],\n",
    "    \"~relation\": [\"is\", \n",
    "                 \"are\", \n",
    "                 \"=\",\n",
    "                 \"<\", \n",
    "                 \">\",\n",
    "                 \"in\",\n",
    "                 \"like\"\n",
    "                ]\n",
    "}\n",
    "\n",
    "def intType(string):\n",
    "    try:\n",
    "        int(string)\n",
    "        return \"int\"\n",
    "    except:\n",
    "        return \"string\"\n",
    "\n",
    "class Encoding:\n",
    "    def __init__(self, arr):\n",
    "        self.in_arr = arr,\n",
    "        self.tag_map = {t : None for t in arr}\n",
    "    def tag(self):\n",
    "        # add tags for known relations and pads\n",
    "        for k in mini_lookup.keys():\n",
    "            for t in self.tag_map.keys():\n",
    "                if t in mini_lookup[k]:\n",
    "                    self.tag_map[t] = k\n",
    "        # add variable object tags\n",
    "        i = 0\n",
    "        j = 0\n",
    "        rel_idx = None\n",
    "        keys = list(self.tag_map.keys())\n",
    "        for t in keys:\n",
    "            if not self.tag_map[t]:\n",
    "                i+=1\n",
    "            if self.tag_map[t] == \"~relation\":\n",
    "                rel_idx = j\n",
    "            j+=1\n",
    "        var_k = [k for k in keys[:rel_idx] if self.tag_map[k] != \"~pad\"]\n",
    "        val_k = [k for k in keys[rel_idx+1:] if self.tag_map[k] != \"~pad\"]\n",
    "        for k in var_k:\n",
    "            self.tag_map[k] = \"~variable\"\n",
    "        for k in val_k:\n",
    "            self.tag_map[k] = \"~value.\"+intType(k)\n",
    "    @property\n",
    "    def Response(self):\n",
    "        tokens = []\n",
    "        for i in self.tag_map.items():\n",
    "            if i[1] != \"~pad\":\n",
    "                if i[1] == \"~relation\":\n",
    "                    tokens.append(i[0])\n",
    "                else:\n",
    "                    tokens.append(i[1])\n",
    "        return \" \".join(tokens)\n",
    "        \n",
    "        "
   ]
  },
  {
   "cell_type": "code",
   "execution_count": 93,
   "id": "6a906000-5b67-4997-ad64-71996dde8901",
   "metadata": {},
   "outputs": [],
   "source": [
    "encoding = map(Encoding, in_tokens)"
   ]
  },
  {
   "cell_type": "code",
   "execution_count": 94,
   "id": "11d6c192-432a-46b6-9ca3-5f54f4a77737",
   "metadata": {},
   "outputs": [
    {
     "name": "stdout",
     "output_type": "stream",
     "text": [
      "~variable is ~value.string\n",
      "~variable is ~value.string\n",
      "~variable is ~value.string\n",
      "~variable is ~value.string\n",
      "~variable is ~value.string\n",
      "~variable is ~value.string\n",
      "~variable are ~value.string\n",
      "~variable is ~value.string\n",
      "~variable is ~value.string\n",
      "~variable is ~value.string\n",
      "~variable is ~value.string\n",
      "~variable is ~value.string\n",
      "~variable is ~value.string\n",
      "~variable are ~value.string\n",
      "~variable is ~value.string\n",
      "~variable is ~value.string\n",
      "~variable are ~value.string\n",
      "~variable are ~value.string\n",
      "~variable are ~value.string\n",
      "~variable is ~value.string\n",
      "~variable are ~value.string\n",
      "~variable are ~value.string\n",
      "~variable is ~value.string\n",
      "~variable is ~value.string\n",
      "~variable is ~value.string\n",
      "~variable is ~value.string\n",
      "~variable is ~value.string\n",
      "~variable are ~value.string\n",
      "~variable are ~value.string\n",
      "~variable is ~value.string\n",
      "~variable is ~value.string\n",
      "~variable are ~value.string\n",
      "~variable are ~value.string\n",
      "~variable are ~value.string\n",
      "~variable are ~value.string\n",
      "~variable are ~value.string\n",
      "~variable are ~value.string\n",
      "~variable are ~value.string\n",
      "~variable are ~value.string\n",
      "~variable are ~value.string\n",
      "~variable are ~value.string\n",
      "~variable are ~value.string\n",
      "~variable are ~value.string\n",
      "~variable are ~value.string\n",
      "~variable is ~value.string\n",
      "~variable is ~value.string\n",
      "~variable is ~value.string\n",
      "~variable are ~value.string\n",
      "~variable is ~value.string\n",
      "~variable is ~value.string\n",
      "~variable are ~value.string\n",
      "~variable are ~value.string\n",
      "~variable are ~value.string\n",
      "~variable are ~value.string\n",
      "~variable are ~value.string\n",
      "~variable are ~value.string\n",
      "~variable are ~value.string\n",
      "~variable are ~value.string\n",
      "~variable are ~value.string\n",
      "~variable are ~value.string\n",
      "~variable are ~value.string\n",
      "~variable are ~value.string\n",
      "~variable are ~value.string\n",
      "~variable are ~value.string\n",
      "~variable are ~value.string\n",
      "~variable are ~value.string\n",
      "~variable are ~value.string\n",
      "~variable are ~value.string\n",
      "~variable are ~value.string\n",
      "~variable are ~value.string\n",
      "~variable are ~value.string\n",
      "~variable are ~value.string\n",
      "~variable are ~value.string\n",
      "~variable are ~value.string\n",
      "~variable are ~value.string\n",
      "~variable are ~value.string\n",
      "~variable are ~value.string\n",
      "~variable are ~value.string\n",
      "~variable are ~value.string\n",
      "~variable are ~value.string\n",
      "~variable are ~value.string\n",
      "~variable are ~value.string\n",
      "~variable are ~value.string\n",
      "~variable are ~value.string\n",
      "~variable are ~value.string\n",
      "~variable are ~value.string\n",
      "~variable are ~value.string\n",
      "~variable are ~value.string\n",
      "~variable are ~value.string\n",
      "~variable are ~value.string\n",
      "~variable are ~value.string\n",
      "~variable are ~value.string\n",
      "~variable are ~value.string\n",
      "~variable are ~value.string\n",
      "~variable are ~value.string\n",
      "~variable are ~value.string\n",
      "~variable are ~value.string\n",
      "~variable are ~value.string\n",
      "~variable are ~value.string\n",
      "~variable are ~value.string\n"
     ]
    },
    {
     "ename": "TypeError",
     "evalue": "unsupported operand type(s) for +: 'NoneType' and 'int'",
     "output_type": "error",
     "traceback": [
      "\u001b[0;31m---------------------------------------------------------------------------\u001b[0m",
      "\u001b[0;31mTypeError\u001b[0m                                 Traceback (most recent call last)",
      "Cell \u001b[0;32mIn[94], line 2\u001b[0m\n\u001b[1;32m      1\u001b[0m \u001b[38;5;28;01mfor\u001b[39;00m o \u001b[38;5;129;01min\u001b[39;00m \u001b[38;5;28mlist\u001b[39m(encoding):\n\u001b[0;32m----> 2\u001b[0m     \u001b[43mo\u001b[49m\u001b[38;5;241;43m.\u001b[39;49m\u001b[43mtag\u001b[49m\u001b[43m(\u001b[49m\u001b[43m)\u001b[49m\n\u001b[1;32m      3\u001b[0m     \u001b[38;5;28mprint\u001b[39m(o\u001b[38;5;241m.\u001b[39mResponse)\n",
      "Cell \u001b[0;32mIn[92], line 42\u001b[0m, in \u001b[0;36mEncoding.tag\u001b[0;34m(self)\u001b[0m\n\u001b[1;32m     40\u001b[0m     j\u001b[38;5;241m+\u001b[39m\u001b[38;5;241m=\u001b[39m\u001b[38;5;241m1\u001b[39m\n\u001b[1;32m     41\u001b[0m var_k \u001b[38;5;241m=\u001b[39m [k \u001b[38;5;28;01mfor\u001b[39;00m k \u001b[38;5;129;01min\u001b[39;00m keys[:rel_idx] \u001b[38;5;28;01mif\u001b[39;00m \u001b[38;5;28mself\u001b[39m\u001b[38;5;241m.\u001b[39mtag_map[k] \u001b[38;5;241m!=\u001b[39m \u001b[38;5;124m\"\u001b[39m\u001b[38;5;124m~pad\u001b[39m\u001b[38;5;124m\"\u001b[39m]\n\u001b[0;32m---> 42\u001b[0m val_k \u001b[38;5;241m=\u001b[39m [k \u001b[38;5;28;01mfor\u001b[39;00m k \u001b[38;5;129;01min\u001b[39;00m keys[\u001b[43mrel_idx\u001b[49m\u001b[38;5;241;43m+\u001b[39;49m\u001b[38;5;241;43m1\u001b[39;49m:] \u001b[38;5;28;01mif\u001b[39;00m \u001b[38;5;28mself\u001b[39m\u001b[38;5;241m.\u001b[39mtag_map[k] \u001b[38;5;241m!=\u001b[39m \u001b[38;5;124m\"\u001b[39m\u001b[38;5;124m~pad\u001b[39m\u001b[38;5;124m\"\u001b[39m]\n\u001b[1;32m     43\u001b[0m \u001b[38;5;28;01mfor\u001b[39;00m k \u001b[38;5;129;01min\u001b[39;00m var_k:\n\u001b[1;32m     44\u001b[0m     \u001b[38;5;28mself\u001b[39m\u001b[38;5;241m.\u001b[39mtag_map[k] \u001b[38;5;241m=\u001b[39m \u001b[38;5;124m\"\u001b[39m\u001b[38;5;124m~variable\u001b[39m\u001b[38;5;124m\"\u001b[39m\n",
      "\u001b[0;31mTypeError\u001b[0m: unsupported operand type(s) for +: 'NoneType' and 'int'"
     ]
    }
   ],
   "source": [
    "for o in list(encoding):\n",
    "    o.tag()\n",
    "    print(o.Response)"
   ]
  },
  {
   "cell_type": "markdown",
   "id": "bfb5f0ed-44f7-488a-8975-ec99c5d7c020",
   "metadata": {},
   "source": [
    "### Transition Map"
   ]
  },
  {
   "cell_type": "code",
   "execution_count": 98,
   "id": "d2f3aeb4-0048-4aa9-aba7-08034598f2b8",
   "metadata": {},
   "outputs": [],
   "source": [
    "importlib.reload(encoding)\n",
    "\n",
    "with open(\"text/tags.txt\", \"r\") as f:\n",
    "    tags = f.read().split(\"\\n\")\n",
    "\n",
    "with open(\"text/predefined_tags.json\", \"r\") as f:\n",
    "    predef = json.load(f)"
   ]
  },
  {
   "cell_type": "code",
   "execution_count": 99,
   "id": "013dc48c-0fd5-4384-a303-50f34bd30702",
   "metadata": {},
   "outputs": [
    {
     "data": {
      "text/plain": [
       "{'~relation~': ListWrapper(['=', 'is', 'equals', '==', '===', 'represents', 'stands', 'means', 'denotes', 'implies', 'signifies', 'symbolizes', 'corresponds', 'equivalent', 'synonymous', 'defined', 'identical', 'same', 'matches', 'reflects', 'equal', 'parallels', 'coincides', 'relates', 'links', 'associates', 'resembles', 'maps', 'aligns', 'akin', 'like', 'congruent', 'interchangeable', 'comparable', 'analogous', 'proportional', 'similar', 'identical', 'assign', 'are']),\n",
       " '~pad~': ListWrapper(['the', 'a', 'this', 'that', 'to', 'too']),\n",
       " '~brelation~': ListWrapper(['assigned'])}"
      ]
     },
     "execution_count": 99,
     "metadata": {},
     "output_type": "execute_result"
    }
   ],
   "source": [
    "mem = encoding.Memory()\n",
    "\n",
    "encoder = encoding.Encoder(tags, n_limit = 6, predefinitions = predef)\n",
    "\n",
    "encoder.predefinitions"
   ]
  },
  {
   "cell_type": "code",
   "execution_count": 100,
   "id": "8ad11e2c-d2b1-4dd0-b7a9-d1111bed0845",
   "metadata": {},
   "outputs": [
    {
     "data": {
      "text/plain": [
       "{'the': '~pad~', 'sky': None, 'is': '~relation~', 'blue': None}"
      ]
     },
     "execution_count": 100,
     "metadata": {},
     "output_type": "execute_result"
    }
   ],
   "source": [
    "encoder(in_tokens[0])"
   ]
  },
  {
   "cell_type": "code",
   "execution_count": 102,
   "id": "4da1af2e-c5c6-4fb4-a233-6e5edc27d15f",
   "metadata": {},
   "outputs": [
    {
     "data": {
      "text/plain": [
       "{0: '~relation~',\n",
       " 1: '~pad~',\n",
       " 2: '~var~',\n",
       " 3: '~value~',\n",
       " 4: '~func~',\n",
       " 5: '~break~',\n",
       " 6: '~container~',\n",
       " 7: '~def~',\n",
       " 8: '~brelation~'}"
      ]
     },
     "execution_count": 102,
     "metadata": {},
     "output_type": "execute_result"
    }
   ],
   "source": []
  },
  {
   "cell_type": "markdown",
   "id": "d9d9df87-c1b4-4431-9d68-4428e64956e3",
   "metadata": {
    "jp-MarkdownHeadingCollapsed": true
   },
   "source": [
    "## Model Testing"
   ]
  },
  {
   "cell_type": "code",
   "execution_count": 6,
   "id": "91e4b44e-0710-4c33-8979-795995e07b38",
   "metadata": {},
   "outputs": [],
   "source": [
    "test_string = [[\"the\", \"cow\", \"jumped\"], [\"hello\", \"world\", \"<pad>\"]]\n",
    "\n",
    "model = nova.Model()"
   ]
  },
  {
   "cell_type": "code",
   "execution_count": 7,
   "id": "b26340dc-86b6-453a-bc62-2e04b9729041",
   "metadata": {},
   "outputs": [
    {
     "data": {
      "text/plain": [
       "<tf.Tensor: shape=(2,), dtype=int64, numpy=array([74, 74])>"
      ]
     },
     "execution_count": 7,
     "metadata": {},
     "output_type": "execute_result"
    }
   ],
   "source": [
    "run = model.fPass(test_string)\n",
    "\n",
    "run"
   ]
  },
  {
   "cell_type": "code",
   "execution_count": 11,
   "id": "6ae6bb75-7f9a-4c37-a498-c0bdf0f04c2c",
   "metadata": {},
   "outputs": [
    {
     "data": {
      "text/plain": [
       "{'<pad>': 0, 'the': 1, 'cow': 2, 'jumped': 3, 'hello': 4, 'world': 5}"
      ]
     },
     "execution_count": 11,
     "metadata": {},
     "output_type": "execute_result"
    }
   ],
   "source": [
    "model.embed.h"
   ]
  },
  {
   "cell_type": "code",
   "execution_count": 8,
   "id": "34135af3-ff1a-42b8-87a4-d584b66fa3f6",
   "metadata": {},
   "outputs": [
    {
     "data": {
      "text/plain": [
       "{'d_model': 128, 'num_heads': 4, 'dff': 512, 'vocab_len': 92, 'num_tfmrs': 16}"
      ]
     },
     "execution_count": 8,
     "metadata": {},
     "output_type": "execute_result"
    }
   ],
   "source": [
    "model.get_config()"
   ]
  },
  {
   "cell_type": "code",
   "execution_count": 5,
   "id": "e243df20-f24a-40cc-92b2-c721bb1f4e33",
   "metadata": {},
   "outputs": [
    {
     "name": "stdout",
     "output_type": "stream",
     "text": [
      "Model Saved Successfully\n"
     ]
    },
    {
     "name": "stderr",
     "output_type": "stream",
     "text": [
      "/usr/local/lib/python3.9/site-packages/keras/src/saving/saving_api.py:102: UserWarning: You are saving a model that has not yet been built. It might not contain any weights yet. Consider building the model first by calling it on some data.\n",
      "  return saving_lib.save_model(model, filepath)\n"
     ]
    }
   ],
   "source": [
    "model_io.save(model = model, save_dir = \"/Users/joericks/Desktop/nova/model\")"
   ]
  },
  {
   "cell_type": "code",
   "execution_count": 11,
   "id": "98ad81cd-4751-4b6f-8484-5ef3e22c606f",
   "metadata": {},
   "outputs": [
    {
     "name": "stdout",
     "output_type": "stream",
     "text": [
      "Adding a new word to the model...\n",
      "Done.\n",
      "Retrieving existing embedding\n",
      "Adding a new word to the model...\n",
      "Retrieving existing embedding\n",
      "Adding a new word to the model...\n",
      "Retrieving existing embedding\n",
      "Adding a new word to the model...\n",
      "Retrieving existing embedding\n"
     ]
    },
    {
     "data": {
      "text/plain": [
       "<tf.Tensor: shape=(2,), dtype=int64, numpy=array([5, 5])>"
      ]
     },
     "execution_count": 11,
     "metadata": {},
     "output_type": "execute_result"
    }
   ],
   "source": [
    "loaded_model = model_io.load(save_dir = \"/Users/joericks/Desktop/nova/model\")\n",
    "\n",
    "loaded_model.fPass(test_string)"
   ]
  }
 ],
 "metadata": {
  "kernelspec": {
   "display_name": "Python 3 (ipykernel)",
   "language": "python",
   "name": "python3"
  },
  "language_info": {
   "codemirror_mode": {
    "name": "ipython",
    "version": 3
   },
   "file_extension": ".py",
   "mimetype": "text/x-python",
   "name": "python",
   "nbconvert_exporter": "python",
   "pygments_lexer": "ipython3",
   "version": "3.9.13"
  }
 },
 "nbformat": 4,
 "nbformat_minor": 5
}
