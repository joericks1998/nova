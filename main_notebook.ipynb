{
 "cells": [
  {
   "cell_type": "code",
   "execution_count": 1,
   "id": "52ba644f-8916-4977-b8ae-e930de4f1a48",
   "metadata": {},
   "outputs": [
    {
     "name": "stderr",
     "output_type": "stream",
     "text": [
      "2024-12-16 11:41:48.487133: I tensorflow/core/platform/cpu_feature_guard.cc:210] This TensorFlow binary is optimized to use available CPU instructions in performance-critical operations.\n",
      "To enable the following instructions: AVX2 FMA, in other operations, rebuild TensorFlow with the appropriate compiler flags.\n"
     ]
    },
    {
     "ename": "FileNotFoundError",
     "evalue": "[Errno 2] No such file or directory: '/vocabulary.txt'",
     "output_type": "error",
     "traceback": [
      "\u001b[0;31m---------------------------------------------------------------------------\u001b[0m",
      "\u001b[0;31mFileNotFoundError\u001b[0m                         Traceback (most recent call last)",
      "Cell \u001b[0;32mIn[1], line 2\u001b[0m\n\u001b[1;32m      1\u001b[0m \u001b[38;5;28;01mfrom\u001b[39;00m \u001b[38;5;21;01minference\u001b[39;00m \u001b[38;5;28;01mimport\u001b[39;00m inference\n\u001b[0;32m----> 2\u001b[0m \u001b[38;5;28;01mfrom\u001b[39;00m \u001b[38;5;21;01marchitecture\u001b[39;00m \u001b[38;5;28;01mimport\u001b[39;00m nova\n\u001b[1;32m      5\u001b[0m importlib\u001b[38;5;241m.\u001b[39mreload(nova)\n\u001b[1;32m      6\u001b[0m importlib\u001b[38;5;241m.\u001b[39mreload(model_io)\n",
      "File \u001b[0;32m~/Desktop/nova/architecture/nova.py:3\u001b[0m\n\u001b[1;32m      1\u001b[0m \u001b[38;5;28;01mimport\u001b[39;00m \u001b[38;5;21;01mnumpy\u001b[39;00m \u001b[38;5;28;01mas\u001b[39;00m \u001b[38;5;21;01mnp\u001b[39;00m\n\u001b[1;32m      2\u001b[0m \u001b[38;5;28;01mimport\u001b[39;00m \u001b[38;5;21;01mtensorflow\u001b[39;00m \u001b[38;5;28;01mas\u001b[39;00m \u001b[38;5;21;01mtf\u001b[39;00m\n\u001b[0;32m----> 3\u001b[0m \u001b[38;5;28;01mfrom\u001b[39;00m \u001b[38;5;21;01m.\u001b[39;00m \u001b[38;5;28;01mimport\u001b[39;00m embedding, transformer, final\n\u001b[1;32m      4\u001b[0m \u001b[38;5;28;01mfrom\u001b[39;00m \u001b[38;5;21;01mstatic\u001b[39;00m \u001b[38;5;28;01mimport\u001b[39;00m constants, _math\n\u001b[1;32m      5\u001b[0m \u001b[38;5;28;01mfrom\u001b[39;00m \u001b[38;5;21;01mutils\u001b[39;00m \u001b[38;5;28;01mimport\u001b[39;00m model_io\n",
      "File \u001b[0;32m~/Desktop/nova/architecture/transformer.py:3\u001b[0m\n\u001b[1;32m      1\u001b[0m \u001b[38;5;28;01mimport\u001b[39;00m \u001b[38;5;21;01mtensorflow\u001b[39;00m \u001b[38;5;28;01mas\u001b[39;00m \u001b[38;5;21;01mtf\u001b[39;00m\n\u001b[1;32m      2\u001b[0m \u001b[38;5;28;01mfrom\u001b[39;00m \u001b[38;5;21;01m.\u001b[39;00m \u001b[38;5;28;01mimport\u001b[39;00m attention, ffnn\n\u001b[0;32m----> 3\u001b[0m \u001b[38;5;28;01mfrom\u001b[39;00m \u001b[38;5;21;01mstatic\u001b[39;00m \u001b[38;5;28;01mimport\u001b[39;00m constants\n\u001b[1;32m      4\u001b[0m \u001b[38;5;28;01mfrom\u001b[39;00m \u001b[38;5;21;01mutils\u001b[39;00m\u001b[38;5;21;01m.\u001b[39;00m\u001b[38;5;21;01mmodel_io\u001b[39;00m \u001b[38;5;28;01mimport\u001b[39;00m master_config\n\u001b[1;32m      6\u001b[0m \u001b[38;5;28;01mclass\u001b[39;00m \u001b[38;5;21;01mLayer\u001b[39;00m(tf\u001b[38;5;241m.\u001b[39mModule):\n",
      "File \u001b[0;32m~/Desktop/nova/static/constants.py:9\u001b[0m\n\u001b[1;32m      7\u001b[0m num_heads \u001b[38;5;241m=\u001b[39m \u001b[38;5;241m4\u001b[39m\n\u001b[1;32m      8\u001b[0m \u001b[38;5;66;03m# vocab specs\u001b[39;00m\n\u001b[0;32m----> 9\u001b[0m vocab_len \u001b[38;5;241m=\u001b[39m \u001b[38;5;28mlen\u001b[39m(\u001b[43mdata_io\u001b[49m\u001b[38;5;241;43m.\u001b[39;49m\u001b[43mgetVocab\u001b[49m\u001b[43m(\u001b[49m\u001b[43m)\u001b[49m)\n",
      "File \u001b[0;32m~/Desktop/nova/text/data_io.py:5\u001b[0m, in \u001b[0;36mgetVocab\u001b[0;34m(path)\u001b[0m\n\u001b[1;32m      4\u001b[0m \u001b[38;5;28;01mdef\u001b[39;00m \u001b[38;5;21mgetVocab\u001b[39m(path \u001b[38;5;241m=\u001b[39m \u001b[38;5;124m\"\u001b[39m\u001b[38;5;124m/vocabulary.txt\u001b[39m\u001b[38;5;124m\"\u001b[39m):\n\u001b[0;32m----> 5\u001b[0m     \u001b[38;5;28;01mwith\u001b[39;00m \u001b[38;5;28;43mopen\u001b[39;49m\u001b[43m(\u001b[49m\u001b[43mpath\u001b[49m\u001b[43m,\u001b[49m\u001b[43m \u001b[49m\u001b[38;5;124;43m\"\u001b[39;49m\u001b[38;5;124;43mr\u001b[39;49m\u001b[38;5;124;43m\"\u001b[39;49m\u001b[43m)\u001b[49m \u001b[38;5;28;01mas\u001b[39;00m f:\n\u001b[1;32m      6\u001b[0m         vocab \u001b[38;5;241m=\u001b[39m file\u001b[38;5;241m.\u001b[39mread()\u001b[38;5;241m.\u001b[39msplit(\u001b[38;5;124m'\u001b[39m\u001b[38;5;130;01m\\n\u001b[39;00m\u001b[38;5;124m'\u001b[39m)\n\u001b[1;32m      7\u001b[0m     \u001b[38;5;28;01mreturn\u001b[39;00m vocab\n",
      "\u001b[0;31mFileNotFoundError\u001b[0m: [Errno 2] No such file or directory: '/vocabulary.txt'"
     ]
    }
   ],
   "source": [
    "from inference import inference\n",
    "from architecture import nova\n",
    "\n",
    "\n",
    "importlib.reload(nova)\n",
    "importlib.reload(model_io)"
   ]
  },
  {
   "cell_type": "markdown",
   "id": "c660648e-5564-4981-a4cc-0555a2ef4de1",
   "metadata": {},
   "source": [
    "## Inference Testing"
   ]
  },
  {
   "cell_type": "code",
   "execution_count": 1,
   "id": "dbcaedbc-4500-4536-99aa-d5f37fbff056",
   "metadata": {},
   "outputs": [],
   "source": [
    "test_string = \"the cow jumped over the moon\"\n",
    "\n",
    "inference.Generator("
   ]
  },
  {
   "cell_type": "markdown",
   "id": "d9d9df87-c1b4-4431-9d68-4428e64956e3",
   "metadata": {},
   "source": [
    "## Model Testing"
   ]
  },
  {
   "cell_type": "code",
   "execution_count": 2,
   "id": "91e4b44e-0710-4c33-8979-795995e07b38",
   "metadata": {},
   "outputs": [],
   "source": [
    "test_string = [[\"the\", \"cow\"], [\"hello\", \"world\"]]\n",
    "\n",
    "model = nova.Model()"
   ]
  },
  {
   "cell_type": "code",
   "execution_count": 3,
   "id": "b26340dc-86b6-453a-bc62-2e04b9729041",
   "metadata": {},
   "outputs": [
    {
     "name": "stdout",
     "output_type": "stream",
     "text": [
      "Adding a new word to the model...\n",
      "Done.\n",
      "Retrieving existing embedding\n",
      "Adding a new word to the model...\n",
      "Retrieving existing embedding\n",
      "Adding a new word to the model...\n",
      "Retrieving existing embedding\n",
      "Adding a new word to the model...\n",
      "Retrieving existing embedding\n"
     ]
    },
    {
     "data": {
      "text/plain": [
       "<tf.Tensor: shape=(2,), dtype=int64, numpy=array([38, 38])>"
      ]
     },
     "execution_count": 3,
     "metadata": {},
     "output_type": "execute_result"
    }
   ],
   "source": [
    "run = model.fPass(test_string)\n",
    "\n",
    "run"
   ]
  },
  {
   "cell_type": "code",
   "execution_count": 4,
   "id": "34135af3-ff1a-42b8-87a4-d584b66fa3f6",
   "metadata": {},
   "outputs": [
    {
     "data": {
      "text/plain": [
       "{'d_model': 256, 'num_heads': 4, 'dff': 1024, 'vocab_len': 91, 'num_tfmrs': 32}"
      ]
     },
     "execution_count": 4,
     "metadata": {},
     "output_type": "execute_result"
    }
   ],
   "source": [
    "model.get_config()"
   ]
  },
  {
   "cell_type": "code",
   "execution_count": 5,
   "id": "e243df20-f24a-40cc-92b2-c721bb1f4e33",
   "metadata": {},
   "outputs": [
    {
     "name": "stdout",
     "output_type": "stream",
     "text": [
      "Model Saved Successfully\n"
     ]
    },
    {
     "name": "stderr",
     "output_type": "stream",
     "text": [
      "/usr/local/lib/python3.9/site-packages/keras/src/saving/saving_api.py:102: UserWarning: You are saving a model that has not yet been built. It might not contain any weights yet. Consider building the model first by calling it on some data.\n",
      "  return saving_lib.save_model(model, filepath)\n"
     ]
    }
   ],
   "source": [
    "model_io.save(model = model, save_dir = \"/Users/joericks/Desktop/nova/model\")"
   ]
  },
  {
   "cell_type": "code",
   "execution_count": 11,
   "id": "98ad81cd-4751-4b6f-8484-5ef3e22c606f",
   "metadata": {},
   "outputs": [
    {
     "name": "stdout",
     "output_type": "stream",
     "text": [
      "Adding a new word to the model...\n",
      "Done.\n",
      "Retrieving existing embedding\n",
      "Adding a new word to the model...\n",
      "Retrieving existing embedding\n",
      "Adding a new word to the model...\n",
      "Retrieving existing embedding\n",
      "Adding a new word to the model...\n",
      "Retrieving existing embedding\n"
     ]
    },
    {
     "data": {
      "text/plain": [
       "<tf.Tensor: shape=(2,), dtype=int64, numpy=array([5, 5])>"
      ]
     },
     "execution_count": 11,
     "metadata": {},
     "output_type": "execute_result"
    }
   ],
   "source": [
    "loaded_model = model_io.load(save_dir = \"/Users/joericks/Desktop/nova/model\")\n",
    "\n",
    "loaded_model.fPass(test_string)"
   ]
  }
 ],
 "metadata": {
  "kernelspec": {
   "display_name": "Python 3 (ipykernel)",
   "language": "python",
   "name": "python3"
  },
  "language_info": {
   "codemirror_mode": {
    "name": "ipython",
    "version": 3
   },
   "file_extension": ".py",
   "mimetype": "text/x-python",
   "name": "python",
   "nbconvert_exporter": "python",
   "pygments_lexer": "ipython3",
   "version": "3.9.13"
  }
 },
 "nbformat": 4,
 "nbformat_minor": 5
}
