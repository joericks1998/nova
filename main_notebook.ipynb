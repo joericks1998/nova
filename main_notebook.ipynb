{
 "cells": [
  {
   "cell_type": "code",
   "execution_count": 2,
   "id": "52ba644f-8916-4977-b8ae-e930de4f1a48",
   "metadata": {},
   "outputs": [
    {
     "data": {
      "text/plain": [
       "<module 'static.constants' from '/Users/joericks/Desktop/nova/static/constants.py'>"
      ]
     },
     "execution_count": 2,
     "metadata": {},
     "output_type": "execute_result"
    }
   ],
   "source": [
    "from inference import inference\n",
    "from architecture import nova\n",
    "from static import constants\n",
    "from semantics import tokenizer, parser\n",
    "from utils import model_io\n",
    "import tensorflow as tf\n",
    "import numpy as np\n",
    "import importlib\n",
    "import re\n",
    "import json\n",
    "\n",
    "\n",
    "importlib.reload(nova)\n",
    "importlib.reload(inference)\n",
    "importlib.reload(constants)"
   ]
  },
  {
   "cell_type": "markdown",
   "id": "c660648e-5564-4981-a4cc-0555a2ef4de1",
   "metadata": {},
   "source": [
    "## Inference Testing"
   ]
  },
  {
   "cell_type": "markdown",
   "id": "41fcdc76-9282-48e3-b63c-3650bf434933",
   "metadata": {
    "jp-MarkdownHeadingCollapsed": true
   },
   "source": [
    "#### If reinitialization is needed"
   ]
  },
  {
   "cell_type": "code",
   "execution_count": 25,
   "id": "a422a112-38fd-4013-bde0-3987e8b25132",
   "metadata": {},
   "outputs": [
    {
     "name": "stdout",
     "output_type": "stream",
     "text": [
      "Model Saved Successfully\n"
     ]
    }
   ],
   "source": [
    "model = nova.Model()\n",
    "\n",
    "model_io.save(model = model, save_dir = \"model\")"
   ]
  },
  {
   "cell_type": "markdown",
   "id": "4e4c4ac3-2c09-4b50-8028-c895630f39aa",
   "metadata": {},
   "source": [
    "#### Otherwise"
   ]
  },
  {
   "cell_type": "code",
   "execution_count": 8,
   "id": "98bc1270-4028-4f55-b6d0-46468e7ed128",
   "metadata": {},
   "outputs": [],
   "source": [
    "model = model_io.load(save_dir = \"model\")"
   ]
  },
  {
   "cell_type": "code",
   "execution_count": 9,
   "id": "e1a978c5-c4f8-4cb0-bfd6-d845f936e4c8",
   "metadata": {},
   "outputs": [
    {
     "data": {
      "text/plain": [
       "{'d_model': 128, 'num_heads': 32, 'dff': 512, 'vocab_len': 92, 'num_tfmrs': 8}"
      ]
     },
     "execution_count": 9,
     "metadata": {},
     "output_type": "execute_result"
    }
   ],
   "source": [
    "model.get_config()"
   ]
  },
  {
   "cell_type": "code",
   "execution_count": 10,
   "id": "dbcaedbc-4500-4536-99aa-d5f37fbff056",
   "metadata": {},
   "outputs": [
    {
     "data": {
      "text/plain": [
       "[['the', 'sky', 'is', 'blue']]"
      ]
     },
     "execution_count": 10,
     "metadata": {},
     "output_type": "execute_result"
    }
   ],
   "source": [
    "test_batch = [\"the sky is blue\"]\n",
    "\n",
    "inference.inBatch(test_batch, tokenizer)"
   ]
  },
  {
   "cell_type": "code",
   "execution_count": 11,
   "id": "beefafdc-4bf5-465f-9a98-1b4e61e77ecc",
   "metadata": {},
   "outputs": [
    {
     "name": "stdout",
     "output_type": "stream",
     "text": [
      "Performing first pass..\n",
      "['the', 'sky', 'is', 'blue']\n",
      "<tf.Variable 'Variable:0' shape=(1,) dtype=string, numpy=array([b'~var~ is ~value.string~'], dtype=object)>\n",
      "Generating...\n"
     ]
    },
    {
     "ename": "TypeError",
     "evalue": "Cannot iterate over a scalar tensor.",
     "output_type": "error",
     "traceback": [
      "\u001b[0;31m---------------------------------------------------------------------------\u001b[0m",
      "\u001b[0;31mTypeError\u001b[0m                                 Traceback (most recent call last)",
      "Cell \u001b[0;32mIn[11], line 1\u001b[0m\n\u001b[0;32m----> 1\u001b[0m one \u001b[38;5;241m=\u001b[39m \u001b[43minference\u001b[49m\u001b[38;5;241;43m.\u001b[39;49m\u001b[43mGenerator\u001b[49m\u001b[43m(\u001b[49m\u001b[43mtest_batch\u001b[49m\u001b[43m,\u001b[49m\u001b[43m \u001b[49m\u001b[43mmodel\u001b[49m\u001b[43m,\u001b[49m\u001b[43m \u001b[49m\u001b[43mtokenizer\u001b[49m\u001b[43m)\u001b[49m\n",
      "File \u001b[0;32m~/Desktop/nova/inference/inference.py:49\u001b[0m, in \u001b[0;36mGenerator\u001b[0;34m(text_batch, model, tokenizer, max_t)\u001b[0m\n\u001b[1;32m     47\u001b[0m \u001b[38;5;28;01mif\u001b[39;00m out_batch \u001b[38;5;129;01mis\u001b[39;00m \u001b[38;5;129;01mnot\u001b[39;00m \u001b[38;5;28;01mNone\u001b[39;00m:\n\u001b[1;32m     48\u001b[0m     in_batch \u001b[38;5;241m=\u001b[39m tf\u001b[38;5;241m.\u001b[39mconcat([in_batch, out_batch], axis \u001b[38;5;241m=\u001b[39m \u001b[38;5;241m1\u001b[39m)\n\u001b[0;32m---> 49\u001b[0m probabilities \u001b[38;5;241m=\u001b[39m \u001b[43mmodel\u001b[49m\u001b[38;5;241;43m.\u001b[39;49m\u001b[43mfPass\u001b[49m\u001b[43m(\u001b[49m\u001b[43min_batch\u001b[49m\u001b[43m)\u001b[49m\n\u001b[1;32m     50\u001b[0m inference \u001b[38;5;241m=\u001b[39m InferEfficient(probabilities)\n\u001b[1;32m     51\u001b[0m out_list \u001b[38;5;241m=\u001b[39m \u001b[38;5;28mlist\u001b[39m(\u001b[38;5;28mmap\u001b[39m(vocabMapper, inference))\n",
      "File \u001b[0;32m~/Desktop/nova/architecture/nova.py:41\u001b[0m, in \u001b[0;36mModel.fPass\u001b[0;34m(self, in_batch, training)\u001b[0m\n\u001b[1;32m     39\u001b[0m \u001b[38;5;28;01mdef\u001b[39;00m \u001b[38;5;21mfPass\u001b[39m(\u001b[38;5;28mself\u001b[39m, in_batch, training \u001b[38;5;241m=\u001b[39m \u001b[38;5;28;01mFalse\u001b[39;00m):\n\u001b[1;32m     40\u001b[0m     \u001b[38;5;66;03m#embed token batch\u001b[39;00m\n\u001b[0;32m---> 41\u001b[0m     embd_logits \u001b[38;5;241m=\u001b[39m \u001b[38;5;28;43mself\u001b[39;49m\u001b[38;5;241;43m.\u001b[39;49m\u001b[43membedPass\u001b[49m\u001b[43m(\u001b[49m\u001b[43min_batch\u001b[49m\u001b[43m)\u001b[49m\n\u001b[1;32m     43\u001b[0m     \u001b[38;5;66;03m# pass through transformer layers\u001b[39;00m\n\u001b[1;32m     44\u001b[0m     tfmr_logits \u001b[38;5;241m=\u001b[39m \u001b[38;5;28mself\u001b[39m\u001b[38;5;241m.\u001b[39mtransformPass(embd_logits)\n",
      "File \u001b[0;32m~/Desktop/nova/architecture/nova.py:28\u001b[0m, in \u001b[0;36mModel.embedPass\u001b[0;34m(self, in_batch)\u001b[0m\n\u001b[1;32m     26\u001b[0m big_stack \u001b[38;5;241m=\u001b[39m []\n\u001b[1;32m     27\u001b[0m \u001b[38;5;28;01mfor\u001b[39;00m seq \u001b[38;5;129;01min\u001b[39;00m in_batch:\n\u001b[0;32m---> 28\u001b[0m     small_stack \u001b[38;5;241m=\u001b[39m tf\u001b[38;5;241m.\u001b[39mstack([\u001b[38;5;28mself\u001b[39m\u001b[38;5;241m.\u001b[39membed(tkn) \u001b[38;5;28;01mfor\u001b[39;00m tkn \u001b[38;5;129;01min\u001b[39;00m seq])\n\u001b[1;32m     29\u001b[0m     big_stack\u001b[38;5;241m.\u001b[39mappend(small_stack)\n\u001b[1;32m     30\u001b[0m \u001b[38;5;66;03m# stacking all batches into the embedding batch\u001b[39;00m\n",
      "File \u001b[0;32m/usr/local/lib/python3.9/site-packages/tensorflow/python/framework/tensor.py:325\u001b[0m, in \u001b[0;36mTensor.__iter__\u001b[0;34m(self)\u001b[0m\n\u001b[1;32m    322\u001b[0m \u001b[38;5;28;01mif\u001b[39;00m \u001b[38;5;129;01mnot\u001b[39;00m context\u001b[38;5;241m.\u001b[39mexecuting_eagerly():\n\u001b[1;32m    323\u001b[0m   \u001b[38;5;28mself\u001b[39m\u001b[38;5;241m.\u001b[39m_disallow_iteration()\n\u001b[0;32m--> 325\u001b[0m first_dim \u001b[38;5;241m=\u001b[39m \u001b[38;5;28;43mself\u001b[39;49m\u001b[38;5;241;43m.\u001b[39;49m\u001b[43m_get_first_dim\u001b[49m\u001b[43m(\u001b[49m\u001b[43m)\u001b[49m\n\u001b[1;32m    326\u001b[0m \u001b[38;5;28;01mreturn\u001b[39;00m _TensorIterator(\u001b[38;5;28mself\u001b[39m, first_dim)\n",
      "File \u001b[0;32m/usr/local/lib/python3.9/site-packages/tensorflow/python/framework/tensor.py:333\u001b[0m, in \u001b[0;36mTensor._get_first_dim\u001b[0;34m(self)\u001b[0m\n\u001b[1;32m    331\u001b[0m   \u001b[38;5;28;01mraise\u001b[39;00m \u001b[38;5;167;01mTypeError\u001b[39;00m(\u001b[38;5;124m\"\u001b[39m\u001b[38;5;124mCannot iterate over a tensor with unknown shape.\u001b[39m\u001b[38;5;124m\"\u001b[39m)\n\u001b[1;32m    332\u001b[0m \u001b[38;5;28;01mif\u001b[39;00m \u001b[38;5;129;01mnot\u001b[39;00m shape:\n\u001b[0;32m--> 333\u001b[0m   \u001b[38;5;28;01mraise\u001b[39;00m \u001b[38;5;167;01mTypeError\u001b[39;00m(\u001b[38;5;124m\"\u001b[39m\u001b[38;5;124mCannot iterate over a scalar tensor.\u001b[39m\u001b[38;5;124m\"\u001b[39m)\n\u001b[1;32m    334\u001b[0m \u001b[38;5;28;01mif\u001b[39;00m shape[\u001b[38;5;241m0\u001b[39m] \u001b[38;5;129;01mis\u001b[39;00m \u001b[38;5;28;01mNone\u001b[39;00m:\n\u001b[1;32m    335\u001b[0m   \u001b[38;5;28;01mraise\u001b[39;00m \u001b[38;5;167;01mTypeError\u001b[39;00m(\n\u001b[1;32m    336\u001b[0m       \u001b[38;5;124m\"\u001b[39m\u001b[38;5;124mCannot iterate over a tensor with unknown first dimension.\u001b[39m\u001b[38;5;124m\"\u001b[39m)\n",
      "\u001b[0;31mTypeError\u001b[0m: Cannot iterate over a scalar tensor."
     ]
    }
   ],
   "source": [
    "one = inference.Generator(test_batch, model, tokenizer)"
   ]
  },
  {
   "cell_type": "code",
   "execution_count": 14,
   "id": "5e94224c-3bbf-4447-8302-9ee13247daa0",
   "metadata": {},
   "outputs": [
    {
     "name": "stdout",
     "output_type": "stream",
     "text": [
      "Performing first pass..\n",
      "Generating...\n"
     ]
    }
   ],
   "source": [
    "two = inference.Generator(test_batch, model, tokenizer)"
   ]
  },
  {
   "cell_type": "code",
   "execution_count": 15,
   "id": "85b15c64-cb35-4c43-9692-fe175687b6f8",
   "metadata": {},
   "outputs": [
    {
     "data": {
      "text/plain": [
       "[\"b'#define'b'{'b'{'b'<'b'>>'b'extern'b'>>'b'<'b'register'b'_Alignas'b'>>'b'%float'b'#if'b'double'b'typedef'b'typedef'b'#define'b'<'b'#define'b'const'b'&&'b'<'b'!='b'!='b'_Alignof'\",\n",
       " \"b'#define'b'{'b'{'b'<'b'>>'b'extern'b'double'b'<'b'register'b'restrict'b'>>'b'%float'b'#if'b'double'b'double'b'typedef'b'#define'b'<'b'#define'b'const'b'&&'b'!='b'!='b'!='b'_Alignof'\"]"
      ]
     },
     "execution_count": 15,
     "metadata": {},
     "output_type": "execute_result"
    }
   ],
   "source": [
    "one"
   ]
  },
  {
   "cell_type": "code",
   "execution_count": 16,
   "id": "fe6c22a2-685f-4e87-9581-99af67ac0a31",
   "metadata": {},
   "outputs": [
    {
     "data": {
      "text/plain": [
       "[\"b'#define'b'{'b'{'b'<'b'>>'b'extern'b'>>'b'<'b'register'b'_Alignas'b'>>'b'%float'b'#if'b'double'b'typedef'b'typedef'b'#define'b'<'b'#define'b'const'b'&&'b'<'b'!='b'!='b'_Alignof'\",\n",
       " \"b'#define'b'{'b'{'b'<'b'>>'b'extern'b'double'b'<'b'register'b'restrict'b'>>'b'%float'b'#if'b'double'b'double'b'typedef'b'#define'b'<'b'#define'b'const'b'&&'b'!='b'!='b'!='b'_Alignof'\"]"
      ]
     },
     "execution_count": 16,
     "metadata": {},
     "output_type": "execute_result"
    }
   ],
   "source": [
    "two"
   ]
  },
  {
   "cell_type": "code",
   "execution_count": 17,
   "id": "733799f4-fec9-439b-a3b4-853455013b2c",
   "metadata": {},
   "outputs": [
    {
     "name": "stdout",
     "output_type": "stream",
     "text": [
      "Model Saved Successfully\n"
     ]
    }
   ],
   "source": [
    "model_io.save(model = model, save_dir = \"model\")"
   ]
  },
  {
   "cell_type": "markdown",
   "id": "a853a8dd-f064-4102-af33-3eee4cc01bbf",
   "metadata": {},
   "source": [
    "## Encoding Dev"
   ]
  },
  {
   "cell_type": "code",
   "execution_count": 50,
   "id": "227654cd-1e8f-4688-94e4-ed734c62b09c",
   "metadata": {},
   "outputs": [],
   "source": [
    "with open('text/fpass_sample.txt', 'r') as f:\n",
    "    examples = f.read().split('\\n')\n",
    "\n",
    "examples[0]\n",
    "\n",
    "target_str = \"~var is ~str\""
   ]
  },
  {
   "cell_type": "code",
   "execution_count": 51,
   "id": "c69d83f9-46e8-45eb-a0bf-b893afd051f0",
   "metadata": {},
   "outputs": [
    {
     "data": {
      "text/plain": [
       "['~var', 'is', '~str']"
      ]
     },
     "execution_count": 51,
     "metadata": {},
     "output_type": "execute_result"
    }
   ],
   "source": [
    "target_tokens = tokenizer.word_split(target_str)\n",
    "\n",
    "target_tokens"
   ]
  },
  {
   "cell_type": "code",
   "execution_count": 56,
   "id": "d3d5924c-0dd8-4475-8ef2-4cd0cb53e7b2",
   "metadata": {
    "scrolled": true
   },
   "outputs": [
    {
     "data": {
      "text/plain": [
       "<tf.Variable 'Variable:0' shape=(100, 4) dtype=string, numpy=\n",
       "array([[b'the', b'sky', b'is', b'blue'],\n",
       "       [b'water', b'is', b'clear', b'<pad>'],\n",
       "       [b'fire', b'is', b'hot', b'<pad>'],\n",
       "       [b'ice', b'is', b'cold', b'<pad>'],\n",
       "       [b'the', b'sun', b'is', b'bright'],\n",
       "       [b'grass', b'is', b'green', b'<pad>'],\n",
       "       [b'clouds', b'are', b'fluffy', b'<pad>'],\n",
       "       [b'sand', b'is', b'soft', b'<pad>'],\n",
       "       [b'stone', b'is', b'hard', b'<pad>'],\n",
       "       [b'air', b'is', b'fresh', b'<pad>'],\n",
       "       [b'coffee', b'is', b'strong', b'<pad>'],\n",
       "       [b'milk', b'is', b'creamy', b'<pad>'],\n",
       "       [b'honey', b'is', b'sweet', b'<pad>'],\n",
       "       [b'lemons', b'are', b'sour', b'<pad>'],\n",
       "       [b'sugar', b'is', b'granular', b'<pad>'],\n",
       "       [b'bread', b'is', b'soft', b'<pad>'],\n",
       "       [b'trees', b'are', b'tall', b'<pad>'],\n",
       "       [b'rivers', b'are', b'wide', b'<pad>'],\n",
       "       [b'mountains', b'are', b'majestic', b'<pad>'],\n",
       "       [b'the', b'moon', b'is', b'luminous'],\n",
       "       [b'roses', b'are', b'fragrant', b'<pad>'],\n",
       "       [b'flowers', b'are', b'colorful', b'<pad>'],\n",
       "       [b'cotton', b'is', b'soft', b'<pad>'],\n",
       "       [b'silk', b'is', b'smooth', b'<pad>'],\n",
       "       [b'wool', b'is', b'warm', b'<pad>'],\n",
       "       [b'metal', b'is', b'shiny', b'<pad>'],\n",
       "       [b'gold', b'is', b'valuable', b'<pad>'],\n",
       "       [b'diamonds', b'are', b'brilliant', b'<pad>'],\n",
       "       [b'rocks', b'are', b'sturdy', b'<pad>'],\n",
       "       [b'wood', b'is', b'solid', b'<pad>'],\n",
       "       [b'soil', b'is', b'fertile', b'<pad>'],\n",
       "       [b'leaves', b'are', b'vibrant', b'<pad>'],\n",
       "       [b'apples', b'are', b'juicy', b'<pad>'],\n",
       "       [b'oranges', b'are', b'tangy', b'<pad>'],\n",
       "       [b'bananas', b'are', b'ripe', b'<pad>'],\n",
       "       [b'grapes', b'are', b'small', b'<pad>'],\n",
       "       [b'strawberries', b'are', b'delicious', b'<pad>'],\n",
       "       [b'plums', b'are', b'purple', b'<pad>'],\n",
       "       [b'peaches', b'are', b'fuzzy', b'<pad>'],\n",
       "       [b'cherries', b'are', b'red', b'<pad>'],\n",
       "       [b'potatoes', b'are', b'starchy', b'<pad>'],\n",
       "       [b'carrots', b'are', b'orange', b'<pad>'],\n",
       "       [b'tomatoes', b'are', b'round', b'<pad>'],\n",
       "       [b'onions', b'are', b'pungent', b'<pad>'],\n",
       "       [b'garlic', b'is', b'aromatic', b'<pad>'],\n",
       "       [b'cheese', b'is', b'savory', b'<pad>'],\n",
       "       [b'butter', b'is', b'rich', b'<pad>'],\n",
       "       [b'eggs', b'are', b'nutritious', b'<pad>'],\n",
       "       [b'fish', b'is', b'fresh', b'<pad>'],\n",
       "       [b'meat', b'is', b'tender', b'<pad>'],\n",
       "       [b'lions', b'are', b'fierce', b'<pad>'],\n",
       "       [b'tigers', b'are', b'striped', b'<pad>'],\n",
       "       [b'bears', b'are', b'strong', b'<pad>'],\n",
       "       [b'wolves', b'are', b'cunning', b'<pad>'],\n",
       "       [b'eagles', b'are', b'majestic', b'<pad>'],\n",
       "       [b'horses', b'are', b'fast', b'<pad>'],\n",
       "       [b'dogs', b'are', b'loyal', b'<pad>'],\n",
       "       [b'cats', b'are', b'graceful', b'<pad>'],\n",
       "       [b'fish', b'are', b'slippery', b'<pad>'],\n",
       "       [b'snakes', b'are', b'smooth', b'<pad>'],\n",
       "       [b'frogs', b'are', b'slimy', b'<pad>'],\n",
       "       [b'birds', b'are', b'chirpy', b'<pad>'],\n",
       "       [b'bees', b'are', b'busy', b'<pad>'],\n",
       "       [b'ants', b'are', b'tiny', b'<pad>'],\n",
       "       [b'spiders', b'are', b'clever', b'<pad>'],\n",
       "       [b'sharks', b'are', b'dangerous', b'<pad>'],\n",
       "       [b'whales', b'are', b'huge', b'<pad>'],\n",
       "       [b'dolphins', b'are', b'intelligent', b'<pad>'],\n",
       "       [b'seals', b'are', b'playful', b'<pad>'],\n",
       "       [b'penguins', b'are', b'adorable', b'<pad>'],\n",
       "       [b'butterflies', b'are', b'delicate', b'<pad>'],\n",
       "       [b'ladybugs', b'are', b'cute', b'<pad>'],\n",
       "       [b'mosquitoes', b'are', b'annoying', b'<pad>'],\n",
       "       [b'flies', b'are', b'dirty', b'<pad>'],\n",
       "       [b'cockroaches', b'are', b'disgusting', b'<pad>'],\n",
       "       [b'elephants', b'are', b'large', b'<pad>'],\n",
       "       [b'zebras', b'are', b'striped', b'<pad>'],\n",
       "       [b'giraffes', b'are', b'tall', b'<pad>'],\n",
       "       [b'monkeys', b'are', b'mischievous', b'<pad>'],\n",
       "       [b'parrots', b'are', b'colorful', b'<pad>'],\n",
       "       [b'pigeons', b'are', b'common', b'<pad>'],\n",
       "       [b'ravens', b'are', b'black', b'<pad>'],\n",
       "       [b'owls', b'are', b'wise', b'<pad>'],\n",
       "       [b'ducks', b'are', b'noisy', b'<pad>'],\n",
       "       [b'geese', b'are', b'aggressive', b'<pad>'],\n",
       "       [b'swans', b'are', b'elegant', b'<pad>'],\n",
       "       [b'foxes', b'are', b'sly', b'<pad>'],\n",
       "       [b'kangaroos', b'are', b'bouncy', b'<pad>'],\n",
       "       [b'pandas', b'are', b'adorable', b'<pad>'],\n",
       "       [b'cows', b'are', b'gentle', b'<pad>'],\n",
       "       [b'sheep', b'are', b'fluffy', b'<pad>'],\n",
       "       [b'pigs', b'are', b'pink', b'<pad>'],\n",
       "       [b'goats', b'are', b'stubborn', b'<pad>'],\n",
       "       [b'chickens', b'are', b'clucky', b'<pad>'],\n",
       "       [b'turkeys', b'are', b'big', b'<pad>'],\n",
       "       [b'horses', b'are', b'majestic', b'<pad>'],\n",
       "       [b'donkeys', b'are', b'strong', b'<pad>'],\n",
       "       [b'camels', b'are', b'hardy', b'<pad>'],\n",
       "       [b'humans', b'are', b'complex', b'<pad>'],\n",
       "       [b'stars', b'are', b'distant', b'<pad>']], dtype=object)>"
      ]
     },
     "execution_count": 56,
     "metadata": {},
     "output_type": "execute_result"
    }
   ],
   "source": [
    "in_tokens = list(map(tokenizer.word_split, examples[:len(examples)-1]))\n",
    "\n",
    "in_batch = tf.Variable(inference.inBatch(examples[:len(examples)-1], tokenizer))\n",
    "\n",
    "in_batch"
   ]
  },
  {
   "cell_type": "markdown",
   "id": "cfa4c27a-9dd2-4899-b7c2-ac82cbd85a7e",
   "metadata": {
    "jp-MarkdownHeadingCollapsed": true
   },
   "source": [
    "#### Old Solution"
   ]
  },
  {
   "cell_type": "code",
   "execution_count": 92,
   "id": "41a0f534-3af5-4333-9c8a-944a930d922a",
   "metadata": {},
   "outputs": [],
   "source": [
    "mini_lookup = {\n",
    "    \"~pad\": [\"the\"],\n",
    "    \"~relation\": [\"is\", \n",
    "                 \"are\", \n",
    "                 \"=\",\n",
    "                 \"<\", \n",
    "                 \">\",\n",
    "                 \"in\",\n",
    "                 \"like\"\n",
    "                ]\n",
    "}\n",
    "\n",
    "def intType(string):\n",
    "    try:\n",
    "        int(string)\n",
    "        return \"int\"\n",
    "    except:\n",
    "        return \"string\"\n",
    "\n",
    "class Encoding:\n",
    "    def __init__(self, arr):\n",
    "        self.in_arr = arr,\n",
    "        self.tag_map = {t : None for t in arr}\n",
    "    def tag(self):\n",
    "        # add tags for known relations and pads\n",
    "        for k in mini_lookup.keys():\n",
    "            for t in self.tag_map.keys():\n",
    "                if t in mini_lookup[k]:\n",
    "                    self.tag_map[t] = k\n",
    "        # add variable object tags\n",
    "        i = 0\n",
    "        j = 0\n",
    "        rel_idx = None\n",
    "        keys = list(self.tag_map.keys())\n",
    "        for t in keys:\n",
    "            if not self.tag_map[t]:\n",
    "                i+=1\n",
    "            if self.tag_map[t] == \"~relation\":\n",
    "                rel_idx = j\n",
    "            j+=1\n",
    "        var_k = [k for k in keys[:rel_idx] if self.tag_map[k] != \"~pad\"]\n",
    "        val_k = [k for k in keys[rel_idx+1:] if self.tag_map[k] != \"~pad\"]\n",
    "        for k in var_k:\n",
    "            self.tag_map[k] = \"~variable\"\n",
    "        for k in val_k:\n",
    "            self.tag_map[k] = \"~value.\"+intType(k)\n",
    "    @property\n",
    "    def Response(self):\n",
    "        tokens = []\n",
    "        for i in self.tag_map.items():\n",
    "            if i[1] != \"~pad\":\n",
    "                if i[1] == \"~relation\":\n",
    "                    tokens.append(i[0])\n",
    "                else:\n",
    "                    tokens.append(i[1])\n",
    "        return \" \".join(tokens)\n",
    "        \n",
    "        "
   ]
  },
  {
   "cell_type": "code",
   "execution_count": 93,
   "id": "6a906000-5b67-4997-ad64-71996dde8901",
   "metadata": {},
   "outputs": [],
   "source": [
    "encoding = map(Encoding, in_tokens)"
   ]
  },
  {
   "cell_type": "code",
   "execution_count": 94,
   "id": "11d6c192-432a-46b6-9ca3-5f54f4a77737",
   "metadata": {},
   "outputs": [
    {
     "name": "stdout",
     "output_type": "stream",
     "text": [
      "~variable is ~value.string\n",
      "~variable is ~value.string\n",
      "~variable is ~value.string\n",
      "~variable is ~value.string\n",
      "~variable is ~value.string\n",
      "~variable is ~value.string\n",
      "~variable are ~value.string\n",
      "~variable is ~value.string\n",
      "~variable is ~value.string\n",
      "~variable is ~value.string\n",
      "~variable is ~value.string\n",
      "~variable is ~value.string\n",
      "~variable is ~value.string\n",
      "~variable are ~value.string\n",
      "~variable is ~value.string\n",
      "~variable is ~value.string\n",
      "~variable are ~value.string\n",
      "~variable are ~value.string\n",
      "~variable are ~value.string\n",
      "~variable is ~value.string\n",
      "~variable are ~value.string\n",
      "~variable are ~value.string\n",
      "~variable is ~value.string\n",
      "~variable is ~value.string\n",
      "~variable is ~value.string\n",
      "~variable is ~value.string\n",
      "~variable is ~value.string\n",
      "~variable are ~value.string\n",
      "~variable are ~value.string\n",
      "~variable is ~value.string\n",
      "~variable is ~value.string\n",
      "~variable are ~value.string\n",
      "~variable are ~value.string\n",
      "~variable are ~value.string\n",
      "~variable are ~value.string\n",
      "~variable are ~value.string\n",
      "~variable are ~value.string\n",
      "~variable are ~value.string\n",
      "~variable are ~value.string\n",
      "~variable are ~value.string\n",
      "~variable are ~value.string\n",
      "~variable are ~value.string\n",
      "~variable are ~value.string\n",
      "~variable are ~value.string\n",
      "~variable is ~value.string\n",
      "~variable is ~value.string\n",
      "~variable is ~value.string\n",
      "~variable are ~value.string\n",
      "~variable is ~value.string\n",
      "~variable is ~value.string\n",
      "~variable are ~value.string\n",
      "~variable are ~value.string\n",
      "~variable are ~value.string\n",
      "~variable are ~value.string\n",
      "~variable are ~value.string\n",
      "~variable are ~value.string\n",
      "~variable are ~value.string\n",
      "~variable are ~value.string\n",
      "~variable are ~value.string\n",
      "~variable are ~value.string\n",
      "~variable are ~value.string\n",
      "~variable are ~value.string\n",
      "~variable are ~value.string\n",
      "~variable are ~value.string\n",
      "~variable are ~value.string\n",
      "~variable are ~value.string\n",
      "~variable are ~value.string\n",
      "~variable are ~value.string\n",
      "~variable are ~value.string\n",
      "~variable are ~value.string\n",
      "~variable are ~value.string\n",
      "~variable are ~value.string\n",
      "~variable are ~value.string\n",
      "~variable are ~value.string\n",
      "~variable are ~value.string\n",
      "~variable are ~value.string\n",
      "~variable are ~value.string\n",
      "~variable are ~value.string\n",
      "~variable are ~value.string\n",
      "~variable are ~value.string\n",
      "~variable are ~value.string\n",
      "~variable are ~value.string\n",
      "~variable are ~value.string\n",
      "~variable are ~value.string\n",
      "~variable are ~value.string\n",
      "~variable are ~value.string\n",
      "~variable are ~value.string\n",
      "~variable are ~value.string\n",
      "~variable are ~value.string\n",
      "~variable are ~value.string\n",
      "~variable are ~value.string\n",
      "~variable are ~value.string\n",
      "~variable are ~value.string\n",
      "~variable are ~value.string\n",
      "~variable are ~value.string\n",
      "~variable are ~value.string\n",
      "~variable are ~value.string\n",
      "~variable are ~value.string\n",
      "~variable are ~value.string\n",
      "~variable are ~value.string\n"
     ]
    },
    {
     "ename": "TypeError",
     "evalue": "unsupported operand type(s) for +: 'NoneType' and 'int'",
     "output_type": "error",
     "traceback": [
      "\u001b[0;31m---------------------------------------------------------------------------\u001b[0m",
      "\u001b[0;31mTypeError\u001b[0m                                 Traceback (most recent call last)",
      "Cell \u001b[0;32mIn[94], line 2\u001b[0m\n\u001b[1;32m      1\u001b[0m \u001b[38;5;28;01mfor\u001b[39;00m o \u001b[38;5;129;01min\u001b[39;00m \u001b[38;5;28mlist\u001b[39m(encoding):\n\u001b[0;32m----> 2\u001b[0m     \u001b[43mo\u001b[49m\u001b[38;5;241;43m.\u001b[39;49m\u001b[43mtag\u001b[49m\u001b[43m(\u001b[49m\u001b[43m)\u001b[49m\n\u001b[1;32m      3\u001b[0m     \u001b[38;5;28mprint\u001b[39m(o\u001b[38;5;241m.\u001b[39mResponse)\n",
      "Cell \u001b[0;32mIn[92], line 42\u001b[0m, in \u001b[0;36mEncoding.tag\u001b[0;34m(self)\u001b[0m\n\u001b[1;32m     40\u001b[0m     j\u001b[38;5;241m+\u001b[39m\u001b[38;5;241m=\u001b[39m\u001b[38;5;241m1\u001b[39m\n\u001b[1;32m     41\u001b[0m var_k \u001b[38;5;241m=\u001b[39m [k \u001b[38;5;28;01mfor\u001b[39;00m k \u001b[38;5;129;01min\u001b[39;00m keys[:rel_idx] \u001b[38;5;28;01mif\u001b[39;00m \u001b[38;5;28mself\u001b[39m\u001b[38;5;241m.\u001b[39mtag_map[k] \u001b[38;5;241m!=\u001b[39m \u001b[38;5;124m\"\u001b[39m\u001b[38;5;124m~pad\u001b[39m\u001b[38;5;124m\"\u001b[39m]\n\u001b[0;32m---> 42\u001b[0m val_k \u001b[38;5;241m=\u001b[39m [k \u001b[38;5;28;01mfor\u001b[39;00m k \u001b[38;5;129;01min\u001b[39;00m keys[\u001b[43mrel_idx\u001b[49m\u001b[38;5;241;43m+\u001b[39;49m\u001b[38;5;241;43m1\u001b[39;49m:] \u001b[38;5;28;01mif\u001b[39;00m \u001b[38;5;28mself\u001b[39m\u001b[38;5;241m.\u001b[39mtag_map[k] \u001b[38;5;241m!=\u001b[39m \u001b[38;5;124m\"\u001b[39m\u001b[38;5;124m~pad\u001b[39m\u001b[38;5;124m\"\u001b[39m]\n\u001b[1;32m     43\u001b[0m \u001b[38;5;28;01mfor\u001b[39;00m k \u001b[38;5;129;01min\u001b[39;00m var_k:\n\u001b[1;32m     44\u001b[0m     \u001b[38;5;28mself\u001b[39m\u001b[38;5;241m.\u001b[39mtag_map[k] \u001b[38;5;241m=\u001b[39m \u001b[38;5;124m\"\u001b[39m\u001b[38;5;124m~variable\u001b[39m\u001b[38;5;124m\"\u001b[39m\n",
      "\u001b[0;31mTypeError\u001b[0m: unsupported operand type(s) for +: 'NoneType' and 'int'"
     ]
    }
   ],
   "source": [
    "for o in list(encoding):\n",
    "    o.tag()\n",
    "    print(o.Response)"
   ]
  },
  {
   "cell_type": "markdown",
   "id": "bfb5f0ed-44f7-488a-8975-ec99c5d7c020",
   "metadata": {},
   "source": [
    "### Transition Map"
   ]
  },
  {
   "cell_type": "code",
   "execution_count": 72,
   "id": "d2f3aeb4-0048-4aa9-aba7-08034598f2b8",
   "metadata": {},
   "outputs": [],
   "source": [
    "importlib.reload(parser)\n",
    "\n",
    "with open(\"model/semantics/tags.json\", \"r\") as f:\n",
    "    tags = json.load(f)\n",
    "\n",
    "with open(\"model/semantics/predefined_tags.json\", \"r\") as f:\n",
    "    predef = json.load(f)"
   ]
  },
  {
   "cell_type": "code",
   "execution_count": 73,
   "id": "013dc48c-0fd5-4384-a303-50f34bd30702",
   "metadata": {},
   "outputs": [],
   "source": [
    "mem = parser.Memory()\n",
    "\n",
    "encoder = parser.Encoder(tags, n_limit = 6, predefinitions = predef)\n",
    "\n",
    "encoder.addTransition(\"\", \"~var~\")\n",
    "encoder.addTransition(\"~pad~\", \"~var~\")\n",
    "encoder.addTransition(\"~pad~ -> ~var~ -> ~relation~\", \"~value~\")\n",
    "encoder.addTransition(\"~var~ -> ~relation~\", \"~value~\")"
   ]
  },
  {
   "cell_type": "code",
   "execution_count": 74,
   "id": "8ad11e2c-d2b1-4dd0-b7a9-d1111bed0845",
   "metadata": {
    "scrolled": true
   },
   "outputs": [
    {
     "name": "stdout",
     "output_type": "stream",
     "text": [
      "None\n"
     ]
    },
    {
     "data": {
      "text/plain": [
       "<tf.Variable 'Variable:0' shape=(1, 4) dtype=string, numpy=array([[b'~pad~', b'~var~', b'is', b'~value.string~']], dtype=object)>"
      ]
     },
     "execution_count": 74,
     "metadata": {},
     "output_type": "execute_result"
    }
   ],
   "source": [
    "encoder(in_batch)"
   ]
  },
  {
   "cell_type": "code",
   "execution_count": 18,
   "id": "4da1af2e-c5c6-4fb4-a233-6e5edc27d15f",
   "metadata": {},
   "outputs": [],
   "source": [
    "path = \"/Users/joericks/Desktop/nova/model/semantics\"\n",
    "\n",
    "encoder.save(path = path)"
   ]
  },
  {
   "cell_type": "code",
   "execution_count": 79,
   "id": "a65b8b06-c411-44b8-b26f-ef008069c3fb",
   "metadata": {},
   "outputs": [],
   "source": [
    "loaded_parser = parser.Encoder.load(path = path)"
   ]
  },
  {
   "cell_type": "code",
   "execution_count": 80,
   "id": "84c1cd0b-389e-4470-b197-22d2d93b21f1",
   "metadata": {},
   "outputs": [
    {
     "data": {
      "text/plain": [
       "'~var~ is ~value.string~'"
      ]
     },
     "execution_count": 80,
     "metadata": {},
     "output_type": "execute_result"
    }
   ],
   "source": [
    "loaded_parser([\"the\", \"sky\", \"is\", \"blue\"])"
   ]
  },
  {
   "cell_type": "code",
   "execution_count": 81,
   "id": "f3745ed1-454f-4c0b-8af7-e08a2a859b0b",
   "metadata": {},
   "outputs": [
    {
     "data": {
      "text/plain": [
       "<tf.Tensor: shape=(5, 10), dtype=float32, numpy=\n",
       "array([[0., 0., 0., 0., 0., 0., 0., 0., 0., 0.],\n",
       "       [0., 0., 1., 0., 0., 0., 0., 0., 0., 0.],\n",
       "       [0., 0., 1., 0., 0., 0., 0., 0., 0., 0.],\n",
       "       [0., 0., 0., 1., 0., 0., 0., 0., 0., 0.],\n",
       "       [0., 0., 0., 1., 0., 0., 0., 0., 0., 0.]], dtype=float32)>"
      ]
     },
     "execution_count": 81,
     "metadata": {},
     "output_type": "execute_result"
    }
   ],
   "source": [
    "encoder.TransitionMatrix"
   ]
  },
  {
   "cell_type": "markdown",
   "id": "d9d9df87-c1b4-4431-9d68-4428e64956e3",
   "metadata": {
    "jp-MarkdownHeadingCollapsed": true
   },
   "source": [
    "## Model Testing"
   ]
  },
  {
   "cell_type": "code",
   "execution_count": 6,
   "id": "91e4b44e-0710-4c33-8979-795995e07b38",
   "metadata": {},
   "outputs": [],
   "source": [
    "test_string = [[\"the\", \"cow\", \"jumped\"], [\"hello\", \"world\", \"<pad>\"]]\n",
    "\n",
    "model = nova.Model()"
   ]
  },
  {
   "cell_type": "code",
   "execution_count": 7,
   "id": "b26340dc-86b6-453a-bc62-2e04b9729041",
   "metadata": {},
   "outputs": [
    {
     "data": {
      "text/plain": [
       "<tf.Tensor: shape=(2,), dtype=int64, numpy=array([74, 74])>"
      ]
     },
     "execution_count": 7,
     "metadata": {},
     "output_type": "execute_result"
    }
   ],
   "source": [
    "run = model.fPass(test_string)\n",
    "\n",
    "run"
   ]
  },
  {
   "cell_type": "code",
   "execution_count": 11,
   "id": "6ae6bb75-7f9a-4c37-a498-c0bdf0f04c2c",
   "metadata": {},
   "outputs": [
    {
     "data": {
      "text/plain": [
       "{'<pad>': 0, 'the': 1, 'cow': 2, 'jumped': 3, 'hello': 4, 'world': 5}"
      ]
     },
     "execution_count": 11,
     "metadata": {},
     "output_type": "execute_result"
    }
   ],
   "source": [
    "model.embed.h"
   ]
  },
  {
   "cell_type": "code",
   "execution_count": 8,
   "id": "34135af3-ff1a-42b8-87a4-d584b66fa3f6",
   "metadata": {},
   "outputs": [
    {
     "data": {
      "text/plain": [
       "{'d_model': 128, 'num_heads': 4, 'dff': 512, 'vocab_len': 92, 'num_tfmrs': 16}"
      ]
     },
     "execution_count": 8,
     "metadata": {},
     "output_type": "execute_result"
    }
   ],
   "source": [
    "model.get_config()"
   ]
  },
  {
   "cell_type": "code",
   "execution_count": 5,
   "id": "e243df20-f24a-40cc-92b2-c721bb1f4e33",
   "metadata": {},
   "outputs": [
    {
     "name": "stdout",
     "output_type": "stream",
     "text": [
      "Model Saved Successfully\n"
     ]
    },
    {
     "name": "stderr",
     "output_type": "stream",
     "text": [
      "/usr/local/lib/python3.9/site-packages/keras/src/saving/saving_api.py:102: UserWarning: You are saving a model that has not yet been built. It might not contain any weights yet. Consider building the model first by calling it on some data.\n",
      "  return saving_lib.save_model(model, filepath)\n"
     ]
    }
   ],
   "source": [
    "model_io.save(model = model, save_dir = \"/Users/joericks/Desktop/nova/model\")"
   ]
  },
  {
   "cell_type": "code",
   "execution_count": 11,
   "id": "98ad81cd-4751-4b6f-8484-5ef3e22c606f",
   "metadata": {},
   "outputs": [
    {
     "name": "stdout",
     "output_type": "stream",
     "text": [
      "Adding a new word to the model...\n",
      "Done.\n",
      "Retrieving existing embedding\n",
      "Adding a new word to the model...\n",
      "Retrieving existing embedding\n",
      "Adding a new word to the model...\n",
      "Retrieving existing embedding\n",
      "Adding a new word to the model...\n",
      "Retrieving existing embedding\n"
     ]
    },
    {
     "data": {
      "text/plain": [
       "<tf.Tensor: shape=(2,), dtype=int64, numpy=array([5, 5])>"
      ]
     },
     "execution_count": 11,
     "metadata": {},
     "output_type": "execute_result"
    }
   ],
   "source": [
    "loaded_model = model_io.load(save_dir = \"/Users/joericks/Desktop/nova/model\")\n",
    "\n",
    "loaded_model.fPass(test_string)"
   ]
  }
 ],
 "metadata": {
  "kernelspec": {
   "display_name": "Python 3 (ipykernel)",
   "language": "python",
   "name": "python3"
  },
  "language_info": {
   "codemirror_mode": {
    "name": "ipython",
    "version": 3
   },
   "file_extension": ".py",
   "mimetype": "text/x-python",
   "name": "python",
   "nbconvert_exporter": "python",
   "pygments_lexer": "ipython3",
   "version": "3.9.13"
  }
 },
 "nbformat": 4,
 "nbformat_minor": 5
}
