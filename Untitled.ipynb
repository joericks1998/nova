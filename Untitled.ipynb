{
 "cells": [
  {
   "cell_type": "code",
   "execution_count": 23,
   "id": "52ba644f-8916-4977-b8ae-e930de4f1a48",
   "metadata": {},
   "outputs": [
    {
     "data": {
      "text/plain": [
       "<module 'models.nova' from '/Users/joericks/Desktop/nova/models/nova.py'>"
      ]
     },
     "execution_count": 23,
     "metadata": {},
     "output_type": "execute_result"
    }
   ],
   "source": [
    "from models import nova\n",
    "import importlib\n",
    "\n",
    "importlib.reload(nova)"
   ]
  },
  {
   "cell_type": "code",
   "execution_count": 24,
   "id": "91e4b44e-0710-4c33-8979-795995e07b38",
   "metadata": {},
   "outputs": [],
   "source": [
    "test_string = [[\"the\", \"cow\"], [\"hello\", \"world\"]]\n",
    "\n",
    "model = nova.Model()"
   ]
  },
  {
   "cell_type": "code",
   "execution_count": 26,
   "id": "b26340dc-86b6-453a-bc62-2e04b9729041",
   "metadata": {},
   "outputs": [
    {
     "name": "stdout",
     "output_type": "stream",
     "text": [
      "Adding a new word to the model...\n",
      "Done.\n",
      "Retrieving existing embedding\n",
      "Adding a new word to the model...\n",
      "Retrieving existing embedding\n",
      "Adding a new word to the model...\n",
      "Retrieving existing embedding\n",
      "Adding a new word to the model...\n",
      "Retrieving existing embedding\n"
     ]
    },
    {
     "data": {
      "text/plain": [
       "[['_Bool'], ['_Bool']]"
      ]
     },
     "execution_count": 26,
     "metadata": {},
     "output_type": "execute_result"
    }
   ],
   "source": [
    "run = model.genPass(test_string)\n",
    "\n",
    "run"
   ]
  }
 ],
 "metadata": {
  "kernelspec": {
   "display_name": "Python 3 (ipykernel)",
   "language": "python",
   "name": "python3"
  },
  "language_info": {
   "codemirror_mode": {
    "name": "ipython",
    "version": 3
   },
   "file_extension": ".py",
   "mimetype": "text/x-python",
   "name": "python",
   "nbconvert_exporter": "python",
   "pygments_lexer": "ipython3",
   "version": "3.9.13"
  }
 },
 "nbformat": 4,
 "nbformat_minor": 5
}
