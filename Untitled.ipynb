{
 "cells": [
  {
   "cell_type": "code",
   "execution_count": 28,
   "id": "52ba644f-8916-4977-b8ae-e930de4f1a48",
   "metadata": {},
   "outputs": [
    {
     "data": {
      "text/plain": [
       "<module 'utils.model_io' from '/Users/joericks/Desktop/nova/utils/model_io.py'>"
      ]
     },
     "execution_count": 28,
     "metadata": {},
     "output_type": "execute_result"
    }
   ],
   "source": [
    "from architecture import nova\n",
    "from utils import model_io\n",
    "import importlib\n",
    "\n",
    "importlib.reload(nova)\n",
    "importlib.reload(model_io)"
   ]
  },
  {
   "cell_type": "code",
   "execution_count": 29,
   "id": "91e4b44e-0710-4c33-8979-795995e07b38",
   "metadata": {},
   "outputs": [],
   "source": [
    "test_string = [[\"the\", \"cow\"], [\"hello\", \"world\"]]\n",
    "\n",
    "model = nova.Model()"
   ]
  },
  {
   "cell_type": "code",
   "execution_count": 30,
   "id": "b26340dc-86b6-453a-bc62-2e04b9729041",
   "metadata": {},
   "outputs": [
    {
     "name": "stdout",
     "output_type": "stream",
     "text": [
      "Adding a new word to the model...\n",
      "Done.\n",
      "Retrieving existing embedding\n",
      "Adding a new word to the model...\n",
      "Retrieving existing embedding\n",
      "Adding a new word to the model...\n",
      "Retrieving existing embedding\n",
      "Adding a new word to the model...\n",
      "Retrieving existing embedding\n"
     ]
    },
    {
     "data": {
      "text/plain": [
       "<tf.Tensor: shape=(2,), dtype=int64, numpy=array([50, 50])>"
      ]
     },
     "execution_count": 30,
     "metadata": {},
     "output_type": "execute_result"
    }
   ],
   "source": [
    "run = model.fPass(test_string)\n",
    "\n",
    "run"
   ]
  },
  {
   "cell_type": "code",
   "execution_count": 31,
   "id": "e243df20-f24a-40cc-92b2-c721bb1f4e33",
   "metadata": {},
   "outputs": [
    {
     "name": "stdout",
     "output_type": "stream",
     "text": [
      "Model Saved Successfully\n"
     ]
    },
    {
     "name": "stderr",
     "output_type": "stream",
     "text": [
      "/usr/local/lib/python3.9/site-packages/keras/src/saving/saving_api.py:102: UserWarning: You are saving a model that has not yet been built. It might not contain any weights yet. Consider building the model first by calling it on some data.\n",
      "  return saving_lib.save_model(model, filepath)\n"
     ]
    }
   ],
   "source": [
    "model_io.save_model(model = model, save_dir = \"/Users/joericks/Desktop/nova/model\")"
   ]
  },
  {
   "cell_type": "code",
   "execution_count": null,
   "id": "98ad81cd-4751-4b6f-8484-5ef3e22c606f",
   "metadata": {},
   "outputs": [],
   "source": [
    "what is the comman"
   ]
  }
 ],
 "metadata": {
  "kernelspec": {
   "display_name": "Python 3 (ipykernel)",
   "language": "python",
   "name": "python3"
  },
  "language_info": {
   "codemirror_mode": {
    "name": "ipython",
    "version": 3
   },
   "file_extension": ".py",
   "mimetype": "text/x-python",
   "name": "python",
   "nbconvert_exporter": "python",
   "pygments_lexer": "ipython3",
   "version": "3.9.13"
  }
 },
 "nbformat": 4,
 "nbformat_minor": 5
}
